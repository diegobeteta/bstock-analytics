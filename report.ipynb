{
 "cells": [
  {
   "cell_type": "code",
   "execution_count": 712,
   "metadata": {},
   "outputs": [
    {
     "data": {
      "text/html": [
       "        <script type=\"text/javascript\">\n",
       "        window.PlotlyConfig = {MathJaxConfig: 'local'};\n",
       "        if (window.MathJax && window.MathJax.Hub && window.MathJax.Hub.Config) {window.MathJax.Hub.Config({SVG: {font: \"STIX-Web\"}});}\n",
       "        if (typeof require !== 'undefined') {\n",
       "        require.undef(\"plotly\");\n",
       "        requirejs.config({\n",
       "            paths: {\n",
       "                'plotly': ['https://cdn.plot.ly/plotly-2.14.0.min']\n",
       "            }\n",
       "        });\n",
       "        require(['plotly'], function(Plotly) {\n",
       "            window._Plotly = Plotly;\n",
       "        });\n",
       "        }\n",
       "        </script>\n",
       "        "
      ]
     },
     "metadata": {},
     "output_type": "display_data"
    }
   ],
   "source": [
    "import numpy as np\n",
    "import pandas as pd\n",
    "from datetime import datetime\n",
    "\n",
    "# Import plotly and cufflinks offline mode\n",
    "import cufflinks as cf\n",
    "import plotly.offline\n",
    "cf.go_offline()\n",
    "cf.set_config_file(offline=False, world_readable=True)"
   ]
  },
  {
   "attachments": {},
   "cell_type": "markdown",
   "metadata": {},
   "source": [
    "- Import misc.abc_bids report and explore it!\n",
    "- In this query result I wanted to know all bidders and their bids in each auctio ID on specific auction dates"
   ]
  },
  {
   "cell_type": "code",
   "execution_count": 713,
   "metadata": {},
   "outputs": [
    {
     "data": {
      "text/html": [
       "<div>\n",
       "<style scoped>\n",
       "    .dataframe tbody tr th:only-of-type {\n",
       "        vertical-align: middle;\n",
       "    }\n",
       "\n",
       "    .dataframe tbody tr th {\n",
       "        vertical-align: top;\n",
       "    }\n",
       "\n",
       "    .dataframe thead th {\n",
       "        text-align: right;\n",
       "    }\n",
       "</style>\n",
       "<table border=\"1\" class=\"dataframe\">\n",
       "  <thead>\n",
       "    <tr style=\"text-align: right;\">\n",
       "      <th></th>\n",
       "      <th>auction_date_transformed</th>\n",
       "      <th>auction_id</th>\n",
       "      <th>bstock_category_name</th>\n",
       "      <th>bid_date</th>\n",
       "      <th>bid_id</th>\n",
       "      <th>bidder_id</th>\n",
       "      <th>bid_amount_transformed</th>\n",
       "    </tr>\n",
       "  </thead>\n",
       "  <tbody>\n",
       "    <tr>\n",
       "      <th>0</th>\n",
       "      <td>2022-09-10</td>\n",
       "      <td>1500000</td>\n",
       "      <td>Apparel, Footwear &amp; Accessories</td>\n",
       "      <td>2022-09-10 17:22:49.000000 UTC</td>\n",
       "      <td>16819417</td>\n",
       "      <td>1</td>\n",
       "      <td>10</td>\n",
       "    </tr>\n",
       "    <tr>\n",
       "      <th>1</th>\n",
       "      <td>2022-09-10</td>\n",
       "      <td>1500000</td>\n",
       "      <td>Apparel, Footwear &amp; Accessories</td>\n",
       "      <td>2022-09-10 17:22:50.000000 UTC</td>\n",
       "      <td>16819418</td>\n",
       "      <td>1</td>\n",
       "      <td>100</td>\n",
       "    </tr>\n",
       "    <tr>\n",
       "      <th>2</th>\n",
       "      <td>2022-09-10</td>\n",
       "      <td>1500000</td>\n",
       "      <td>Apparel, Footwear &amp; Accessories</td>\n",
       "      <td>2022-09-10 17:22:51.000000 UTC</td>\n",
       "      <td>16819419</td>\n",
       "      <td>2</td>\n",
       "      <td>101</td>\n",
       "    </tr>\n",
       "    <tr>\n",
       "      <th>3</th>\n",
       "      <td>2022-09-10</td>\n",
       "      <td>1500000</td>\n",
       "      <td>Apparel, Footwear &amp; Accessories</td>\n",
       "      <td>2022-09-10 17:22:52.000000 UTC</td>\n",
       "      <td>16819420</td>\n",
       "      <td>1</td>\n",
       "      <td>200</td>\n",
       "    </tr>\n",
       "    <tr>\n",
       "      <th>4</th>\n",
       "      <td>2022-09-10</td>\n",
       "      <td>1500000</td>\n",
       "      <td>Apparel, Footwear &amp; Accessories</td>\n",
       "      <td>2022-09-10 17:22:53.000000 UTC</td>\n",
       "      <td>16819421</td>\n",
       "      <td>2</td>\n",
       "      <td>201</td>\n",
       "    </tr>\n",
       "    <tr>\n",
       "      <th>...</th>\n",
       "      <td>...</td>\n",
       "      <td>...</td>\n",
       "      <td>...</td>\n",
       "      <td>...</td>\n",
       "      <td>...</td>\n",
       "      <td>...</td>\n",
       "      <td>...</td>\n",
       "    </tr>\n",
       "    <tr>\n",
       "      <th>822</th>\n",
       "      <td>2022-12-16</td>\n",
       "      <td>1721860</td>\n",
       "      <td>Apparel, Footwear &amp; Accessories</td>\n",
       "      <td>2022-12-13 23:58:16.000000 UTC</td>\n",
       "      <td>18712359</td>\n",
       "      <td>5fbc4f53c8ce886dac7f4ba8</td>\n",
       "      <td>500</td>\n",
       "    </tr>\n",
       "    <tr>\n",
       "      <th>823</th>\n",
       "      <td>2022-12-16</td>\n",
       "      <td>1721860</td>\n",
       "      <td>Apparel, Footwear &amp; Accessories</td>\n",
       "      <td>2022-12-14 02:55:27.000000 UTC</td>\n",
       "      <td>18713339</td>\n",
       "      <td>59769fe3e3d4600d362c31c0</td>\n",
       "      <td>708</td>\n",
       "    </tr>\n",
       "    <tr>\n",
       "      <th>824</th>\n",
       "      <td>2022-12-16</td>\n",
       "      <td>1721860</td>\n",
       "      <td>Apparel, Footwear &amp; Accessories</td>\n",
       "      <td>2022-12-14 10:12:08.000000 UTC</td>\n",
       "      <td>18714207</td>\n",
       "      <td>5fbc4f53c8ce886dac7f4ba8</td>\n",
       "      <td>750</td>\n",
       "    </tr>\n",
       "    <tr>\n",
       "      <th>825</th>\n",
       "      <td>2022-12-16</td>\n",
       "      <td>1721860</td>\n",
       "      <td>Apparel, Footwear &amp; Accessories</td>\n",
       "      <td>2022-12-15 16:13:16.000000 UTC</td>\n",
       "      <td>18726173</td>\n",
       "      <td>601e76d8c8ce886da835b151</td>\n",
       "      <td>850</td>\n",
       "    </tr>\n",
       "    <tr>\n",
       "      <th>826</th>\n",
       "      <td>2022-12-16</td>\n",
       "      <td>1721860</td>\n",
       "      <td>Apparel, Footwear &amp; Accessories</td>\n",
       "      <td>2022-12-16 17:58:10.000000 UTC</td>\n",
       "      <td>18743281</td>\n",
       "      <td>62e329abff03c2000d83079d</td>\n",
       "      <td>888</td>\n",
       "    </tr>\n",
       "  </tbody>\n",
       "</table>\n",
       "<p>827 rows × 7 columns</p>\n",
       "</div>"
      ],
      "text/plain": [
       "    auction_date_transformed  auction_id             bstock_category_name  \\\n",
       "0                 2022-09-10     1500000  Apparel, Footwear & Accessories   \n",
       "1                 2022-09-10     1500000  Apparel, Footwear & Accessories   \n",
       "2                 2022-09-10     1500000  Apparel, Footwear & Accessories   \n",
       "3                 2022-09-10     1500000  Apparel, Footwear & Accessories   \n",
       "4                 2022-09-10     1500000  Apparel, Footwear & Accessories   \n",
       "..                       ...         ...                              ...   \n",
       "822               2022-12-16     1721860  Apparel, Footwear & Accessories   \n",
       "823               2022-12-16     1721860  Apparel, Footwear & Accessories   \n",
       "824               2022-12-16     1721860  Apparel, Footwear & Accessories   \n",
       "825               2022-12-16     1721860  Apparel, Footwear & Accessories   \n",
       "826               2022-12-16     1721860  Apparel, Footwear & Accessories   \n",
       "\n",
       "                           bid_date    bid_id                 bidder_id  \\\n",
       "0    2022-09-10 17:22:49.000000 UTC  16819417                         1   \n",
       "1    2022-09-10 17:22:50.000000 UTC  16819418                         1   \n",
       "2    2022-09-10 17:22:51.000000 UTC  16819419                         2   \n",
       "3    2022-09-10 17:22:52.000000 UTC  16819420                         1   \n",
       "4    2022-09-10 17:22:53.000000 UTC  16819421                         2   \n",
       "..                              ...       ...                       ...   \n",
       "822  2022-12-13 23:58:16.000000 UTC  18712359  5fbc4f53c8ce886dac7f4ba8   \n",
       "823  2022-12-14 02:55:27.000000 UTC  18713339  59769fe3e3d4600d362c31c0   \n",
       "824  2022-12-14 10:12:08.000000 UTC  18714207  5fbc4f53c8ce886dac7f4ba8   \n",
       "825  2022-12-15 16:13:16.000000 UTC  18726173  601e76d8c8ce886da835b151   \n",
       "826  2022-12-16 17:58:10.000000 UTC  18743281  62e329abff03c2000d83079d   \n",
       "\n",
       "     bid_amount_transformed  \n",
       "0                        10  \n",
       "1                       100  \n",
       "2                       101  \n",
       "3                       200  \n",
       "4                       201  \n",
       "..                      ...  \n",
       "822                     500  \n",
       "823                     708  \n",
       "824                     750  \n",
       "825                     850  \n",
       "826                     888  \n",
       "\n",
       "[827 rows x 7 columns]"
      ]
     },
     "execution_count": 713,
     "metadata": {},
     "output_type": "execute_result"
    }
   ],
   "source": [
    "df = pd.read_csv('report.csv')\n",
    "df"
   ]
  },
  {
   "attachments": {},
   "cell_type": "markdown",
   "metadata": {},
   "source": [
    "- Clean and convert to appropiate data types"
   ]
  },
  {
   "cell_type": "code",
   "execution_count": 714,
   "metadata": {},
   "outputs": [
    {
     "name": "stderr",
     "output_type": "stream",
     "text": [
      "/var/folders/zb/60dzf9rs2g5dzbn8q93wz0hw0000gn/T/ipykernel_10892/2427272880.py:2: FutureWarning:\n",
      "\n",
      "The default value of regex will change from True to False in a future version.\n",
      "\n"
     ]
    },
    {
     "data": {
      "text/html": [
       "<div>\n",
       "<style scoped>\n",
       "    .dataframe tbody tr th:only-of-type {\n",
       "        vertical-align: middle;\n",
       "    }\n",
       "\n",
       "    .dataframe tbody tr th {\n",
       "        vertical-align: top;\n",
       "    }\n",
       "\n",
       "    .dataframe thead th {\n",
       "        text-align: right;\n",
       "    }\n",
       "</style>\n",
       "<table border=\"1\" class=\"dataframe\">\n",
       "  <thead>\n",
       "    <tr style=\"text-align: right;\">\n",
       "      <th></th>\n",
       "      <th>auction_date</th>\n",
       "      <th>auction_id</th>\n",
       "      <th>bstock_category_name</th>\n",
       "      <th>bid_date</th>\n",
       "      <th>bid_id</th>\n",
       "      <th>bidder_id</th>\n",
       "      <th>bid_amount</th>\n",
       "    </tr>\n",
       "  </thead>\n",
       "  <tbody>\n",
       "    <tr>\n",
       "      <th>0</th>\n",
       "      <td>2022-09-10</td>\n",
       "      <td>1500000</td>\n",
       "      <td>Apparel, Footwear &amp; Accessories</td>\n",
       "      <td>2022-09-10 17:22:49</td>\n",
       "      <td>16819417</td>\n",
       "      <td>1</td>\n",
       "      <td>10.0</td>\n",
       "    </tr>\n",
       "    <tr>\n",
       "      <th>1</th>\n",
       "      <td>2022-09-10</td>\n",
       "      <td>1500000</td>\n",
       "      <td>Apparel, Footwear &amp; Accessories</td>\n",
       "      <td>2022-09-10 17:22:50</td>\n",
       "      <td>16819418</td>\n",
       "      <td>1</td>\n",
       "      <td>100.0</td>\n",
       "    </tr>\n",
       "    <tr>\n",
       "      <th>2</th>\n",
       "      <td>2022-09-10</td>\n",
       "      <td>1500000</td>\n",
       "      <td>Apparel, Footwear &amp; Accessories</td>\n",
       "      <td>2022-09-10 17:22:51</td>\n",
       "      <td>16819419</td>\n",
       "      <td>2</td>\n",
       "      <td>101.0</td>\n",
       "    </tr>\n",
       "    <tr>\n",
       "      <th>3</th>\n",
       "      <td>2022-09-10</td>\n",
       "      <td>1500000</td>\n",
       "      <td>Apparel, Footwear &amp; Accessories</td>\n",
       "      <td>2022-09-10 17:22:52</td>\n",
       "      <td>16819420</td>\n",
       "      <td>1</td>\n",
       "      <td>200.0</td>\n",
       "    </tr>\n",
       "    <tr>\n",
       "      <th>4</th>\n",
       "      <td>2022-09-10</td>\n",
       "      <td>1500000</td>\n",
       "      <td>Apparel, Footwear &amp; Accessories</td>\n",
       "      <td>2022-09-10 17:22:53</td>\n",
       "      <td>16819421</td>\n",
       "      <td>2</td>\n",
       "      <td>201.0</td>\n",
       "    </tr>\n",
       "    <tr>\n",
       "      <th>...</th>\n",
       "      <td>...</td>\n",
       "      <td>...</td>\n",
       "      <td>...</td>\n",
       "      <td>...</td>\n",
       "      <td>...</td>\n",
       "      <td>...</td>\n",
       "      <td>...</td>\n",
       "    </tr>\n",
       "    <tr>\n",
       "      <th>822</th>\n",
       "      <td>2022-12-16</td>\n",
       "      <td>1721860</td>\n",
       "      <td>Apparel, Footwear &amp; Accessories</td>\n",
       "      <td>2022-12-13 23:58:16</td>\n",
       "      <td>18712359</td>\n",
       "      <td>5fbc4f53c8ce886dac7f4ba8</td>\n",
       "      <td>500.0</td>\n",
       "    </tr>\n",
       "    <tr>\n",
       "      <th>823</th>\n",
       "      <td>2022-12-16</td>\n",
       "      <td>1721860</td>\n",
       "      <td>Apparel, Footwear &amp; Accessories</td>\n",
       "      <td>2022-12-14 02:55:27</td>\n",
       "      <td>18713339</td>\n",
       "      <td>59769fe3e3d4600d362c31c0</td>\n",
       "      <td>708.0</td>\n",
       "    </tr>\n",
       "    <tr>\n",
       "      <th>824</th>\n",
       "      <td>2022-12-16</td>\n",
       "      <td>1721860</td>\n",
       "      <td>Apparel, Footwear &amp; Accessories</td>\n",
       "      <td>2022-12-14 10:12:08</td>\n",
       "      <td>18714207</td>\n",
       "      <td>5fbc4f53c8ce886dac7f4ba8</td>\n",
       "      <td>750.0</td>\n",
       "    </tr>\n",
       "    <tr>\n",
       "      <th>825</th>\n",
       "      <td>2022-12-16</td>\n",
       "      <td>1721860</td>\n",
       "      <td>Apparel, Footwear &amp; Accessories</td>\n",
       "      <td>2022-12-15 16:13:16</td>\n",
       "      <td>18726173</td>\n",
       "      <td>601e76d8c8ce886da835b151</td>\n",
       "      <td>850.0</td>\n",
       "    </tr>\n",
       "    <tr>\n",
       "      <th>826</th>\n",
       "      <td>2022-12-16</td>\n",
       "      <td>1721860</td>\n",
       "      <td>Apparel, Footwear &amp; Accessories</td>\n",
       "      <td>2022-12-16 17:58:10</td>\n",
       "      <td>18743281</td>\n",
       "      <td>62e329abff03c2000d83079d</td>\n",
       "      <td>888.0</td>\n",
       "    </tr>\n",
       "  </tbody>\n",
       "</table>\n",
       "<p>827 rows × 7 columns</p>\n",
       "</div>"
      ],
      "text/plain": [
       "    auction_date  auction_id             bstock_category_name  \\\n",
       "0     2022-09-10     1500000  Apparel, Footwear & Accessories   \n",
       "1     2022-09-10     1500000  Apparel, Footwear & Accessories   \n",
       "2     2022-09-10     1500000  Apparel, Footwear & Accessories   \n",
       "3     2022-09-10     1500000  Apparel, Footwear & Accessories   \n",
       "4     2022-09-10     1500000  Apparel, Footwear & Accessories   \n",
       "..           ...         ...                              ...   \n",
       "822   2022-12-16     1721860  Apparel, Footwear & Accessories   \n",
       "823   2022-12-16     1721860  Apparel, Footwear & Accessories   \n",
       "824   2022-12-16     1721860  Apparel, Footwear & Accessories   \n",
       "825   2022-12-16     1721860  Apparel, Footwear & Accessories   \n",
       "826   2022-12-16     1721860  Apparel, Footwear & Accessories   \n",
       "\n",
       "               bid_date    bid_id                 bidder_id  bid_amount  \n",
       "0   2022-09-10 17:22:49  16819417                         1        10.0  \n",
       "1   2022-09-10 17:22:50  16819418                         1       100.0  \n",
       "2   2022-09-10 17:22:51  16819419                         2       101.0  \n",
       "3   2022-09-10 17:22:52  16819420                         1       200.0  \n",
       "4   2022-09-10 17:22:53  16819421                         2       201.0  \n",
       "..                  ...       ...                       ...         ...  \n",
       "822 2022-12-13 23:58:16  18712359  5fbc4f53c8ce886dac7f4ba8       500.0  \n",
       "823 2022-12-14 02:55:27  18713339  59769fe3e3d4600d362c31c0       708.0  \n",
       "824 2022-12-14 10:12:08  18714207  5fbc4f53c8ce886dac7f4ba8       750.0  \n",
       "825 2022-12-15 16:13:16  18726173  601e76d8c8ce886da835b151       850.0  \n",
       "826 2022-12-16 17:58:10  18743281  62e329abff03c2000d83079d       888.0  \n",
       "\n",
       "[827 rows x 7 columns]"
      ]
     },
     "execution_count": 714,
     "metadata": {},
     "output_type": "execute_result"
    }
   ],
   "source": [
    "# Clean\n",
    "df['bid_date'] = df['bid_date'].str.replace('.000000 UTC', '')\n",
    "\n",
    "# Convert to datetime\n",
    "df['bid_date'] = pd.to_datetime(df['bid_date'], format=\"%Y-%m-%d %H:%M:%S\")\n",
    "\n",
    "# Convert to float\n",
    "df['bid_amount_transformed'] = df['bid_amount_transformed'].astype('float')\n",
    "\n",
    "# Change columns names\n",
    "df = df.rename(columns={'auction_date_transformed': 'auction_date',\n",
    "                        'bid_amount_transformed': 'bid_amount'})\n",
    "\n",
    "df"
   ]
  },
  {
   "attachments": {},
   "cell_type": "markdown",
   "metadata": {},
   "source": [
    "- It is quite difficult to explore the bids amounts distribution on each auction on SQL\n",
    "- Affortunately, I can explore that at a glance with Python scripts, so first, I have to build a pivot table!"
   ]
  },
  {
   "cell_type": "code",
   "execution_count": 715,
   "metadata": {},
   "outputs": [
    {
     "data": {
      "text/html": [
       "<div>\n",
       "<style scoped>\n",
       "    .dataframe tbody tr th:only-of-type {\n",
       "        vertical-align: middle;\n",
       "    }\n",
       "\n",
       "    .dataframe tbody tr th {\n",
       "        vertical-align: top;\n",
       "    }\n",
       "\n",
       "    .dataframe thead th {\n",
       "        text-align: right;\n",
       "    }\n",
       "</style>\n",
       "<table border=\"1\" class=\"dataframe\">\n",
       "  <thead>\n",
       "    <tr style=\"text-align: right;\">\n",
       "      <th></th>\n",
       "      <th>auction_date</th>\n",
       "      <th>bid_count</th>\n",
       "      <th>bid_amount_mean</th>\n",
       "      <th>bid_amount_std</th>\n",
       "      <th>bid_amount_min</th>\n",
       "      <th>bid_amount_max</th>\n",
       "    </tr>\n",
       "  </thead>\n",
       "  <tbody>\n",
       "    <tr>\n",
       "      <th>0</th>\n",
       "      <td>2022-09-10</td>\n",
       "      <td>12</td>\n",
       "      <td>492.83</td>\n",
       "      <td>393.04</td>\n",
       "      <td>10.0</td>\n",
       "      <td>1100.0</td>\n",
       "    </tr>\n",
       "    <tr>\n",
       "      <th>1</th>\n",
       "      <td>2022-09-13</td>\n",
       "      <td>119</td>\n",
       "      <td>1172.96</td>\n",
       "      <td>912.27</td>\n",
       "      <td>100.0</td>\n",
       "      <td>3000.0</td>\n",
       "    </tr>\n",
       "    <tr>\n",
       "      <th>2</th>\n",
       "      <td>2022-09-16</td>\n",
       "      <td>22</td>\n",
       "      <td>833.00</td>\n",
       "      <td>559.96</td>\n",
       "      <td>100.0</td>\n",
       "      <td>2000.0</td>\n",
       "    </tr>\n",
       "    <tr>\n",
       "      <th>3</th>\n",
       "      <td>2022-09-23</td>\n",
       "      <td>56</td>\n",
       "      <td>1179.43</td>\n",
       "      <td>685.99</td>\n",
       "      <td>111.0</td>\n",
       "      <td>2800.0</td>\n",
       "    </tr>\n",
       "    <tr>\n",
       "      <th>4</th>\n",
       "      <td>2022-09-30</td>\n",
       "      <td>42</td>\n",
       "      <td>559.98</td>\n",
       "      <td>304.75</td>\n",
       "      <td>111.0</td>\n",
       "      <td>1444.0</td>\n",
       "    </tr>\n",
       "    <tr>\n",
       "      <th>5</th>\n",
       "      <td>2022-10-07</td>\n",
       "      <td>74</td>\n",
       "      <td>1451.31</td>\n",
       "      <td>745.80</td>\n",
       "      <td>125.0</td>\n",
       "      <td>2888.0</td>\n",
       "    </tr>\n",
       "    <tr>\n",
       "      <th>6</th>\n",
       "      <td>2022-11-01</td>\n",
       "      <td>140</td>\n",
       "      <td>2382.99</td>\n",
       "      <td>1418.83</td>\n",
       "      <td>125.0</td>\n",
       "      <td>6222.0</td>\n",
       "    </tr>\n",
       "    <tr>\n",
       "      <th>7</th>\n",
       "      <td>2022-11-04</td>\n",
       "      <td>28</td>\n",
       "      <td>2719.86</td>\n",
       "      <td>1327.16</td>\n",
       "      <td>125.0</td>\n",
       "      <td>4000.0</td>\n",
       "    </tr>\n",
       "    <tr>\n",
       "      <th>8</th>\n",
       "      <td>2022-11-15</td>\n",
       "      <td>60</td>\n",
       "      <td>1023.37</td>\n",
       "      <td>551.84</td>\n",
       "      <td>111.0</td>\n",
       "      <td>2057.0</td>\n",
       "    </tr>\n",
       "    <tr>\n",
       "      <th>9</th>\n",
       "      <td>2022-11-18</td>\n",
       "      <td>47</td>\n",
       "      <td>1045.43</td>\n",
       "      <td>551.87</td>\n",
       "      <td>150.0</td>\n",
       "      <td>2200.0</td>\n",
       "    </tr>\n",
       "    <tr>\n",
       "      <th>10</th>\n",
       "      <td>2022-11-22</td>\n",
       "      <td>52</td>\n",
       "      <td>902.58</td>\n",
       "      <td>442.59</td>\n",
       "      <td>100.0</td>\n",
       "      <td>1699.0</td>\n",
       "    </tr>\n",
       "    <tr>\n",
       "      <th>11</th>\n",
       "      <td>2022-12-02</td>\n",
       "      <td>35</td>\n",
       "      <td>902.71</td>\n",
       "      <td>984.77</td>\n",
       "      <td>125.0</td>\n",
       "      <td>4000.0</td>\n",
       "    </tr>\n",
       "    <tr>\n",
       "      <th>12</th>\n",
       "      <td>2022-12-08</td>\n",
       "      <td>31</td>\n",
       "      <td>340.97</td>\n",
       "      <td>143.73</td>\n",
       "      <td>125.0</td>\n",
       "      <td>600.0</td>\n",
       "    </tr>\n",
       "    <tr>\n",
       "      <th>13</th>\n",
       "      <td>2022-12-13</td>\n",
       "      <td>88</td>\n",
       "      <td>2294.18</td>\n",
       "      <td>1661.85</td>\n",
       "      <td>444.0</td>\n",
       "      <td>5925.0</td>\n",
       "    </tr>\n",
       "    <tr>\n",
       "      <th>14</th>\n",
       "      <td>2022-12-16</td>\n",
       "      <td>21</td>\n",
       "      <td>834.05</td>\n",
       "      <td>298.21</td>\n",
       "      <td>222.0</td>\n",
       "      <td>1500.0</td>\n",
       "    </tr>\n",
       "  </tbody>\n",
       "</table>\n",
       "</div>"
      ],
      "text/plain": [
       "   auction_date  bid_count  bid_amount_mean  bid_amount_std  bid_amount_min  \\\n",
       "0    2022-09-10         12           492.83          393.04            10.0   \n",
       "1    2022-09-13        119          1172.96          912.27           100.0   \n",
       "2    2022-09-16         22           833.00          559.96           100.0   \n",
       "3    2022-09-23         56          1179.43          685.99           111.0   \n",
       "4    2022-09-30         42           559.98          304.75           111.0   \n",
       "5    2022-10-07         74          1451.31          745.80           125.0   \n",
       "6    2022-11-01        140          2382.99         1418.83           125.0   \n",
       "7    2022-11-04         28          2719.86         1327.16           125.0   \n",
       "8    2022-11-15         60          1023.37          551.84           111.0   \n",
       "9    2022-11-18         47          1045.43          551.87           150.0   \n",
       "10   2022-11-22         52           902.58          442.59           100.0   \n",
       "11   2022-12-02         35           902.71          984.77           125.0   \n",
       "12   2022-12-08         31           340.97          143.73           125.0   \n",
       "13   2022-12-13         88          2294.18         1661.85           444.0   \n",
       "14   2022-12-16         21           834.05          298.21           222.0   \n",
       "\n",
       "    bid_amount_max  \n",
       "0           1100.0  \n",
       "1           3000.0  \n",
       "2           2000.0  \n",
       "3           2800.0  \n",
       "4           1444.0  \n",
       "5           2888.0  \n",
       "6           6222.0  \n",
       "7           4000.0  \n",
       "8           2057.0  \n",
       "9           2200.0  \n",
       "10          1699.0  \n",
       "11          4000.0  \n",
       "12           600.0  \n",
       "13          5925.0  \n",
       "14          1500.0  "
      ]
     },
     "execution_count": 715,
     "metadata": {},
     "output_type": "execute_result"
    }
   ],
   "source": [
    "# df_stats_daily\n",
    "df_stats_daily = df.groupby(['auction_date'])\n",
    "df_stats_daily = df_stats_daily.agg({'bid_amount': ['count', 'mean', 'std', 'min', 'max']})\n",
    "df_stats_daily.columns = ['bid_count', 'bid_amount_mean', 'bid_amount_std', 'bid_amount_min', 'bid_amount_max']\n",
    "df_stats_daily = df_stats_daily.reset_index()\n",
    "df_stats_daily = df_stats_daily.fillna(0)\n",
    "df_stats_daily = df_stats_daily.round(2)\n",
    "df_stats_daily"
   ]
  },
  {
   "attachments": {},
   "cell_type": "markdown",
   "metadata": {},
   "source": [
    "- I built ,for fun, an inteactive calendar with Python aboout the acount dates and all the bids registered on those dates.\n",
    "- It is really interesting that most of the auctions were held on Tuesdays and Fridays!"
   ]
  },
  {
   "cell_type": "code",
   "execution_count": 716,
   "metadata": {},
   "outputs": [
    {
     "data": {
      "application/vnd.plotly.v1+json": {
       "config": {
        "plotlyServerURL": "https://plot.ly"
       },
       "data": [
        {
         "colorscale": [
          [
           0,
           "rgb(247,252,245)"
          ],
          [
           0.125,
           "rgb(229,245,224)"
          ],
          [
           0.25,
           "rgb(199,233,192)"
          ],
          [
           0.375,
           "rgb(161,217,155)"
          ],
          [
           0.5,
           "rgb(116,196,118)"
          ],
          [
           0.625,
           "rgb(65,171,93)"
          ],
          [
           0.75,
           "rgb(35,139,69)"
          ],
          [
           0.875,
           "rgb(0,109,44)"
          ],
          [
           1,
           "rgb(0,68,27)"
          ]
         ],
         "customdata": [
          [
           "2022-01-01",
           "y"
          ],
          [
           "2022-01-02",
           "y"
          ],
          [
           "2022-01-03",
           "y"
          ],
          [
           "2022-01-04",
           "y"
          ],
          [
           "2022-01-05",
           "y"
          ],
          [
           "2022-01-06",
           "y"
          ],
          [
           "2022-01-07",
           "y"
          ],
          [
           "2022-01-08",
           "y"
          ],
          [
           "2022-01-09",
           "y"
          ],
          [
           "2022-01-10",
           "y"
          ],
          [
           "2022-01-11",
           "y"
          ],
          [
           "2022-01-12",
           "y"
          ],
          [
           "2022-01-13",
           "y"
          ],
          [
           "2022-01-14",
           "y"
          ],
          [
           "2022-01-15",
           "y"
          ],
          [
           "2022-01-16",
           "y"
          ],
          [
           "2022-01-17",
           "y"
          ],
          [
           "2022-01-18",
           "y"
          ],
          [
           "2022-01-19",
           "y"
          ],
          [
           "2022-01-20",
           "y"
          ],
          [
           "2022-01-21",
           "y"
          ],
          [
           "2022-01-22",
           "y"
          ],
          [
           "2022-01-23",
           "y"
          ],
          [
           "2022-01-24",
           "y"
          ],
          [
           "2022-01-25",
           "y"
          ],
          [
           "2022-01-26",
           "y"
          ],
          [
           "2022-01-27",
           "y"
          ],
          [
           "2022-01-28",
           "y"
          ],
          [
           "2022-01-29",
           "y"
          ],
          [
           "2022-01-30",
           "y"
          ],
          [
           "2022-01-31",
           "y"
          ],
          [
           "2022-02-01",
           "y"
          ],
          [
           "2022-02-02",
           "y"
          ],
          [
           "2022-02-03",
           "y"
          ],
          [
           "2022-02-04",
           "y"
          ],
          [
           "2022-02-05",
           "y"
          ],
          [
           "2022-02-06",
           "y"
          ],
          [
           "2022-02-07",
           "y"
          ],
          [
           "2022-02-08",
           "y"
          ],
          [
           "2022-02-09",
           "y"
          ],
          [
           "2022-02-10",
           "y"
          ],
          [
           "2022-02-11",
           "y"
          ],
          [
           "2022-02-12",
           "y"
          ],
          [
           "2022-02-13",
           "y"
          ],
          [
           "2022-02-14",
           "y"
          ],
          [
           "2022-02-15",
           "y"
          ],
          [
           "2022-02-16",
           "y"
          ],
          [
           "2022-02-17",
           "y"
          ],
          [
           "2022-02-18",
           "y"
          ],
          [
           "2022-02-19",
           "y"
          ],
          [
           "2022-02-20",
           "y"
          ],
          [
           "2022-02-21",
           "y"
          ],
          [
           "2022-02-22",
           "y"
          ],
          [
           "2022-02-23",
           "y"
          ],
          [
           "2022-02-24",
           "y"
          ],
          [
           "2022-02-25",
           "y"
          ],
          [
           "2022-02-26",
           "y"
          ],
          [
           "2022-02-27",
           "y"
          ],
          [
           "2022-02-28",
           "y"
          ],
          [
           "2022-03-01",
           "y"
          ],
          [
           "2022-03-02",
           "y"
          ],
          [
           "2022-03-03",
           "y"
          ],
          [
           "2022-03-04",
           "y"
          ],
          [
           "2022-03-05",
           "y"
          ],
          [
           "2022-03-06",
           "y"
          ],
          [
           "2022-03-07",
           "y"
          ],
          [
           "2022-03-08",
           "y"
          ],
          [
           "2022-03-09",
           "y"
          ],
          [
           "2022-03-10",
           "y"
          ],
          [
           "2022-03-11",
           "y"
          ],
          [
           "2022-03-12",
           "y"
          ],
          [
           "2022-03-13",
           "y"
          ],
          [
           "2022-03-14",
           "y"
          ],
          [
           "2022-03-15",
           "y"
          ],
          [
           "2022-03-16",
           "y"
          ],
          [
           "2022-03-17",
           "y"
          ],
          [
           "2022-03-18",
           "y"
          ],
          [
           "2022-03-19",
           "y"
          ],
          [
           "2022-03-20",
           "y"
          ],
          [
           "2022-03-21",
           "y"
          ],
          [
           "2022-03-22",
           "y"
          ],
          [
           "2022-03-23",
           "y"
          ],
          [
           "2022-03-24",
           "y"
          ],
          [
           "2022-03-25",
           "y"
          ],
          [
           "2022-03-26",
           "y"
          ],
          [
           "2022-03-27",
           "y"
          ],
          [
           "2022-03-28",
           "y"
          ],
          [
           "2022-03-29",
           "y"
          ],
          [
           "2022-03-30",
           "y"
          ],
          [
           "2022-03-31",
           "y"
          ],
          [
           "2022-04-01",
           "y"
          ],
          [
           "2022-04-02",
           "y"
          ],
          [
           "2022-04-03",
           "y"
          ],
          [
           "2022-04-04",
           "y"
          ],
          [
           "2022-04-05",
           "y"
          ],
          [
           "2022-04-06",
           "y"
          ],
          [
           "2022-04-07",
           "y"
          ],
          [
           "2022-04-08",
           "y"
          ],
          [
           "2022-04-09",
           "y"
          ],
          [
           "2022-04-10",
           "y"
          ],
          [
           "2022-04-11",
           "y"
          ],
          [
           "2022-04-12",
           "y"
          ],
          [
           "2022-04-13",
           "y"
          ],
          [
           "2022-04-14",
           "y"
          ],
          [
           "2022-04-15",
           "y"
          ],
          [
           "2022-04-16",
           "y"
          ],
          [
           "2022-04-17",
           "y"
          ],
          [
           "2022-04-18",
           "y"
          ],
          [
           "2022-04-19",
           "y"
          ],
          [
           "2022-04-20",
           "y"
          ],
          [
           "2022-04-21",
           "y"
          ],
          [
           "2022-04-22",
           "y"
          ],
          [
           "2022-04-23",
           "y"
          ],
          [
           "2022-04-24",
           "y"
          ],
          [
           "2022-04-25",
           "y"
          ],
          [
           "2022-04-26",
           "y"
          ],
          [
           "2022-04-27",
           "y"
          ],
          [
           "2022-04-28",
           "y"
          ],
          [
           "2022-04-29",
           "y"
          ],
          [
           "2022-04-30",
           "y"
          ],
          [
           "2022-05-01",
           "y"
          ],
          [
           "2022-05-02",
           "y"
          ],
          [
           "2022-05-03",
           "y"
          ],
          [
           "2022-05-04",
           "y"
          ],
          [
           "2022-05-05",
           "y"
          ],
          [
           "2022-05-06",
           "y"
          ],
          [
           "2022-05-07",
           "y"
          ],
          [
           "2022-05-08",
           "y"
          ],
          [
           "2022-05-09",
           "y"
          ],
          [
           "2022-05-10",
           "y"
          ],
          [
           "2022-05-11",
           "y"
          ],
          [
           "2022-05-12",
           "y"
          ],
          [
           "2022-05-13",
           "y"
          ],
          [
           "2022-05-14",
           "y"
          ],
          [
           "2022-05-15",
           "y"
          ],
          [
           "2022-05-16",
           "y"
          ],
          [
           "2022-05-17",
           "y"
          ],
          [
           "2022-05-18",
           "y"
          ],
          [
           "2022-05-19",
           "y"
          ],
          [
           "2022-05-20",
           "y"
          ],
          [
           "2022-05-21",
           "y"
          ],
          [
           "2022-05-22",
           "y"
          ],
          [
           "2022-05-23",
           "y"
          ],
          [
           "2022-05-24",
           "y"
          ],
          [
           "2022-05-25",
           "y"
          ],
          [
           "2022-05-26",
           "y"
          ],
          [
           "2022-05-27",
           "y"
          ],
          [
           "2022-05-28",
           "y"
          ],
          [
           "2022-05-29",
           "y"
          ],
          [
           "2022-05-30",
           "y"
          ],
          [
           "2022-05-31",
           "y"
          ],
          [
           "2022-06-01",
           "y"
          ],
          [
           "2022-06-02",
           "y"
          ],
          [
           "2022-06-03",
           "y"
          ],
          [
           "2022-06-04",
           "y"
          ],
          [
           "2022-06-05",
           "y"
          ],
          [
           "2022-06-06",
           "y"
          ],
          [
           "2022-06-07",
           "y"
          ],
          [
           "2022-06-08",
           "y"
          ],
          [
           "2022-06-09",
           "y"
          ],
          [
           "2022-06-10",
           "y"
          ],
          [
           "2022-06-11",
           "y"
          ],
          [
           "2022-06-12",
           "y"
          ],
          [
           "2022-06-13",
           "y"
          ],
          [
           "2022-06-14",
           "y"
          ],
          [
           "2022-06-15",
           "y"
          ],
          [
           "2022-06-16",
           "y"
          ],
          [
           "2022-06-17",
           "y"
          ],
          [
           "2022-06-18",
           "y"
          ],
          [
           "2022-06-19",
           "y"
          ],
          [
           "2022-06-20",
           "y"
          ],
          [
           "2022-06-21",
           "y"
          ],
          [
           "2022-06-22",
           "y"
          ],
          [
           "2022-06-23",
           "y"
          ],
          [
           "2022-06-24",
           "y"
          ],
          [
           "2022-06-25",
           "y"
          ],
          [
           "2022-06-26",
           "y"
          ],
          [
           "2022-06-27",
           "y"
          ],
          [
           "2022-06-28",
           "y"
          ],
          [
           "2022-06-29",
           "y"
          ],
          [
           "2022-06-30",
           "y"
          ],
          [
           "2022-07-01",
           "y"
          ],
          [
           "2022-07-02",
           "y"
          ],
          [
           "2022-07-03",
           "y"
          ],
          [
           "2022-07-04",
           "y"
          ],
          [
           "2022-07-05",
           "y"
          ],
          [
           "2022-07-06",
           "y"
          ],
          [
           "2022-07-07",
           "y"
          ],
          [
           "2022-07-08",
           "y"
          ],
          [
           "2022-07-09",
           "y"
          ],
          [
           "2022-07-10",
           "y"
          ],
          [
           "2022-07-11",
           "y"
          ],
          [
           "2022-07-12",
           "y"
          ],
          [
           "2022-07-13",
           "y"
          ],
          [
           "2022-07-14",
           "y"
          ],
          [
           "2022-07-15",
           "y"
          ],
          [
           "2022-07-16",
           "y"
          ],
          [
           "2022-07-17",
           "y"
          ],
          [
           "2022-07-18",
           "y"
          ],
          [
           "2022-07-19",
           "y"
          ],
          [
           "2022-07-20",
           "y"
          ],
          [
           "2022-07-21",
           "y"
          ],
          [
           "2022-07-22",
           "y"
          ],
          [
           "2022-07-23",
           "y"
          ],
          [
           "2022-07-24",
           "y"
          ],
          [
           "2022-07-25",
           "y"
          ],
          [
           "2022-07-26",
           "y"
          ],
          [
           "2022-07-27",
           "y"
          ],
          [
           "2022-07-28",
           "y"
          ],
          [
           "2022-07-29",
           "y"
          ],
          [
           "2022-07-30",
           "y"
          ],
          [
           "2022-07-31",
           "y"
          ],
          [
           "2022-08-01",
           "y"
          ],
          [
           "2022-08-02",
           "y"
          ],
          [
           "2022-08-03",
           "y"
          ],
          [
           "2022-08-04",
           "y"
          ],
          [
           "2022-08-05",
           "y"
          ],
          [
           "2022-08-06",
           "y"
          ],
          [
           "2022-08-07",
           "y"
          ],
          [
           "2022-08-08",
           "y"
          ],
          [
           "2022-08-09",
           "y"
          ],
          [
           "2022-08-10",
           "y"
          ],
          [
           "2022-08-11",
           "y"
          ],
          [
           "2022-08-12",
           "y"
          ],
          [
           "2022-08-13",
           "y"
          ],
          [
           "2022-08-14",
           "y"
          ],
          [
           "2022-08-15",
           "y"
          ],
          [
           "2022-08-16",
           "y"
          ],
          [
           "2022-08-17",
           "y"
          ],
          [
           "2022-08-18",
           "y"
          ],
          [
           "2022-08-19",
           "y"
          ],
          [
           "2022-08-20",
           "y"
          ],
          [
           "2022-08-21",
           "y"
          ],
          [
           "2022-08-22",
           "y"
          ],
          [
           "2022-08-23",
           "y"
          ],
          [
           "2022-08-24",
           "y"
          ],
          [
           "2022-08-25",
           "y"
          ],
          [
           "2022-08-26",
           "y"
          ],
          [
           "2022-08-27",
           "y"
          ],
          [
           "2022-08-28",
           "y"
          ],
          [
           "2022-08-29",
           "y"
          ],
          [
           "2022-08-30",
           "y"
          ],
          [
           "2022-08-31",
           "y"
          ],
          [
           "2022-09-01",
           "y"
          ],
          [
           "2022-09-02",
           "y"
          ],
          [
           "2022-09-03",
           "y"
          ],
          [
           "2022-09-04",
           "y"
          ],
          [
           "2022-09-05",
           "y"
          ],
          [
           "2022-09-06",
           "y"
          ],
          [
           "2022-09-07",
           "y"
          ],
          [
           "2022-09-08",
           "y"
          ],
          [
           "2022-09-09",
           "y"
          ],
          [
           "2022-09-10",
           "y"
          ],
          [
           "2022-09-11",
           "y"
          ],
          [
           "2022-09-12",
           "y"
          ],
          [
           "2022-09-13",
           "y"
          ],
          [
           "2022-09-14",
           "y"
          ],
          [
           "2022-09-15",
           "y"
          ],
          [
           "2022-09-16",
           "y"
          ],
          [
           "2022-09-17",
           "y"
          ],
          [
           "2022-09-18",
           "y"
          ],
          [
           "2022-09-19",
           "y"
          ],
          [
           "2022-09-20",
           "y"
          ],
          [
           "2022-09-21",
           "y"
          ],
          [
           "2022-09-22",
           "y"
          ],
          [
           "2022-09-23",
           "y"
          ],
          [
           "2022-09-24",
           "y"
          ],
          [
           "2022-09-25",
           "y"
          ],
          [
           "2022-09-26",
           "y"
          ],
          [
           "2022-09-27",
           "y"
          ],
          [
           "2022-09-28",
           "y"
          ],
          [
           "2022-09-29",
           "y"
          ],
          [
           "2022-09-30",
           "y"
          ],
          [
           "2022-10-01",
           "y"
          ],
          [
           "2022-10-02",
           "y"
          ],
          [
           "2022-10-03",
           "y"
          ],
          [
           "2022-10-04",
           "y"
          ],
          [
           "2022-10-05",
           "y"
          ],
          [
           "2022-10-06",
           "y"
          ],
          [
           "2022-10-07",
           "y"
          ],
          [
           "2022-10-08",
           "y"
          ],
          [
           "2022-10-09",
           "y"
          ],
          [
           "2022-10-10",
           "y"
          ],
          [
           "2022-10-11",
           "y"
          ],
          [
           "2022-10-12",
           "y"
          ],
          [
           "2022-10-13",
           "y"
          ],
          [
           "2022-10-14",
           "y"
          ],
          [
           "2022-10-15",
           "y"
          ],
          [
           "2022-10-16",
           "y"
          ],
          [
           "2022-10-17",
           "y"
          ],
          [
           "2022-10-18",
           "y"
          ],
          [
           "2022-10-19",
           "y"
          ],
          [
           "2022-10-20",
           "y"
          ],
          [
           "2022-10-21",
           "y"
          ],
          [
           "2022-10-22",
           "y"
          ],
          [
           "2022-10-23",
           "y"
          ],
          [
           "2022-10-24",
           "y"
          ],
          [
           "2022-10-25",
           "y"
          ],
          [
           "2022-10-26",
           "y"
          ],
          [
           "2022-10-27",
           "y"
          ],
          [
           "2022-10-28",
           "y"
          ],
          [
           "2022-10-29",
           "y"
          ],
          [
           "2022-10-30",
           "y"
          ],
          [
           "2022-10-31",
           "y"
          ],
          [
           "2022-11-01",
           "y"
          ],
          [
           "2022-11-02",
           "y"
          ],
          [
           "2022-11-03",
           "y"
          ],
          [
           "2022-11-04",
           "y"
          ],
          [
           "2022-11-05",
           "y"
          ],
          [
           "2022-11-06",
           "y"
          ],
          [
           "2022-11-07",
           "y"
          ],
          [
           "2022-11-08",
           "y"
          ],
          [
           "2022-11-09",
           "y"
          ],
          [
           "2022-11-10",
           "y"
          ],
          [
           "2022-11-11",
           "y"
          ],
          [
           "2022-11-12",
           "y"
          ],
          [
           "2022-11-13",
           "y"
          ],
          [
           "2022-11-14",
           "y"
          ],
          [
           "2022-11-15",
           "y"
          ],
          [
           "2022-11-16",
           "y"
          ],
          [
           "2022-11-17",
           "y"
          ],
          [
           "2022-11-18",
           "y"
          ],
          [
           "2022-11-19",
           "y"
          ],
          [
           "2022-11-20",
           "y"
          ],
          [
           "2022-11-21",
           "y"
          ],
          [
           "2022-11-22",
           "y"
          ],
          [
           "2022-11-23",
           "y"
          ],
          [
           "2022-11-24",
           "y"
          ],
          [
           "2022-11-25",
           "y"
          ],
          [
           "2022-11-26",
           "y"
          ],
          [
           "2022-11-27",
           "y"
          ],
          [
           "2022-11-28",
           "y"
          ],
          [
           "2022-11-29",
           "y"
          ],
          [
           "2022-11-30",
           "y"
          ],
          [
           "2022-12-01",
           "y"
          ],
          [
           "2022-12-02",
           "y"
          ],
          [
           "2022-12-03",
           "y"
          ],
          [
           "2022-12-04",
           "y"
          ],
          [
           "2022-12-05",
           "y"
          ],
          [
           "2022-12-06",
           "y"
          ],
          [
           "2022-12-07",
           "y"
          ],
          [
           "2022-12-08",
           "y"
          ],
          [
           "2022-12-09",
           "y"
          ],
          [
           "2022-12-10",
           "y"
          ],
          [
           "2022-12-11",
           "y"
          ],
          [
           "2022-12-12",
           "y"
          ],
          [
           "2022-12-13",
           "y"
          ],
          [
           "2022-12-14",
           "y"
          ],
          [
           "2022-12-15",
           "y"
          ],
          [
           "2022-12-16",
           "y"
          ],
          [
           "2022-12-17",
           "y"
          ],
          [
           "2022-12-18",
           "y"
          ],
          [
           "2022-12-19",
           "y"
          ],
          [
           "2022-12-20",
           "y"
          ],
          [
           "2022-12-21",
           "y"
          ],
          [
           "2022-12-22",
           "y"
          ],
          [
           "2022-12-23",
           "y"
          ],
          [
           "2022-12-24",
           "y"
          ],
          [
           "2022-12-25",
           "y"
          ],
          [
           "2022-12-26",
           "y"
          ],
          [
           "2022-12-27",
           "y"
          ],
          [
           "2022-12-28",
           "y"
          ],
          [
           "2022-12-29",
           "y"
          ],
          [
           "2022-12-30",
           "y"
          ],
          [
           "2022-12-31",
           "y"
          ]
         ],
         "hovertemplate": "%{customdata[0]} <br>Week=%{x} <br>%{customdata[1]}=%{z}",
         "name": "2022",
         "showscale": false,
         "type": "heatmap",
         "x": [
          0,
          0,
          1,
          1,
          1,
          1,
          1,
          1,
          1,
          2,
          2,
          2,
          2,
          2,
          2,
          2,
          3,
          3,
          3,
          3,
          3,
          3,
          3,
          4,
          4,
          4,
          4,
          4,
          4,
          4,
          5,
          5,
          5,
          5,
          5,
          5,
          5,
          6,
          6,
          6,
          6,
          6,
          6,
          6,
          7,
          7,
          7,
          7,
          7,
          7,
          7,
          8,
          8,
          8,
          8,
          8,
          8,
          8,
          9,
          9,
          9,
          9,
          9,
          9,
          9,
          10,
          10,
          10,
          10,
          10,
          10,
          10,
          11,
          11,
          11,
          11,
          11,
          11,
          11,
          12,
          12,
          12,
          12,
          12,
          12,
          12,
          13,
          13,
          13,
          13,
          13,
          13,
          13,
          14,
          14,
          14,
          14,
          14,
          14,
          14,
          15,
          15,
          15,
          15,
          15,
          15,
          15,
          16,
          16,
          16,
          16,
          16,
          16,
          16,
          17,
          17,
          17,
          17,
          17,
          17,
          17,
          18,
          18,
          18,
          18,
          18,
          18,
          18,
          19,
          19,
          19,
          19,
          19,
          19,
          19,
          20,
          20,
          20,
          20,
          20,
          20,
          20,
          21,
          21,
          21,
          21,
          21,
          21,
          21,
          22,
          22,
          22,
          22,
          22,
          22,
          22,
          23,
          23,
          23,
          23,
          23,
          23,
          23,
          24,
          24,
          24,
          24,
          24,
          24,
          24,
          25,
          25,
          25,
          25,
          25,
          25,
          25,
          26,
          26,
          26,
          26,
          26,
          26,
          26,
          27,
          27,
          27,
          27,
          27,
          27,
          27,
          28,
          28,
          28,
          28,
          28,
          28,
          28,
          29,
          29,
          29,
          29,
          29,
          29,
          29,
          30,
          30,
          30,
          30,
          30,
          30,
          30,
          31,
          31,
          31,
          31,
          31,
          31,
          31,
          32,
          32,
          32,
          32,
          32,
          32,
          32,
          33,
          33,
          33,
          33,
          33,
          33,
          33,
          34,
          34,
          34,
          34,
          34,
          34,
          34,
          35,
          35,
          35,
          35,
          35,
          35,
          35,
          36,
          36,
          36,
          36,
          36,
          36,
          36,
          37,
          37,
          37,
          37,
          37,
          37,
          37,
          38,
          38,
          38,
          38,
          38,
          38,
          38,
          39,
          39,
          39,
          39,
          39,
          39,
          39,
          40,
          40,
          40,
          40,
          40,
          40,
          40,
          41,
          41,
          41,
          41,
          41,
          41,
          41,
          42,
          42,
          42,
          42,
          42,
          42,
          42,
          43,
          43,
          43,
          43,
          43,
          43,
          43,
          44,
          44,
          44,
          44,
          44,
          44,
          44,
          45,
          45,
          45,
          45,
          45,
          45,
          45,
          46,
          46,
          46,
          46,
          46,
          46,
          46,
          47,
          47,
          47,
          47,
          47,
          47,
          47,
          48,
          48,
          48,
          48,
          48,
          48,
          48,
          49,
          49,
          49,
          49,
          49,
          49,
          49,
          50,
          50,
          50,
          50,
          50,
          50,
          50,
          51,
          51,
          51,
          51,
          51,
          51,
          51,
          52,
          52,
          52,
          52,
          52,
          52
         ],
         "xaxis": "x",
         "xgap": 1,
         "y": [
          5,
          6,
          0,
          1,
          2,
          3,
          4,
          5,
          6,
          0,
          1,
          2,
          3,
          4,
          5,
          6,
          0,
          1,
          2,
          3,
          4,
          5,
          6,
          0,
          1,
          2,
          3,
          4,
          5,
          6,
          0,
          1,
          2,
          3,
          4,
          5,
          6,
          0,
          1,
          2,
          3,
          4,
          5,
          6,
          0,
          1,
          2,
          3,
          4,
          5,
          6,
          0,
          1,
          2,
          3,
          4,
          5,
          6,
          0,
          1,
          2,
          3,
          4,
          5,
          6,
          0,
          1,
          2,
          3,
          4,
          5,
          6,
          0,
          1,
          2,
          3,
          4,
          5,
          6,
          0,
          1,
          2,
          3,
          4,
          5,
          6,
          0,
          1,
          2,
          3,
          4,
          5,
          6,
          0,
          1,
          2,
          3,
          4,
          5,
          6,
          0,
          1,
          2,
          3,
          4,
          5,
          6,
          0,
          1,
          2,
          3,
          4,
          5,
          6,
          0,
          1,
          2,
          3,
          4,
          5,
          6,
          0,
          1,
          2,
          3,
          4,
          5,
          6,
          0,
          1,
          2,
          3,
          4,
          5,
          6,
          0,
          1,
          2,
          3,
          4,
          5,
          6,
          0,
          1,
          2,
          3,
          4,
          5,
          6,
          0,
          1,
          2,
          3,
          4,
          5,
          6,
          0,
          1,
          2,
          3,
          4,
          5,
          6,
          0,
          1,
          2,
          3,
          4,
          5,
          6,
          0,
          1,
          2,
          3,
          4,
          5,
          6,
          0,
          1,
          2,
          3,
          4,
          5,
          6,
          0,
          1,
          2,
          3,
          4,
          5,
          6,
          0,
          1,
          2,
          3,
          4,
          5,
          6,
          0,
          1,
          2,
          3,
          4,
          5,
          6,
          0,
          1,
          2,
          3,
          4,
          5,
          6,
          0,
          1,
          2,
          3,
          4,
          5,
          6,
          0,
          1,
          2,
          3,
          4,
          5,
          6,
          0,
          1,
          2,
          3,
          4,
          5,
          6,
          0,
          1,
          2,
          3,
          4,
          5,
          6,
          0,
          1,
          2,
          3,
          4,
          5,
          6,
          0,
          1,
          2,
          3,
          4,
          5,
          6,
          0,
          1,
          2,
          3,
          4,
          5,
          6,
          0,
          1,
          2,
          3,
          4,
          5,
          6,
          0,
          1,
          2,
          3,
          4,
          5,
          6,
          0,
          1,
          2,
          3,
          4,
          5,
          6,
          0,
          1,
          2,
          3,
          4,
          5,
          6,
          0,
          1,
          2,
          3,
          4,
          5,
          6,
          0,
          1,
          2,
          3,
          4,
          5,
          6,
          0,
          1,
          2,
          3,
          4,
          5,
          6,
          0,
          1,
          2,
          3,
          4,
          5,
          6,
          0,
          1,
          2,
          3,
          4,
          5,
          6,
          0,
          1,
          2,
          3,
          4,
          5,
          6,
          0,
          1,
          2,
          3,
          4,
          5,
          6,
          0,
          1,
          2,
          3,
          4,
          5,
          6,
          0,
          1,
          2,
          3,
          4,
          5,
          6,
          0,
          1,
          2,
          3,
          4,
          5,
          6,
          0,
          1,
          2,
          3,
          4,
          5
         ],
         "yaxis": "y",
         "ygap": 1,
         "z": [
          0,
          0,
          0,
          0,
          0,
          0,
          0,
          0,
          0,
          0,
          0,
          0,
          0,
          0,
          0,
          0,
          0,
          0,
          0,
          0,
          0,
          0,
          0,
          0,
          0,
          0,
          0,
          0,
          0,
          0,
          0,
          0,
          0,
          0,
          0,
          0,
          0,
          0,
          0,
          0,
          0,
          0,
          0,
          0,
          0,
          0,
          0,
          0,
          0,
          0,
          0,
          0,
          0,
          0,
          0,
          0,
          0,
          0,
          0,
          0,
          0,
          0,
          0,
          0,
          0,
          0,
          0,
          0,
          0,
          0,
          0,
          0,
          0,
          0,
          0,
          0,
          0,
          0,
          0,
          0,
          0,
          0,
          0,
          0,
          0,
          0,
          0,
          0,
          0,
          0,
          0,
          0,
          0,
          0,
          0,
          0,
          0,
          0,
          0,
          0,
          0,
          0,
          0,
          0,
          0,
          0,
          0,
          0,
          0,
          0,
          0,
          0,
          0,
          0,
          0,
          0,
          0,
          0,
          0,
          0,
          0,
          0,
          0,
          0,
          0,
          0,
          0,
          0,
          0,
          0,
          0,
          0,
          0,
          0,
          0,
          0,
          0,
          0,
          0,
          0,
          0,
          0,
          0,
          0,
          0,
          0,
          0,
          0,
          0,
          0,
          0,
          0,
          0,
          0,
          0,
          0,
          0,
          0,
          0,
          0,
          0,
          0,
          0,
          0,
          0,
          0,
          0,
          0,
          0,
          0,
          0,
          0,
          0,
          0,
          0,
          0,
          0,
          0,
          0,
          0,
          0,
          0,
          0,
          0,
          0,
          0,
          0,
          0,
          0,
          0,
          0,
          0,
          0,
          0,
          0,
          0,
          0,
          0,
          0,
          0,
          0,
          0,
          0,
          0,
          0,
          0,
          0,
          0,
          0,
          0,
          0,
          0,
          0,
          0,
          0,
          0,
          0,
          0,
          0,
          0,
          0,
          0,
          0,
          0,
          0,
          0,
          0,
          0,
          0,
          0,
          0,
          0,
          0,
          0,
          0,
          0,
          0,
          0,
          0,
          0,
          0,
          0,
          0,
          0,
          0,
          0,
          0,
          0,
          0,
          0,
          0,
          0,
          12,
          0,
          0,
          119,
          0,
          0,
          22,
          0,
          0,
          0,
          0,
          0,
          0,
          56,
          0,
          0,
          0,
          0,
          0,
          0,
          42,
          0,
          0,
          0,
          0,
          0,
          0,
          74,
          0,
          0,
          0,
          0,
          0,
          0,
          0,
          0,
          0,
          0,
          0,
          0,
          0,
          0,
          0,
          0,
          0,
          0,
          0,
          0,
          0,
          0,
          0,
          0,
          140,
          0,
          0,
          28,
          0,
          0,
          0,
          0,
          0,
          0,
          0,
          0,
          0,
          0,
          60,
          0,
          0,
          47,
          0,
          0,
          0,
          52,
          0,
          0,
          0,
          0,
          0,
          0,
          0,
          0,
          0,
          35,
          0,
          0,
          0,
          0,
          0,
          31,
          0,
          0,
          0,
          0,
          88,
          0,
          0,
          21,
          0,
          0,
          0,
          0,
          0,
          0,
          0,
          0,
          0,
          0,
          0,
          0,
          0,
          0,
          0
         ],
         "zmax": 140,
         "zmin": 0
        },
        {
         "hoverinfo": "skip",
         "line": {
          "color": "#9e9e9e",
          "width": 3
         },
         "mode": "lines",
         "type": "scatter",
         "x": [
          -0.5,
          -0.5
         ],
         "xaxis": "x",
         "y": [
          4.5,
          6.5
         ],
         "yaxis": "y"
        },
        {
         "hoverinfo": "skip",
         "line": {
          "color": "#9e9e9e",
          "width": 3
         },
         "mode": "lines",
         "type": "scatter",
         "x": [
          -0.5,
          0.5
         ],
         "xaxis": "x",
         "y": [
          4.5,
          4.5
         ],
         "yaxis": "y"
        },
        {
         "hoverinfo": "skip",
         "line": {
          "color": "#9e9e9e",
          "width": 3
         },
         "mode": "lines",
         "type": "scatter",
         "x": [
          0.5,
          0.5
         ],
         "xaxis": "x",
         "y": [
          4.5,
          -0.5
         ],
         "yaxis": "y"
        },
        {
         "hoverinfo": "skip",
         "line": {
          "color": "#9e9e9e",
          "width": 3
         },
         "mode": "lines",
         "type": "scatter",
         "x": [
          4.5,
          4.5
         ],
         "xaxis": "x",
         "y": [
          0.5,
          6.5
         ],
         "yaxis": "y"
        },
        {
         "hoverinfo": "skip",
         "line": {
          "color": "#9e9e9e",
          "width": 3
         },
         "mode": "lines",
         "type": "scatter",
         "x": [
          4.5,
          5.5
         ],
         "xaxis": "x",
         "y": [
          0.5,
          0.5
         ],
         "yaxis": "y"
        },
        {
         "hoverinfo": "skip",
         "line": {
          "color": "#9e9e9e",
          "width": 3
         },
         "mode": "lines",
         "type": "scatter",
         "x": [
          5.5,
          5.5
         ],
         "xaxis": "x",
         "y": [
          0.5,
          -0.5
         ],
         "yaxis": "y"
        },
        {
         "hoverinfo": "skip",
         "line": {
          "color": "#9e9e9e",
          "width": 3
         },
         "mode": "lines",
         "type": "scatter",
         "x": [
          8.5,
          8.5
         ],
         "xaxis": "x",
         "y": [
          0.5,
          6.5
         ],
         "yaxis": "y"
        },
        {
         "hoverinfo": "skip",
         "line": {
          "color": "#9e9e9e",
          "width": 3
         },
         "mode": "lines",
         "type": "scatter",
         "x": [
          8.5,
          9.5
         ],
         "xaxis": "x",
         "y": [
          0.5,
          0.5
         ],
         "yaxis": "y"
        },
        {
         "hoverinfo": "skip",
         "line": {
          "color": "#9e9e9e",
          "width": 3
         },
         "mode": "lines",
         "type": "scatter",
         "x": [
          9.5,
          9.5
         ],
         "xaxis": "x",
         "y": [
          0.5,
          -0.5
         ],
         "yaxis": "y"
        },
        {
         "hoverinfo": "skip",
         "line": {
          "color": "#9e9e9e",
          "width": 3
         },
         "mode": "lines",
         "type": "scatter",
         "x": [
          12.5,
          12.5
         ],
         "xaxis": "x",
         "y": [
          3.5,
          6.5
         ],
         "yaxis": "y"
        },
        {
         "hoverinfo": "skip",
         "line": {
          "color": "#9e9e9e",
          "width": 3
         },
         "mode": "lines",
         "type": "scatter",
         "x": [
          12.5,
          13.5
         ],
         "xaxis": "x",
         "y": [
          3.5,
          3.5
         ],
         "yaxis": "y"
        },
        {
         "hoverinfo": "skip",
         "line": {
          "color": "#9e9e9e",
          "width": 3
         },
         "mode": "lines",
         "type": "scatter",
         "x": [
          13.5,
          13.5
         ],
         "xaxis": "x",
         "y": [
          3.5,
          -0.5
         ],
         "yaxis": "y"
        },
        {
         "hoverinfo": "skip",
         "line": {
          "color": "#9e9e9e",
          "width": 3
         },
         "mode": "lines",
         "type": "scatter",
         "x": [
          16.5,
          16.5
         ],
         "xaxis": "x",
         "y": [
          5.5,
          6.5
         ],
         "yaxis": "y"
        },
        {
         "hoverinfo": "skip",
         "line": {
          "color": "#9e9e9e",
          "width": 3
         },
         "mode": "lines",
         "type": "scatter",
         "x": [
          16.5,
          17.5
         ],
         "xaxis": "x",
         "y": [
          5.5,
          5.5
         ],
         "yaxis": "y"
        },
        {
         "hoverinfo": "skip",
         "line": {
          "color": "#9e9e9e",
          "width": 3
         },
         "mode": "lines",
         "type": "scatter",
         "x": [
          17.5,
          17.5
         ],
         "xaxis": "x",
         "y": [
          5.5,
          -0.5
         ],
         "yaxis": "y"
        },
        {
         "hoverinfo": "skip",
         "line": {
          "color": "#9e9e9e",
          "width": 3
         },
         "mode": "lines",
         "type": "scatter",
         "x": [
          21.5,
          21.5
         ],
         "xaxis": "x",
         "y": [
          1.5,
          6.5
         ],
         "yaxis": "y"
        },
        {
         "hoverinfo": "skip",
         "line": {
          "color": "#9e9e9e",
          "width": 3
         },
         "mode": "lines",
         "type": "scatter",
         "x": [
          21.5,
          22.5
         ],
         "xaxis": "x",
         "y": [
          1.5,
          1.5
         ],
         "yaxis": "y"
        },
        {
         "hoverinfo": "skip",
         "line": {
          "color": "#9e9e9e",
          "width": 3
         },
         "mode": "lines",
         "type": "scatter",
         "x": [
          22.5,
          22.5
         ],
         "xaxis": "x",
         "y": [
          1.5,
          -0.5
         ],
         "yaxis": "y"
        },
        {
         "hoverinfo": "skip",
         "line": {
          "color": "#9e9e9e",
          "width": 3
         },
         "mode": "lines",
         "type": "scatter",
         "x": [
          25.5,
          25.5
         ],
         "xaxis": "x",
         "y": [
          3.5,
          6.5
         ],
         "yaxis": "y"
        },
        {
         "hoverinfo": "skip",
         "line": {
          "color": "#9e9e9e",
          "width": 3
         },
         "mode": "lines",
         "type": "scatter",
         "x": [
          25.5,
          26.5
         ],
         "xaxis": "x",
         "y": [
          3.5,
          3.5
         ],
         "yaxis": "y"
        },
        {
         "hoverinfo": "skip",
         "line": {
          "color": "#9e9e9e",
          "width": 3
         },
         "mode": "lines",
         "type": "scatter",
         "x": [
          26.5,
          26.5
         ],
         "xaxis": "x",
         "y": [
          3.5,
          -0.5
         ],
         "yaxis": "y"
        },
        {
         "hoverinfo": "skip",
         "line": {
          "color": "#9e9e9e",
          "width": 3
         },
         "mode": "lines",
         "type": "scatter",
         "x": [
          30.5,
          30.5
         ],
         "xaxis": "x",
         "y": [
          -0.5,
          6.5
         ],
         "yaxis": "y"
        },
        {
         "hoverinfo": "skip",
         "line": {
          "color": "#9e9e9e",
          "width": 3
         },
         "mode": "lines",
         "type": "scatter",
         "x": [
          34.5,
          34.5
         ],
         "xaxis": "x",
         "y": [
          2.5,
          6.5
         ],
         "yaxis": "y"
        },
        {
         "hoverinfo": "skip",
         "line": {
          "color": "#9e9e9e",
          "width": 3
         },
         "mode": "lines",
         "type": "scatter",
         "x": [
          34.5,
          35.5
         ],
         "xaxis": "x",
         "y": [
          2.5,
          2.5
         ],
         "yaxis": "y"
        },
        {
         "hoverinfo": "skip",
         "line": {
          "color": "#9e9e9e",
          "width": 3
         },
         "mode": "lines",
         "type": "scatter",
         "x": [
          35.5,
          35.5
         ],
         "xaxis": "x",
         "y": [
          2.5,
          -0.5
         ],
         "yaxis": "y"
        },
        {
         "hoverinfo": "skip",
         "line": {
          "color": "#9e9e9e",
          "width": 3
         },
         "mode": "lines",
         "type": "scatter",
         "x": [
          38.5,
          38.5
         ],
         "xaxis": "x",
         "y": [
          4.5,
          6.5
         ],
         "yaxis": "y"
        },
        {
         "hoverinfo": "skip",
         "line": {
          "color": "#9e9e9e",
          "width": 3
         },
         "mode": "lines",
         "type": "scatter",
         "x": [
          38.5,
          39.5
         ],
         "xaxis": "x",
         "y": [
          4.5,
          4.5
         ],
         "yaxis": "y"
        },
        {
         "hoverinfo": "skip",
         "line": {
          "color": "#9e9e9e",
          "width": 3
         },
         "mode": "lines",
         "type": "scatter",
         "x": [
          39.5,
          39.5
         ],
         "xaxis": "x",
         "y": [
          4.5,
          -0.5
         ],
         "yaxis": "y"
        },
        {
         "hoverinfo": "skip",
         "line": {
          "color": "#9e9e9e",
          "width": 3
         },
         "mode": "lines",
         "type": "scatter",
         "x": [
          43.5,
          43.5
         ],
         "xaxis": "x",
         "y": [
          0.5,
          6.5
         ],
         "yaxis": "y"
        },
        {
         "hoverinfo": "skip",
         "line": {
          "color": "#9e9e9e",
          "width": 3
         },
         "mode": "lines",
         "type": "scatter",
         "x": [
          43.5,
          44.5
         ],
         "xaxis": "x",
         "y": [
          0.5,
          0.5
         ],
         "yaxis": "y"
        },
        {
         "hoverinfo": "skip",
         "line": {
          "color": "#9e9e9e",
          "width": 3
         },
         "mode": "lines",
         "type": "scatter",
         "x": [
          44.5,
          44.5
         ],
         "xaxis": "x",
         "y": [
          0.5,
          -0.5
         ],
         "yaxis": "y"
        },
        {
         "hoverinfo": "skip",
         "line": {
          "color": "#9e9e9e",
          "width": 3
         },
         "mode": "lines",
         "type": "scatter",
         "x": [
          47.5,
          47.5
         ],
         "xaxis": "x",
         "y": [
          2.5,
          6.5
         ],
         "yaxis": "y"
        },
        {
         "hoverinfo": "skip",
         "line": {
          "color": "#9e9e9e",
          "width": 3
         },
         "mode": "lines",
         "type": "scatter",
         "x": [
          47.5,
          48.5
         ],
         "xaxis": "x",
         "y": [
          2.5,
          2.5
         ],
         "yaxis": "y"
        },
        {
         "hoverinfo": "skip",
         "line": {
          "color": "#9e9e9e",
          "width": 3
         },
         "mode": "lines",
         "type": "scatter",
         "x": [
          48.5,
          48.5
         ],
         "xaxis": "x",
         "y": [
          2.5,
          -0.5
         ],
         "yaxis": "y"
        }
       ],
       "layout": {
        "annotations": [
         {
          "font": {
           "size": 16
          },
          "showarrow": false,
          "text": "2022",
          "x": 0.5,
          "xanchor": "center",
          "xref": "paper",
          "y": 1,
          "yanchor": "bottom",
          "yref": "paper"
         }
        ],
        "font": {
         "color": "#fff",
         "size": 10
        },
        "height": 150,
        "margin": {
         "b": 20,
         "t": 20
        },
        "paper_bgcolor": "#333",
        "plot_bgcolor": "#333",
        "showlegend": false,
        "template": {
         "data": {
          "bar": [
           {
            "error_x": {
             "color": "#2a3f5f"
            },
            "error_y": {
             "color": "#2a3f5f"
            },
            "marker": {
             "line": {
              "color": "#E5ECF6",
              "width": 0.5
             },
             "pattern": {
              "fillmode": "overlay",
              "size": 10,
              "solidity": 0.2
             }
            },
            "type": "bar"
           }
          ],
          "barpolar": [
           {
            "marker": {
             "line": {
              "color": "#E5ECF6",
              "width": 0.5
             },
             "pattern": {
              "fillmode": "overlay",
              "size": 10,
              "solidity": 0.2
             }
            },
            "type": "barpolar"
           }
          ],
          "carpet": [
           {
            "aaxis": {
             "endlinecolor": "#2a3f5f",
             "gridcolor": "white",
             "linecolor": "white",
             "minorgridcolor": "white",
             "startlinecolor": "#2a3f5f"
            },
            "baxis": {
             "endlinecolor": "#2a3f5f",
             "gridcolor": "white",
             "linecolor": "white",
             "minorgridcolor": "white",
             "startlinecolor": "#2a3f5f"
            },
            "type": "carpet"
           }
          ],
          "choropleth": [
           {
            "colorbar": {
             "outlinewidth": 0,
             "ticks": ""
            },
            "type": "choropleth"
           }
          ],
          "contour": [
           {
            "colorbar": {
             "outlinewidth": 0,
             "ticks": ""
            },
            "colorscale": [
             [
              0,
              "#0d0887"
             ],
             [
              0.1111111111111111,
              "#46039f"
             ],
             [
              0.2222222222222222,
              "#7201a8"
             ],
             [
              0.3333333333333333,
              "#9c179e"
             ],
             [
              0.4444444444444444,
              "#bd3786"
             ],
             [
              0.5555555555555556,
              "#d8576b"
             ],
             [
              0.6666666666666666,
              "#ed7953"
             ],
             [
              0.7777777777777778,
              "#fb9f3a"
             ],
             [
              0.8888888888888888,
              "#fdca26"
             ],
             [
              1,
              "#f0f921"
             ]
            ],
            "type": "contour"
           }
          ],
          "contourcarpet": [
           {
            "colorbar": {
             "outlinewidth": 0,
             "ticks": ""
            },
            "type": "contourcarpet"
           }
          ],
          "heatmap": [
           {
            "colorbar": {
             "outlinewidth": 0,
             "ticks": ""
            },
            "colorscale": [
             [
              0,
              "#0d0887"
             ],
             [
              0.1111111111111111,
              "#46039f"
             ],
             [
              0.2222222222222222,
              "#7201a8"
             ],
             [
              0.3333333333333333,
              "#9c179e"
             ],
             [
              0.4444444444444444,
              "#bd3786"
             ],
             [
              0.5555555555555556,
              "#d8576b"
             ],
             [
              0.6666666666666666,
              "#ed7953"
             ],
             [
              0.7777777777777778,
              "#fb9f3a"
             ],
             [
              0.8888888888888888,
              "#fdca26"
             ],
             [
              1,
              "#f0f921"
             ]
            ],
            "type": "heatmap"
           }
          ],
          "heatmapgl": [
           {
            "colorbar": {
             "outlinewidth": 0,
             "ticks": ""
            },
            "colorscale": [
             [
              0,
              "#0d0887"
             ],
             [
              0.1111111111111111,
              "#46039f"
             ],
             [
              0.2222222222222222,
              "#7201a8"
             ],
             [
              0.3333333333333333,
              "#9c179e"
             ],
             [
              0.4444444444444444,
              "#bd3786"
             ],
             [
              0.5555555555555556,
              "#d8576b"
             ],
             [
              0.6666666666666666,
              "#ed7953"
             ],
             [
              0.7777777777777778,
              "#fb9f3a"
             ],
             [
              0.8888888888888888,
              "#fdca26"
             ],
             [
              1,
              "#f0f921"
             ]
            ],
            "type": "heatmapgl"
           }
          ],
          "histogram": [
           {
            "marker": {
             "pattern": {
              "fillmode": "overlay",
              "size": 10,
              "solidity": 0.2
             }
            },
            "type": "histogram"
           }
          ],
          "histogram2d": [
           {
            "colorbar": {
             "outlinewidth": 0,
             "ticks": ""
            },
            "colorscale": [
             [
              0,
              "#0d0887"
             ],
             [
              0.1111111111111111,
              "#46039f"
             ],
             [
              0.2222222222222222,
              "#7201a8"
             ],
             [
              0.3333333333333333,
              "#9c179e"
             ],
             [
              0.4444444444444444,
              "#bd3786"
             ],
             [
              0.5555555555555556,
              "#d8576b"
             ],
             [
              0.6666666666666666,
              "#ed7953"
             ],
             [
              0.7777777777777778,
              "#fb9f3a"
             ],
             [
              0.8888888888888888,
              "#fdca26"
             ],
             [
              1,
              "#f0f921"
             ]
            ],
            "type": "histogram2d"
           }
          ],
          "histogram2dcontour": [
           {
            "colorbar": {
             "outlinewidth": 0,
             "ticks": ""
            },
            "colorscale": [
             [
              0,
              "#0d0887"
             ],
             [
              0.1111111111111111,
              "#46039f"
             ],
             [
              0.2222222222222222,
              "#7201a8"
             ],
             [
              0.3333333333333333,
              "#9c179e"
             ],
             [
              0.4444444444444444,
              "#bd3786"
             ],
             [
              0.5555555555555556,
              "#d8576b"
             ],
             [
              0.6666666666666666,
              "#ed7953"
             ],
             [
              0.7777777777777778,
              "#fb9f3a"
             ],
             [
              0.8888888888888888,
              "#fdca26"
             ],
             [
              1,
              "#f0f921"
             ]
            ],
            "type": "histogram2dcontour"
           }
          ],
          "mesh3d": [
           {
            "colorbar": {
             "outlinewidth": 0,
             "ticks": ""
            },
            "type": "mesh3d"
           }
          ],
          "parcoords": [
           {
            "line": {
             "colorbar": {
              "outlinewidth": 0,
              "ticks": ""
             }
            },
            "type": "parcoords"
           }
          ],
          "pie": [
           {
            "automargin": true,
            "type": "pie"
           }
          ],
          "scatter": [
           {
            "fillpattern": {
             "fillmode": "overlay",
             "size": 10,
             "solidity": 0.2
            },
            "type": "scatter"
           }
          ],
          "scatter3d": [
           {
            "line": {
             "colorbar": {
              "outlinewidth": 0,
              "ticks": ""
             }
            },
            "marker": {
             "colorbar": {
              "outlinewidth": 0,
              "ticks": ""
             }
            },
            "type": "scatter3d"
           }
          ],
          "scattercarpet": [
           {
            "marker": {
             "colorbar": {
              "outlinewidth": 0,
              "ticks": ""
             }
            },
            "type": "scattercarpet"
           }
          ],
          "scattergeo": [
           {
            "marker": {
             "colorbar": {
              "outlinewidth": 0,
              "ticks": ""
             }
            },
            "type": "scattergeo"
           }
          ],
          "scattergl": [
           {
            "marker": {
             "colorbar": {
              "outlinewidth": 0,
              "ticks": ""
             }
            },
            "type": "scattergl"
           }
          ],
          "scattermapbox": [
           {
            "marker": {
             "colorbar": {
              "outlinewidth": 0,
              "ticks": ""
             }
            },
            "type": "scattermapbox"
           }
          ],
          "scatterpolar": [
           {
            "marker": {
             "colorbar": {
              "outlinewidth": 0,
              "ticks": ""
             }
            },
            "type": "scatterpolar"
           }
          ],
          "scatterpolargl": [
           {
            "marker": {
             "colorbar": {
              "outlinewidth": 0,
              "ticks": ""
             }
            },
            "type": "scatterpolargl"
           }
          ],
          "scatterternary": [
           {
            "marker": {
             "colorbar": {
              "outlinewidth": 0,
              "ticks": ""
             }
            },
            "type": "scatterternary"
           }
          ],
          "surface": [
           {
            "colorbar": {
             "outlinewidth": 0,
             "ticks": ""
            },
            "colorscale": [
             [
              0,
              "#0d0887"
             ],
             [
              0.1111111111111111,
              "#46039f"
             ],
             [
              0.2222222222222222,
              "#7201a8"
             ],
             [
              0.3333333333333333,
              "#9c179e"
             ],
             [
              0.4444444444444444,
              "#bd3786"
             ],
             [
              0.5555555555555556,
              "#d8576b"
             ],
             [
              0.6666666666666666,
              "#ed7953"
             ],
             [
              0.7777777777777778,
              "#fb9f3a"
             ],
             [
              0.8888888888888888,
              "#fdca26"
             ],
             [
              1,
              "#f0f921"
             ]
            ],
            "type": "surface"
           }
          ],
          "table": [
           {
            "cells": {
             "fill": {
              "color": "#EBF0F8"
             },
             "line": {
              "color": "white"
             }
            },
            "header": {
             "fill": {
              "color": "#C8D4E3"
             },
             "line": {
              "color": "white"
             }
            },
            "type": "table"
           }
          ]
         },
         "layout": {
          "annotationdefaults": {
           "arrowcolor": "#2a3f5f",
           "arrowhead": 0,
           "arrowwidth": 1
          },
          "autotypenumbers": "strict",
          "coloraxis": {
           "colorbar": {
            "outlinewidth": 0,
            "ticks": ""
           }
          },
          "colorscale": {
           "diverging": [
            [
             0,
             "#8e0152"
            ],
            [
             0.1,
             "#c51b7d"
            ],
            [
             0.2,
             "#de77ae"
            ],
            [
             0.3,
             "#f1b6da"
            ],
            [
             0.4,
             "#fde0ef"
            ],
            [
             0.5,
             "#f7f7f7"
            ],
            [
             0.6,
             "#e6f5d0"
            ],
            [
             0.7,
             "#b8e186"
            ],
            [
             0.8,
             "#7fbc41"
            ],
            [
             0.9,
             "#4d9221"
            ],
            [
             1,
             "#276419"
            ]
           ],
           "sequential": [
            [
             0,
             "#0d0887"
            ],
            [
             0.1111111111111111,
             "#46039f"
            ],
            [
             0.2222222222222222,
             "#7201a8"
            ],
            [
             0.3333333333333333,
             "#9c179e"
            ],
            [
             0.4444444444444444,
             "#bd3786"
            ],
            [
             0.5555555555555556,
             "#d8576b"
            ],
            [
             0.6666666666666666,
             "#ed7953"
            ],
            [
             0.7777777777777778,
             "#fb9f3a"
            ],
            [
             0.8888888888888888,
             "#fdca26"
            ],
            [
             1,
             "#f0f921"
            ]
           ],
           "sequentialminus": [
            [
             0,
             "#0d0887"
            ],
            [
             0.1111111111111111,
             "#46039f"
            ],
            [
             0.2222222222222222,
             "#7201a8"
            ],
            [
             0.3333333333333333,
             "#9c179e"
            ],
            [
             0.4444444444444444,
             "#bd3786"
            ],
            [
             0.5555555555555556,
             "#d8576b"
            ],
            [
             0.6666666666666666,
             "#ed7953"
            ],
            [
             0.7777777777777778,
             "#fb9f3a"
            ],
            [
             0.8888888888888888,
             "#fdca26"
            ],
            [
             1,
             "#f0f921"
            ]
           ]
          },
          "colorway": [
           "#636efa",
           "#EF553B",
           "#00cc96",
           "#ab63fa",
           "#FFA15A",
           "#19d3f3",
           "#FF6692",
           "#B6E880",
           "#FF97FF",
           "#FECB52"
          ],
          "font": {
           "color": "#2a3f5f"
          },
          "geo": {
           "bgcolor": "white",
           "lakecolor": "white",
           "landcolor": "#E5ECF6",
           "showlakes": true,
           "showland": true,
           "subunitcolor": "white"
          },
          "hoverlabel": {
           "align": "left"
          },
          "hovermode": "closest",
          "mapbox": {
           "style": "light"
          },
          "paper_bgcolor": "white",
          "plot_bgcolor": "#E5ECF6",
          "polar": {
           "angularaxis": {
            "gridcolor": "white",
            "linecolor": "white",
            "ticks": ""
           },
           "bgcolor": "#E5ECF6",
           "radialaxis": {
            "gridcolor": "white",
            "linecolor": "white",
            "ticks": ""
           }
          },
          "scene": {
           "xaxis": {
            "backgroundcolor": "#E5ECF6",
            "gridcolor": "white",
            "gridwidth": 2,
            "linecolor": "white",
            "showbackground": true,
            "ticks": "",
            "zerolinecolor": "white"
           },
           "yaxis": {
            "backgroundcolor": "#E5ECF6",
            "gridcolor": "white",
            "gridwidth": 2,
            "linecolor": "white",
            "showbackground": true,
            "ticks": "",
            "zerolinecolor": "white"
           },
           "zaxis": {
            "backgroundcolor": "#E5ECF6",
            "gridcolor": "white",
            "gridwidth": 2,
            "linecolor": "white",
            "showbackground": true,
            "ticks": "",
            "zerolinecolor": "white"
           }
          },
          "shapedefaults": {
           "line": {
            "color": "#2a3f5f"
           }
          },
          "ternary": {
           "aaxis": {
            "gridcolor": "white",
            "linecolor": "white",
            "ticks": ""
           },
           "baxis": {
            "gridcolor": "white",
            "linecolor": "white",
            "ticks": ""
           },
           "bgcolor": "#E5ECF6",
           "caxis": {
            "gridcolor": "white",
            "linecolor": "white",
            "ticks": ""
           }
          },
          "title": {
           "x": 0.05
          },
          "xaxis": {
           "automargin": true,
           "gridcolor": "white",
           "linecolor": "white",
           "ticks": "",
           "title": {
            "standoff": 15
           },
           "zerolinecolor": "white",
           "zerolinewidth": 2
          },
          "yaxis": {
           "automargin": true,
           "gridcolor": "white",
           "linecolor": "white",
           "ticks": "",
           "title": {
            "standoff": 15
           },
           "zerolinecolor": "white",
           "zerolinewidth": 2
          }
         }
        },
        "title": {
         "text": "Total bids per acuction date"
        },
        "xaxis": {
         "anchor": "y",
         "domain": [
          0,
          1
         ],
         "showgrid": false,
         "showline": false,
         "tickmode": "array",
         "ticktext": [
          "January",
          "February",
          "March",
          "April",
          "May",
          "June",
          "July",
          "August",
          "September",
          "October",
          "November",
          "December"
         ],
         "tickvals": [
          2.2857142857142856,
          6.285714285714286,
          10.714285714285714,
          15,
          19.428571428571427,
          23.714285714285715,
          28.142857142857142,
          32.57142857142857,
          36.857142857142854,
          41.285714285714285,
          45.57142857142857,
          50
         ],
         "zeroline": false
        },
        "yaxis": {
         "anchor": "x",
         "autorange": "reversed",
         "domain": [
          0,
          1
         ],
         "showgrid": false,
         "showline": false,
         "tickmode": "array",
         "ticktext": [
          "Mon",
          "Tue",
          "Wed",
          "Thu",
          "Fri",
          "Sat",
          "Sun"
         ],
         "tickvals": [
          0,
          1,
          2,
          3,
          4,
          5,
          6
         ],
         "zeroline": false
        }
       }
      },
      "text/html": [
       "<div>                            <div id=\"274b35e4-2bcf-4637-8448-f201674f1bd5\" class=\"plotly-graph-div\" style=\"height:150px; width:100%;\"></div>            <script type=\"text/javascript\">                require([\"plotly\"], function(Plotly) {                    window.PLOTLYENV=window.PLOTLYENV || {};                                    if (document.getElementById(\"274b35e4-2bcf-4637-8448-f201674f1bd5\")) {                    Plotly.newPlot(                        \"274b35e4-2bcf-4637-8448-f201674f1bd5\",                        [{\"colorscale\":[[0.0,\"rgb(247,252,245)\"],[0.125,\"rgb(229,245,224)\"],[0.25,\"rgb(199,233,192)\"],[0.375,\"rgb(161,217,155)\"],[0.5,\"rgb(116,196,118)\"],[0.625,\"rgb(65,171,93)\"],[0.75,\"rgb(35,139,69)\"],[0.875,\"rgb(0,109,44)\"],[1.0,\"rgb(0,68,27)\"]],\"customdata\":[[\"2022-01-01\",\"y\"],[\"2022-01-02\",\"y\"],[\"2022-01-03\",\"y\"],[\"2022-01-04\",\"y\"],[\"2022-01-05\",\"y\"],[\"2022-01-06\",\"y\"],[\"2022-01-07\",\"y\"],[\"2022-01-08\",\"y\"],[\"2022-01-09\",\"y\"],[\"2022-01-10\",\"y\"],[\"2022-01-11\",\"y\"],[\"2022-01-12\",\"y\"],[\"2022-01-13\",\"y\"],[\"2022-01-14\",\"y\"],[\"2022-01-15\",\"y\"],[\"2022-01-16\",\"y\"],[\"2022-01-17\",\"y\"],[\"2022-01-18\",\"y\"],[\"2022-01-19\",\"y\"],[\"2022-01-20\",\"y\"],[\"2022-01-21\",\"y\"],[\"2022-01-22\",\"y\"],[\"2022-01-23\",\"y\"],[\"2022-01-24\",\"y\"],[\"2022-01-25\",\"y\"],[\"2022-01-26\",\"y\"],[\"2022-01-27\",\"y\"],[\"2022-01-28\",\"y\"],[\"2022-01-29\",\"y\"],[\"2022-01-30\",\"y\"],[\"2022-01-31\",\"y\"],[\"2022-02-01\",\"y\"],[\"2022-02-02\",\"y\"],[\"2022-02-03\",\"y\"],[\"2022-02-04\",\"y\"],[\"2022-02-05\",\"y\"],[\"2022-02-06\",\"y\"],[\"2022-02-07\",\"y\"],[\"2022-02-08\",\"y\"],[\"2022-02-09\",\"y\"],[\"2022-02-10\",\"y\"],[\"2022-02-11\",\"y\"],[\"2022-02-12\",\"y\"],[\"2022-02-13\",\"y\"],[\"2022-02-14\",\"y\"],[\"2022-02-15\",\"y\"],[\"2022-02-16\",\"y\"],[\"2022-02-17\",\"y\"],[\"2022-02-18\",\"y\"],[\"2022-02-19\",\"y\"],[\"2022-02-20\",\"y\"],[\"2022-02-21\",\"y\"],[\"2022-02-22\",\"y\"],[\"2022-02-23\",\"y\"],[\"2022-02-24\",\"y\"],[\"2022-02-25\",\"y\"],[\"2022-02-26\",\"y\"],[\"2022-02-27\",\"y\"],[\"2022-02-28\",\"y\"],[\"2022-03-01\",\"y\"],[\"2022-03-02\",\"y\"],[\"2022-03-03\",\"y\"],[\"2022-03-04\",\"y\"],[\"2022-03-05\",\"y\"],[\"2022-03-06\",\"y\"],[\"2022-03-07\",\"y\"],[\"2022-03-08\",\"y\"],[\"2022-03-09\",\"y\"],[\"2022-03-10\",\"y\"],[\"2022-03-11\",\"y\"],[\"2022-03-12\",\"y\"],[\"2022-03-13\",\"y\"],[\"2022-03-14\",\"y\"],[\"2022-03-15\",\"y\"],[\"2022-03-16\",\"y\"],[\"2022-03-17\",\"y\"],[\"2022-03-18\",\"y\"],[\"2022-03-19\",\"y\"],[\"2022-03-20\",\"y\"],[\"2022-03-21\",\"y\"],[\"2022-03-22\",\"y\"],[\"2022-03-23\",\"y\"],[\"2022-03-24\",\"y\"],[\"2022-03-25\",\"y\"],[\"2022-03-26\",\"y\"],[\"2022-03-27\",\"y\"],[\"2022-03-28\",\"y\"],[\"2022-03-29\",\"y\"],[\"2022-03-30\",\"y\"],[\"2022-03-31\",\"y\"],[\"2022-04-01\",\"y\"],[\"2022-04-02\",\"y\"],[\"2022-04-03\",\"y\"],[\"2022-04-04\",\"y\"],[\"2022-04-05\",\"y\"],[\"2022-04-06\",\"y\"],[\"2022-04-07\",\"y\"],[\"2022-04-08\",\"y\"],[\"2022-04-09\",\"y\"],[\"2022-04-10\",\"y\"],[\"2022-04-11\",\"y\"],[\"2022-04-12\",\"y\"],[\"2022-04-13\",\"y\"],[\"2022-04-14\",\"y\"],[\"2022-04-15\",\"y\"],[\"2022-04-16\",\"y\"],[\"2022-04-17\",\"y\"],[\"2022-04-18\",\"y\"],[\"2022-04-19\",\"y\"],[\"2022-04-20\",\"y\"],[\"2022-04-21\",\"y\"],[\"2022-04-22\",\"y\"],[\"2022-04-23\",\"y\"],[\"2022-04-24\",\"y\"],[\"2022-04-25\",\"y\"],[\"2022-04-26\",\"y\"],[\"2022-04-27\",\"y\"],[\"2022-04-28\",\"y\"],[\"2022-04-29\",\"y\"],[\"2022-04-30\",\"y\"],[\"2022-05-01\",\"y\"],[\"2022-05-02\",\"y\"],[\"2022-05-03\",\"y\"],[\"2022-05-04\",\"y\"],[\"2022-05-05\",\"y\"],[\"2022-05-06\",\"y\"],[\"2022-05-07\",\"y\"],[\"2022-05-08\",\"y\"],[\"2022-05-09\",\"y\"],[\"2022-05-10\",\"y\"],[\"2022-05-11\",\"y\"],[\"2022-05-12\",\"y\"],[\"2022-05-13\",\"y\"],[\"2022-05-14\",\"y\"],[\"2022-05-15\",\"y\"],[\"2022-05-16\",\"y\"],[\"2022-05-17\",\"y\"],[\"2022-05-18\",\"y\"],[\"2022-05-19\",\"y\"],[\"2022-05-20\",\"y\"],[\"2022-05-21\",\"y\"],[\"2022-05-22\",\"y\"],[\"2022-05-23\",\"y\"],[\"2022-05-24\",\"y\"],[\"2022-05-25\",\"y\"],[\"2022-05-26\",\"y\"],[\"2022-05-27\",\"y\"],[\"2022-05-28\",\"y\"],[\"2022-05-29\",\"y\"],[\"2022-05-30\",\"y\"],[\"2022-05-31\",\"y\"],[\"2022-06-01\",\"y\"],[\"2022-06-02\",\"y\"],[\"2022-06-03\",\"y\"],[\"2022-06-04\",\"y\"],[\"2022-06-05\",\"y\"],[\"2022-06-06\",\"y\"],[\"2022-06-07\",\"y\"],[\"2022-06-08\",\"y\"],[\"2022-06-09\",\"y\"],[\"2022-06-10\",\"y\"],[\"2022-06-11\",\"y\"],[\"2022-06-12\",\"y\"],[\"2022-06-13\",\"y\"],[\"2022-06-14\",\"y\"],[\"2022-06-15\",\"y\"],[\"2022-06-16\",\"y\"],[\"2022-06-17\",\"y\"],[\"2022-06-18\",\"y\"],[\"2022-06-19\",\"y\"],[\"2022-06-20\",\"y\"],[\"2022-06-21\",\"y\"],[\"2022-06-22\",\"y\"],[\"2022-06-23\",\"y\"],[\"2022-06-24\",\"y\"],[\"2022-06-25\",\"y\"],[\"2022-06-26\",\"y\"],[\"2022-06-27\",\"y\"],[\"2022-06-28\",\"y\"],[\"2022-06-29\",\"y\"],[\"2022-06-30\",\"y\"],[\"2022-07-01\",\"y\"],[\"2022-07-02\",\"y\"],[\"2022-07-03\",\"y\"],[\"2022-07-04\",\"y\"],[\"2022-07-05\",\"y\"],[\"2022-07-06\",\"y\"],[\"2022-07-07\",\"y\"],[\"2022-07-08\",\"y\"],[\"2022-07-09\",\"y\"],[\"2022-07-10\",\"y\"],[\"2022-07-11\",\"y\"],[\"2022-07-12\",\"y\"],[\"2022-07-13\",\"y\"],[\"2022-07-14\",\"y\"],[\"2022-07-15\",\"y\"],[\"2022-07-16\",\"y\"],[\"2022-07-17\",\"y\"],[\"2022-07-18\",\"y\"],[\"2022-07-19\",\"y\"],[\"2022-07-20\",\"y\"],[\"2022-07-21\",\"y\"],[\"2022-07-22\",\"y\"],[\"2022-07-23\",\"y\"],[\"2022-07-24\",\"y\"],[\"2022-07-25\",\"y\"],[\"2022-07-26\",\"y\"],[\"2022-07-27\",\"y\"],[\"2022-07-28\",\"y\"],[\"2022-07-29\",\"y\"],[\"2022-07-30\",\"y\"],[\"2022-07-31\",\"y\"],[\"2022-08-01\",\"y\"],[\"2022-08-02\",\"y\"],[\"2022-08-03\",\"y\"],[\"2022-08-04\",\"y\"],[\"2022-08-05\",\"y\"],[\"2022-08-06\",\"y\"],[\"2022-08-07\",\"y\"],[\"2022-08-08\",\"y\"],[\"2022-08-09\",\"y\"],[\"2022-08-10\",\"y\"],[\"2022-08-11\",\"y\"],[\"2022-08-12\",\"y\"],[\"2022-08-13\",\"y\"],[\"2022-08-14\",\"y\"],[\"2022-08-15\",\"y\"],[\"2022-08-16\",\"y\"],[\"2022-08-17\",\"y\"],[\"2022-08-18\",\"y\"],[\"2022-08-19\",\"y\"],[\"2022-08-20\",\"y\"],[\"2022-08-21\",\"y\"],[\"2022-08-22\",\"y\"],[\"2022-08-23\",\"y\"],[\"2022-08-24\",\"y\"],[\"2022-08-25\",\"y\"],[\"2022-08-26\",\"y\"],[\"2022-08-27\",\"y\"],[\"2022-08-28\",\"y\"],[\"2022-08-29\",\"y\"],[\"2022-08-30\",\"y\"],[\"2022-08-31\",\"y\"],[\"2022-09-01\",\"y\"],[\"2022-09-02\",\"y\"],[\"2022-09-03\",\"y\"],[\"2022-09-04\",\"y\"],[\"2022-09-05\",\"y\"],[\"2022-09-06\",\"y\"],[\"2022-09-07\",\"y\"],[\"2022-09-08\",\"y\"],[\"2022-09-09\",\"y\"],[\"2022-09-10\",\"y\"],[\"2022-09-11\",\"y\"],[\"2022-09-12\",\"y\"],[\"2022-09-13\",\"y\"],[\"2022-09-14\",\"y\"],[\"2022-09-15\",\"y\"],[\"2022-09-16\",\"y\"],[\"2022-09-17\",\"y\"],[\"2022-09-18\",\"y\"],[\"2022-09-19\",\"y\"],[\"2022-09-20\",\"y\"],[\"2022-09-21\",\"y\"],[\"2022-09-22\",\"y\"],[\"2022-09-23\",\"y\"],[\"2022-09-24\",\"y\"],[\"2022-09-25\",\"y\"],[\"2022-09-26\",\"y\"],[\"2022-09-27\",\"y\"],[\"2022-09-28\",\"y\"],[\"2022-09-29\",\"y\"],[\"2022-09-30\",\"y\"],[\"2022-10-01\",\"y\"],[\"2022-10-02\",\"y\"],[\"2022-10-03\",\"y\"],[\"2022-10-04\",\"y\"],[\"2022-10-05\",\"y\"],[\"2022-10-06\",\"y\"],[\"2022-10-07\",\"y\"],[\"2022-10-08\",\"y\"],[\"2022-10-09\",\"y\"],[\"2022-10-10\",\"y\"],[\"2022-10-11\",\"y\"],[\"2022-10-12\",\"y\"],[\"2022-10-13\",\"y\"],[\"2022-10-14\",\"y\"],[\"2022-10-15\",\"y\"],[\"2022-10-16\",\"y\"],[\"2022-10-17\",\"y\"],[\"2022-10-18\",\"y\"],[\"2022-10-19\",\"y\"],[\"2022-10-20\",\"y\"],[\"2022-10-21\",\"y\"],[\"2022-10-22\",\"y\"],[\"2022-10-23\",\"y\"],[\"2022-10-24\",\"y\"],[\"2022-10-25\",\"y\"],[\"2022-10-26\",\"y\"],[\"2022-10-27\",\"y\"],[\"2022-10-28\",\"y\"],[\"2022-10-29\",\"y\"],[\"2022-10-30\",\"y\"],[\"2022-10-31\",\"y\"],[\"2022-11-01\",\"y\"],[\"2022-11-02\",\"y\"],[\"2022-11-03\",\"y\"],[\"2022-11-04\",\"y\"],[\"2022-11-05\",\"y\"],[\"2022-11-06\",\"y\"],[\"2022-11-07\",\"y\"],[\"2022-11-08\",\"y\"],[\"2022-11-09\",\"y\"],[\"2022-11-10\",\"y\"],[\"2022-11-11\",\"y\"],[\"2022-11-12\",\"y\"],[\"2022-11-13\",\"y\"],[\"2022-11-14\",\"y\"],[\"2022-11-15\",\"y\"],[\"2022-11-16\",\"y\"],[\"2022-11-17\",\"y\"],[\"2022-11-18\",\"y\"],[\"2022-11-19\",\"y\"],[\"2022-11-20\",\"y\"],[\"2022-11-21\",\"y\"],[\"2022-11-22\",\"y\"],[\"2022-11-23\",\"y\"],[\"2022-11-24\",\"y\"],[\"2022-11-25\",\"y\"],[\"2022-11-26\",\"y\"],[\"2022-11-27\",\"y\"],[\"2022-11-28\",\"y\"],[\"2022-11-29\",\"y\"],[\"2022-11-30\",\"y\"],[\"2022-12-01\",\"y\"],[\"2022-12-02\",\"y\"],[\"2022-12-03\",\"y\"],[\"2022-12-04\",\"y\"],[\"2022-12-05\",\"y\"],[\"2022-12-06\",\"y\"],[\"2022-12-07\",\"y\"],[\"2022-12-08\",\"y\"],[\"2022-12-09\",\"y\"],[\"2022-12-10\",\"y\"],[\"2022-12-11\",\"y\"],[\"2022-12-12\",\"y\"],[\"2022-12-13\",\"y\"],[\"2022-12-14\",\"y\"],[\"2022-12-15\",\"y\"],[\"2022-12-16\",\"y\"],[\"2022-12-17\",\"y\"],[\"2022-12-18\",\"y\"],[\"2022-12-19\",\"y\"],[\"2022-12-20\",\"y\"],[\"2022-12-21\",\"y\"],[\"2022-12-22\",\"y\"],[\"2022-12-23\",\"y\"],[\"2022-12-24\",\"y\"],[\"2022-12-25\",\"y\"],[\"2022-12-26\",\"y\"],[\"2022-12-27\",\"y\"],[\"2022-12-28\",\"y\"],[\"2022-12-29\",\"y\"],[\"2022-12-30\",\"y\"],[\"2022-12-31\",\"y\"]],\"hovertemplate\":\"%{customdata[0]} <br>Week=%{x} <br>%{customdata[1]}=%{z}\",\"name\":\"2022\",\"showscale\":false,\"x\":[0,0,1,1,1,1,1,1,1,2,2,2,2,2,2,2,3,3,3,3,3,3,3,4,4,4,4,4,4,4,5,5,5,5,5,5,5,6,6,6,6,6,6,6,7,7,7,7,7,7,7,8,8,8,8,8,8,8,9,9,9,9,9,9,9,10,10,10,10,10,10,10,11,11,11,11,11,11,11,12,12,12,12,12,12,12,13,13,13,13,13,13,13,14,14,14,14,14,14,14,15,15,15,15,15,15,15,16,16,16,16,16,16,16,17,17,17,17,17,17,17,18,18,18,18,18,18,18,19,19,19,19,19,19,19,20,20,20,20,20,20,20,21,21,21,21,21,21,21,22,22,22,22,22,22,22,23,23,23,23,23,23,23,24,24,24,24,24,24,24,25,25,25,25,25,25,25,26,26,26,26,26,26,26,27,27,27,27,27,27,27,28,28,28,28,28,28,28,29,29,29,29,29,29,29,30,30,30,30,30,30,30,31,31,31,31,31,31,31,32,32,32,32,32,32,32,33,33,33,33,33,33,33,34,34,34,34,34,34,34,35,35,35,35,35,35,35,36,36,36,36,36,36,36,37,37,37,37,37,37,37,38,38,38,38,38,38,38,39,39,39,39,39,39,39,40,40,40,40,40,40,40,41,41,41,41,41,41,41,42,42,42,42,42,42,42,43,43,43,43,43,43,43,44,44,44,44,44,44,44,45,45,45,45,45,45,45,46,46,46,46,46,46,46,47,47,47,47,47,47,47,48,48,48,48,48,48,48,49,49,49,49,49,49,49,50,50,50,50,50,50,50,51,51,51,51,51,51,51,52,52,52,52,52,52],\"xgap\":1,\"y\":[5,6,0,1,2,3,4,5,6,0,1,2,3,4,5,6,0,1,2,3,4,5,6,0,1,2,3,4,5,6,0,1,2,3,4,5,6,0,1,2,3,4,5,6,0,1,2,3,4,5,6,0,1,2,3,4,5,6,0,1,2,3,4,5,6,0,1,2,3,4,5,6,0,1,2,3,4,5,6,0,1,2,3,4,5,6,0,1,2,3,4,5,6,0,1,2,3,4,5,6,0,1,2,3,4,5,6,0,1,2,3,4,5,6,0,1,2,3,4,5,6,0,1,2,3,4,5,6,0,1,2,3,4,5,6,0,1,2,3,4,5,6,0,1,2,3,4,5,6,0,1,2,3,4,5,6,0,1,2,3,4,5,6,0,1,2,3,4,5,6,0,1,2,3,4,5,6,0,1,2,3,4,5,6,0,1,2,3,4,5,6,0,1,2,3,4,5,6,0,1,2,3,4,5,6,0,1,2,3,4,5,6,0,1,2,3,4,5,6,0,1,2,3,4,5,6,0,1,2,3,4,5,6,0,1,2,3,4,5,6,0,1,2,3,4,5,6,0,1,2,3,4,5,6,0,1,2,3,4,5,6,0,1,2,3,4,5,6,0,1,2,3,4,5,6,0,1,2,3,4,5,6,0,1,2,3,4,5,6,0,1,2,3,4,5,6,0,1,2,3,4,5,6,0,1,2,3,4,5,6,0,1,2,3,4,5,6,0,1,2,3,4,5,6,0,1,2,3,4,5,6,0,1,2,3,4,5,6,0,1,2,3,4,5,6,0,1,2,3,4,5,6,0,1,2,3,4,5,6,0,1,2,3,4,5],\"ygap\":1,\"z\":[0,0,0,0,0,0,0,0,0,0,0,0,0,0,0,0,0,0,0,0,0,0,0,0,0,0,0,0,0,0,0,0,0,0,0,0,0,0,0,0,0,0,0,0,0,0,0,0,0,0,0,0,0,0,0,0,0,0,0,0,0,0,0,0,0,0,0,0,0,0,0,0,0,0,0,0,0,0,0,0,0,0,0,0,0,0,0,0,0,0,0,0,0,0,0,0,0,0,0,0,0,0,0,0,0,0,0,0,0,0,0,0,0,0,0,0,0,0,0,0,0,0,0,0,0,0,0,0,0,0,0,0,0,0,0,0,0,0,0,0,0,0,0,0,0,0,0,0,0,0,0,0,0,0,0,0,0,0,0,0,0,0,0,0,0,0,0,0,0,0,0,0,0,0,0,0,0,0,0,0,0,0,0,0,0,0,0,0,0,0,0,0,0,0,0,0,0,0,0,0,0,0,0,0,0,0,0,0,0,0,0,0,0,0,0,0,0,0,0,0,0,0,0,0,0,0,0,0,0,0,0,0,0,0,0,0,0,0,0,0,0,0,0,0,0,0,0,0,0,0,0,0,12,0,0,119,0,0,22,0,0,0,0,0,0,56,0,0,0,0,0,0,42,0,0,0,0,0,0,74,0,0,0,0,0,0,0,0,0,0,0,0,0,0,0,0,0,0,0,0,0,0,0,0,140,0,0,28,0,0,0,0,0,0,0,0,0,0,60,0,0,47,0,0,0,52,0,0,0,0,0,0,0,0,0,35,0,0,0,0,0,31,0,0,0,0,88,0,0,21,0,0,0,0,0,0,0,0,0,0,0,0,0,0,0],\"type\":\"heatmap\",\"xaxis\":\"x\",\"yaxis\":\"y\",\"zmax\":140,\"zmin\":0},{\"hoverinfo\":\"skip\",\"line\":{\"color\":\"#9e9e9e\",\"width\":3},\"mode\":\"lines\",\"x\":[-0.5,-0.5],\"y\":[4.5,6.5],\"type\":\"scatter\",\"xaxis\":\"x\",\"yaxis\":\"y\"},{\"hoverinfo\":\"skip\",\"line\":{\"color\":\"#9e9e9e\",\"width\":3},\"mode\":\"lines\",\"x\":[-0.5,0.5],\"y\":[4.5,4.5],\"type\":\"scatter\",\"xaxis\":\"x\",\"yaxis\":\"y\"},{\"hoverinfo\":\"skip\",\"line\":{\"color\":\"#9e9e9e\",\"width\":3},\"mode\":\"lines\",\"x\":[0.5,0.5],\"y\":[4.5,-0.5],\"type\":\"scatter\",\"xaxis\":\"x\",\"yaxis\":\"y\"},{\"hoverinfo\":\"skip\",\"line\":{\"color\":\"#9e9e9e\",\"width\":3},\"mode\":\"lines\",\"x\":[4.5,4.5],\"y\":[0.5,6.5],\"type\":\"scatter\",\"xaxis\":\"x\",\"yaxis\":\"y\"},{\"hoverinfo\":\"skip\",\"line\":{\"color\":\"#9e9e9e\",\"width\":3},\"mode\":\"lines\",\"x\":[4.5,5.5],\"y\":[0.5,0.5],\"type\":\"scatter\",\"xaxis\":\"x\",\"yaxis\":\"y\"},{\"hoverinfo\":\"skip\",\"line\":{\"color\":\"#9e9e9e\",\"width\":3},\"mode\":\"lines\",\"x\":[5.5,5.5],\"y\":[0.5,-0.5],\"type\":\"scatter\",\"xaxis\":\"x\",\"yaxis\":\"y\"},{\"hoverinfo\":\"skip\",\"line\":{\"color\":\"#9e9e9e\",\"width\":3},\"mode\":\"lines\",\"x\":[8.5,8.5],\"y\":[0.5,6.5],\"type\":\"scatter\",\"xaxis\":\"x\",\"yaxis\":\"y\"},{\"hoverinfo\":\"skip\",\"line\":{\"color\":\"#9e9e9e\",\"width\":3},\"mode\":\"lines\",\"x\":[8.5,9.5],\"y\":[0.5,0.5],\"type\":\"scatter\",\"xaxis\":\"x\",\"yaxis\":\"y\"},{\"hoverinfo\":\"skip\",\"line\":{\"color\":\"#9e9e9e\",\"width\":3},\"mode\":\"lines\",\"x\":[9.5,9.5],\"y\":[0.5,-0.5],\"type\":\"scatter\",\"xaxis\":\"x\",\"yaxis\":\"y\"},{\"hoverinfo\":\"skip\",\"line\":{\"color\":\"#9e9e9e\",\"width\":3},\"mode\":\"lines\",\"x\":[12.5,12.5],\"y\":[3.5,6.5],\"type\":\"scatter\",\"xaxis\":\"x\",\"yaxis\":\"y\"},{\"hoverinfo\":\"skip\",\"line\":{\"color\":\"#9e9e9e\",\"width\":3},\"mode\":\"lines\",\"x\":[12.5,13.5],\"y\":[3.5,3.5],\"type\":\"scatter\",\"xaxis\":\"x\",\"yaxis\":\"y\"},{\"hoverinfo\":\"skip\",\"line\":{\"color\":\"#9e9e9e\",\"width\":3},\"mode\":\"lines\",\"x\":[13.5,13.5],\"y\":[3.5,-0.5],\"type\":\"scatter\",\"xaxis\":\"x\",\"yaxis\":\"y\"},{\"hoverinfo\":\"skip\",\"line\":{\"color\":\"#9e9e9e\",\"width\":3},\"mode\":\"lines\",\"x\":[16.5,16.5],\"y\":[5.5,6.5],\"type\":\"scatter\",\"xaxis\":\"x\",\"yaxis\":\"y\"},{\"hoverinfo\":\"skip\",\"line\":{\"color\":\"#9e9e9e\",\"width\":3},\"mode\":\"lines\",\"x\":[16.5,17.5],\"y\":[5.5,5.5],\"type\":\"scatter\",\"xaxis\":\"x\",\"yaxis\":\"y\"},{\"hoverinfo\":\"skip\",\"line\":{\"color\":\"#9e9e9e\",\"width\":3},\"mode\":\"lines\",\"x\":[17.5,17.5],\"y\":[5.5,-0.5],\"type\":\"scatter\",\"xaxis\":\"x\",\"yaxis\":\"y\"},{\"hoverinfo\":\"skip\",\"line\":{\"color\":\"#9e9e9e\",\"width\":3},\"mode\":\"lines\",\"x\":[21.5,21.5],\"y\":[1.5,6.5],\"type\":\"scatter\",\"xaxis\":\"x\",\"yaxis\":\"y\"},{\"hoverinfo\":\"skip\",\"line\":{\"color\":\"#9e9e9e\",\"width\":3},\"mode\":\"lines\",\"x\":[21.5,22.5],\"y\":[1.5,1.5],\"type\":\"scatter\",\"xaxis\":\"x\",\"yaxis\":\"y\"},{\"hoverinfo\":\"skip\",\"line\":{\"color\":\"#9e9e9e\",\"width\":3},\"mode\":\"lines\",\"x\":[22.5,22.5],\"y\":[1.5,-0.5],\"type\":\"scatter\",\"xaxis\":\"x\",\"yaxis\":\"y\"},{\"hoverinfo\":\"skip\",\"line\":{\"color\":\"#9e9e9e\",\"width\":3},\"mode\":\"lines\",\"x\":[25.5,25.5],\"y\":[3.5,6.5],\"type\":\"scatter\",\"xaxis\":\"x\",\"yaxis\":\"y\"},{\"hoverinfo\":\"skip\",\"line\":{\"color\":\"#9e9e9e\",\"width\":3},\"mode\":\"lines\",\"x\":[25.5,26.5],\"y\":[3.5,3.5],\"type\":\"scatter\",\"xaxis\":\"x\",\"yaxis\":\"y\"},{\"hoverinfo\":\"skip\",\"line\":{\"color\":\"#9e9e9e\",\"width\":3},\"mode\":\"lines\",\"x\":[26.5,26.5],\"y\":[3.5,-0.5],\"type\":\"scatter\",\"xaxis\":\"x\",\"yaxis\":\"y\"},{\"hoverinfo\":\"skip\",\"line\":{\"color\":\"#9e9e9e\",\"width\":3},\"mode\":\"lines\",\"x\":[30.5,30.5],\"y\":[-0.5,6.5],\"type\":\"scatter\",\"xaxis\":\"x\",\"yaxis\":\"y\"},{\"hoverinfo\":\"skip\",\"line\":{\"color\":\"#9e9e9e\",\"width\":3},\"mode\":\"lines\",\"x\":[34.5,34.5],\"y\":[2.5,6.5],\"type\":\"scatter\",\"xaxis\":\"x\",\"yaxis\":\"y\"},{\"hoverinfo\":\"skip\",\"line\":{\"color\":\"#9e9e9e\",\"width\":3},\"mode\":\"lines\",\"x\":[34.5,35.5],\"y\":[2.5,2.5],\"type\":\"scatter\",\"xaxis\":\"x\",\"yaxis\":\"y\"},{\"hoverinfo\":\"skip\",\"line\":{\"color\":\"#9e9e9e\",\"width\":3},\"mode\":\"lines\",\"x\":[35.5,35.5],\"y\":[2.5,-0.5],\"type\":\"scatter\",\"xaxis\":\"x\",\"yaxis\":\"y\"},{\"hoverinfo\":\"skip\",\"line\":{\"color\":\"#9e9e9e\",\"width\":3},\"mode\":\"lines\",\"x\":[38.5,38.5],\"y\":[4.5,6.5],\"type\":\"scatter\",\"xaxis\":\"x\",\"yaxis\":\"y\"},{\"hoverinfo\":\"skip\",\"line\":{\"color\":\"#9e9e9e\",\"width\":3},\"mode\":\"lines\",\"x\":[38.5,39.5],\"y\":[4.5,4.5],\"type\":\"scatter\",\"xaxis\":\"x\",\"yaxis\":\"y\"},{\"hoverinfo\":\"skip\",\"line\":{\"color\":\"#9e9e9e\",\"width\":3},\"mode\":\"lines\",\"x\":[39.5,39.5],\"y\":[4.5,-0.5],\"type\":\"scatter\",\"xaxis\":\"x\",\"yaxis\":\"y\"},{\"hoverinfo\":\"skip\",\"line\":{\"color\":\"#9e9e9e\",\"width\":3},\"mode\":\"lines\",\"x\":[43.5,43.5],\"y\":[0.5,6.5],\"type\":\"scatter\",\"xaxis\":\"x\",\"yaxis\":\"y\"},{\"hoverinfo\":\"skip\",\"line\":{\"color\":\"#9e9e9e\",\"width\":3},\"mode\":\"lines\",\"x\":[43.5,44.5],\"y\":[0.5,0.5],\"type\":\"scatter\",\"xaxis\":\"x\",\"yaxis\":\"y\"},{\"hoverinfo\":\"skip\",\"line\":{\"color\":\"#9e9e9e\",\"width\":3},\"mode\":\"lines\",\"x\":[44.5,44.5],\"y\":[0.5,-0.5],\"type\":\"scatter\",\"xaxis\":\"x\",\"yaxis\":\"y\"},{\"hoverinfo\":\"skip\",\"line\":{\"color\":\"#9e9e9e\",\"width\":3},\"mode\":\"lines\",\"x\":[47.5,47.5],\"y\":[2.5,6.5],\"type\":\"scatter\",\"xaxis\":\"x\",\"yaxis\":\"y\"},{\"hoverinfo\":\"skip\",\"line\":{\"color\":\"#9e9e9e\",\"width\":3},\"mode\":\"lines\",\"x\":[47.5,48.5],\"y\":[2.5,2.5],\"type\":\"scatter\",\"xaxis\":\"x\",\"yaxis\":\"y\"},{\"hoverinfo\":\"skip\",\"line\":{\"color\":\"#9e9e9e\",\"width\":3},\"mode\":\"lines\",\"x\":[48.5,48.5],\"y\":[2.5,-0.5],\"type\":\"scatter\",\"xaxis\":\"x\",\"yaxis\":\"y\"}],                        {\"template\":{\"data\":{\"histogram2dcontour\":[{\"type\":\"histogram2dcontour\",\"colorbar\":{\"outlinewidth\":0,\"ticks\":\"\"},\"colorscale\":[[0.0,\"#0d0887\"],[0.1111111111111111,\"#46039f\"],[0.2222222222222222,\"#7201a8\"],[0.3333333333333333,\"#9c179e\"],[0.4444444444444444,\"#bd3786\"],[0.5555555555555556,\"#d8576b\"],[0.6666666666666666,\"#ed7953\"],[0.7777777777777778,\"#fb9f3a\"],[0.8888888888888888,\"#fdca26\"],[1.0,\"#f0f921\"]]}],\"choropleth\":[{\"type\":\"choropleth\",\"colorbar\":{\"outlinewidth\":0,\"ticks\":\"\"}}],\"histogram2d\":[{\"type\":\"histogram2d\",\"colorbar\":{\"outlinewidth\":0,\"ticks\":\"\"},\"colorscale\":[[0.0,\"#0d0887\"],[0.1111111111111111,\"#46039f\"],[0.2222222222222222,\"#7201a8\"],[0.3333333333333333,\"#9c179e\"],[0.4444444444444444,\"#bd3786\"],[0.5555555555555556,\"#d8576b\"],[0.6666666666666666,\"#ed7953\"],[0.7777777777777778,\"#fb9f3a\"],[0.8888888888888888,\"#fdca26\"],[1.0,\"#f0f921\"]]}],\"heatmap\":[{\"type\":\"heatmap\",\"colorbar\":{\"outlinewidth\":0,\"ticks\":\"\"},\"colorscale\":[[0.0,\"#0d0887\"],[0.1111111111111111,\"#46039f\"],[0.2222222222222222,\"#7201a8\"],[0.3333333333333333,\"#9c179e\"],[0.4444444444444444,\"#bd3786\"],[0.5555555555555556,\"#d8576b\"],[0.6666666666666666,\"#ed7953\"],[0.7777777777777778,\"#fb9f3a\"],[0.8888888888888888,\"#fdca26\"],[1.0,\"#f0f921\"]]}],\"heatmapgl\":[{\"type\":\"heatmapgl\",\"colorbar\":{\"outlinewidth\":0,\"ticks\":\"\"},\"colorscale\":[[0.0,\"#0d0887\"],[0.1111111111111111,\"#46039f\"],[0.2222222222222222,\"#7201a8\"],[0.3333333333333333,\"#9c179e\"],[0.4444444444444444,\"#bd3786\"],[0.5555555555555556,\"#d8576b\"],[0.6666666666666666,\"#ed7953\"],[0.7777777777777778,\"#fb9f3a\"],[0.8888888888888888,\"#fdca26\"],[1.0,\"#f0f921\"]]}],\"contourcarpet\":[{\"type\":\"contourcarpet\",\"colorbar\":{\"outlinewidth\":0,\"ticks\":\"\"}}],\"contour\":[{\"type\":\"contour\",\"colorbar\":{\"outlinewidth\":0,\"ticks\":\"\"},\"colorscale\":[[0.0,\"#0d0887\"],[0.1111111111111111,\"#46039f\"],[0.2222222222222222,\"#7201a8\"],[0.3333333333333333,\"#9c179e\"],[0.4444444444444444,\"#bd3786\"],[0.5555555555555556,\"#d8576b\"],[0.6666666666666666,\"#ed7953\"],[0.7777777777777778,\"#fb9f3a\"],[0.8888888888888888,\"#fdca26\"],[1.0,\"#f0f921\"]]}],\"surface\":[{\"type\":\"surface\",\"colorbar\":{\"outlinewidth\":0,\"ticks\":\"\"},\"colorscale\":[[0.0,\"#0d0887\"],[0.1111111111111111,\"#46039f\"],[0.2222222222222222,\"#7201a8\"],[0.3333333333333333,\"#9c179e\"],[0.4444444444444444,\"#bd3786\"],[0.5555555555555556,\"#d8576b\"],[0.6666666666666666,\"#ed7953\"],[0.7777777777777778,\"#fb9f3a\"],[0.8888888888888888,\"#fdca26\"],[1.0,\"#f0f921\"]]}],\"mesh3d\":[{\"type\":\"mesh3d\",\"colorbar\":{\"outlinewidth\":0,\"ticks\":\"\"}}],\"scatter\":[{\"fillpattern\":{\"fillmode\":\"overlay\",\"size\":10,\"solidity\":0.2},\"type\":\"scatter\"}],\"parcoords\":[{\"type\":\"parcoords\",\"line\":{\"colorbar\":{\"outlinewidth\":0,\"ticks\":\"\"}}}],\"scatterpolargl\":[{\"type\":\"scatterpolargl\",\"marker\":{\"colorbar\":{\"outlinewidth\":0,\"ticks\":\"\"}}}],\"bar\":[{\"error_x\":{\"color\":\"#2a3f5f\"},\"error_y\":{\"color\":\"#2a3f5f\"},\"marker\":{\"line\":{\"color\":\"#E5ECF6\",\"width\":0.5},\"pattern\":{\"fillmode\":\"overlay\",\"size\":10,\"solidity\":0.2}},\"type\":\"bar\"}],\"scattergeo\":[{\"type\":\"scattergeo\",\"marker\":{\"colorbar\":{\"outlinewidth\":0,\"ticks\":\"\"}}}],\"scatterpolar\":[{\"type\":\"scatterpolar\",\"marker\":{\"colorbar\":{\"outlinewidth\":0,\"ticks\":\"\"}}}],\"histogram\":[{\"marker\":{\"pattern\":{\"fillmode\":\"overlay\",\"size\":10,\"solidity\":0.2}},\"type\":\"histogram\"}],\"scattergl\":[{\"type\":\"scattergl\",\"marker\":{\"colorbar\":{\"outlinewidth\":0,\"ticks\":\"\"}}}],\"scatter3d\":[{\"type\":\"scatter3d\",\"line\":{\"colorbar\":{\"outlinewidth\":0,\"ticks\":\"\"}},\"marker\":{\"colorbar\":{\"outlinewidth\":0,\"ticks\":\"\"}}}],\"scattermapbox\":[{\"type\":\"scattermapbox\",\"marker\":{\"colorbar\":{\"outlinewidth\":0,\"ticks\":\"\"}}}],\"scatterternary\":[{\"type\":\"scatterternary\",\"marker\":{\"colorbar\":{\"outlinewidth\":0,\"ticks\":\"\"}}}],\"scattercarpet\":[{\"type\":\"scattercarpet\",\"marker\":{\"colorbar\":{\"outlinewidth\":0,\"ticks\":\"\"}}}],\"carpet\":[{\"aaxis\":{\"endlinecolor\":\"#2a3f5f\",\"gridcolor\":\"white\",\"linecolor\":\"white\",\"minorgridcolor\":\"white\",\"startlinecolor\":\"#2a3f5f\"},\"baxis\":{\"endlinecolor\":\"#2a3f5f\",\"gridcolor\":\"white\",\"linecolor\":\"white\",\"minorgridcolor\":\"white\",\"startlinecolor\":\"#2a3f5f\"},\"type\":\"carpet\"}],\"table\":[{\"cells\":{\"fill\":{\"color\":\"#EBF0F8\"},\"line\":{\"color\":\"white\"}},\"header\":{\"fill\":{\"color\":\"#C8D4E3\"},\"line\":{\"color\":\"white\"}},\"type\":\"table\"}],\"barpolar\":[{\"marker\":{\"line\":{\"color\":\"#E5ECF6\",\"width\":0.5},\"pattern\":{\"fillmode\":\"overlay\",\"size\":10,\"solidity\":0.2}},\"type\":\"barpolar\"}],\"pie\":[{\"automargin\":true,\"type\":\"pie\"}]},\"layout\":{\"autotypenumbers\":\"strict\",\"colorway\":[\"#636efa\",\"#EF553B\",\"#00cc96\",\"#ab63fa\",\"#FFA15A\",\"#19d3f3\",\"#FF6692\",\"#B6E880\",\"#FF97FF\",\"#FECB52\"],\"font\":{\"color\":\"#2a3f5f\"},\"hovermode\":\"closest\",\"hoverlabel\":{\"align\":\"left\"},\"paper_bgcolor\":\"white\",\"plot_bgcolor\":\"#E5ECF6\",\"polar\":{\"bgcolor\":\"#E5ECF6\",\"angularaxis\":{\"gridcolor\":\"white\",\"linecolor\":\"white\",\"ticks\":\"\"},\"radialaxis\":{\"gridcolor\":\"white\",\"linecolor\":\"white\",\"ticks\":\"\"}},\"ternary\":{\"bgcolor\":\"#E5ECF6\",\"aaxis\":{\"gridcolor\":\"white\",\"linecolor\":\"white\",\"ticks\":\"\"},\"baxis\":{\"gridcolor\":\"white\",\"linecolor\":\"white\",\"ticks\":\"\"},\"caxis\":{\"gridcolor\":\"white\",\"linecolor\":\"white\",\"ticks\":\"\"}},\"coloraxis\":{\"colorbar\":{\"outlinewidth\":0,\"ticks\":\"\"}},\"colorscale\":{\"sequential\":[[0.0,\"#0d0887\"],[0.1111111111111111,\"#46039f\"],[0.2222222222222222,\"#7201a8\"],[0.3333333333333333,\"#9c179e\"],[0.4444444444444444,\"#bd3786\"],[0.5555555555555556,\"#d8576b\"],[0.6666666666666666,\"#ed7953\"],[0.7777777777777778,\"#fb9f3a\"],[0.8888888888888888,\"#fdca26\"],[1.0,\"#f0f921\"]],\"sequentialminus\":[[0.0,\"#0d0887\"],[0.1111111111111111,\"#46039f\"],[0.2222222222222222,\"#7201a8\"],[0.3333333333333333,\"#9c179e\"],[0.4444444444444444,\"#bd3786\"],[0.5555555555555556,\"#d8576b\"],[0.6666666666666666,\"#ed7953\"],[0.7777777777777778,\"#fb9f3a\"],[0.8888888888888888,\"#fdca26\"],[1.0,\"#f0f921\"]],\"diverging\":[[0,\"#8e0152\"],[0.1,\"#c51b7d\"],[0.2,\"#de77ae\"],[0.3,\"#f1b6da\"],[0.4,\"#fde0ef\"],[0.5,\"#f7f7f7\"],[0.6,\"#e6f5d0\"],[0.7,\"#b8e186\"],[0.8,\"#7fbc41\"],[0.9,\"#4d9221\"],[1,\"#276419\"]]},\"xaxis\":{\"gridcolor\":\"white\",\"linecolor\":\"white\",\"ticks\":\"\",\"title\":{\"standoff\":15},\"zerolinecolor\":\"white\",\"automargin\":true,\"zerolinewidth\":2},\"yaxis\":{\"gridcolor\":\"white\",\"linecolor\":\"white\",\"ticks\":\"\",\"title\":{\"standoff\":15},\"zerolinecolor\":\"white\",\"automargin\":true,\"zerolinewidth\":2},\"scene\":{\"xaxis\":{\"backgroundcolor\":\"#E5ECF6\",\"gridcolor\":\"white\",\"linecolor\":\"white\",\"showbackground\":true,\"ticks\":\"\",\"zerolinecolor\":\"white\",\"gridwidth\":2},\"yaxis\":{\"backgroundcolor\":\"#E5ECF6\",\"gridcolor\":\"white\",\"linecolor\":\"white\",\"showbackground\":true,\"ticks\":\"\",\"zerolinecolor\":\"white\",\"gridwidth\":2},\"zaxis\":{\"backgroundcolor\":\"#E5ECF6\",\"gridcolor\":\"white\",\"linecolor\":\"white\",\"showbackground\":true,\"ticks\":\"\",\"zerolinecolor\":\"white\",\"gridwidth\":2}},\"shapedefaults\":{\"line\":{\"color\":\"#2a3f5f\"}},\"annotationdefaults\":{\"arrowcolor\":\"#2a3f5f\",\"arrowhead\":0,\"arrowwidth\":1},\"geo\":{\"bgcolor\":\"white\",\"landcolor\":\"#E5ECF6\",\"subunitcolor\":\"white\",\"showland\":true,\"showlakes\":true,\"lakecolor\":\"white\"},\"title\":{\"x\":0.05},\"mapbox\":{\"style\":\"light\"}}},\"xaxis\":{\"anchor\":\"y\",\"domain\":[0.0,1.0],\"showgrid\":false,\"showline\":false,\"tickmode\":\"array\",\"ticktext\":[\"January\",\"February\",\"March\",\"April\",\"May\",\"June\",\"July\",\"August\",\"September\",\"October\",\"November\",\"December\"],\"tickvals\":[2.2857142857142856,6.285714285714286,10.714285714285714,15.0,19.428571428571427,23.714285714285715,28.142857142857142,32.57142857142857,36.857142857142854,41.285714285714285,45.57142857142857,50.0],\"zeroline\":false},\"yaxis\":{\"anchor\":\"x\",\"domain\":[0.0,1.0],\"autorange\":\"reversed\",\"showgrid\":false,\"showline\":false,\"tickmode\":\"array\",\"ticktext\":[\"Mon\",\"Tue\",\"Wed\",\"Thu\",\"Fri\",\"Sat\",\"Sun\"],\"tickvals\":[0,1,2,3,4,5,6],\"zeroline\":false},\"annotations\":[{\"font\":{\"size\":16},\"showarrow\":false,\"text\":\"2022\",\"x\":0.5,\"xanchor\":\"center\",\"xref\":\"paper\",\"y\":1.0,\"yanchor\":\"bottom\",\"yref\":\"paper\"}],\"font\":{\"color\":\"#fff\",\"size\":10},\"margin\":{\"b\":20,\"t\":20},\"title\":{\"text\":\"Total bids per acuction date\"},\"paper_bgcolor\":\"#333\",\"plot_bgcolor\":\"#333\",\"showlegend\":false,\"height\":150},                        {\"responsive\": true}                    ).then(function(){\n",
       "                            \n",
       "var gd = document.getElementById('274b35e4-2bcf-4637-8448-f201674f1bd5');\n",
       "var x = new MutationObserver(function (mutations, observer) {{\n",
       "        var display = window.getComputedStyle(gd).display;\n",
       "        if (!display || display === 'none') {{\n",
       "            console.log([gd, 'removed!']);\n",
       "            Plotly.purge(gd);\n",
       "            observer.disconnect();\n",
       "        }}\n",
       "}});\n",
       "\n",
       "// Listen for the removal of the full notebook cells\n",
       "var notebookContainer = gd.closest('#notebook-container');\n",
       "if (notebookContainer) {{\n",
       "    x.observe(notebookContainer, {childList: true});\n",
       "}}\n",
       "\n",
       "// Listen for the clearing of the current output cell\n",
       "var outputEl = gd.closest('.output');\n",
       "if (outputEl) {{\n",
       "    x.observe(outputEl, {childList: true});\n",
       "}}\n",
       "\n",
       "                        })                };                });            </script>        </div>"
      ]
     },
     "metadata": {},
     "output_type": "display_data"
    }
   ],
   "source": [
    "# Daily Calendar of auction dates\n",
    "df_stats_daily['auction_date'] = pd.to_datetime(df_stats_daily['auction_date'])\n",
    "\n",
    "new_date_range = pd.date_range(start='2022-01-01', end='2022-12-31', freq='D')\n",
    "df_calplot = df_stats_daily.set_index('auction_date')\n",
    "df_calplot = df_calplot.reindex(new_date_range, fill_value=0)\n",
    "df_calplot.reset_index(inplace=True)\n",
    "\n",
    "# calendar\n",
    "from plotly_calplot import calplot\n",
    "\n",
    "calplot(df_calplot, x='index', y='bid_count', title='Total bids per acuction date', dark_theme=1, month_lines_width=3, years_title=1)"
   ]
  },
  {
   "attachments": {},
   "cell_type": "markdown",
   "metadata": {},
   "source": [
    "- Now, I want to know how many bids per auctions were held on these dates!"
   ]
  },
  {
   "cell_type": "code",
   "execution_count": 717,
   "metadata": {},
   "outputs": [
    {
     "data": {
      "text/html": [
       "<div>\n",
       "<style scoped>\n",
       "    .dataframe tbody tr th:only-of-type {\n",
       "        vertical-align: middle;\n",
       "    }\n",
       "\n",
       "    .dataframe tbody tr th {\n",
       "        vertical-align: top;\n",
       "    }\n",
       "\n",
       "    .dataframe thead th {\n",
       "        text-align: right;\n",
       "    }\n",
       "</style>\n",
       "<table border=\"1\" class=\"dataframe\">\n",
       "  <thead>\n",
       "    <tr style=\"text-align: right;\">\n",
       "      <th></th>\n",
       "      <th>auction_date</th>\n",
       "      <th>auction_id</th>\n",
       "      <th>bid_count</th>\n",
       "      <th>bid_amount_mean</th>\n",
       "      <th>bid_amount_std</th>\n",
       "      <th>bid_amount_min</th>\n",
       "      <th>bid_amount_max</th>\n",
       "    </tr>\n",
       "  </thead>\n",
       "  <tbody>\n",
       "    <tr>\n",
       "      <th>0</th>\n",
       "      <td>2022-09-10</td>\n",
       "      <td>1500000</td>\n",
       "      <td>12</td>\n",
       "      <td>492.83</td>\n",
       "      <td>393.04</td>\n",
       "      <td>10.0</td>\n",
       "      <td>1100.0</td>\n",
       "    </tr>\n",
       "    <tr>\n",
       "      <th>1</th>\n",
       "      <td>2022-09-13</td>\n",
       "      <td>1640483</td>\n",
       "      <td>40</td>\n",
       "      <td>1749.10</td>\n",
       "      <td>995.49</td>\n",
       "      <td>100.0</td>\n",
       "      <td>3000.0</td>\n",
       "    </tr>\n",
       "    <tr>\n",
       "      <th>2</th>\n",
       "      <td>2022-09-13</td>\n",
       "      <td>1640484</td>\n",
       "      <td>4</td>\n",
       "      <td>153.00</td>\n",
       "      <td>43.73</td>\n",
       "      <td>100.0</td>\n",
       "      <td>207.0</td>\n",
       "    </tr>\n",
       "    <tr>\n",
       "      <th>3</th>\n",
       "      <td>2022-09-13</td>\n",
       "      <td>1640485</td>\n",
       "      <td>24</td>\n",
       "      <td>1325.33</td>\n",
       "      <td>833.02</td>\n",
       "      <td>100.0</td>\n",
       "      <td>2521.0</td>\n",
       "    </tr>\n",
       "    <tr>\n",
       "      <th>4</th>\n",
       "      <td>2022-09-13</td>\n",
       "      <td>1640486</td>\n",
       "      <td>27</td>\n",
       "      <td>943.11</td>\n",
       "      <td>659.72</td>\n",
       "      <td>100.0</td>\n",
       "      <td>2667.0</td>\n",
       "    </tr>\n",
       "    <tr>\n",
       "      <th>5</th>\n",
       "      <td>2022-09-13</td>\n",
       "      <td>1640487</td>\n",
       "      <td>8</td>\n",
       "      <td>397.12</td>\n",
       "      <td>202.39</td>\n",
       "      <td>100.0</td>\n",
       "      <td>622.0</td>\n",
       "    </tr>\n",
       "    <tr>\n",
       "      <th>6</th>\n",
       "      <td>2022-09-13</td>\n",
       "      <td>1640488</td>\n",
       "      <td>16</td>\n",
       "      <td>534.81</td>\n",
       "      <td>286.72</td>\n",
       "      <td>101.0</td>\n",
       "      <td>922.0</td>\n",
       "    </tr>\n",
       "    <tr>\n",
       "      <th>7</th>\n",
       "      <td>2022-09-16</td>\n",
       "      <td>1646151</td>\n",
       "      <td>11</td>\n",
       "      <td>977.82</td>\n",
       "      <td>675.35</td>\n",
       "      <td>200.0</td>\n",
       "      <td>2000.0</td>\n",
       "    </tr>\n",
       "    <tr>\n",
       "      <th>8</th>\n",
       "      <td>2022-09-16</td>\n",
       "      <td>1646152</td>\n",
       "      <td>11</td>\n",
       "      <td>688.18</td>\n",
       "      <td>395.27</td>\n",
       "      <td>100.0</td>\n",
       "      <td>1222.0</td>\n",
       "    </tr>\n",
       "    <tr>\n",
       "      <th>9</th>\n",
       "      <td>2022-09-23</td>\n",
       "      <td>1651870</td>\n",
       "      <td>16</td>\n",
       "      <td>875.69</td>\n",
       "      <td>494.09</td>\n",
       "      <td>111.0</td>\n",
       "      <td>1500.0</td>\n",
       "    </tr>\n",
       "    <tr>\n",
       "      <th>10</th>\n",
       "      <td>2022-09-23</td>\n",
       "      <td>1651871</td>\n",
       "      <td>23</td>\n",
       "      <td>1586.61</td>\n",
       "      <td>740.75</td>\n",
       "      <td>111.0</td>\n",
       "      <td>2800.0</td>\n",
       "    </tr>\n",
       "    <tr>\n",
       "      <th>11</th>\n",
       "      <td>2022-09-23</td>\n",
       "      <td>1651872</td>\n",
       "      <td>9</td>\n",
       "      <td>977.56</td>\n",
       "      <td>596.01</td>\n",
       "      <td>111.0</td>\n",
       "      <td>1555.0</td>\n",
       "    </tr>\n",
       "    <tr>\n",
       "      <th>12</th>\n",
       "      <td>2022-09-23</td>\n",
       "      <td>1651873</td>\n",
       "      <td>8</td>\n",
       "      <td>843.38</td>\n",
       "      <td>326.67</td>\n",
       "      <td>111.0</td>\n",
       "      <td>1111.0</td>\n",
       "    </tr>\n",
       "    <tr>\n",
       "      <th>13</th>\n",
       "      <td>2022-09-30</td>\n",
       "      <td>1657992</td>\n",
       "      <td>11</td>\n",
       "      <td>707.18</td>\n",
       "      <td>374.82</td>\n",
       "      <td>222.0</td>\n",
       "      <td>1444.0</td>\n",
       "    </tr>\n",
       "    <tr>\n",
       "      <th>14</th>\n",
       "      <td>2022-09-30</td>\n",
       "      <td>1657993</td>\n",
       "      <td>7</td>\n",
       "      <td>425.71</td>\n",
       "      <td>241.01</td>\n",
       "      <td>111.0</td>\n",
       "      <td>777.0</td>\n",
       "    </tr>\n",
       "    <tr>\n",
       "      <th>15</th>\n",
       "      <td>2022-09-30</td>\n",
       "      <td>1657994</td>\n",
       "      <td>12</td>\n",
       "      <td>416.17</td>\n",
       "      <td>232.62</td>\n",
       "      <td>111.0</td>\n",
       "      <td>815.0</td>\n",
       "    </tr>\n",
       "    <tr>\n",
       "      <th>16</th>\n",
       "      <td>2022-09-30</td>\n",
       "      <td>1657995</td>\n",
       "      <td>12</td>\n",
       "      <td>647.17</td>\n",
       "      <td>262.03</td>\n",
       "      <td>111.0</td>\n",
       "      <td>1111.0</td>\n",
       "    </tr>\n",
       "    <tr>\n",
       "      <th>17</th>\n",
       "      <td>2022-10-07</td>\n",
       "      <td>1662632</td>\n",
       "      <td>21</td>\n",
       "      <td>1063.62</td>\n",
       "      <td>590.57</td>\n",
       "      <td>222.0</td>\n",
       "      <td>2000.0</td>\n",
       "    </tr>\n",
       "    <tr>\n",
       "      <th>18</th>\n",
       "      <td>2022-10-07</td>\n",
       "      <td>1662633</td>\n",
       "      <td>26</td>\n",
       "      <td>1521.96</td>\n",
       "      <td>730.01</td>\n",
       "      <td>222.0</td>\n",
       "      <td>2600.0</td>\n",
       "    </tr>\n",
       "    <tr>\n",
       "      <th>19</th>\n",
       "      <td>2022-10-07</td>\n",
       "      <td>1662634</td>\n",
       "      <td>27</td>\n",
       "      <td>1684.81</td>\n",
       "      <td>773.28</td>\n",
       "      <td>125.0</td>\n",
       "      <td>2888.0</td>\n",
       "    </tr>\n",
       "    <tr>\n",
       "      <th>20</th>\n",
       "      <td>2022-11-01</td>\n",
       "      <td>1682364</td>\n",
       "      <td>91</td>\n",
       "      <td>2315.21</td>\n",
       "      <td>1191.87</td>\n",
       "      <td>150.0</td>\n",
       "      <td>4236.0</td>\n",
       "    </tr>\n",
       "    <tr>\n",
       "      <th>21</th>\n",
       "      <td>2022-11-01</td>\n",
       "      <td>1683123</td>\n",
       "      <td>49</td>\n",
       "      <td>2508.86</td>\n",
       "      <td>1772.32</td>\n",
       "      <td>125.0</td>\n",
       "      <td>6222.0</td>\n",
       "    </tr>\n",
       "    <tr>\n",
       "      <th>22</th>\n",
       "      <td>2022-11-04</td>\n",
       "      <td>1683121</td>\n",
       "      <td>16</td>\n",
       "      <td>2429.88</td>\n",
       "      <td>1417.14</td>\n",
       "      <td>125.0</td>\n",
       "      <td>3850.0</td>\n",
       "    </tr>\n",
       "    <tr>\n",
       "      <th>23</th>\n",
       "      <td>2022-11-04</td>\n",
       "      <td>1683122</td>\n",
       "      <td>12</td>\n",
       "      <td>3106.50</td>\n",
       "      <td>1139.90</td>\n",
       "      <td>222.0</td>\n",
       "      <td>4000.0</td>\n",
       "    </tr>\n",
       "    <tr>\n",
       "      <th>24</th>\n",
       "      <td>2022-11-15</td>\n",
       "      <td>1695053</td>\n",
       "      <td>13</td>\n",
       "      <td>703.92</td>\n",
       "      <td>381.37</td>\n",
       "      <td>111.0</td>\n",
       "      <td>1222.0</td>\n",
       "    </tr>\n",
       "    <tr>\n",
       "      <th>25</th>\n",
       "      <td>2022-11-15</td>\n",
       "      <td>1695054</td>\n",
       "      <td>29</td>\n",
       "      <td>1075.72</td>\n",
       "      <td>529.40</td>\n",
       "      <td>111.0</td>\n",
       "      <td>2001.0</td>\n",
       "    </tr>\n",
       "    <tr>\n",
       "      <th>26</th>\n",
       "      <td>2022-11-15</td>\n",
       "      <td>1695055</td>\n",
       "      <td>18</td>\n",
       "      <td>1169.72</td>\n",
       "      <td>622.28</td>\n",
       "      <td>111.0</td>\n",
       "      <td>2057.0</td>\n",
       "    </tr>\n",
       "    <tr>\n",
       "      <th>27</th>\n",
       "      <td>2022-11-18</td>\n",
       "      <td>1695051</td>\n",
       "      <td>27</td>\n",
       "      <td>997.22</td>\n",
       "      <td>622.58</td>\n",
       "      <td>150.0</td>\n",
       "      <td>2200.0</td>\n",
       "    </tr>\n",
       "    <tr>\n",
       "      <th>28</th>\n",
       "      <td>2022-11-18</td>\n",
       "      <td>1695052</td>\n",
       "      <td>20</td>\n",
       "      <td>1110.50</td>\n",
       "      <td>446.32</td>\n",
       "      <td>222.0</td>\n",
       "      <td>1777.0</td>\n",
       "    </tr>\n",
       "    <tr>\n",
       "      <th>29</th>\n",
       "      <td>2022-11-22</td>\n",
       "      <td>1702663</td>\n",
       "      <td>25</td>\n",
       "      <td>835.56</td>\n",
       "      <td>393.99</td>\n",
       "      <td>100.0</td>\n",
       "      <td>1336.0</td>\n",
       "    </tr>\n",
       "    <tr>\n",
       "      <th>30</th>\n",
       "      <td>2022-11-22</td>\n",
       "      <td>1702664</td>\n",
       "      <td>27</td>\n",
       "      <td>964.63</td>\n",
       "      <td>482.32</td>\n",
       "      <td>100.0</td>\n",
       "      <td>1699.0</td>\n",
       "    </tr>\n",
       "    <tr>\n",
       "      <th>31</th>\n",
       "      <td>2022-12-02</td>\n",
       "      <td>1707589</td>\n",
       "      <td>14</td>\n",
       "      <td>1339.29</td>\n",
       "      <td>1383.03</td>\n",
       "      <td>150.0</td>\n",
       "      <td>4000.0</td>\n",
       "    </tr>\n",
       "    <tr>\n",
       "      <th>32</th>\n",
       "      <td>2022-12-02</td>\n",
       "      <td>1708023</td>\n",
       "      <td>21</td>\n",
       "      <td>611.67</td>\n",
       "      <td>427.73</td>\n",
       "      <td>125.0</td>\n",
       "      <td>2000.0</td>\n",
       "    </tr>\n",
       "    <tr>\n",
       "      <th>33</th>\n",
       "      <td>2022-12-08</td>\n",
       "      <td>1714886</td>\n",
       "      <td>10</td>\n",
       "      <td>294.90</td>\n",
       "      <td>106.93</td>\n",
       "      <td>125.0</td>\n",
       "      <td>450.0</td>\n",
       "    </tr>\n",
       "    <tr>\n",
       "      <th>34</th>\n",
       "      <td>2022-12-08</td>\n",
       "      <td>1715528</td>\n",
       "      <td>9</td>\n",
       "      <td>383.11</td>\n",
       "      <td>149.98</td>\n",
       "      <td>125.0</td>\n",
       "      <td>600.0</td>\n",
       "    </tr>\n",
       "    <tr>\n",
       "      <th>35</th>\n",
       "      <td>2022-12-08</td>\n",
       "      <td>1715530</td>\n",
       "      <td>12</td>\n",
       "      <td>347.75</td>\n",
       "      <td>164.90</td>\n",
       "      <td>125.0</td>\n",
       "      <td>600.0</td>\n",
       "    </tr>\n",
       "    <tr>\n",
       "      <th>36</th>\n",
       "      <td>2022-12-13</td>\n",
       "      <td>1720146</td>\n",
       "      <td>17</td>\n",
       "      <td>1254.35</td>\n",
       "      <td>503.62</td>\n",
       "      <td>444.0</td>\n",
       "      <td>2222.0</td>\n",
       "    </tr>\n",
       "    <tr>\n",
       "      <th>37</th>\n",
       "      <td>2022-12-13</td>\n",
       "      <td>1720147</td>\n",
       "      <td>27</td>\n",
       "      <td>1531.00</td>\n",
       "      <td>787.51</td>\n",
       "      <td>444.0</td>\n",
       "      <td>2888.0</td>\n",
       "    </tr>\n",
       "    <tr>\n",
       "      <th>38</th>\n",
       "      <td>2022-12-13</td>\n",
       "      <td>1720149</td>\n",
       "      <td>44</td>\n",
       "      <td>3164.25</td>\n",
       "      <td>1884.28</td>\n",
       "      <td>444.0</td>\n",
       "      <td>5925.0</td>\n",
       "    </tr>\n",
       "    <tr>\n",
       "      <th>39</th>\n",
       "      <td>2022-12-16</td>\n",
       "      <td>1720148</td>\n",
       "      <td>10</td>\n",
       "      <td>812.90</td>\n",
       "      <td>240.33</td>\n",
       "      <td>333.0</td>\n",
       "      <td>1100.0</td>\n",
       "    </tr>\n",
       "    <tr>\n",
       "      <th>40</th>\n",
       "      <td>2022-12-16</td>\n",
       "      <td>1720150</td>\n",
       "      <td>5</td>\n",
       "      <td>1093.60</td>\n",
       "      <td>318.25</td>\n",
       "      <td>700.0</td>\n",
       "      <td>1500.0</td>\n",
       "    </tr>\n",
       "    <tr>\n",
       "      <th>41</th>\n",
       "      <td>2022-12-16</td>\n",
       "      <td>1721860</td>\n",
       "      <td>6</td>\n",
       "      <td>653.00</td>\n",
       "      <td>251.25</td>\n",
       "      <td>222.0</td>\n",
       "      <td>888.0</td>\n",
       "    </tr>\n",
       "  </tbody>\n",
       "</table>\n",
       "</div>"
      ],
      "text/plain": [
       "   auction_date  auction_id  bid_count  bid_amount_mean  bid_amount_std  \\\n",
       "0    2022-09-10     1500000         12           492.83          393.04   \n",
       "1    2022-09-13     1640483         40          1749.10          995.49   \n",
       "2    2022-09-13     1640484          4           153.00           43.73   \n",
       "3    2022-09-13     1640485         24          1325.33          833.02   \n",
       "4    2022-09-13     1640486         27           943.11          659.72   \n",
       "5    2022-09-13     1640487          8           397.12          202.39   \n",
       "6    2022-09-13     1640488         16           534.81          286.72   \n",
       "7    2022-09-16     1646151         11           977.82          675.35   \n",
       "8    2022-09-16     1646152         11           688.18          395.27   \n",
       "9    2022-09-23     1651870         16           875.69          494.09   \n",
       "10   2022-09-23     1651871         23          1586.61          740.75   \n",
       "11   2022-09-23     1651872          9           977.56          596.01   \n",
       "12   2022-09-23     1651873          8           843.38          326.67   \n",
       "13   2022-09-30     1657992         11           707.18          374.82   \n",
       "14   2022-09-30     1657993          7           425.71          241.01   \n",
       "15   2022-09-30     1657994         12           416.17          232.62   \n",
       "16   2022-09-30     1657995         12           647.17          262.03   \n",
       "17   2022-10-07     1662632         21          1063.62          590.57   \n",
       "18   2022-10-07     1662633         26          1521.96          730.01   \n",
       "19   2022-10-07     1662634         27          1684.81          773.28   \n",
       "20   2022-11-01     1682364         91          2315.21         1191.87   \n",
       "21   2022-11-01     1683123         49          2508.86         1772.32   \n",
       "22   2022-11-04     1683121         16          2429.88         1417.14   \n",
       "23   2022-11-04     1683122         12          3106.50         1139.90   \n",
       "24   2022-11-15     1695053         13           703.92          381.37   \n",
       "25   2022-11-15     1695054         29          1075.72          529.40   \n",
       "26   2022-11-15     1695055         18          1169.72          622.28   \n",
       "27   2022-11-18     1695051         27           997.22          622.58   \n",
       "28   2022-11-18     1695052         20          1110.50          446.32   \n",
       "29   2022-11-22     1702663         25           835.56          393.99   \n",
       "30   2022-11-22     1702664         27           964.63          482.32   \n",
       "31   2022-12-02     1707589         14          1339.29         1383.03   \n",
       "32   2022-12-02     1708023         21           611.67          427.73   \n",
       "33   2022-12-08     1714886         10           294.90          106.93   \n",
       "34   2022-12-08     1715528          9           383.11          149.98   \n",
       "35   2022-12-08     1715530         12           347.75          164.90   \n",
       "36   2022-12-13     1720146         17          1254.35          503.62   \n",
       "37   2022-12-13     1720147         27          1531.00          787.51   \n",
       "38   2022-12-13     1720149         44          3164.25         1884.28   \n",
       "39   2022-12-16     1720148         10           812.90          240.33   \n",
       "40   2022-12-16     1720150          5          1093.60          318.25   \n",
       "41   2022-12-16     1721860          6           653.00          251.25   \n",
       "\n",
       "    bid_amount_min  bid_amount_max  \n",
       "0             10.0          1100.0  \n",
       "1            100.0          3000.0  \n",
       "2            100.0           207.0  \n",
       "3            100.0          2521.0  \n",
       "4            100.0          2667.0  \n",
       "5            100.0           622.0  \n",
       "6            101.0           922.0  \n",
       "7            200.0          2000.0  \n",
       "8            100.0          1222.0  \n",
       "9            111.0          1500.0  \n",
       "10           111.0          2800.0  \n",
       "11           111.0          1555.0  \n",
       "12           111.0          1111.0  \n",
       "13           222.0          1444.0  \n",
       "14           111.0           777.0  \n",
       "15           111.0           815.0  \n",
       "16           111.0          1111.0  \n",
       "17           222.0          2000.0  \n",
       "18           222.0          2600.0  \n",
       "19           125.0          2888.0  \n",
       "20           150.0          4236.0  \n",
       "21           125.0          6222.0  \n",
       "22           125.0          3850.0  \n",
       "23           222.0          4000.0  \n",
       "24           111.0          1222.0  \n",
       "25           111.0          2001.0  \n",
       "26           111.0          2057.0  \n",
       "27           150.0          2200.0  \n",
       "28           222.0          1777.0  \n",
       "29           100.0          1336.0  \n",
       "30           100.0          1699.0  \n",
       "31           150.0          4000.0  \n",
       "32           125.0          2000.0  \n",
       "33           125.0           450.0  \n",
       "34           125.0           600.0  \n",
       "35           125.0           600.0  \n",
       "36           444.0          2222.0  \n",
       "37           444.0          2888.0  \n",
       "38           444.0          5925.0  \n",
       "39           333.0          1100.0  \n",
       "40           700.0          1500.0  \n",
       "41           222.0           888.0  "
      ]
     },
     "execution_count": 717,
     "metadata": {},
     "output_type": "execute_result"
    }
   ],
   "source": [
    "# Total auctions per auctions date\n",
    "df_stats_daily_auctions = df.groupby(['auction_date', 'auction_id'])\n",
    "df_stats_daily_auctions = df_stats_daily_auctions.agg({'bid_amount': ['count', 'mean', 'std', 'min', 'max']})\n",
    "df_stats_daily_auctions.columns = ['bid_count', 'bid_amount_mean', 'bid_amount_std', 'bid_amount_min', 'bid_amount_max']\n",
    "df_stats_daily_auctions = df_stats_daily_auctions.reset_index()\n",
    "df_stats_daily_auctions = df_stats_daily_auctions.fillna(0)\n",
    "df_stats_daily_auctions = df_stats_daily_auctions.round(2)\n",
    "df_stats_daily_auctions"
   ]
  },
  {
   "attachments": {},
   "cell_type": "markdown",
   "metadata": {},
   "source": [
    "- September 13th auction was the one that registered the highest auctions (6), and September 10 the lowest auctions (1)!"
   ]
  },
  {
   "cell_type": "code",
   "execution_count": 718,
   "metadata": {},
   "outputs": [
    {
     "data": {
      "application/vnd.plotly.v1+json": {
       "config": {
        "linkText": "Export to plot.ly",
        "plotlyServerURL": "https://plot.ly",
        "showLink": true
       },
       "data": [
        {
         "marker": {
          "color": "rgba(255, 153, 51, 0.6)",
          "line": {
           "color": "rgba(255, 153, 51, 1.0)",
           "width": 1
          }
         },
         "name": "None",
         "orientation": "v",
         "text": "",
         "type": "bar",
         "x": [
          "2022-09-10",
          "2022-09-13",
          "2022-09-16",
          "2022-09-23",
          "2022-09-30",
          "2022-10-07",
          "2022-11-01",
          "2022-11-04",
          "2022-11-15",
          "2022-11-18",
          "2022-11-22",
          "2022-12-02",
          "2022-12-08",
          "2022-12-13",
          "2022-12-16"
         ],
         "y": [
          1,
          6,
          2,
          4,
          4,
          3,
          2,
          2,
          3,
          2,
          2,
          2,
          3,
          3,
          3
         ]
        }
       ],
       "layout": {
        "legend": {
         "bgcolor": "#FFFFFF",
         "font": {
          "color": "#4D5663"
         }
        },
        "paper_bgcolor": "#FFFFFF",
        "plot_bgcolor": "#FFFFFF",
        "template": {
         "data": {
          "bar": [
           {
            "error_x": {
             "color": "#2a3f5f"
            },
            "error_y": {
             "color": "#2a3f5f"
            },
            "marker": {
             "line": {
              "color": "#E5ECF6",
              "width": 0.5
             },
             "pattern": {
              "fillmode": "overlay",
              "size": 10,
              "solidity": 0.2
             }
            },
            "type": "bar"
           }
          ],
          "barpolar": [
           {
            "marker": {
             "line": {
              "color": "#E5ECF6",
              "width": 0.5
             },
             "pattern": {
              "fillmode": "overlay",
              "size": 10,
              "solidity": 0.2
             }
            },
            "type": "barpolar"
           }
          ],
          "carpet": [
           {
            "aaxis": {
             "endlinecolor": "#2a3f5f",
             "gridcolor": "white",
             "linecolor": "white",
             "minorgridcolor": "white",
             "startlinecolor": "#2a3f5f"
            },
            "baxis": {
             "endlinecolor": "#2a3f5f",
             "gridcolor": "white",
             "linecolor": "white",
             "minorgridcolor": "white",
             "startlinecolor": "#2a3f5f"
            },
            "type": "carpet"
           }
          ],
          "choropleth": [
           {
            "colorbar": {
             "outlinewidth": 0,
             "ticks": ""
            },
            "type": "choropleth"
           }
          ],
          "contour": [
           {
            "colorbar": {
             "outlinewidth": 0,
             "ticks": ""
            },
            "colorscale": [
             [
              0,
              "#0d0887"
             ],
             [
              0.1111111111111111,
              "#46039f"
             ],
             [
              0.2222222222222222,
              "#7201a8"
             ],
             [
              0.3333333333333333,
              "#9c179e"
             ],
             [
              0.4444444444444444,
              "#bd3786"
             ],
             [
              0.5555555555555556,
              "#d8576b"
             ],
             [
              0.6666666666666666,
              "#ed7953"
             ],
             [
              0.7777777777777778,
              "#fb9f3a"
             ],
             [
              0.8888888888888888,
              "#fdca26"
             ],
             [
              1,
              "#f0f921"
             ]
            ],
            "type": "contour"
           }
          ],
          "contourcarpet": [
           {
            "colorbar": {
             "outlinewidth": 0,
             "ticks": ""
            },
            "type": "contourcarpet"
           }
          ],
          "heatmap": [
           {
            "colorbar": {
             "outlinewidth": 0,
             "ticks": ""
            },
            "colorscale": [
             [
              0,
              "#0d0887"
             ],
             [
              0.1111111111111111,
              "#46039f"
             ],
             [
              0.2222222222222222,
              "#7201a8"
             ],
             [
              0.3333333333333333,
              "#9c179e"
             ],
             [
              0.4444444444444444,
              "#bd3786"
             ],
             [
              0.5555555555555556,
              "#d8576b"
             ],
             [
              0.6666666666666666,
              "#ed7953"
             ],
             [
              0.7777777777777778,
              "#fb9f3a"
             ],
             [
              0.8888888888888888,
              "#fdca26"
             ],
             [
              1,
              "#f0f921"
             ]
            ],
            "type": "heatmap"
           }
          ],
          "heatmapgl": [
           {
            "colorbar": {
             "outlinewidth": 0,
             "ticks": ""
            },
            "colorscale": [
             [
              0,
              "#0d0887"
             ],
             [
              0.1111111111111111,
              "#46039f"
             ],
             [
              0.2222222222222222,
              "#7201a8"
             ],
             [
              0.3333333333333333,
              "#9c179e"
             ],
             [
              0.4444444444444444,
              "#bd3786"
             ],
             [
              0.5555555555555556,
              "#d8576b"
             ],
             [
              0.6666666666666666,
              "#ed7953"
             ],
             [
              0.7777777777777778,
              "#fb9f3a"
             ],
             [
              0.8888888888888888,
              "#fdca26"
             ],
             [
              1,
              "#f0f921"
             ]
            ],
            "type": "heatmapgl"
           }
          ],
          "histogram": [
           {
            "marker": {
             "pattern": {
              "fillmode": "overlay",
              "size": 10,
              "solidity": 0.2
             }
            },
            "type": "histogram"
           }
          ],
          "histogram2d": [
           {
            "colorbar": {
             "outlinewidth": 0,
             "ticks": ""
            },
            "colorscale": [
             [
              0,
              "#0d0887"
             ],
             [
              0.1111111111111111,
              "#46039f"
             ],
             [
              0.2222222222222222,
              "#7201a8"
             ],
             [
              0.3333333333333333,
              "#9c179e"
             ],
             [
              0.4444444444444444,
              "#bd3786"
             ],
             [
              0.5555555555555556,
              "#d8576b"
             ],
             [
              0.6666666666666666,
              "#ed7953"
             ],
             [
              0.7777777777777778,
              "#fb9f3a"
             ],
             [
              0.8888888888888888,
              "#fdca26"
             ],
             [
              1,
              "#f0f921"
             ]
            ],
            "type": "histogram2d"
           }
          ],
          "histogram2dcontour": [
           {
            "colorbar": {
             "outlinewidth": 0,
             "ticks": ""
            },
            "colorscale": [
             [
              0,
              "#0d0887"
             ],
             [
              0.1111111111111111,
              "#46039f"
             ],
             [
              0.2222222222222222,
              "#7201a8"
             ],
             [
              0.3333333333333333,
              "#9c179e"
             ],
             [
              0.4444444444444444,
              "#bd3786"
             ],
             [
              0.5555555555555556,
              "#d8576b"
             ],
             [
              0.6666666666666666,
              "#ed7953"
             ],
             [
              0.7777777777777778,
              "#fb9f3a"
             ],
             [
              0.8888888888888888,
              "#fdca26"
             ],
             [
              1,
              "#f0f921"
             ]
            ],
            "type": "histogram2dcontour"
           }
          ],
          "mesh3d": [
           {
            "colorbar": {
             "outlinewidth": 0,
             "ticks": ""
            },
            "type": "mesh3d"
           }
          ],
          "parcoords": [
           {
            "line": {
             "colorbar": {
              "outlinewidth": 0,
              "ticks": ""
             }
            },
            "type": "parcoords"
           }
          ],
          "pie": [
           {
            "automargin": true,
            "type": "pie"
           }
          ],
          "scatter": [
           {
            "fillpattern": {
             "fillmode": "overlay",
             "size": 10,
             "solidity": 0.2
            },
            "type": "scatter"
           }
          ],
          "scatter3d": [
           {
            "line": {
             "colorbar": {
              "outlinewidth": 0,
              "ticks": ""
             }
            },
            "marker": {
             "colorbar": {
              "outlinewidth": 0,
              "ticks": ""
             }
            },
            "type": "scatter3d"
           }
          ],
          "scattercarpet": [
           {
            "marker": {
             "colorbar": {
              "outlinewidth": 0,
              "ticks": ""
             }
            },
            "type": "scattercarpet"
           }
          ],
          "scattergeo": [
           {
            "marker": {
             "colorbar": {
              "outlinewidth": 0,
              "ticks": ""
             }
            },
            "type": "scattergeo"
           }
          ],
          "scattergl": [
           {
            "marker": {
             "colorbar": {
              "outlinewidth": 0,
              "ticks": ""
             }
            },
            "type": "scattergl"
           }
          ],
          "scattermapbox": [
           {
            "marker": {
             "colorbar": {
              "outlinewidth": 0,
              "ticks": ""
             }
            },
            "type": "scattermapbox"
           }
          ],
          "scatterpolar": [
           {
            "marker": {
             "colorbar": {
              "outlinewidth": 0,
              "ticks": ""
             }
            },
            "type": "scatterpolar"
           }
          ],
          "scatterpolargl": [
           {
            "marker": {
             "colorbar": {
              "outlinewidth": 0,
              "ticks": ""
             }
            },
            "type": "scatterpolargl"
           }
          ],
          "scatterternary": [
           {
            "marker": {
             "colorbar": {
              "outlinewidth": 0,
              "ticks": ""
             }
            },
            "type": "scatterternary"
           }
          ],
          "surface": [
           {
            "colorbar": {
             "outlinewidth": 0,
             "ticks": ""
            },
            "colorscale": [
             [
              0,
              "#0d0887"
             ],
             [
              0.1111111111111111,
              "#46039f"
             ],
             [
              0.2222222222222222,
              "#7201a8"
             ],
             [
              0.3333333333333333,
              "#9c179e"
             ],
             [
              0.4444444444444444,
              "#bd3786"
             ],
             [
              0.5555555555555556,
              "#d8576b"
             ],
             [
              0.6666666666666666,
              "#ed7953"
             ],
             [
              0.7777777777777778,
              "#fb9f3a"
             ],
             [
              0.8888888888888888,
              "#fdca26"
             ],
             [
              1,
              "#f0f921"
             ]
            ],
            "type": "surface"
           }
          ],
          "table": [
           {
            "cells": {
             "fill": {
              "color": "#EBF0F8"
             },
             "line": {
              "color": "white"
             }
            },
            "header": {
             "fill": {
              "color": "#C8D4E3"
             },
             "line": {
              "color": "white"
             }
            },
            "type": "table"
           }
          ]
         },
         "layout": {
          "annotationdefaults": {
           "arrowcolor": "#2a3f5f",
           "arrowhead": 0,
           "arrowwidth": 1
          },
          "autotypenumbers": "strict",
          "coloraxis": {
           "colorbar": {
            "outlinewidth": 0,
            "ticks": ""
           }
          },
          "colorscale": {
           "diverging": [
            [
             0,
             "#8e0152"
            ],
            [
             0.1,
             "#c51b7d"
            ],
            [
             0.2,
             "#de77ae"
            ],
            [
             0.3,
             "#f1b6da"
            ],
            [
             0.4,
             "#fde0ef"
            ],
            [
             0.5,
             "#f7f7f7"
            ],
            [
             0.6,
             "#e6f5d0"
            ],
            [
             0.7,
             "#b8e186"
            ],
            [
             0.8,
             "#7fbc41"
            ],
            [
             0.9,
             "#4d9221"
            ],
            [
             1,
             "#276419"
            ]
           ],
           "sequential": [
            [
             0,
             "#0d0887"
            ],
            [
             0.1111111111111111,
             "#46039f"
            ],
            [
             0.2222222222222222,
             "#7201a8"
            ],
            [
             0.3333333333333333,
             "#9c179e"
            ],
            [
             0.4444444444444444,
             "#bd3786"
            ],
            [
             0.5555555555555556,
             "#d8576b"
            ],
            [
             0.6666666666666666,
             "#ed7953"
            ],
            [
             0.7777777777777778,
             "#fb9f3a"
            ],
            [
             0.8888888888888888,
             "#fdca26"
            ],
            [
             1,
             "#f0f921"
            ]
           ],
           "sequentialminus": [
            [
             0,
             "#0d0887"
            ],
            [
             0.1111111111111111,
             "#46039f"
            ],
            [
             0.2222222222222222,
             "#7201a8"
            ],
            [
             0.3333333333333333,
             "#9c179e"
            ],
            [
             0.4444444444444444,
             "#bd3786"
            ],
            [
             0.5555555555555556,
             "#d8576b"
            ],
            [
             0.6666666666666666,
             "#ed7953"
            ],
            [
             0.7777777777777778,
             "#fb9f3a"
            ],
            [
             0.8888888888888888,
             "#fdca26"
            ],
            [
             1,
             "#f0f921"
            ]
           ]
          },
          "colorway": [
           "#636efa",
           "#EF553B",
           "#00cc96",
           "#ab63fa",
           "#FFA15A",
           "#19d3f3",
           "#FF6692",
           "#B6E880",
           "#FF97FF",
           "#FECB52"
          ],
          "font": {
           "color": "#2a3f5f"
          },
          "geo": {
           "bgcolor": "white",
           "lakecolor": "white",
           "landcolor": "#E5ECF6",
           "showlakes": true,
           "showland": true,
           "subunitcolor": "white"
          },
          "hoverlabel": {
           "align": "left"
          },
          "hovermode": "closest",
          "mapbox": {
           "style": "light"
          },
          "paper_bgcolor": "white",
          "plot_bgcolor": "#E5ECF6",
          "polar": {
           "angularaxis": {
            "gridcolor": "white",
            "linecolor": "white",
            "ticks": ""
           },
           "bgcolor": "#E5ECF6",
           "radialaxis": {
            "gridcolor": "white",
            "linecolor": "white",
            "ticks": ""
           }
          },
          "scene": {
           "xaxis": {
            "backgroundcolor": "#E5ECF6",
            "gridcolor": "white",
            "gridwidth": 2,
            "linecolor": "white",
            "showbackground": true,
            "ticks": "",
            "zerolinecolor": "white"
           },
           "yaxis": {
            "backgroundcolor": "#E5ECF6",
            "gridcolor": "white",
            "gridwidth": 2,
            "linecolor": "white",
            "showbackground": true,
            "ticks": "",
            "zerolinecolor": "white"
           },
           "zaxis": {
            "backgroundcolor": "#E5ECF6",
            "gridcolor": "white",
            "gridwidth": 2,
            "linecolor": "white",
            "showbackground": true,
            "ticks": "",
            "zerolinecolor": "white"
           }
          },
          "shapedefaults": {
           "line": {
            "color": "#2a3f5f"
           }
          },
          "ternary": {
           "aaxis": {
            "gridcolor": "white",
            "linecolor": "white",
            "ticks": ""
           },
           "baxis": {
            "gridcolor": "white",
            "linecolor": "white",
            "ticks": ""
           },
           "bgcolor": "#E5ECF6",
           "caxis": {
            "gridcolor": "white",
            "linecolor": "white",
            "ticks": ""
           }
          },
          "title": {
           "x": 0.05
          },
          "xaxis": {
           "automargin": true,
           "gridcolor": "white",
           "linecolor": "white",
           "ticks": "",
           "title": {
            "standoff": 15
           },
           "zerolinecolor": "white",
           "zerolinewidth": 2
          },
          "yaxis": {
           "automargin": true,
           "gridcolor": "white",
           "linecolor": "white",
           "ticks": "",
           "title": {
            "standoff": 15
           },
           "zerolinecolor": "white",
           "zerolinewidth": 2
          }
         }
        },
        "title": {
         "font": {
          "color": "#4D5663"
         },
         "text": "Total auctions per auction date"
        },
        "xaxis": {
         "gridcolor": "#E1E5ED",
         "showgrid": true,
         "tickfont": {
          "color": "#4D5663"
         },
         "title": {
          "font": {
           "color": "#4D5663"
          },
          "text": ""
         },
         "zerolinecolor": "#E1E5ED"
        },
        "yaxis": {
         "gridcolor": "#E1E5ED",
         "showgrid": true,
         "tickfont": {
          "color": "#4D5663"
         },
         "title": {
          "font": {
           "color": "#4D5663"
          },
          "text": "Count"
         },
         "zerolinecolor": "#E1E5ED"
        }
       }
      },
      "text/html": [
       "<div>                            <div id=\"ea45bf4b-09c6-46c0-ae3b-4b23101fd903\" class=\"plotly-graph-div\" style=\"height:525px; width:100%;\"></div>            <script type=\"text/javascript\">                require([\"plotly\"], function(Plotly) {                    window.PLOTLYENV=window.PLOTLYENV || {};\n",
       "                    window.PLOTLYENV.BASE_URL='https://plot.ly';                                    if (document.getElementById(\"ea45bf4b-09c6-46c0-ae3b-4b23101fd903\")) {                    Plotly.newPlot(                        \"ea45bf4b-09c6-46c0-ae3b-4b23101fd903\",                        [{\"marker\":{\"color\":\"rgba(255, 153, 51, 0.6)\",\"line\":{\"color\":\"rgba(255, 153, 51, 1.0)\",\"width\":1}},\"name\":\"None\",\"orientation\":\"v\",\"text\":\"\",\"x\":[\"2022-09-10\",\"2022-09-13\",\"2022-09-16\",\"2022-09-23\",\"2022-09-30\",\"2022-10-07\",\"2022-11-01\",\"2022-11-04\",\"2022-11-15\",\"2022-11-18\",\"2022-11-22\",\"2022-12-02\",\"2022-12-08\",\"2022-12-13\",\"2022-12-16\"],\"y\":[1,6,2,4,4,3,2,2,3,2,2,2,3,3,3],\"type\":\"bar\"}],                        {\"legend\":{\"bgcolor\":\"#FFFFFF\",\"font\":{\"color\":\"#4D5663\"}},\"paper_bgcolor\":\"#FFFFFF\",\"plot_bgcolor\":\"#FFFFFF\",\"template\":{\"data\":{\"barpolar\":[{\"marker\":{\"line\":{\"color\":\"#E5ECF6\",\"width\":0.5},\"pattern\":{\"fillmode\":\"overlay\",\"size\":10,\"solidity\":0.2}},\"type\":\"barpolar\"}],\"bar\":[{\"error_x\":{\"color\":\"#2a3f5f\"},\"error_y\":{\"color\":\"#2a3f5f\"},\"marker\":{\"line\":{\"color\":\"#E5ECF6\",\"width\":0.5},\"pattern\":{\"fillmode\":\"overlay\",\"size\":10,\"solidity\":0.2}},\"type\":\"bar\"}],\"carpet\":[{\"aaxis\":{\"endlinecolor\":\"#2a3f5f\",\"gridcolor\":\"white\",\"linecolor\":\"white\",\"minorgridcolor\":\"white\",\"startlinecolor\":\"#2a3f5f\"},\"baxis\":{\"endlinecolor\":\"#2a3f5f\",\"gridcolor\":\"white\",\"linecolor\":\"white\",\"minorgridcolor\":\"white\",\"startlinecolor\":\"#2a3f5f\"},\"type\":\"carpet\"}],\"choropleth\":[{\"colorbar\":{\"outlinewidth\":0,\"ticks\":\"\"},\"type\":\"choropleth\"}],\"contourcarpet\":[{\"colorbar\":{\"outlinewidth\":0,\"ticks\":\"\"},\"type\":\"contourcarpet\"}],\"contour\":[{\"colorbar\":{\"outlinewidth\":0,\"ticks\":\"\"},\"colorscale\":[[0.0,\"#0d0887\"],[0.1111111111111111,\"#46039f\"],[0.2222222222222222,\"#7201a8\"],[0.3333333333333333,\"#9c179e\"],[0.4444444444444444,\"#bd3786\"],[0.5555555555555556,\"#d8576b\"],[0.6666666666666666,\"#ed7953\"],[0.7777777777777778,\"#fb9f3a\"],[0.8888888888888888,\"#fdca26\"],[1.0,\"#f0f921\"]],\"type\":\"contour\"}],\"heatmapgl\":[{\"colorbar\":{\"outlinewidth\":0,\"ticks\":\"\"},\"colorscale\":[[0.0,\"#0d0887\"],[0.1111111111111111,\"#46039f\"],[0.2222222222222222,\"#7201a8\"],[0.3333333333333333,\"#9c179e\"],[0.4444444444444444,\"#bd3786\"],[0.5555555555555556,\"#d8576b\"],[0.6666666666666666,\"#ed7953\"],[0.7777777777777778,\"#fb9f3a\"],[0.8888888888888888,\"#fdca26\"],[1.0,\"#f0f921\"]],\"type\":\"heatmapgl\"}],\"heatmap\":[{\"colorbar\":{\"outlinewidth\":0,\"ticks\":\"\"},\"colorscale\":[[0.0,\"#0d0887\"],[0.1111111111111111,\"#46039f\"],[0.2222222222222222,\"#7201a8\"],[0.3333333333333333,\"#9c179e\"],[0.4444444444444444,\"#bd3786\"],[0.5555555555555556,\"#d8576b\"],[0.6666666666666666,\"#ed7953\"],[0.7777777777777778,\"#fb9f3a\"],[0.8888888888888888,\"#fdca26\"],[1.0,\"#f0f921\"]],\"type\":\"heatmap\"}],\"histogram2dcontour\":[{\"colorbar\":{\"outlinewidth\":0,\"ticks\":\"\"},\"colorscale\":[[0.0,\"#0d0887\"],[0.1111111111111111,\"#46039f\"],[0.2222222222222222,\"#7201a8\"],[0.3333333333333333,\"#9c179e\"],[0.4444444444444444,\"#bd3786\"],[0.5555555555555556,\"#d8576b\"],[0.6666666666666666,\"#ed7953\"],[0.7777777777777778,\"#fb9f3a\"],[0.8888888888888888,\"#fdca26\"],[1.0,\"#f0f921\"]],\"type\":\"histogram2dcontour\"}],\"histogram2d\":[{\"colorbar\":{\"outlinewidth\":0,\"ticks\":\"\"},\"colorscale\":[[0.0,\"#0d0887\"],[0.1111111111111111,\"#46039f\"],[0.2222222222222222,\"#7201a8\"],[0.3333333333333333,\"#9c179e\"],[0.4444444444444444,\"#bd3786\"],[0.5555555555555556,\"#d8576b\"],[0.6666666666666666,\"#ed7953\"],[0.7777777777777778,\"#fb9f3a\"],[0.8888888888888888,\"#fdca26\"],[1.0,\"#f0f921\"]],\"type\":\"histogram2d\"}],\"histogram\":[{\"marker\":{\"pattern\":{\"fillmode\":\"overlay\",\"size\":10,\"solidity\":0.2}},\"type\":\"histogram\"}],\"mesh3d\":[{\"colorbar\":{\"outlinewidth\":0,\"ticks\":\"\"},\"type\":\"mesh3d\"}],\"parcoords\":[{\"line\":{\"colorbar\":{\"outlinewidth\":0,\"ticks\":\"\"}},\"type\":\"parcoords\"}],\"pie\":[{\"automargin\":true,\"type\":\"pie\"}],\"scatter3d\":[{\"line\":{\"colorbar\":{\"outlinewidth\":0,\"ticks\":\"\"}},\"marker\":{\"colorbar\":{\"outlinewidth\":0,\"ticks\":\"\"}},\"type\":\"scatter3d\"}],\"scattercarpet\":[{\"marker\":{\"colorbar\":{\"outlinewidth\":0,\"ticks\":\"\"}},\"type\":\"scattercarpet\"}],\"scattergeo\":[{\"marker\":{\"colorbar\":{\"outlinewidth\":0,\"ticks\":\"\"}},\"type\":\"scattergeo\"}],\"scattergl\":[{\"marker\":{\"colorbar\":{\"outlinewidth\":0,\"ticks\":\"\"}},\"type\":\"scattergl\"}],\"scattermapbox\":[{\"marker\":{\"colorbar\":{\"outlinewidth\":0,\"ticks\":\"\"}},\"type\":\"scattermapbox\"}],\"scatterpolargl\":[{\"marker\":{\"colorbar\":{\"outlinewidth\":0,\"ticks\":\"\"}},\"type\":\"scatterpolargl\"}],\"scatterpolar\":[{\"marker\":{\"colorbar\":{\"outlinewidth\":0,\"ticks\":\"\"}},\"type\":\"scatterpolar\"}],\"scatter\":[{\"fillpattern\":{\"fillmode\":\"overlay\",\"size\":10,\"solidity\":0.2},\"type\":\"scatter\"}],\"scatterternary\":[{\"marker\":{\"colorbar\":{\"outlinewidth\":0,\"ticks\":\"\"}},\"type\":\"scatterternary\"}],\"surface\":[{\"colorbar\":{\"outlinewidth\":0,\"ticks\":\"\"},\"colorscale\":[[0.0,\"#0d0887\"],[0.1111111111111111,\"#46039f\"],[0.2222222222222222,\"#7201a8\"],[0.3333333333333333,\"#9c179e\"],[0.4444444444444444,\"#bd3786\"],[0.5555555555555556,\"#d8576b\"],[0.6666666666666666,\"#ed7953\"],[0.7777777777777778,\"#fb9f3a\"],[0.8888888888888888,\"#fdca26\"],[1.0,\"#f0f921\"]],\"type\":\"surface\"}],\"table\":[{\"cells\":{\"fill\":{\"color\":\"#EBF0F8\"},\"line\":{\"color\":\"white\"}},\"header\":{\"fill\":{\"color\":\"#C8D4E3\"},\"line\":{\"color\":\"white\"}},\"type\":\"table\"}]},\"layout\":{\"annotationdefaults\":{\"arrowcolor\":\"#2a3f5f\",\"arrowhead\":0,\"arrowwidth\":1},\"autotypenumbers\":\"strict\",\"coloraxis\":{\"colorbar\":{\"outlinewidth\":0,\"ticks\":\"\"}},\"colorscale\":{\"diverging\":[[0,\"#8e0152\"],[0.1,\"#c51b7d\"],[0.2,\"#de77ae\"],[0.3,\"#f1b6da\"],[0.4,\"#fde0ef\"],[0.5,\"#f7f7f7\"],[0.6,\"#e6f5d0\"],[0.7,\"#b8e186\"],[0.8,\"#7fbc41\"],[0.9,\"#4d9221\"],[1,\"#276419\"]],\"sequential\":[[0.0,\"#0d0887\"],[0.1111111111111111,\"#46039f\"],[0.2222222222222222,\"#7201a8\"],[0.3333333333333333,\"#9c179e\"],[0.4444444444444444,\"#bd3786\"],[0.5555555555555556,\"#d8576b\"],[0.6666666666666666,\"#ed7953\"],[0.7777777777777778,\"#fb9f3a\"],[0.8888888888888888,\"#fdca26\"],[1.0,\"#f0f921\"]],\"sequentialminus\":[[0.0,\"#0d0887\"],[0.1111111111111111,\"#46039f\"],[0.2222222222222222,\"#7201a8\"],[0.3333333333333333,\"#9c179e\"],[0.4444444444444444,\"#bd3786\"],[0.5555555555555556,\"#d8576b\"],[0.6666666666666666,\"#ed7953\"],[0.7777777777777778,\"#fb9f3a\"],[0.8888888888888888,\"#fdca26\"],[1.0,\"#f0f921\"]]},\"colorway\":[\"#636efa\",\"#EF553B\",\"#00cc96\",\"#ab63fa\",\"#FFA15A\",\"#19d3f3\",\"#FF6692\",\"#B6E880\",\"#FF97FF\",\"#FECB52\"],\"font\":{\"color\":\"#2a3f5f\"},\"geo\":{\"bgcolor\":\"white\",\"lakecolor\":\"white\",\"landcolor\":\"#E5ECF6\",\"showlakes\":true,\"showland\":true,\"subunitcolor\":\"white\"},\"hoverlabel\":{\"align\":\"left\"},\"hovermode\":\"closest\",\"mapbox\":{\"style\":\"light\"},\"paper_bgcolor\":\"white\",\"plot_bgcolor\":\"#E5ECF6\",\"polar\":{\"angularaxis\":{\"gridcolor\":\"white\",\"linecolor\":\"white\",\"ticks\":\"\"},\"bgcolor\":\"#E5ECF6\",\"radialaxis\":{\"gridcolor\":\"white\",\"linecolor\":\"white\",\"ticks\":\"\"}},\"scene\":{\"xaxis\":{\"backgroundcolor\":\"#E5ECF6\",\"gridcolor\":\"white\",\"gridwidth\":2,\"linecolor\":\"white\",\"showbackground\":true,\"ticks\":\"\",\"zerolinecolor\":\"white\"},\"yaxis\":{\"backgroundcolor\":\"#E5ECF6\",\"gridcolor\":\"white\",\"gridwidth\":2,\"linecolor\":\"white\",\"showbackground\":true,\"ticks\":\"\",\"zerolinecolor\":\"white\"},\"zaxis\":{\"backgroundcolor\":\"#E5ECF6\",\"gridcolor\":\"white\",\"gridwidth\":2,\"linecolor\":\"white\",\"showbackground\":true,\"ticks\":\"\",\"zerolinecolor\":\"white\"}},\"shapedefaults\":{\"line\":{\"color\":\"#2a3f5f\"}},\"ternary\":{\"aaxis\":{\"gridcolor\":\"white\",\"linecolor\":\"white\",\"ticks\":\"\"},\"baxis\":{\"gridcolor\":\"white\",\"linecolor\":\"white\",\"ticks\":\"\"},\"bgcolor\":\"#E5ECF6\",\"caxis\":{\"gridcolor\":\"white\",\"linecolor\":\"white\",\"ticks\":\"\"}},\"title\":{\"x\":0.05},\"xaxis\":{\"automargin\":true,\"gridcolor\":\"white\",\"linecolor\":\"white\",\"ticks\":\"\",\"title\":{\"standoff\":15},\"zerolinecolor\":\"white\",\"zerolinewidth\":2},\"yaxis\":{\"automargin\":true,\"gridcolor\":\"white\",\"linecolor\":\"white\",\"ticks\":\"\",\"title\":{\"standoff\":15},\"zerolinecolor\":\"white\",\"zerolinewidth\":2}}},\"title\":{\"font\":{\"color\":\"#4D5663\"},\"text\":\"Total auctions per auction date\"},\"xaxis\":{\"gridcolor\":\"#E1E5ED\",\"showgrid\":true,\"tickfont\":{\"color\":\"#4D5663\"},\"title\":{\"font\":{\"color\":\"#4D5663\"},\"text\":\"\"},\"zerolinecolor\":\"#E1E5ED\"},\"yaxis\":{\"gridcolor\":\"#E1E5ED\",\"showgrid\":true,\"tickfont\":{\"color\":\"#4D5663\"},\"title\":{\"font\":{\"color\":\"#4D5663\"},\"text\":\"Count\"},\"zerolinecolor\":\"#E1E5ED\"}},                        {\"showLink\": true, \"linkText\": \"Export to plot.ly\", \"plotlyServerURL\": \"https://plot.ly\", \"responsive\": true}                    ).then(function(){\n",
       "                            \n",
       "var gd = document.getElementById('ea45bf4b-09c6-46c0-ae3b-4b23101fd903');\n",
       "var x = new MutationObserver(function (mutations, observer) {{\n",
       "        var display = window.getComputedStyle(gd).display;\n",
       "        if (!display || display === 'none') {{\n",
       "            console.log([gd, 'removed!']);\n",
       "            Plotly.purge(gd);\n",
       "            observer.disconnect();\n",
       "        }}\n",
       "}});\n",
       "\n",
       "// Listen for the removal of the full notebook cells\n",
       "var notebookContainer = gd.closest('#notebook-container');\n",
       "if (notebookContainer) {{\n",
       "    x.observe(notebookContainer, {childList: true});\n",
       "}}\n",
       "\n",
       "// Listen for the clearing of the current output cell\n",
       "var outputEl = gd.closest('.output');\n",
       "if (outputEl) {{\n",
       "    x.observe(outputEl, {childList: true});\n",
       "}}\n",
       "\n",
       "                        })                };                });            </script>        </div>"
      ]
     },
     "metadata": {},
     "output_type": "display_data"
    }
   ],
   "source": [
    "# Total auctions per auction date plot\n",
    "df_stats_daily_auctions = df_stats_daily_auctions.pivot(columns='auction_date', values='auction_id').T.count(axis=1)\n",
    "df_stats_daily_auctions.iplot(kind='bar', yTitle='Count', title='Total auctions per auction date')"
   ]
  },
  {
   "attachments": {},
   "cell_type": "markdown",
   "metadata": {},
   "source": [
    "- With that in mind, it's intriguing to know which categories were the most requested, don't you think?"
   ]
  },
  {
   "cell_type": "code",
   "execution_count": 719,
   "metadata": {},
   "outputs": [
    {
     "data": {
      "text/html": [
       "<div>\n",
       "<style scoped>\n",
       "    .dataframe tbody tr th:only-of-type {\n",
       "        vertical-align: middle;\n",
       "    }\n",
       "\n",
       "    .dataframe tbody tr th {\n",
       "        vertical-align: top;\n",
       "    }\n",
       "\n",
       "    .dataframe thead th {\n",
       "        text-align: right;\n",
       "    }\n",
       "</style>\n",
       "<table border=\"1\" class=\"dataframe\">\n",
       "  <thead>\n",
       "    <tr style=\"text-align: right;\">\n",
       "      <th></th>\n",
       "      <th>auction_date</th>\n",
       "      <th>auction_id</th>\n",
       "      <th>bstock_category_name</th>\n",
       "      <th>bid_count</th>\n",
       "      <th>bid_amount_mean</th>\n",
       "      <th>bid_amount_std</th>\n",
       "      <th>bid_amount_min</th>\n",
       "      <th>bid_amount_max</th>\n",
       "    </tr>\n",
       "  </thead>\n",
       "  <tbody>\n",
       "    <tr>\n",
       "      <th>0</th>\n",
       "      <td>2022-09-10</td>\n",
       "      <td>1500000</td>\n",
       "      <td>Apparel, Footwear &amp; Accessories</td>\n",
       "      <td>12</td>\n",
       "      <td>492.83</td>\n",
       "      <td>393.04</td>\n",
       "      <td>10.0</td>\n",
       "      <td>1100.0</td>\n",
       "    </tr>\n",
       "    <tr>\n",
       "      <th>1</th>\n",
       "      <td>2022-09-13</td>\n",
       "      <td>1640483</td>\n",
       "      <td>Apparel, Footwear &amp; Accessories</td>\n",
       "      <td>40</td>\n",
       "      <td>1749.10</td>\n",
       "      <td>995.49</td>\n",
       "      <td>100.0</td>\n",
       "      <td>3000.0</td>\n",
       "    </tr>\n",
       "    <tr>\n",
       "      <th>2</th>\n",
       "      <td>2022-09-13</td>\n",
       "      <td>1640484</td>\n",
       "      <td>Apparel, Footwear &amp; Accessories</td>\n",
       "      <td>4</td>\n",
       "      <td>153.00</td>\n",
       "      <td>43.73</td>\n",
       "      <td>100.0</td>\n",
       "      <td>207.0</td>\n",
       "    </tr>\n",
       "    <tr>\n",
       "      <th>3</th>\n",
       "      <td>2022-09-13</td>\n",
       "      <td>1640485</td>\n",
       "      <td>Furniture</td>\n",
       "      <td>24</td>\n",
       "      <td>1325.33</td>\n",
       "      <td>833.02</td>\n",
       "      <td>100.0</td>\n",
       "      <td>2521.0</td>\n",
       "    </tr>\n",
       "    <tr>\n",
       "      <th>4</th>\n",
       "      <td>2022-09-13</td>\n",
       "      <td>1640486</td>\n",
       "      <td>Consumer Electronics</td>\n",
       "      <td>27</td>\n",
       "      <td>943.11</td>\n",
       "      <td>659.72</td>\n",
       "      <td>100.0</td>\n",
       "      <td>2667.0</td>\n",
       "    </tr>\n",
       "    <tr>\n",
       "      <th>5</th>\n",
       "      <td>2022-09-13</td>\n",
       "      <td>1640487</td>\n",
       "      <td>Consumer Electronics</td>\n",
       "      <td>8</td>\n",
       "      <td>397.12</td>\n",
       "      <td>202.39</td>\n",
       "      <td>100.0</td>\n",
       "      <td>622.0</td>\n",
       "    </tr>\n",
       "    <tr>\n",
       "      <th>6</th>\n",
       "      <td>2022-09-13</td>\n",
       "      <td>1640488</td>\n",
       "      <td>Consumer Electronics</td>\n",
       "      <td>16</td>\n",
       "      <td>534.81</td>\n",
       "      <td>286.72</td>\n",
       "      <td>101.0</td>\n",
       "      <td>922.0</td>\n",
       "    </tr>\n",
       "    <tr>\n",
       "      <th>7</th>\n",
       "      <td>2022-09-16</td>\n",
       "      <td>1646151</td>\n",
       "      <td>Consumer Electronics</td>\n",
       "      <td>11</td>\n",
       "      <td>977.82</td>\n",
       "      <td>675.35</td>\n",
       "      <td>200.0</td>\n",
       "      <td>2000.0</td>\n",
       "    </tr>\n",
       "    <tr>\n",
       "      <th>8</th>\n",
       "      <td>2022-09-16</td>\n",
       "      <td>1646152</td>\n",
       "      <td>Apparel, Footwear &amp; Accessories</td>\n",
       "      <td>11</td>\n",
       "      <td>688.18</td>\n",
       "      <td>395.27</td>\n",
       "      <td>100.0</td>\n",
       "      <td>1222.0</td>\n",
       "    </tr>\n",
       "    <tr>\n",
       "      <th>9</th>\n",
       "      <td>2022-09-23</td>\n",
       "      <td>1651870</td>\n",
       "      <td>Apparel, Footwear &amp; Accessories</td>\n",
       "      <td>16</td>\n",
       "      <td>875.69</td>\n",
       "      <td>494.09</td>\n",
       "      <td>111.0</td>\n",
       "      <td>1500.0</td>\n",
       "    </tr>\n",
       "    <tr>\n",
       "      <th>10</th>\n",
       "      <td>2022-09-23</td>\n",
       "      <td>1651871</td>\n",
       "      <td>Apparel, Footwear &amp; Accessories</td>\n",
       "      <td>23</td>\n",
       "      <td>1586.61</td>\n",
       "      <td>740.75</td>\n",
       "      <td>111.0</td>\n",
       "      <td>2800.0</td>\n",
       "    </tr>\n",
       "    <tr>\n",
       "      <th>11</th>\n",
       "      <td>2022-09-23</td>\n",
       "      <td>1651872</td>\n",
       "      <td>Apparel, Footwear &amp; Accessories</td>\n",
       "      <td>9</td>\n",
       "      <td>977.56</td>\n",
       "      <td>596.01</td>\n",
       "      <td>111.0</td>\n",
       "      <td>1555.0</td>\n",
       "    </tr>\n",
       "    <tr>\n",
       "      <th>12</th>\n",
       "      <td>2022-09-23</td>\n",
       "      <td>1651873</td>\n",
       "      <td>Apparel, Footwear &amp; Accessories</td>\n",
       "      <td>8</td>\n",
       "      <td>843.38</td>\n",
       "      <td>326.67</td>\n",
       "      <td>111.0</td>\n",
       "      <td>1111.0</td>\n",
       "    </tr>\n",
       "    <tr>\n",
       "      <th>13</th>\n",
       "      <td>2022-09-30</td>\n",
       "      <td>1657992</td>\n",
       "      <td>Apparel, Footwear &amp; Accessories</td>\n",
       "      <td>11</td>\n",
       "      <td>707.18</td>\n",
       "      <td>374.82</td>\n",
       "      <td>222.0</td>\n",
       "      <td>1444.0</td>\n",
       "    </tr>\n",
       "    <tr>\n",
       "      <th>14</th>\n",
       "      <td>2022-09-30</td>\n",
       "      <td>1657993</td>\n",
       "      <td>Apparel, Footwear &amp; Accessories</td>\n",
       "      <td>7</td>\n",
       "      <td>425.71</td>\n",
       "      <td>241.01</td>\n",
       "      <td>111.0</td>\n",
       "      <td>777.0</td>\n",
       "    </tr>\n",
       "    <tr>\n",
       "      <th>15</th>\n",
       "      <td>2022-09-30</td>\n",
       "      <td>1657994</td>\n",
       "      <td>Apparel, Footwear &amp; Accessories</td>\n",
       "      <td>12</td>\n",
       "      <td>416.17</td>\n",
       "      <td>232.62</td>\n",
       "      <td>111.0</td>\n",
       "      <td>815.0</td>\n",
       "    </tr>\n",
       "    <tr>\n",
       "      <th>16</th>\n",
       "      <td>2022-09-30</td>\n",
       "      <td>1657995</td>\n",
       "      <td>Apparel, Footwear &amp; Accessories</td>\n",
       "      <td>12</td>\n",
       "      <td>647.17</td>\n",
       "      <td>262.03</td>\n",
       "      <td>111.0</td>\n",
       "      <td>1111.0</td>\n",
       "    </tr>\n",
       "    <tr>\n",
       "      <th>17</th>\n",
       "      <td>2022-10-07</td>\n",
       "      <td>1662632</td>\n",
       "      <td>Apparel, Footwear &amp; Accessories</td>\n",
       "      <td>21</td>\n",
       "      <td>1063.62</td>\n",
       "      <td>590.57</td>\n",
       "      <td>222.0</td>\n",
       "      <td>2000.0</td>\n",
       "    </tr>\n",
       "    <tr>\n",
       "      <th>18</th>\n",
       "      <td>2022-10-07</td>\n",
       "      <td>1662633</td>\n",
       "      <td>Apparel, Footwear &amp; Accessories</td>\n",
       "      <td>26</td>\n",
       "      <td>1521.96</td>\n",
       "      <td>730.01</td>\n",
       "      <td>222.0</td>\n",
       "      <td>2600.0</td>\n",
       "    </tr>\n",
       "    <tr>\n",
       "      <th>19</th>\n",
       "      <td>2022-10-07</td>\n",
       "      <td>1662634</td>\n",
       "      <td>Apparel, Footwear &amp; Accessories</td>\n",
       "      <td>27</td>\n",
       "      <td>1684.81</td>\n",
       "      <td>773.28</td>\n",
       "      <td>125.0</td>\n",
       "      <td>2888.0</td>\n",
       "    </tr>\n",
       "    <tr>\n",
       "      <th>20</th>\n",
       "      <td>2022-11-01</td>\n",
       "      <td>1682364</td>\n",
       "      <td>Apparel, Footwear &amp; Accessories</td>\n",
       "      <td>91</td>\n",
       "      <td>2315.21</td>\n",
       "      <td>1191.87</td>\n",
       "      <td>150.0</td>\n",
       "      <td>4236.0</td>\n",
       "    </tr>\n",
       "    <tr>\n",
       "      <th>21</th>\n",
       "      <td>2022-11-01</td>\n",
       "      <td>1683123</td>\n",
       "      <td>Apparel, Footwear &amp; Accessories</td>\n",
       "      <td>49</td>\n",
       "      <td>2508.86</td>\n",
       "      <td>1772.32</td>\n",
       "      <td>125.0</td>\n",
       "      <td>6222.0</td>\n",
       "    </tr>\n",
       "    <tr>\n",
       "      <th>22</th>\n",
       "      <td>2022-11-04</td>\n",
       "      <td>1683121</td>\n",
       "      <td>Apparel, Footwear &amp; Accessories</td>\n",
       "      <td>16</td>\n",
       "      <td>2429.88</td>\n",
       "      <td>1417.14</td>\n",
       "      <td>125.0</td>\n",
       "      <td>3850.0</td>\n",
       "    </tr>\n",
       "    <tr>\n",
       "      <th>23</th>\n",
       "      <td>2022-11-04</td>\n",
       "      <td>1683122</td>\n",
       "      <td>Apparel, Footwear &amp; Accessories</td>\n",
       "      <td>12</td>\n",
       "      <td>3106.50</td>\n",
       "      <td>1139.90</td>\n",
       "      <td>222.0</td>\n",
       "      <td>4000.0</td>\n",
       "    </tr>\n",
       "    <tr>\n",
       "      <th>24</th>\n",
       "      <td>2022-11-15</td>\n",
       "      <td>1695053</td>\n",
       "      <td>Apparel, Footwear &amp; Accessories</td>\n",
       "      <td>13</td>\n",
       "      <td>703.92</td>\n",
       "      <td>381.37</td>\n",
       "      <td>111.0</td>\n",
       "      <td>1222.0</td>\n",
       "    </tr>\n",
       "    <tr>\n",
       "      <th>25</th>\n",
       "      <td>2022-11-15</td>\n",
       "      <td>1695054</td>\n",
       "      <td>Apparel, Footwear &amp; Accessories</td>\n",
       "      <td>29</td>\n",
       "      <td>1075.72</td>\n",
       "      <td>529.40</td>\n",
       "      <td>111.0</td>\n",
       "      <td>2001.0</td>\n",
       "    </tr>\n",
       "    <tr>\n",
       "      <th>26</th>\n",
       "      <td>2022-11-15</td>\n",
       "      <td>1695055</td>\n",
       "      <td>Apparel, Footwear &amp; Accessories</td>\n",
       "      <td>18</td>\n",
       "      <td>1169.72</td>\n",
       "      <td>622.28</td>\n",
       "      <td>111.0</td>\n",
       "      <td>2057.0</td>\n",
       "    </tr>\n",
       "    <tr>\n",
       "      <th>27</th>\n",
       "      <td>2022-11-18</td>\n",
       "      <td>1695051</td>\n",
       "      <td>Apparel, Footwear &amp; Accessories</td>\n",
       "      <td>27</td>\n",
       "      <td>997.22</td>\n",
       "      <td>622.58</td>\n",
       "      <td>150.0</td>\n",
       "      <td>2200.0</td>\n",
       "    </tr>\n",
       "    <tr>\n",
       "      <th>28</th>\n",
       "      <td>2022-11-18</td>\n",
       "      <td>1695052</td>\n",
       "      <td>Apparel, Footwear &amp; Accessories</td>\n",
       "      <td>20</td>\n",
       "      <td>1110.50</td>\n",
       "      <td>446.32</td>\n",
       "      <td>222.0</td>\n",
       "      <td>1777.0</td>\n",
       "    </tr>\n",
       "    <tr>\n",
       "      <th>29</th>\n",
       "      <td>2022-11-22</td>\n",
       "      <td>1702663</td>\n",
       "      <td>Apparel, Footwear &amp; Accessories</td>\n",
       "      <td>25</td>\n",
       "      <td>835.56</td>\n",
       "      <td>393.99</td>\n",
       "      <td>100.0</td>\n",
       "      <td>1336.0</td>\n",
       "    </tr>\n",
       "    <tr>\n",
       "      <th>30</th>\n",
       "      <td>2022-11-22</td>\n",
       "      <td>1702664</td>\n",
       "      <td>Apparel, Footwear &amp; Accessories</td>\n",
       "      <td>27</td>\n",
       "      <td>964.63</td>\n",
       "      <td>482.32</td>\n",
       "      <td>100.0</td>\n",
       "      <td>1699.0</td>\n",
       "    </tr>\n",
       "    <tr>\n",
       "      <th>31</th>\n",
       "      <td>2022-12-02</td>\n",
       "      <td>1707589</td>\n",
       "      <td>Apparel, Footwear &amp; Accessories</td>\n",
       "      <td>14</td>\n",
       "      <td>1339.29</td>\n",
       "      <td>1383.03</td>\n",
       "      <td>150.0</td>\n",
       "      <td>4000.0</td>\n",
       "    </tr>\n",
       "    <tr>\n",
       "      <th>32</th>\n",
       "      <td>2022-12-02</td>\n",
       "      <td>1708023</td>\n",
       "      <td>Apparel, Footwear &amp; Accessories</td>\n",
       "      <td>21</td>\n",
       "      <td>611.67</td>\n",
       "      <td>427.73</td>\n",
       "      <td>125.0</td>\n",
       "      <td>2000.0</td>\n",
       "    </tr>\n",
       "    <tr>\n",
       "      <th>33</th>\n",
       "      <td>2022-12-08</td>\n",
       "      <td>1714886</td>\n",
       "      <td>Apparel, Footwear &amp; Accessories</td>\n",
       "      <td>10</td>\n",
       "      <td>294.90</td>\n",
       "      <td>106.93</td>\n",
       "      <td>125.0</td>\n",
       "      <td>450.0</td>\n",
       "    </tr>\n",
       "    <tr>\n",
       "      <th>34</th>\n",
       "      <td>2022-12-08</td>\n",
       "      <td>1715528</td>\n",
       "      <td>Apparel, Footwear &amp; Accessories</td>\n",
       "      <td>9</td>\n",
       "      <td>383.11</td>\n",
       "      <td>149.98</td>\n",
       "      <td>125.0</td>\n",
       "      <td>600.0</td>\n",
       "    </tr>\n",
       "    <tr>\n",
       "      <th>35</th>\n",
       "      <td>2022-12-08</td>\n",
       "      <td>1715530</td>\n",
       "      <td>Apparel, Footwear &amp; Accessories</td>\n",
       "      <td>12</td>\n",
       "      <td>347.75</td>\n",
       "      <td>164.90</td>\n",
       "      <td>125.0</td>\n",
       "      <td>600.0</td>\n",
       "    </tr>\n",
       "    <tr>\n",
       "      <th>36</th>\n",
       "      <td>2022-12-13</td>\n",
       "      <td>1720146</td>\n",
       "      <td>Apparel, Footwear &amp; Accessories</td>\n",
       "      <td>17</td>\n",
       "      <td>1254.35</td>\n",
       "      <td>503.62</td>\n",
       "      <td>444.0</td>\n",
       "      <td>2222.0</td>\n",
       "    </tr>\n",
       "    <tr>\n",
       "      <th>37</th>\n",
       "      <td>2022-12-13</td>\n",
       "      <td>1720147</td>\n",
       "      <td>Apparel, Footwear &amp; Accessories</td>\n",
       "      <td>27</td>\n",
       "      <td>1531.00</td>\n",
       "      <td>787.51</td>\n",
       "      <td>444.0</td>\n",
       "      <td>2888.0</td>\n",
       "    </tr>\n",
       "    <tr>\n",
       "      <th>38</th>\n",
       "      <td>2022-12-13</td>\n",
       "      <td>1720149</td>\n",
       "      <td>Apparel, Footwear &amp; Accessories</td>\n",
       "      <td>44</td>\n",
       "      <td>3164.25</td>\n",
       "      <td>1884.28</td>\n",
       "      <td>444.0</td>\n",
       "      <td>5925.0</td>\n",
       "    </tr>\n",
       "    <tr>\n",
       "      <th>39</th>\n",
       "      <td>2022-12-16</td>\n",
       "      <td>1720148</td>\n",
       "      <td>Apparel, Footwear &amp; Accessories</td>\n",
       "      <td>10</td>\n",
       "      <td>812.90</td>\n",
       "      <td>240.33</td>\n",
       "      <td>333.0</td>\n",
       "      <td>1100.0</td>\n",
       "    </tr>\n",
       "    <tr>\n",
       "      <th>40</th>\n",
       "      <td>2022-12-16</td>\n",
       "      <td>1720150</td>\n",
       "      <td>Apparel, Footwear &amp; Accessories</td>\n",
       "      <td>5</td>\n",
       "      <td>1093.60</td>\n",
       "      <td>318.25</td>\n",
       "      <td>700.0</td>\n",
       "      <td>1500.0</td>\n",
       "    </tr>\n",
       "    <tr>\n",
       "      <th>41</th>\n",
       "      <td>2022-12-16</td>\n",
       "      <td>1721860</td>\n",
       "      <td>Apparel, Footwear &amp; Accessories</td>\n",
       "      <td>6</td>\n",
       "      <td>653.00</td>\n",
       "      <td>251.25</td>\n",
       "      <td>222.0</td>\n",
       "      <td>888.0</td>\n",
       "    </tr>\n",
       "  </tbody>\n",
       "</table>\n",
       "</div>"
      ],
      "text/plain": [
       "   auction_date  auction_id             bstock_category_name  bid_count  \\\n",
       "0    2022-09-10     1500000  Apparel, Footwear & Accessories         12   \n",
       "1    2022-09-13     1640483  Apparel, Footwear & Accessories         40   \n",
       "2    2022-09-13     1640484  Apparel, Footwear & Accessories          4   \n",
       "3    2022-09-13     1640485                        Furniture         24   \n",
       "4    2022-09-13     1640486             Consumer Electronics         27   \n",
       "5    2022-09-13     1640487             Consumer Electronics          8   \n",
       "6    2022-09-13     1640488             Consumer Electronics         16   \n",
       "7    2022-09-16     1646151             Consumer Electronics         11   \n",
       "8    2022-09-16     1646152  Apparel, Footwear & Accessories         11   \n",
       "9    2022-09-23     1651870  Apparel, Footwear & Accessories         16   \n",
       "10   2022-09-23     1651871  Apparel, Footwear & Accessories         23   \n",
       "11   2022-09-23     1651872  Apparel, Footwear & Accessories          9   \n",
       "12   2022-09-23     1651873  Apparel, Footwear & Accessories          8   \n",
       "13   2022-09-30     1657992  Apparel, Footwear & Accessories         11   \n",
       "14   2022-09-30     1657993  Apparel, Footwear & Accessories          7   \n",
       "15   2022-09-30     1657994  Apparel, Footwear & Accessories         12   \n",
       "16   2022-09-30     1657995  Apparel, Footwear & Accessories         12   \n",
       "17   2022-10-07     1662632  Apparel, Footwear & Accessories         21   \n",
       "18   2022-10-07     1662633  Apparel, Footwear & Accessories         26   \n",
       "19   2022-10-07     1662634  Apparel, Footwear & Accessories         27   \n",
       "20   2022-11-01     1682364  Apparel, Footwear & Accessories         91   \n",
       "21   2022-11-01     1683123  Apparel, Footwear & Accessories         49   \n",
       "22   2022-11-04     1683121  Apparel, Footwear & Accessories         16   \n",
       "23   2022-11-04     1683122  Apparel, Footwear & Accessories         12   \n",
       "24   2022-11-15     1695053  Apparel, Footwear & Accessories         13   \n",
       "25   2022-11-15     1695054  Apparel, Footwear & Accessories         29   \n",
       "26   2022-11-15     1695055  Apparel, Footwear & Accessories         18   \n",
       "27   2022-11-18     1695051  Apparel, Footwear & Accessories         27   \n",
       "28   2022-11-18     1695052  Apparel, Footwear & Accessories         20   \n",
       "29   2022-11-22     1702663  Apparel, Footwear & Accessories         25   \n",
       "30   2022-11-22     1702664  Apparel, Footwear & Accessories         27   \n",
       "31   2022-12-02     1707589  Apparel, Footwear & Accessories         14   \n",
       "32   2022-12-02     1708023  Apparel, Footwear & Accessories         21   \n",
       "33   2022-12-08     1714886  Apparel, Footwear & Accessories         10   \n",
       "34   2022-12-08     1715528  Apparel, Footwear & Accessories          9   \n",
       "35   2022-12-08     1715530  Apparel, Footwear & Accessories         12   \n",
       "36   2022-12-13     1720146  Apparel, Footwear & Accessories         17   \n",
       "37   2022-12-13     1720147  Apparel, Footwear & Accessories         27   \n",
       "38   2022-12-13     1720149  Apparel, Footwear & Accessories         44   \n",
       "39   2022-12-16     1720148  Apparel, Footwear & Accessories         10   \n",
       "40   2022-12-16     1720150  Apparel, Footwear & Accessories          5   \n",
       "41   2022-12-16     1721860  Apparel, Footwear & Accessories          6   \n",
       "\n",
       "    bid_amount_mean  bid_amount_std  bid_amount_min  bid_amount_max  \n",
       "0            492.83          393.04            10.0          1100.0  \n",
       "1           1749.10          995.49           100.0          3000.0  \n",
       "2            153.00           43.73           100.0           207.0  \n",
       "3           1325.33          833.02           100.0          2521.0  \n",
       "4            943.11          659.72           100.0          2667.0  \n",
       "5            397.12          202.39           100.0           622.0  \n",
       "6            534.81          286.72           101.0           922.0  \n",
       "7            977.82          675.35           200.0          2000.0  \n",
       "8            688.18          395.27           100.0          1222.0  \n",
       "9            875.69          494.09           111.0          1500.0  \n",
       "10          1586.61          740.75           111.0          2800.0  \n",
       "11           977.56          596.01           111.0          1555.0  \n",
       "12           843.38          326.67           111.0          1111.0  \n",
       "13           707.18          374.82           222.0          1444.0  \n",
       "14           425.71          241.01           111.0           777.0  \n",
       "15           416.17          232.62           111.0           815.0  \n",
       "16           647.17          262.03           111.0          1111.0  \n",
       "17          1063.62          590.57           222.0          2000.0  \n",
       "18          1521.96          730.01           222.0          2600.0  \n",
       "19          1684.81          773.28           125.0          2888.0  \n",
       "20          2315.21         1191.87           150.0          4236.0  \n",
       "21          2508.86         1772.32           125.0          6222.0  \n",
       "22          2429.88         1417.14           125.0          3850.0  \n",
       "23          3106.50         1139.90           222.0          4000.0  \n",
       "24           703.92          381.37           111.0          1222.0  \n",
       "25          1075.72          529.40           111.0          2001.0  \n",
       "26          1169.72          622.28           111.0          2057.0  \n",
       "27           997.22          622.58           150.0          2200.0  \n",
       "28          1110.50          446.32           222.0          1777.0  \n",
       "29           835.56          393.99           100.0          1336.0  \n",
       "30           964.63          482.32           100.0          1699.0  \n",
       "31          1339.29         1383.03           150.0          4000.0  \n",
       "32           611.67          427.73           125.0          2000.0  \n",
       "33           294.90          106.93           125.0           450.0  \n",
       "34           383.11          149.98           125.0           600.0  \n",
       "35           347.75          164.90           125.0           600.0  \n",
       "36          1254.35          503.62           444.0          2222.0  \n",
       "37          1531.00          787.51           444.0          2888.0  \n",
       "38          3164.25         1884.28           444.0          5925.0  \n",
       "39           812.90          240.33           333.0          1100.0  \n",
       "40          1093.60          318.25           700.0          1500.0  \n",
       "41           653.00          251.25           222.0           888.0  "
      ]
     },
     "execution_count": 719,
     "metadata": {},
     "output_type": "execute_result"
    }
   ],
   "source": [
    "# Total bids per category and auction date\n",
    "df_stats_daily_categories = df.groupby(['auction_date', 'auction_id', 'bstock_category_name'])\n",
    "df_stats_daily_categories = df_stats_daily_categories.agg({'bid_amount': ['count', 'mean', 'std', 'min', 'max']})\n",
    "df_stats_daily_categories.columns = ['bid_count', 'bid_amount_mean', 'bid_amount_std', 'bid_amount_min', 'bid_amount_max']\n",
    "df_stats_daily_categories = df_stats_daily_categories.reset_index()\n",
    "df_stats_daily_categories = df_stats_daily_categories.fillna(0)\n",
    "df_stats_daily_categories = df_stats_daily_categories.round(2)\n",
    "df_stats_daily_categories"
   ]
  },
  {
   "attachments": {},
   "cell_type": "markdown",
   "metadata": {},
   "source": [
    "- On September 13, it had the most auctions because all three categories were sold!\n",
    "- The same logic applies to the auction on September 10, it is the event with the lowest auctions (1) and only one category ('Apparel, Footwear & Accesories) was sold with a maximum of 12 bids."
   ]
  },
  {
   "attachments": {},
   "cell_type": "markdown",
   "metadata": {},
   "source": [
    "\n",
    "# Hold a second!\n",
    "- I found that on November 1st was the date with the most bids registered ever, even though there were only 2 auctions of 'Appareal, Footwear & Accesories' category!"
   ]
  },
  {
   "cell_type": "code",
   "execution_count": 720,
   "metadata": {},
   "outputs": [
    {
     "data": {
      "application/vnd.plotly.v1+json": {
       "config": {
        "plotlyServerURL": "https://plot.ly"
       },
       "data": [
        {
         "alignmentgroup": "True",
         "hovertemplate": "bstock_category_name=Apparel, Footwear & Accessories<br>auction_date=%{x}<br>bid_count=%{y}<extra></extra>",
         "legendgroup": "Apparel, Footwear & Accessories",
         "marker": {
          "color": "#636efa",
          "pattern": {
           "shape": ""
          }
         },
         "name": "Apparel, Footwear & Accessories",
         "offsetgroup": "Apparel, Footwear & Accessories",
         "orientation": "v",
         "showlegend": true,
         "textposition": "auto",
         "texttemplate": "%{y}",
         "type": "bar",
         "x": [
          "2022-09-10",
          "2022-09-13",
          "2022-09-13",
          "2022-09-16",
          "2022-09-23",
          "2022-09-23",
          "2022-09-23",
          "2022-09-23",
          "2022-09-30",
          "2022-09-30",
          "2022-09-30",
          "2022-09-30",
          "2022-10-07",
          "2022-10-07",
          "2022-10-07",
          "2022-11-01",
          "2022-11-01",
          "2022-11-04",
          "2022-11-04",
          "2022-11-15",
          "2022-11-15",
          "2022-11-15",
          "2022-11-18",
          "2022-11-18",
          "2022-11-22",
          "2022-11-22",
          "2022-12-02",
          "2022-12-02",
          "2022-12-08",
          "2022-12-08",
          "2022-12-08",
          "2022-12-13",
          "2022-12-13",
          "2022-12-13",
          "2022-12-16",
          "2022-12-16",
          "2022-12-16"
         ],
         "xaxis": "x",
         "y": [
          12,
          40,
          4,
          11,
          16,
          23,
          9,
          8,
          11,
          7,
          12,
          12,
          21,
          26,
          27,
          91,
          49,
          16,
          12,
          13,
          29,
          18,
          27,
          20,
          25,
          27,
          14,
          21,
          10,
          9,
          12,
          17,
          27,
          44,
          10,
          5,
          6
         ],
         "yaxis": "y"
        },
        {
         "alignmentgroup": "True",
         "hovertemplate": "bstock_category_name=Furniture<br>auction_date=%{x}<br>bid_count=%{y}<extra></extra>",
         "legendgroup": "Furniture",
         "marker": {
          "color": "#EF553B",
          "pattern": {
           "shape": ""
          }
         },
         "name": "Furniture",
         "offsetgroup": "Furniture",
         "orientation": "v",
         "showlegend": true,
         "textposition": "auto",
         "texttemplate": "%{y}",
         "type": "bar",
         "x": [
          "2022-09-13"
         ],
         "xaxis": "x",
         "y": [
          24
         ],
         "yaxis": "y"
        },
        {
         "alignmentgroup": "True",
         "hovertemplate": "bstock_category_name=Consumer Electronics<br>auction_date=%{x}<br>bid_count=%{y}<extra></extra>",
         "legendgroup": "Consumer Electronics",
         "marker": {
          "color": "#00cc96",
          "pattern": {
           "shape": ""
          }
         },
         "name": "Consumer Electronics",
         "offsetgroup": "Consumer Electronics",
         "orientation": "v",
         "showlegend": true,
         "textposition": "auto",
         "texttemplate": "%{y}",
         "type": "bar",
         "x": [
          "2022-09-13",
          "2022-09-13",
          "2022-09-13",
          "2022-09-16"
         ],
         "xaxis": "x",
         "y": [
          27,
          8,
          16,
          11
         ],
         "yaxis": "y"
        }
       ],
       "layout": {
        "barmode": "relative",
        "legend": {
         "title": {
          "text": "bstock_category_name"
         },
         "tracegroupgap": 0
        },
        "template": {
         "data": {
          "bar": [
           {
            "error_x": {
             "color": "#2a3f5f"
            },
            "error_y": {
             "color": "#2a3f5f"
            },
            "marker": {
             "line": {
              "color": "#E5ECF6",
              "width": 0.5
             },
             "pattern": {
              "fillmode": "overlay",
              "size": 10,
              "solidity": 0.2
             }
            },
            "type": "bar"
           }
          ],
          "barpolar": [
           {
            "marker": {
             "line": {
              "color": "#E5ECF6",
              "width": 0.5
             },
             "pattern": {
              "fillmode": "overlay",
              "size": 10,
              "solidity": 0.2
             }
            },
            "type": "barpolar"
           }
          ],
          "carpet": [
           {
            "aaxis": {
             "endlinecolor": "#2a3f5f",
             "gridcolor": "white",
             "linecolor": "white",
             "minorgridcolor": "white",
             "startlinecolor": "#2a3f5f"
            },
            "baxis": {
             "endlinecolor": "#2a3f5f",
             "gridcolor": "white",
             "linecolor": "white",
             "minorgridcolor": "white",
             "startlinecolor": "#2a3f5f"
            },
            "type": "carpet"
           }
          ],
          "choropleth": [
           {
            "colorbar": {
             "outlinewidth": 0,
             "ticks": ""
            },
            "type": "choropleth"
           }
          ],
          "contour": [
           {
            "colorbar": {
             "outlinewidth": 0,
             "ticks": ""
            },
            "colorscale": [
             [
              0,
              "#0d0887"
             ],
             [
              0.1111111111111111,
              "#46039f"
             ],
             [
              0.2222222222222222,
              "#7201a8"
             ],
             [
              0.3333333333333333,
              "#9c179e"
             ],
             [
              0.4444444444444444,
              "#bd3786"
             ],
             [
              0.5555555555555556,
              "#d8576b"
             ],
             [
              0.6666666666666666,
              "#ed7953"
             ],
             [
              0.7777777777777778,
              "#fb9f3a"
             ],
             [
              0.8888888888888888,
              "#fdca26"
             ],
             [
              1,
              "#f0f921"
             ]
            ],
            "type": "contour"
           }
          ],
          "contourcarpet": [
           {
            "colorbar": {
             "outlinewidth": 0,
             "ticks": ""
            },
            "type": "contourcarpet"
           }
          ],
          "heatmap": [
           {
            "colorbar": {
             "outlinewidth": 0,
             "ticks": ""
            },
            "colorscale": [
             [
              0,
              "#0d0887"
             ],
             [
              0.1111111111111111,
              "#46039f"
             ],
             [
              0.2222222222222222,
              "#7201a8"
             ],
             [
              0.3333333333333333,
              "#9c179e"
             ],
             [
              0.4444444444444444,
              "#bd3786"
             ],
             [
              0.5555555555555556,
              "#d8576b"
             ],
             [
              0.6666666666666666,
              "#ed7953"
             ],
             [
              0.7777777777777778,
              "#fb9f3a"
             ],
             [
              0.8888888888888888,
              "#fdca26"
             ],
             [
              1,
              "#f0f921"
             ]
            ],
            "type": "heatmap"
           }
          ],
          "heatmapgl": [
           {
            "colorbar": {
             "outlinewidth": 0,
             "ticks": ""
            },
            "colorscale": [
             [
              0,
              "#0d0887"
             ],
             [
              0.1111111111111111,
              "#46039f"
             ],
             [
              0.2222222222222222,
              "#7201a8"
             ],
             [
              0.3333333333333333,
              "#9c179e"
             ],
             [
              0.4444444444444444,
              "#bd3786"
             ],
             [
              0.5555555555555556,
              "#d8576b"
             ],
             [
              0.6666666666666666,
              "#ed7953"
             ],
             [
              0.7777777777777778,
              "#fb9f3a"
             ],
             [
              0.8888888888888888,
              "#fdca26"
             ],
             [
              1,
              "#f0f921"
             ]
            ],
            "type": "heatmapgl"
           }
          ],
          "histogram": [
           {
            "marker": {
             "pattern": {
              "fillmode": "overlay",
              "size": 10,
              "solidity": 0.2
             }
            },
            "type": "histogram"
           }
          ],
          "histogram2d": [
           {
            "colorbar": {
             "outlinewidth": 0,
             "ticks": ""
            },
            "colorscale": [
             [
              0,
              "#0d0887"
             ],
             [
              0.1111111111111111,
              "#46039f"
             ],
             [
              0.2222222222222222,
              "#7201a8"
             ],
             [
              0.3333333333333333,
              "#9c179e"
             ],
             [
              0.4444444444444444,
              "#bd3786"
             ],
             [
              0.5555555555555556,
              "#d8576b"
             ],
             [
              0.6666666666666666,
              "#ed7953"
             ],
             [
              0.7777777777777778,
              "#fb9f3a"
             ],
             [
              0.8888888888888888,
              "#fdca26"
             ],
             [
              1,
              "#f0f921"
             ]
            ],
            "type": "histogram2d"
           }
          ],
          "histogram2dcontour": [
           {
            "colorbar": {
             "outlinewidth": 0,
             "ticks": ""
            },
            "colorscale": [
             [
              0,
              "#0d0887"
             ],
             [
              0.1111111111111111,
              "#46039f"
             ],
             [
              0.2222222222222222,
              "#7201a8"
             ],
             [
              0.3333333333333333,
              "#9c179e"
             ],
             [
              0.4444444444444444,
              "#bd3786"
             ],
             [
              0.5555555555555556,
              "#d8576b"
             ],
             [
              0.6666666666666666,
              "#ed7953"
             ],
             [
              0.7777777777777778,
              "#fb9f3a"
             ],
             [
              0.8888888888888888,
              "#fdca26"
             ],
             [
              1,
              "#f0f921"
             ]
            ],
            "type": "histogram2dcontour"
           }
          ],
          "mesh3d": [
           {
            "colorbar": {
             "outlinewidth": 0,
             "ticks": ""
            },
            "type": "mesh3d"
           }
          ],
          "parcoords": [
           {
            "line": {
             "colorbar": {
              "outlinewidth": 0,
              "ticks": ""
             }
            },
            "type": "parcoords"
           }
          ],
          "pie": [
           {
            "automargin": true,
            "type": "pie"
           }
          ],
          "scatter": [
           {
            "fillpattern": {
             "fillmode": "overlay",
             "size": 10,
             "solidity": 0.2
            },
            "type": "scatter"
           }
          ],
          "scatter3d": [
           {
            "line": {
             "colorbar": {
              "outlinewidth": 0,
              "ticks": ""
             }
            },
            "marker": {
             "colorbar": {
              "outlinewidth": 0,
              "ticks": ""
             }
            },
            "type": "scatter3d"
           }
          ],
          "scattercarpet": [
           {
            "marker": {
             "colorbar": {
              "outlinewidth": 0,
              "ticks": ""
             }
            },
            "type": "scattercarpet"
           }
          ],
          "scattergeo": [
           {
            "marker": {
             "colorbar": {
              "outlinewidth": 0,
              "ticks": ""
             }
            },
            "type": "scattergeo"
           }
          ],
          "scattergl": [
           {
            "marker": {
             "colorbar": {
              "outlinewidth": 0,
              "ticks": ""
             }
            },
            "type": "scattergl"
           }
          ],
          "scattermapbox": [
           {
            "marker": {
             "colorbar": {
              "outlinewidth": 0,
              "ticks": ""
             }
            },
            "type": "scattermapbox"
           }
          ],
          "scatterpolar": [
           {
            "marker": {
             "colorbar": {
              "outlinewidth": 0,
              "ticks": ""
             }
            },
            "type": "scatterpolar"
           }
          ],
          "scatterpolargl": [
           {
            "marker": {
             "colorbar": {
              "outlinewidth": 0,
              "ticks": ""
             }
            },
            "type": "scatterpolargl"
           }
          ],
          "scatterternary": [
           {
            "marker": {
             "colorbar": {
              "outlinewidth": 0,
              "ticks": ""
             }
            },
            "type": "scatterternary"
           }
          ],
          "surface": [
           {
            "colorbar": {
             "outlinewidth": 0,
             "ticks": ""
            },
            "colorscale": [
             [
              0,
              "#0d0887"
             ],
             [
              0.1111111111111111,
              "#46039f"
             ],
             [
              0.2222222222222222,
              "#7201a8"
             ],
             [
              0.3333333333333333,
              "#9c179e"
             ],
             [
              0.4444444444444444,
              "#bd3786"
             ],
             [
              0.5555555555555556,
              "#d8576b"
             ],
             [
              0.6666666666666666,
              "#ed7953"
             ],
             [
              0.7777777777777778,
              "#fb9f3a"
             ],
             [
              0.8888888888888888,
              "#fdca26"
             ],
             [
              1,
              "#f0f921"
             ]
            ],
            "type": "surface"
           }
          ],
          "table": [
           {
            "cells": {
             "fill": {
              "color": "#EBF0F8"
             },
             "line": {
              "color": "white"
             }
            },
            "header": {
             "fill": {
              "color": "#C8D4E3"
             },
             "line": {
              "color": "white"
             }
            },
            "type": "table"
           }
          ]
         },
         "layout": {
          "annotationdefaults": {
           "arrowcolor": "#2a3f5f",
           "arrowhead": 0,
           "arrowwidth": 1
          },
          "autotypenumbers": "strict",
          "coloraxis": {
           "colorbar": {
            "outlinewidth": 0,
            "ticks": ""
           }
          },
          "colorscale": {
           "diverging": [
            [
             0,
             "#8e0152"
            ],
            [
             0.1,
             "#c51b7d"
            ],
            [
             0.2,
             "#de77ae"
            ],
            [
             0.3,
             "#f1b6da"
            ],
            [
             0.4,
             "#fde0ef"
            ],
            [
             0.5,
             "#f7f7f7"
            ],
            [
             0.6,
             "#e6f5d0"
            ],
            [
             0.7,
             "#b8e186"
            ],
            [
             0.8,
             "#7fbc41"
            ],
            [
             0.9,
             "#4d9221"
            ],
            [
             1,
             "#276419"
            ]
           ],
           "sequential": [
            [
             0,
             "#0d0887"
            ],
            [
             0.1111111111111111,
             "#46039f"
            ],
            [
             0.2222222222222222,
             "#7201a8"
            ],
            [
             0.3333333333333333,
             "#9c179e"
            ],
            [
             0.4444444444444444,
             "#bd3786"
            ],
            [
             0.5555555555555556,
             "#d8576b"
            ],
            [
             0.6666666666666666,
             "#ed7953"
            ],
            [
             0.7777777777777778,
             "#fb9f3a"
            ],
            [
             0.8888888888888888,
             "#fdca26"
            ],
            [
             1,
             "#f0f921"
            ]
           ],
           "sequentialminus": [
            [
             0,
             "#0d0887"
            ],
            [
             0.1111111111111111,
             "#46039f"
            ],
            [
             0.2222222222222222,
             "#7201a8"
            ],
            [
             0.3333333333333333,
             "#9c179e"
            ],
            [
             0.4444444444444444,
             "#bd3786"
            ],
            [
             0.5555555555555556,
             "#d8576b"
            ],
            [
             0.6666666666666666,
             "#ed7953"
            ],
            [
             0.7777777777777778,
             "#fb9f3a"
            ],
            [
             0.8888888888888888,
             "#fdca26"
            ],
            [
             1,
             "#f0f921"
            ]
           ]
          },
          "colorway": [
           "#636efa",
           "#EF553B",
           "#00cc96",
           "#ab63fa",
           "#FFA15A",
           "#19d3f3",
           "#FF6692",
           "#B6E880",
           "#FF97FF",
           "#FECB52"
          ],
          "font": {
           "color": "#2a3f5f"
          },
          "geo": {
           "bgcolor": "white",
           "lakecolor": "white",
           "landcolor": "#E5ECF6",
           "showlakes": true,
           "showland": true,
           "subunitcolor": "white"
          },
          "hoverlabel": {
           "align": "left"
          },
          "hovermode": "closest",
          "mapbox": {
           "style": "light"
          },
          "paper_bgcolor": "white",
          "plot_bgcolor": "#E5ECF6",
          "polar": {
           "angularaxis": {
            "gridcolor": "white",
            "linecolor": "white",
            "ticks": ""
           },
           "bgcolor": "#E5ECF6",
           "radialaxis": {
            "gridcolor": "white",
            "linecolor": "white",
            "ticks": ""
           }
          },
          "scene": {
           "xaxis": {
            "backgroundcolor": "#E5ECF6",
            "gridcolor": "white",
            "gridwidth": 2,
            "linecolor": "white",
            "showbackground": true,
            "ticks": "",
            "zerolinecolor": "white"
           },
           "yaxis": {
            "backgroundcolor": "#E5ECF6",
            "gridcolor": "white",
            "gridwidth": 2,
            "linecolor": "white",
            "showbackground": true,
            "ticks": "",
            "zerolinecolor": "white"
           },
           "zaxis": {
            "backgroundcolor": "#E5ECF6",
            "gridcolor": "white",
            "gridwidth": 2,
            "linecolor": "white",
            "showbackground": true,
            "ticks": "",
            "zerolinecolor": "white"
           }
          },
          "shapedefaults": {
           "line": {
            "color": "#2a3f5f"
           }
          },
          "ternary": {
           "aaxis": {
            "gridcolor": "white",
            "linecolor": "white",
            "ticks": ""
           },
           "baxis": {
            "gridcolor": "white",
            "linecolor": "white",
            "ticks": ""
           },
           "bgcolor": "#E5ECF6",
           "caxis": {
            "gridcolor": "white",
            "linecolor": "white",
            "ticks": ""
           }
          },
          "title": {
           "x": 0.05
          },
          "xaxis": {
           "automargin": true,
           "gridcolor": "white",
           "linecolor": "white",
           "ticks": "",
           "title": {
            "standoff": 15
           },
           "zerolinecolor": "white",
           "zerolinewidth": 2
          },
          "yaxis": {
           "automargin": true,
           "gridcolor": "white",
           "linecolor": "white",
           "ticks": "",
           "title": {
            "standoff": 15
           },
           "zerolinecolor": "white",
           "zerolinewidth": 2
          }
         }
        },
        "title": {
         "text": "Total bids per category and auction date (each stacked block represent an auction id)"
        },
        "xaxis": {
         "anchor": "y",
         "domain": [
          0,
          1
         ],
         "title": {
          "text": "auction_date"
         }
        },
        "yaxis": {
         "anchor": "x",
         "domain": [
          0,
          1
         ],
         "title": {
          "text": "bid_count"
         }
        }
       }
      },
      "text/html": [
       "<div>                            <div id=\"58b43ab1-801d-4afb-bac6-fae9f35c507d\" class=\"plotly-graph-div\" style=\"height:525px; width:100%;\"></div>            <script type=\"text/javascript\">                require([\"plotly\"], function(Plotly) {                    window.PLOTLYENV=window.PLOTLYENV || {};                                    if (document.getElementById(\"58b43ab1-801d-4afb-bac6-fae9f35c507d\")) {                    Plotly.newPlot(                        \"58b43ab1-801d-4afb-bac6-fae9f35c507d\",                        [{\"alignmentgroup\":\"True\",\"hovertemplate\":\"bstock_category_name=Apparel, Footwear & Accessories<br>auction_date=%{x}<br>bid_count=%{y}<extra></extra>\",\"legendgroup\":\"Apparel, Footwear & Accessories\",\"marker\":{\"color\":\"#636efa\",\"pattern\":{\"shape\":\"\"}},\"name\":\"Apparel, Footwear & Accessories\",\"offsetgroup\":\"Apparel, Footwear & Accessories\",\"orientation\":\"v\",\"showlegend\":true,\"textposition\":\"auto\",\"texttemplate\":\"%{y}\",\"x\":[\"2022-09-10\",\"2022-09-13\",\"2022-09-13\",\"2022-09-16\",\"2022-09-23\",\"2022-09-23\",\"2022-09-23\",\"2022-09-23\",\"2022-09-30\",\"2022-09-30\",\"2022-09-30\",\"2022-09-30\",\"2022-10-07\",\"2022-10-07\",\"2022-10-07\",\"2022-11-01\",\"2022-11-01\",\"2022-11-04\",\"2022-11-04\",\"2022-11-15\",\"2022-11-15\",\"2022-11-15\",\"2022-11-18\",\"2022-11-18\",\"2022-11-22\",\"2022-11-22\",\"2022-12-02\",\"2022-12-02\",\"2022-12-08\",\"2022-12-08\",\"2022-12-08\",\"2022-12-13\",\"2022-12-13\",\"2022-12-13\",\"2022-12-16\",\"2022-12-16\",\"2022-12-16\"],\"xaxis\":\"x\",\"y\":[12,40,4,11,16,23,9,8,11,7,12,12,21,26,27,91,49,16,12,13,29,18,27,20,25,27,14,21,10,9,12,17,27,44,10,5,6],\"yaxis\":\"y\",\"type\":\"bar\"},{\"alignmentgroup\":\"True\",\"hovertemplate\":\"bstock_category_name=Furniture<br>auction_date=%{x}<br>bid_count=%{y}<extra></extra>\",\"legendgroup\":\"Furniture\",\"marker\":{\"color\":\"#EF553B\",\"pattern\":{\"shape\":\"\"}},\"name\":\"Furniture\",\"offsetgroup\":\"Furniture\",\"orientation\":\"v\",\"showlegend\":true,\"textposition\":\"auto\",\"texttemplate\":\"%{y}\",\"x\":[\"2022-09-13\"],\"xaxis\":\"x\",\"y\":[24],\"yaxis\":\"y\",\"type\":\"bar\"},{\"alignmentgroup\":\"True\",\"hovertemplate\":\"bstock_category_name=Consumer Electronics<br>auction_date=%{x}<br>bid_count=%{y}<extra></extra>\",\"legendgroup\":\"Consumer Electronics\",\"marker\":{\"color\":\"#00cc96\",\"pattern\":{\"shape\":\"\"}},\"name\":\"Consumer Electronics\",\"offsetgroup\":\"Consumer Electronics\",\"orientation\":\"v\",\"showlegend\":true,\"textposition\":\"auto\",\"texttemplate\":\"%{y}\",\"x\":[\"2022-09-13\",\"2022-09-13\",\"2022-09-13\",\"2022-09-16\"],\"xaxis\":\"x\",\"y\":[27,8,16,11],\"yaxis\":\"y\",\"type\":\"bar\"}],                        {\"template\":{\"data\":{\"histogram2dcontour\":[{\"type\":\"histogram2dcontour\",\"colorbar\":{\"outlinewidth\":0,\"ticks\":\"\"},\"colorscale\":[[0.0,\"#0d0887\"],[0.1111111111111111,\"#46039f\"],[0.2222222222222222,\"#7201a8\"],[0.3333333333333333,\"#9c179e\"],[0.4444444444444444,\"#bd3786\"],[0.5555555555555556,\"#d8576b\"],[0.6666666666666666,\"#ed7953\"],[0.7777777777777778,\"#fb9f3a\"],[0.8888888888888888,\"#fdca26\"],[1.0,\"#f0f921\"]]}],\"choropleth\":[{\"type\":\"choropleth\",\"colorbar\":{\"outlinewidth\":0,\"ticks\":\"\"}}],\"histogram2d\":[{\"type\":\"histogram2d\",\"colorbar\":{\"outlinewidth\":0,\"ticks\":\"\"},\"colorscale\":[[0.0,\"#0d0887\"],[0.1111111111111111,\"#46039f\"],[0.2222222222222222,\"#7201a8\"],[0.3333333333333333,\"#9c179e\"],[0.4444444444444444,\"#bd3786\"],[0.5555555555555556,\"#d8576b\"],[0.6666666666666666,\"#ed7953\"],[0.7777777777777778,\"#fb9f3a\"],[0.8888888888888888,\"#fdca26\"],[1.0,\"#f0f921\"]]}],\"heatmap\":[{\"type\":\"heatmap\",\"colorbar\":{\"outlinewidth\":0,\"ticks\":\"\"},\"colorscale\":[[0.0,\"#0d0887\"],[0.1111111111111111,\"#46039f\"],[0.2222222222222222,\"#7201a8\"],[0.3333333333333333,\"#9c179e\"],[0.4444444444444444,\"#bd3786\"],[0.5555555555555556,\"#d8576b\"],[0.6666666666666666,\"#ed7953\"],[0.7777777777777778,\"#fb9f3a\"],[0.8888888888888888,\"#fdca26\"],[1.0,\"#f0f921\"]]}],\"heatmapgl\":[{\"type\":\"heatmapgl\",\"colorbar\":{\"outlinewidth\":0,\"ticks\":\"\"},\"colorscale\":[[0.0,\"#0d0887\"],[0.1111111111111111,\"#46039f\"],[0.2222222222222222,\"#7201a8\"],[0.3333333333333333,\"#9c179e\"],[0.4444444444444444,\"#bd3786\"],[0.5555555555555556,\"#d8576b\"],[0.6666666666666666,\"#ed7953\"],[0.7777777777777778,\"#fb9f3a\"],[0.8888888888888888,\"#fdca26\"],[1.0,\"#f0f921\"]]}],\"contourcarpet\":[{\"type\":\"contourcarpet\",\"colorbar\":{\"outlinewidth\":0,\"ticks\":\"\"}}],\"contour\":[{\"type\":\"contour\",\"colorbar\":{\"outlinewidth\":0,\"ticks\":\"\"},\"colorscale\":[[0.0,\"#0d0887\"],[0.1111111111111111,\"#46039f\"],[0.2222222222222222,\"#7201a8\"],[0.3333333333333333,\"#9c179e\"],[0.4444444444444444,\"#bd3786\"],[0.5555555555555556,\"#d8576b\"],[0.6666666666666666,\"#ed7953\"],[0.7777777777777778,\"#fb9f3a\"],[0.8888888888888888,\"#fdca26\"],[1.0,\"#f0f921\"]]}],\"surface\":[{\"type\":\"surface\",\"colorbar\":{\"outlinewidth\":0,\"ticks\":\"\"},\"colorscale\":[[0.0,\"#0d0887\"],[0.1111111111111111,\"#46039f\"],[0.2222222222222222,\"#7201a8\"],[0.3333333333333333,\"#9c179e\"],[0.4444444444444444,\"#bd3786\"],[0.5555555555555556,\"#d8576b\"],[0.6666666666666666,\"#ed7953\"],[0.7777777777777778,\"#fb9f3a\"],[0.8888888888888888,\"#fdca26\"],[1.0,\"#f0f921\"]]}],\"mesh3d\":[{\"type\":\"mesh3d\",\"colorbar\":{\"outlinewidth\":0,\"ticks\":\"\"}}],\"scatter\":[{\"fillpattern\":{\"fillmode\":\"overlay\",\"size\":10,\"solidity\":0.2},\"type\":\"scatter\"}],\"parcoords\":[{\"type\":\"parcoords\",\"line\":{\"colorbar\":{\"outlinewidth\":0,\"ticks\":\"\"}}}],\"scatterpolargl\":[{\"type\":\"scatterpolargl\",\"marker\":{\"colorbar\":{\"outlinewidth\":0,\"ticks\":\"\"}}}],\"bar\":[{\"error_x\":{\"color\":\"#2a3f5f\"},\"error_y\":{\"color\":\"#2a3f5f\"},\"marker\":{\"line\":{\"color\":\"#E5ECF6\",\"width\":0.5},\"pattern\":{\"fillmode\":\"overlay\",\"size\":10,\"solidity\":0.2}},\"type\":\"bar\"}],\"scattergeo\":[{\"type\":\"scattergeo\",\"marker\":{\"colorbar\":{\"outlinewidth\":0,\"ticks\":\"\"}}}],\"scatterpolar\":[{\"type\":\"scatterpolar\",\"marker\":{\"colorbar\":{\"outlinewidth\":0,\"ticks\":\"\"}}}],\"histogram\":[{\"marker\":{\"pattern\":{\"fillmode\":\"overlay\",\"size\":10,\"solidity\":0.2}},\"type\":\"histogram\"}],\"scattergl\":[{\"type\":\"scattergl\",\"marker\":{\"colorbar\":{\"outlinewidth\":0,\"ticks\":\"\"}}}],\"scatter3d\":[{\"type\":\"scatter3d\",\"line\":{\"colorbar\":{\"outlinewidth\":0,\"ticks\":\"\"}},\"marker\":{\"colorbar\":{\"outlinewidth\":0,\"ticks\":\"\"}}}],\"scattermapbox\":[{\"type\":\"scattermapbox\",\"marker\":{\"colorbar\":{\"outlinewidth\":0,\"ticks\":\"\"}}}],\"scatterternary\":[{\"type\":\"scatterternary\",\"marker\":{\"colorbar\":{\"outlinewidth\":0,\"ticks\":\"\"}}}],\"scattercarpet\":[{\"type\":\"scattercarpet\",\"marker\":{\"colorbar\":{\"outlinewidth\":0,\"ticks\":\"\"}}}],\"carpet\":[{\"aaxis\":{\"endlinecolor\":\"#2a3f5f\",\"gridcolor\":\"white\",\"linecolor\":\"white\",\"minorgridcolor\":\"white\",\"startlinecolor\":\"#2a3f5f\"},\"baxis\":{\"endlinecolor\":\"#2a3f5f\",\"gridcolor\":\"white\",\"linecolor\":\"white\",\"minorgridcolor\":\"white\",\"startlinecolor\":\"#2a3f5f\"},\"type\":\"carpet\"}],\"table\":[{\"cells\":{\"fill\":{\"color\":\"#EBF0F8\"},\"line\":{\"color\":\"white\"}},\"header\":{\"fill\":{\"color\":\"#C8D4E3\"},\"line\":{\"color\":\"white\"}},\"type\":\"table\"}],\"barpolar\":[{\"marker\":{\"line\":{\"color\":\"#E5ECF6\",\"width\":0.5},\"pattern\":{\"fillmode\":\"overlay\",\"size\":10,\"solidity\":0.2}},\"type\":\"barpolar\"}],\"pie\":[{\"automargin\":true,\"type\":\"pie\"}]},\"layout\":{\"autotypenumbers\":\"strict\",\"colorway\":[\"#636efa\",\"#EF553B\",\"#00cc96\",\"#ab63fa\",\"#FFA15A\",\"#19d3f3\",\"#FF6692\",\"#B6E880\",\"#FF97FF\",\"#FECB52\"],\"font\":{\"color\":\"#2a3f5f\"},\"hovermode\":\"closest\",\"hoverlabel\":{\"align\":\"left\"},\"paper_bgcolor\":\"white\",\"plot_bgcolor\":\"#E5ECF6\",\"polar\":{\"bgcolor\":\"#E5ECF6\",\"angularaxis\":{\"gridcolor\":\"white\",\"linecolor\":\"white\",\"ticks\":\"\"},\"radialaxis\":{\"gridcolor\":\"white\",\"linecolor\":\"white\",\"ticks\":\"\"}},\"ternary\":{\"bgcolor\":\"#E5ECF6\",\"aaxis\":{\"gridcolor\":\"white\",\"linecolor\":\"white\",\"ticks\":\"\"},\"baxis\":{\"gridcolor\":\"white\",\"linecolor\":\"white\",\"ticks\":\"\"},\"caxis\":{\"gridcolor\":\"white\",\"linecolor\":\"white\",\"ticks\":\"\"}},\"coloraxis\":{\"colorbar\":{\"outlinewidth\":0,\"ticks\":\"\"}},\"colorscale\":{\"sequential\":[[0.0,\"#0d0887\"],[0.1111111111111111,\"#46039f\"],[0.2222222222222222,\"#7201a8\"],[0.3333333333333333,\"#9c179e\"],[0.4444444444444444,\"#bd3786\"],[0.5555555555555556,\"#d8576b\"],[0.6666666666666666,\"#ed7953\"],[0.7777777777777778,\"#fb9f3a\"],[0.8888888888888888,\"#fdca26\"],[1.0,\"#f0f921\"]],\"sequentialminus\":[[0.0,\"#0d0887\"],[0.1111111111111111,\"#46039f\"],[0.2222222222222222,\"#7201a8\"],[0.3333333333333333,\"#9c179e\"],[0.4444444444444444,\"#bd3786\"],[0.5555555555555556,\"#d8576b\"],[0.6666666666666666,\"#ed7953\"],[0.7777777777777778,\"#fb9f3a\"],[0.8888888888888888,\"#fdca26\"],[1.0,\"#f0f921\"]],\"diverging\":[[0,\"#8e0152\"],[0.1,\"#c51b7d\"],[0.2,\"#de77ae\"],[0.3,\"#f1b6da\"],[0.4,\"#fde0ef\"],[0.5,\"#f7f7f7\"],[0.6,\"#e6f5d0\"],[0.7,\"#b8e186\"],[0.8,\"#7fbc41\"],[0.9,\"#4d9221\"],[1,\"#276419\"]]},\"xaxis\":{\"gridcolor\":\"white\",\"linecolor\":\"white\",\"ticks\":\"\",\"title\":{\"standoff\":15},\"zerolinecolor\":\"white\",\"automargin\":true,\"zerolinewidth\":2},\"yaxis\":{\"gridcolor\":\"white\",\"linecolor\":\"white\",\"ticks\":\"\",\"title\":{\"standoff\":15},\"zerolinecolor\":\"white\",\"automargin\":true,\"zerolinewidth\":2},\"scene\":{\"xaxis\":{\"backgroundcolor\":\"#E5ECF6\",\"gridcolor\":\"white\",\"linecolor\":\"white\",\"showbackground\":true,\"ticks\":\"\",\"zerolinecolor\":\"white\",\"gridwidth\":2},\"yaxis\":{\"backgroundcolor\":\"#E5ECF6\",\"gridcolor\":\"white\",\"linecolor\":\"white\",\"showbackground\":true,\"ticks\":\"\",\"zerolinecolor\":\"white\",\"gridwidth\":2},\"zaxis\":{\"backgroundcolor\":\"#E5ECF6\",\"gridcolor\":\"white\",\"linecolor\":\"white\",\"showbackground\":true,\"ticks\":\"\",\"zerolinecolor\":\"white\",\"gridwidth\":2}},\"shapedefaults\":{\"line\":{\"color\":\"#2a3f5f\"}},\"annotationdefaults\":{\"arrowcolor\":\"#2a3f5f\",\"arrowhead\":0,\"arrowwidth\":1},\"geo\":{\"bgcolor\":\"white\",\"landcolor\":\"#E5ECF6\",\"subunitcolor\":\"white\",\"showland\":true,\"showlakes\":true,\"lakecolor\":\"white\"},\"title\":{\"x\":0.05},\"mapbox\":{\"style\":\"light\"}}},\"xaxis\":{\"anchor\":\"y\",\"domain\":[0.0,1.0],\"title\":{\"text\":\"auction_date\"}},\"yaxis\":{\"anchor\":\"x\",\"domain\":[0.0,1.0],\"title\":{\"text\":\"bid_count\"}},\"legend\":{\"title\":{\"text\":\"bstock_category_name\"},\"tracegroupgap\":0},\"title\":{\"text\":\"Total bids per category and auction date (each stacked block represent an auction id)\"},\"barmode\":\"relative\"},                        {\"responsive\": true}                    ).then(function(){\n",
       "                            \n",
       "var gd = document.getElementById('58b43ab1-801d-4afb-bac6-fae9f35c507d');\n",
       "var x = new MutationObserver(function (mutations, observer) {{\n",
       "        var display = window.getComputedStyle(gd).display;\n",
       "        if (!display || display === 'none') {{\n",
       "            console.log([gd, 'removed!']);\n",
       "            Plotly.purge(gd);\n",
       "            observer.disconnect();\n",
       "        }}\n",
       "}});\n",
       "\n",
       "// Listen for the removal of the full notebook cells\n",
       "var notebookContainer = gd.closest('#notebook-container');\n",
       "if (notebookContainer) {{\n",
       "    x.observe(notebookContainer, {childList: true});\n",
       "}}\n",
       "\n",
       "// Listen for the clearing of the current output cell\n",
       "var outputEl = gd.closest('.output');\n",
       "if (outputEl) {{\n",
       "    x.observe(outputEl, {childList: true});\n",
       "}}\n",
       "\n",
       "                        })                };                });            </script>        </div>"
      ]
     },
     "metadata": {},
     "output_type": "display_data"
    }
   ],
   "source": [
    "# Total bids per category and auction date plot\n",
    "import plotly.express as px\n",
    "fig = px.bar(df_stats_daily_categories, x='auction_date',\n",
    "             y='bid_count',\n",
    "             color='bstock_category_name',\n",
    "             title='Total bids per category and auction date (each stacked block represent an auction id)',\n",
    "             text_auto=True)\n",
    "fig.show()"
   ]
  },
  {
   "attachments": {},
   "cell_type": "markdown",
   "metadata": {},
   "source": [
    "- So, how many bids does each category have?\n",
    "- It seems that 'Apparel, Footwear & Accesories have a bunch of bids!"
   ]
  },
  {
   "cell_type": "code",
   "execution_count": 721,
   "metadata": {},
   "outputs": [
    {
     "data": {
      "application/vnd.plotly.v1+json": {
       "config": {
        "linkText": "Export to plot.ly",
        "plotlyServerURL": "https://plot.ly",
        "showLink": true
       },
       "data": [
        {
         "marker": {
          "color": "rgba(255, 153, 51, 0.6)",
          "line": {
           "color": "rgba(255, 153, 51, 1.0)",
           "width": 1
          }
         },
         "name": "None",
         "orientation": "v",
         "text": "",
         "type": "bar",
         "x": [
          "Apparel, Footwear & Accessories",
          "Consumer Electronics",
          "Furniture"
         ],
         "y": [
          741,
          62,
          24
         ]
        }
       ],
       "layout": {
        "legend": {
         "bgcolor": "#FFFFFF",
         "font": {
          "color": "#4D5663"
         }
        },
        "paper_bgcolor": "#FFFFFF",
        "plot_bgcolor": "#FFFFFF",
        "template": {
         "data": {
          "bar": [
           {
            "error_x": {
             "color": "#2a3f5f"
            },
            "error_y": {
             "color": "#2a3f5f"
            },
            "marker": {
             "line": {
              "color": "#E5ECF6",
              "width": 0.5
             },
             "pattern": {
              "fillmode": "overlay",
              "size": 10,
              "solidity": 0.2
             }
            },
            "type": "bar"
           }
          ],
          "barpolar": [
           {
            "marker": {
             "line": {
              "color": "#E5ECF6",
              "width": 0.5
             },
             "pattern": {
              "fillmode": "overlay",
              "size": 10,
              "solidity": 0.2
             }
            },
            "type": "barpolar"
           }
          ],
          "carpet": [
           {
            "aaxis": {
             "endlinecolor": "#2a3f5f",
             "gridcolor": "white",
             "linecolor": "white",
             "minorgridcolor": "white",
             "startlinecolor": "#2a3f5f"
            },
            "baxis": {
             "endlinecolor": "#2a3f5f",
             "gridcolor": "white",
             "linecolor": "white",
             "minorgridcolor": "white",
             "startlinecolor": "#2a3f5f"
            },
            "type": "carpet"
           }
          ],
          "choropleth": [
           {
            "colorbar": {
             "outlinewidth": 0,
             "ticks": ""
            },
            "type": "choropleth"
           }
          ],
          "contour": [
           {
            "colorbar": {
             "outlinewidth": 0,
             "ticks": ""
            },
            "colorscale": [
             [
              0,
              "#0d0887"
             ],
             [
              0.1111111111111111,
              "#46039f"
             ],
             [
              0.2222222222222222,
              "#7201a8"
             ],
             [
              0.3333333333333333,
              "#9c179e"
             ],
             [
              0.4444444444444444,
              "#bd3786"
             ],
             [
              0.5555555555555556,
              "#d8576b"
             ],
             [
              0.6666666666666666,
              "#ed7953"
             ],
             [
              0.7777777777777778,
              "#fb9f3a"
             ],
             [
              0.8888888888888888,
              "#fdca26"
             ],
             [
              1,
              "#f0f921"
             ]
            ],
            "type": "contour"
           }
          ],
          "contourcarpet": [
           {
            "colorbar": {
             "outlinewidth": 0,
             "ticks": ""
            },
            "type": "contourcarpet"
           }
          ],
          "heatmap": [
           {
            "colorbar": {
             "outlinewidth": 0,
             "ticks": ""
            },
            "colorscale": [
             [
              0,
              "#0d0887"
             ],
             [
              0.1111111111111111,
              "#46039f"
             ],
             [
              0.2222222222222222,
              "#7201a8"
             ],
             [
              0.3333333333333333,
              "#9c179e"
             ],
             [
              0.4444444444444444,
              "#bd3786"
             ],
             [
              0.5555555555555556,
              "#d8576b"
             ],
             [
              0.6666666666666666,
              "#ed7953"
             ],
             [
              0.7777777777777778,
              "#fb9f3a"
             ],
             [
              0.8888888888888888,
              "#fdca26"
             ],
             [
              1,
              "#f0f921"
             ]
            ],
            "type": "heatmap"
           }
          ],
          "heatmapgl": [
           {
            "colorbar": {
             "outlinewidth": 0,
             "ticks": ""
            },
            "colorscale": [
             [
              0,
              "#0d0887"
             ],
             [
              0.1111111111111111,
              "#46039f"
             ],
             [
              0.2222222222222222,
              "#7201a8"
             ],
             [
              0.3333333333333333,
              "#9c179e"
             ],
             [
              0.4444444444444444,
              "#bd3786"
             ],
             [
              0.5555555555555556,
              "#d8576b"
             ],
             [
              0.6666666666666666,
              "#ed7953"
             ],
             [
              0.7777777777777778,
              "#fb9f3a"
             ],
             [
              0.8888888888888888,
              "#fdca26"
             ],
             [
              1,
              "#f0f921"
             ]
            ],
            "type": "heatmapgl"
           }
          ],
          "histogram": [
           {
            "marker": {
             "pattern": {
              "fillmode": "overlay",
              "size": 10,
              "solidity": 0.2
             }
            },
            "type": "histogram"
           }
          ],
          "histogram2d": [
           {
            "colorbar": {
             "outlinewidth": 0,
             "ticks": ""
            },
            "colorscale": [
             [
              0,
              "#0d0887"
             ],
             [
              0.1111111111111111,
              "#46039f"
             ],
             [
              0.2222222222222222,
              "#7201a8"
             ],
             [
              0.3333333333333333,
              "#9c179e"
             ],
             [
              0.4444444444444444,
              "#bd3786"
             ],
             [
              0.5555555555555556,
              "#d8576b"
             ],
             [
              0.6666666666666666,
              "#ed7953"
             ],
             [
              0.7777777777777778,
              "#fb9f3a"
             ],
             [
              0.8888888888888888,
              "#fdca26"
             ],
             [
              1,
              "#f0f921"
             ]
            ],
            "type": "histogram2d"
           }
          ],
          "histogram2dcontour": [
           {
            "colorbar": {
             "outlinewidth": 0,
             "ticks": ""
            },
            "colorscale": [
             [
              0,
              "#0d0887"
             ],
             [
              0.1111111111111111,
              "#46039f"
             ],
             [
              0.2222222222222222,
              "#7201a8"
             ],
             [
              0.3333333333333333,
              "#9c179e"
             ],
             [
              0.4444444444444444,
              "#bd3786"
             ],
             [
              0.5555555555555556,
              "#d8576b"
             ],
             [
              0.6666666666666666,
              "#ed7953"
             ],
             [
              0.7777777777777778,
              "#fb9f3a"
             ],
             [
              0.8888888888888888,
              "#fdca26"
             ],
             [
              1,
              "#f0f921"
             ]
            ],
            "type": "histogram2dcontour"
           }
          ],
          "mesh3d": [
           {
            "colorbar": {
             "outlinewidth": 0,
             "ticks": ""
            },
            "type": "mesh3d"
           }
          ],
          "parcoords": [
           {
            "line": {
             "colorbar": {
              "outlinewidth": 0,
              "ticks": ""
             }
            },
            "type": "parcoords"
           }
          ],
          "pie": [
           {
            "automargin": true,
            "type": "pie"
           }
          ],
          "scatter": [
           {
            "fillpattern": {
             "fillmode": "overlay",
             "size": 10,
             "solidity": 0.2
            },
            "type": "scatter"
           }
          ],
          "scatter3d": [
           {
            "line": {
             "colorbar": {
              "outlinewidth": 0,
              "ticks": ""
             }
            },
            "marker": {
             "colorbar": {
              "outlinewidth": 0,
              "ticks": ""
             }
            },
            "type": "scatter3d"
           }
          ],
          "scattercarpet": [
           {
            "marker": {
             "colorbar": {
              "outlinewidth": 0,
              "ticks": ""
             }
            },
            "type": "scattercarpet"
           }
          ],
          "scattergeo": [
           {
            "marker": {
             "colorbar": {
              "outlinewidth": 0,
              "ticks": ""
             }
            },
            "type": "scattergeo"
           }
          ],
          "scattergl": [
           {
            "marker": {
             "colorbar": {
              "outlinewidth": 0,
              "ticks": ""
             }
            },
            "type": "scattergl"
           }
          ],
          "scattermapbox": [
           {
            "marker": {
             "colorbar": {
              "outlinewidth": 0,
              "ticks": ""
             }
            },
            "type": "scattermapbox"
           }
          ],
          "scatterpolar": [
           {
            "marker": {
             "colorbar": {
              "outlinewidth": 0,
              "ticks": ""
             }
            },
            "type": "scatterpolar"
           }
          ],
          "scatterpolargl": [
           {
            "marker": {
             "colorbar": {
              "outlinewidth": 0,
              "ticks": ""
             }
            },
            "type": "scatterpolargl"
           }
          ],
          "scatterternary": [
           {
            "marker": {
             "colorbar": {
              "outlinewidth": 0,
              "ticks": ""
             }
            },
            "type": "scatterternary"
           }
          ],
          "surface": [
           {
            "colorbar": {
             "outlinewidth": 0,
             "ticks": ""
            },
            "colorscale": [
             [
              0,
              "#0d0887"
             ],
             [
              0.1111111111111111,
              "#46039f"
             ],
             [
              0.2222222222222222,
              "#7201a8"
             ],
             [
              0.3333333333333333,
              "#9c179e"
             ],
             [
              0.4444444444444444,
              "#bd3786"
             ],
             [
              0.5555555555555556,
              "#d8576b"
             ],
             [
              0.6666666666666666,
              "#ed7953"
             ],
             [
              0.7777777777777778,
              "#fb9f3a"
             ],
             [
              0.8888888888888888,
              "#fdca26"
             ],
             [
              1,
              "#f0f921"
             ]
            ],
            "type": "surface"
           }
          ],
          "table": [
           {
            "cells": {
             "fill": {
              "color": "#EBF0F8"
             },
             "line": {
              "color": "white"
             }
            },
            "header": {
             "fill": {
              "color": "#C8D4E3"
             },
             "line": {
              "color": "white"
             }
            },
            "type": "table"
           }
          ]
         },
         "layout": {
          "annotationdefaults": {
           "arrowcolor": "#2a3f5f",
           "arrowhead": 0,
           "arrowwidth": 1
          },
          "autotypenumbers": "strict",
          "coloraxis": {
           "colorbar": {
            "outlinewidth": 0,
            "ticks": ""
           }
          },
          "colorscale": {
           "diverging": [
            [
             0,
             "#8e0152"
            ],
            [
             0.1,
             "#c51b7d"
            ],
            [
             0.2,
             "#de77ae"
            ],
            [
             0.3,
             "#f1b6da"
            ],
            [
             0.4,
             "#fde0ef"
            ],
            [
             0.5,
             "#f7f7f7"
            ],
            [
             0.6,
             "#e6f5d0"
            ],
            [
             0.7,
             "#b8e186"
            ],
            [
             0.8,
             "#7fbc41"
            ],
            [
             0.9,
             "#4d9221"
            ],
            [
             1,
             "#276419"
            ]
           ],
           "sequential": [
            [
             0,
             "#0d0887"
            ],
            [
             0.1111111111111111,
             "#46039f"
            ],
            [
             0.2222222222222222,
             "#7201a8"
            ],
            [
             0.3333333333333333,
             "#9c179e"
            ],
            [
             0.4444444444444444,
             "#bd3786"
            ],
            [
             0.5555555555555556,
             "#d8576b"
            ],
            [
             0.6666666666666666,
             "#ed7953"
            ],
            [
             0.7777777777777778,
             "#fb9f3a"
            ],
            [
             0.8888888888888888,
             "#fdca26"
            ],
            [
             1,
             "#f0f921"
            ]
           ],
           "sequentialminus": [
            [
             0,
             "#0d0887"
            ],
            [
             0.1111111111111111,
             "#46039f"
            ],
            [
             0.2222222222222222,
             "#7201a8"
            ],
            [
             0.3333333333333333,
             "#9c179e"
            ],
            [
             0.4444444444444444,
             "#bd3786"
            ],
            [
             0.5555555555555556,
             "#d8576b"
            ],
            [
             0.6666666666666666,
             "#ed7953"
            ],
            [
             0.7777777777777778,
             "#fb9f3a"
            ],
            [
             0.8888888888888888,
             "#fdca26"
            ],
            [
             1,
             "#f0f921"
            ]
           ]
          },
          "colorway": [
           "#636efa",
           "#EF553B",
           "#00cc96",
           "#ab63fa",
           "#FFA15A",
           "#19d3f3",
           "#FF6692",
           "#B6E880",
           "#FF97FF",
           "#FECB52"
          ],
          "font": {
           "color": "#2a3f5f"
          },
          "geo": {
           "bgcolor": "white",
           "lakecolor": "white",
           "landcolor": "#E5ECF6",
           "showlakes": true,
           "showland": true,
           "subunitcolor": "white"
          },
          "hoverlabel": {
           "align": "left"
          },
          "hovermode": "closest",
          "mapbox": {
           "style": "light"
          },
          "paper_bgcolor": "white",
          "plot_bgcolor": "#E5ECF6",
          "polar": {
           "angularaxis": {
            "gridcolor": "white",
            "linecolor": "white",
            "ticks": ""
           },
           "bgcolor": "#E5ECF6",
           "radialaxis": {
            "gridcolor": "white",
            "linecolor": "white",
            "ticks": ""
           }
          },
          "scene": {
           "xaxis": {
            "backgroundcolor": "#E5ECF6",
            "gridcolor": "white",
            "gridwidth": 2,
            "linecolor": "white",
            "showbackground": true,
            "ticks": "",
            "zerolinecolor": "white"
           },
           "yaxis": {
            "backgroundcolor": "#E5ECF6",
            "gridcolor": "white",
            "gridwidth": 2,
            "linecolor": "white",
            "showbackground": true,
            "ticks": "",
            "zerolinecolor": "white"
           },
           "zaxis": {
            "backgroundcolor": "#E5ECF6",
            "gridcolor": "white",
            "gridwidth": 2,
            "linecolor": "white",
            "showbackground": true,
            "ticks": "",
            "zerolinecolor": "white"
           }
          },
          "shapedefaults": {
           "line": {
            "color": "#2a3f5f"
           }
          },
          "ternary": {
           "aaxis": {
            "gridcolor": "white",
            "linecolor": "white",
            "ticks": ""
           },
           "baxis": {
            "gridcolor": "white",
            "linecolor": "white",
            "ticks": ""
           },
           "bgcolor": "#E5ECF6",
           "caxis": {
            "gridcolor": "white",
            "linecolor": "white",
            "ticks": ""
           }
          },
          "title": {
           "x": 0.05
          },
          "xaxis": {
           "automargin": true,
           "gridcolor": "white",
           "linecolor": "white",
           "ticks": "",
           "title": {
            "standoff": 15
           },
           "zerolinecolor": "white",
           "zerolinewidth": 2
          },
          "yaxis": {
           "automargin": true,
           "gridcolor": "white",
           "linecolor": "white",
           "ticks": "",
           "title": {
            "standoff": 15
           },
           "zerolinecolor": "white",
           "zerolinewidth": 2
          }
         }
        },
        "title": {
         "font": {
          "color": "#4D5663"
         },
         "text": "Total bids per Category"
        },
        "xaxis": {
         "gridcolor": "#E1E5ED",
         "showgrid": true,
         "tickfont": {
          "color": "#4D5663"
         },
         "title": {
          "font": {
           "color": "#4D5663"
          },
          "text": ""
         },
         "zerolinecolor": "#E1E5ED"
        },
        "yaxis": {
         "gridcolor": "#E1E5ED",
         "showgrid": true,
         "tickfont": {
          "color": "#4D5663"
         },
         "title": {
          "font": {
           "color": "#4D5663"
          },
          "text": "bid_count"
         },
         "zerolinecolor": "#E1E5ED"
        }
       }
      },
      "text/html": [
       "<div>                            <div id=\"7d8da389-0c71-4e7a-92be-1d0cf23f15eb\" class=\"plotly-graph-div\" style=\"height:525px; width:100%;\"></div>            <script type=\"text/javascript\">                require([\"plotly\"], function(Plotly) {                    window.PLOTLYENV=window.PLOTLYENV || {};\n",
       "                    window.PLOTLYENV.BASE_URL='https://plot.ly';                                    if (document.getElementById(\"7d8da389-0c71-4e7a-92be-1d0cf23f15eb\")) {                    Plotly.newPlot(                        \"7d8da389-0c71-4e7a-92be-1d0cf23f15eb\",                        [{\"marker\":{\"color\":\"rgba(255, 153, 51, 0.6)\",\"line\":{\"color\":\"rgba(255, 153, 51, 1.0)\",\"width\":1}},\"name\":\"None\",\"orientation\":\"v\",\"text\":\"\",\"x\":[\"Apparel, Footwear & Accessories\",\"Consumer Electronics\",\"Furniture\"],\"y\":[741.0,62.0,24.0],\"type\":\"bar\"}],                        {\"legend\":{\"bgcolor\":\"#FFFFFF\",\"font\":{\"color\":\"#4D5663\"}},\"paper_bgcolor\":\"#FFFFFF\",\"plot_bgcolor\":\"#FFFFFF\",\"template\":{\"data\":{\"barpolar\":[{\"marker\":{\"line\":{\"color\":\"#E5ECF6\",\"width\":0.5},\"pattern\":{\"fillmode\":\"overlay\",\"size\":10,\"solidity\":0.2}},\"type\":\"barpolar\"}],\"bar\":[{\"error_x\":{\"color\":\"#2a3f5f\"},\"error_y\":{\"color\":\"#2a3f5f\"},\"marker\":{\"line\":{\"color\":\"#E5ECF6\",\"width\":0.5},\"pattern\":{\"fillmode\":\"overlay\",\"size\":10,\"solidity\":0.2}},\"type\":\"bar\"}],\"carpet\":[{\"aaxis\":{\"endlinecolor\":\"#2a3f5f\",\"gridcolor\":\"white\",\"linecolor\":\"white\",\"minorgridcolor\":\"white\",\"startlinecolor\":\"#2a3f5f\"},\"baxis\":{\"endlinecolor\":\"#2a3f5f\",\"gridcolor\":\"white\",\"linecolor\":\"white\",\"minorgridcolor\":\"white\",\"startlinecolor\":\"#2a3f5f\"},\"type\":\"carpet\"}],\"choropleth\":[{\"colorbar\":{\"outlinewidth\":0,\"ticks\":\"\"},\"type\":\"choropleth\"}],\"contourcarpet\":[{\"colorbar\":{\"outlinewidth\":0,\"ticks\":\"\"},\"type\":\"contourcarpet\"}],\"contour\":[{\"colorbar\":{\"outlinewidth\":0,\"ticks\":\"\"},\"colorscale\":[[0.0,\"#0d0887\"],[0.1111111111111111,\"#46039f\"],[0.2222222222222222,\"#7201a8\"],[0.3333333333333333,\"#9c179e\"],[0.4444444444444444,\"#bd3786\"],[0.5555555555555556,\"#d8576b\"],[0.6666666666666666,\"#ed7953\"],[0.7777777777777778,\"#fb9f3a\"],[0.8888888888888888,\"#fdca26\"],[1.0,\"#f0f921\"]],\"type\":\"contour\"}],\"heatmapgl\":[{\"colorbar\":{\"outlinewidth\":0,\"ticks\":\"\"},\"colorscale\":[[0.0,\"#0d0887\"],[0.1111111111111111,\"#46039f\"],[0.2222222222222222,\"#7201a8\"],[0.3333333333333333,\"#9c179e\"],[0.4444444444444444,\"#bd3786\"],[0.5555555555555556,\"#d8576b\"],[0.6666666666666666,\"#ed7953\"],[0.7777777777777778,\"#fb9f3a\"],[0.8888888888888888,\"#fdca26\"],[1.0,\"#f0f921\"]],\"type\":\"heatmapgl\"}],\"heatmap\":[{\"colorbar\":{\"outlinewidth\":0,\"ticks\":\"\"},\"colorscale\":[[0.0,\"#0d0887\"],[0.1111111111111111,\"#46039f\"],[0.2222222222222222,\"#7201a8\"],[0.3333333333333333,\"#9c179e\"],[0.4444444444444444,\"#bd3786\"],[0.5555555555555556,\"#d8576b\"],[0.6666666666666666,\"#ed7953\"],[0.7777777777777778,\"#fb9f3a\"],[0.8888888888888888,\"#fdca26\"],[1.0,\"#f0f921\"]],\"type\":\"heatmap\"}],\"histogram2dcontour\":[{\"colorbar\":{\"outlinewidth\":0,\"ticks\":\"\"},\"colorscale\":[[0.0,\"#0d0887\"],[0.1111111111111111,\"#46039f\"],[0.2222222222222222,\"#7201a8\"],[0.3333333333333333,\"#9c179e\"],[0.4444444444444444,\"#bd3786\"],[0.5555555555555556,\"#d8576b\"],[0.6666666666666666,\"#ed7953\"],[0.7777777777777778,\"#fb9f3a\"],[0.8888888888888888,\"#fdca26\"],[1.0,\"#f0f921\"]],\"type\":\"histogram2dcontour\"}],\"histogram2d\":[{\"colorbar\":{\"outlinewidth\":0,\"ticks\":\"\"},\"colorscale\":[[0.0,\"#0d0887\"],[0.1111111111111111,\"#46039f\"],[0.2222222222222222,\"#7201a8\"],[0.3333333333333333,\"#9c179e\"],[0.4444444444444444,\"#bd3786\"],[0.5555555555555556,\"#d8576b\"],[0.6666666666666666,\"#ed7953\"],[0.7777777777777778,\"#fb9f3a\"],[0.8888888888888888,\"#fdca26\"],[1.0,\"#f0f921\"]],\"type\":\"histogram2d\"}],\"histogram\":[{\"marker\":{\"pattern\":{\"fillmode\":\"overlay\",\"size\":10,\"solidity\":0.2}},\"type\":\"histogram\"}],\"mesh3d\":[{\"colorbar\":{\"outlinewidth\":0,\"ticks\":\"\"},\"type\":\"mesh3d\"}],\"parcoords\":[{\"line\":{\"colorbar\":{\"outlinewidth\":0,\"ticks\":\"\"}},\"type\":\"parcoords\"}],\"pie\":[{\"automargin\":true,\"type\":\"pie\"}],\"scatter3d\":[{\"line\":{\"colorbar\":{\"outlinewidth\":0,\"ticks\":\"\"}},\"marker\":{\"colorbar\":{\"outlinewidth\":0,\"ticks\":\"\"}},\"type\":\"scatter3d\"}],\"scattercarpet\":[{\"marker\":{\"colorbar\":{\"outlinewidth\":0,\"ticks\":\"\"}},\"type\":\"scattercarpet\"}],\"scattergeo\":[{\"marker\":{\"colorbar\":{\"outlinewidth\":0,\"ticks\":\"\"}},\"type\":\"scattergeo\"}],\"scattergl\":[{\"marker\":{\"colorbar\":{\"outlinewidth\":0,\"ticks\":\"\"}},\"type\":\"scattergl\"}],\"scattermapbox\":[{\"marker\":{\"colorbar\":{\"outlinewidth\":0,\"ticks\":\"\"}},\"type\":\"scattermapbox\"}],\"scatterpolargl\":[{\"marker\":{\"colorbar\":{\"outlinewidth\":0,\"ticks\":\"\"}},\"type\":\"scatterpolargl\"}],\"scatterpolar\":[{\"marker\":{\"colorbar\":{\"outlinewidth\":0,\"ticks\":\"\"}},\"type\":\"scatterpolar\"}],\"scatter\":[{\"fillpattern\":{\"fillmode\":\"overlay\",\"size\":10,\"solidity\":0.2},\"type\":\"scatter\"}],\"scatterternary\":[{\"marker\":{\"colorbar\":{\"outlinewidth\":0,\"ticks\":\"\"}},\"type\":\"scatterternary\"}],\"surface\":[{\"colorbar\":{\"outlinewidth\":0,\"ticks\":\"\"},\"colorscale\":[[0.0,\"#0d0887\"],[0.1111111111111111,\"#46039f\"],[0.2222222222222222,\"#7201a8\"],[0.3333333333333333,\"#9c179e\"],[0.4444444444444444,\"#bd3786\"],[0.5555555555555556,\"#d8576b\"],[0.6666666666666666,\"#ed7953\"],[0.7777777777777778,\"#fb9f3a\"],[0.8888888888888888,\"#fdca26\"],[1.0,\"#f0f921\"]],\"type\":\"surface\"}],\"table\":[{\"cells\":{\"fill\":{\"color\":\"#EBF0F8\"},\"line\":{\"color\":\"white\"}},\"header\":{\"fill\":{\"color\":\"#C8D4E3\"},\"line\":{\"color\":\"white\"}},\"type\":\"table\"}]},\"layout\":{\"annotationdefaults\":{\"arrowcolor\":\"#2a3f5f\",\"arrowhead\":0,\"arrowwidth\":1},\"autotypenumbers\":\"strict\",\"coloraxis\":{\"colorbar\":{\"outlinewidth\":0,\"ticks\":\"\"}},\"colorscale\":{\"diverging\":[[0,\"#8e0152\"],[0.1,\"#c51b7d\"],[0.2,\"#de77ae\"],[0.3,\"#f1b6da\"],[0.4,\"#fde0ef\"],[0.5,\"#f7f7f7\"],[0.6,\"#e6f5d0\"],[0.7,\"#b8e186\"],[0.8,\"#7fbc41\"],[0.9,\"#4d9221\"],[1,\"#276419\"]],\"sequential\":[[0.0,\"#0d0887\"],[0.1111111111111111,\"#46039f\"],[0.2222222222222222,\"#7201a8\"],[0.3333333333333333,\"#9c179e\"],[0.4444444444444444,\"#bd3786\"],[0.5555555555555556,\"#d8576b\"],[0.6666666666666666,\"#ed7953\"],[0.7777777777777778,\"#fb9f3a\"],[0.8888888888888888,\"#fdca26\"],[1.0,\"#f0f921\"]],\"sequentialminus\":[[0.0,\"#0d0887\"],[0.1111111111111111,\"#46039f\"],[0.2222222222222222,\"#7201a8\"],[0.3333333333333333,\"#9c179e\"],[0.4444444444444444,\"#bd3786\"],[0.5555555555555556,\"#d8576b\"],[0.6666666666666666,\"#ed7953\"],[0.7777777777777778,\"#fb9f3a\"],[0.8888888888888888,\"#fdca26\"],[1.0,\"#f0f921\"]]},\"colorway\":[\"#636efa\",\"#EF553B\",\"#00cc96\",\"#ab63fa\",\"#FFA15A\",\"#19d3f3\",\"#FF6692\",\"#B6E880\",\"#FF97FF\",\"#FECB52\"],\"font\":{\"color\":\"#2a3f5f\"},\"geo\":{\"bgcolor\":\"white\",\"lakecolor\":\"white\",\"landcolor\":\"#E5ECF6\",\"showlakes\":true,\"showland\":true,\"subunitcolor\":\"white\"},\"hoverlabel\":{\"align\":\"left\"},\"hovermode\":\"closest\",\"mapbox\":{\"style\":\"light\"},\"paper_bgcolor\":\"white\",\"plot_bgcolor\":\"#E5ECF6\",\"polar\":{\"angularaxis\":{\"gridcolor\":\"white\",\"linecolor\":\"white\",\"ticks\":\"\"},\"bgcolor\":\"#E5ECF6\",\"radialaxis\":{\"gridcolor\":\"white\",\"linecolor\":\"white\",\"ticks\":\"\"}},\"scene\":{\"xaxis\":{\"backgroundcolor\":\"#E5ECF6\",\"gridcolor\":\"white\",\"gridwidth\":2,\"linecolor\":\"white\",\"showbackground\":true,\"ticks\":\"\",\"zerolinecolor\":\"white\"},\"yaxis\":{\"backgroundcolor\":\"#E5ECF6\",\"gridcolor\":\"white\",\"gridwidth\":2,\"linecolor\":\"white\",\"showbackground\":true,\"ticks\":\"\",\"zerolinecolor\":\"white\"},\"zaxis\":{\"backgroundcolor\":\"#E5ECF6\",\"gridcolor\":\"white\",\"gridwidth\":2,\"linecolor\":\"white\",\"showbackground\":true,\"ticks\":\"\",\"zerolinecolor\":\"white\"}},\"shapedefaults\":{\"line\":{\"color\":\"#2a3f5f\"}},\"ternary\":{\"aaxis\":{\"gridcolor\":\"white\",\"linecolor\":\"white\",\"ticks\":\"\"},\"baxis\":{\"gridcolor\":\"white\",\"linecolor\":\"white\",\"ticks\":\"\"},\"bgcolor\":\"#E5ECF6\",\"caxis\":{\"gridcolor\":\"white\",\"linecolor\":\"white\",\"ticks\":\"\"}},\"title\":{\"x\":0.05},\"xaxis\":{\"automargin\":true,\"gridcolor\":\"white\",\"linecolor\":\"white\",\"ticks\":\"\",\"title\":{\"standoff\":15},\"zerolinecolor\":\"white\",\"zerolinewidth\":2},\"yaxis\":{\"automargin\":true,\"gridcolor\":\"white\",\"linecolor\":\"white\",\"ticks\":\"\",\"title\":{\"standoff\":15},\"zerolinecolor\":\"white\",\"zerolinewidth\":2}}},\"title\":{\"font\":{\"color\":\"#4D5663\"},\"text\":\"Total bids per Category\"},\"xaxis\":{\"gridcolor\":\"#E1E5ED\",\"showgrid\":true,\"tickfont\":{\"color\":\"#4D5663\"},\"title\":{\"font\":{\"color\":\"#4D5663\"},\"text\":\"\"},\"zerolinecolor\":\"#E1E5ED\"},\"yaxis\":{\"gridcolor\":\"#E1E5ED\",\"showgrid\":true,\"tickfont\":{\"color\":\"#4D5663\"},\"title\":{\"font\":{\"color\":\"#4D5663\"},\"text\":\"bid_count\"},\"zerolinecolor\":\"#E1E5ED\"}},                        {\"showLink\": true, \"linkText\": \"Export to plot.ly\", \"plotlyServerURL\": \"https://plot.ly\", \"responsive\": true}                    ).then(function(){\n",
       "                            \n",
       "var gd = document.getElementById('7d8da389-0c71-4e7a-92be-1d0cf23f15eb');\n",
       "var x = new MutationObserver(function (mutations, observer) {{\n",
       "        var display = window.getComputedStyle(gd).display;\n",
       "        if (!display || display === 'none') {{\n",
       "            console.log([gd, 'removed!']);\n",
       "            Plotly.purge(gd);\n",
       "            observer.disconnect();\n",
       "        }}\n",
       "}});\n",
       "\n",
       "// Listen for the removal of the full notebook cells\n",
       "var notebookContainer = gd.closest('#notebook-container');\n",
       "if (notebookContainer) {{\n",
       "    x.observe(notebookContainer, {childList: true});\n",
       "}}\n",
       "\n",
       "// Listen for the clearing of the current output cell\n",
       "var outputEl = gd.closest('.output');\n",
       "if (outputEl) {{\n",
       "    x.observe(outputEl, {childList: true});\n",
       "}}\n",
       "\n",
       "                        })                };                });            </script>        </div>"
      ]
     },
     "metadata": {},
     "output_type": "display_data"
    }
   ],
   "source": [
    "# Total bids per category plot\n",
    "category_total_bids = df_stats_daily_categories.pivot(columns='bstock_category_name', values='bid_count').T.sum(axis=1).sort_values(ascending=False)\n",
    "category_total_bids.iplot(kind='bar', yTitle='bid_count', title='Total bids per Category')"
   ]
  },
  {
   "attachments": {},
   "cell_type": "markdown",
   "metadata": {},
   "source": [
    "- Apparel, Footwear & Accesories category has a total of 741 bids\n",
    "- Consumer Electrics category has a total of 62 bids\n",
    "- Furniture category has a total of 24 bids"
   ]
  },
  {
   "attachments": {},
   "cell_type": "markdown",
   "metadata": {},
   "source": [
    "- Is it possible that the sale of clothing, shoes and accessories generates a lot of profitability?\n",
    "- That is a question to which I will return later. Let's continue exploring the bids amount distribution by dates and categories"
   ]
  },
  {
   "attachments": {},
   "cell_type": "markdown",
   "metadata": {},
   "source": [
    "- As expected, this Apparel, Footwear & Accesories category, having a greater number of bids, could reflect a great variability. This is not always the case, but I can infer that bidders are willing to pay a lot of money because they know that this category is very profitable.\n",
    "- This insight could be really usefull for BStock to know what category is more attractive for bids and a when is the right time to launch an auction!"
   ]
  },
  {
   "cell_type": "code",
   "execution_count": 722,
   "metadata": {},
   "outputs": [
    {
     "data": {
      "application/vnd.plotly.v1+json": {
       "config": {
        "plotlyServerURL": "https://plot.ly"
       },
       "data": [
        {
         "alignmentgroup": "True",
         "hovertemplate": "bstock_category_name=%{x}<br>bid_amount=%{y}<extra></extra>",
         "legendgroup": "",
         "marker": {
          "color": "#636efa"
         },
         "name": "",
         "notched": false,
         "offsetgroup": "",
         "orientation": "v",
         "quartilemethod": "exclusive",
         "showlegend": false,
         "type": "box",
         "x": [
          "Apparel, Footwear & Accessories",
          "Apparel, Footwear & Accessories",
          "Apparel, Footwear & Accessories",
          "Apparel, Footwear & Accessories",
          "Apparel, Footwear & Accessories",
          "Apparel, Footwear & Accessories",
          "Apparel, Footwear & Accessories",
          "Apparel, Footwear & Accessories",
          "Apparel, Footwear & Accessories",
          "Apparel, Footwear & Accessories",
          "Apparel, Footwear & Accessories",
          "Apparel, Footwear & Accessories",
          "Apparel, Footwear & Accessories",
          "Apparel, Footwear & Accessories",
          "Apparel, Footwear & Accessories",
          "Apparel, Footwear & Accessories",
          "Apparel, Footwear & Accessories",
          "Apparel, Footwear & Accessories",
          "Apparel, Footwear & Accessories",
          "Apparel, Footwear & Accessories",
          "Apparel, Footwear & Accessories",
          "Apparel, Footwear & Accessories",
          "Apparel, Footwear & Accessories",
          "Apparel, Footwear & Accessories",
          "Apparel, Footwear & Accessories",
          "Apparel, Footwear & Accessories",
          "Apparel, Footwear & Accessories",
          "Apparel, Footwear & Accessories",
          "Apparel, Footwear & Accessories",
          "Apparel, Footwear & Accessories",
          "Apparel, Footwear & Accessories",
          "Apparel, Footwear & Accessories",
          "Apparel, Footwear & Accessories",
          "Apparel, Footwear & Accessories",
          "Apparel, Footwear & Accessories",
          "Apparel, Footwear & Accessories",
          "Apparel, Footwear & Accessories",
          "Apparel, Footwear & Accessories",
          "Apparel, Footwear & Accessories",
          "Apparel, Footwear & Accessories",
          "Apparel, Footwear & Accessories",
          "Apparel, Footwear & Accessories",
          "Apparel, Footwear & Accessories",
          "Apparel, Footwear & Accessories",
          "Apparel, Footwear & Accessories",
          "Apparel, Footwear & Accessories",
          "Apparel, Footwear & Accessories",
          "Apparel, Footwear & Accessories",
          "Apparel, Footwear & Accessories",
          "Apparel, Footwear & Accessories",
          "Apparel, Footwear & Accessories",
          "Apparel, Footwear & Accessories",
          "Apparel, Footwear & Accessories",
          "Apparel, Footwear & Accessories",
          "Apparel, Footwear & Accessories",
          "Apparel, Footwear & Accessories",
          "Furniture",
          "Furniture",
          "Furniture",
          "Furniture",
          "Furniture",
          "Furniture",
          "Furniture",
          "Furniture",
          "Furniture",
          "Furniture",
          "Furniture",
          "Furniture",
          "Furniture",
          "Furniture",
          "Furniture",
          "Furniture",
          "Furniture",
          "Furniture",
          "Furniture",
          "Furniture",
          "Furniture",
          "Furniture",
          "Furniture",
          "Furniture",
          "Consumer Electronics",
          "Consumer Electronics",
          "Consumer Electronics",
          "Consumer Electronics",
          "Consumer Electronics",
          "Consumer Electronics",
          "Consumer Electronics",
          "Consumer Electronics",
          "Consumer Electronics",
          "Consumer Electronics",
          "Consumer Electronics",
          "Consumer Electronics",
          "Consumer Electronics",
          "Consumer Electronics",
          "Consumer Electronics",
          "Consumer Electronics",
          "Consumer Electronics",
          "Consumer Electronics",
          "Consumer Electronics",
          "Consumer Electronics",
          "Consumer Electronics",
          "Consumer Electronics",
          "Consumer Electronics",
          "Consumer Electronics",
          "Consumer Electronics",
          "Consumer Electronics",
          "Consumer Electronics",
          "Consumer Electronics",
          "Consumer Electronics",
          "Consumer Electronics",
          "Consumer Electronics",
          "Consumer Electronics",
          "Consumer Electronics",
          "Consumer Electronics",
          "Consumer Electronics",
          "Consumer Electronics",
          "Consumer Electronics",
          "Consumer Electronics",
          "Consumer Electronics",
          "Consumer Electronics",
          "Consumer Electronics",
          "Consumer Electronics",
          "Consumer Electronics",
          "Consumer Electronics",
          "Consumer Electronics",
          "Consumer Electronics",
          "Consumer Electronics",
          "Consumer Electronics",
          "Consumer Electronics",
          "Consumer Electronics",
          "Consumer Electronics",
          "Consumer Electronics",
          "Consumer Electronics",
          "Consumer Electronics",
          "Consumer Electronics",
          "Consumer Electronics",
          "Consumer Electronics",
          "Consumer Electronics",
          "Consumer Electronics",
          "Consumer Electronics",
          "Consumer Electronics",
          "Consumer Electronics",
          "Apparel, Footwear & Accessories",
          "Apparel, Footwear & Accessories",
          "Apparel, Footwear & Accessories",
          "Apparel, Footwear & Accessories",
          "Apparel, Footwear & Accessories",
          "Apparel, Footwear & Accessories",
          "Apparel, Footwear & Accessories",
          "Apparel, Footwear & Accessories",
          "Apparel, Footwear & Accessories",
          "Apparel, Footwear & Accessories",
          "Apparel, Footwear & Accessories",
          "Apparel, Footwear & Accessories",
          "Apparel, Footwear & Accessories",
          "Apparel, Footwear & Accessories",
          "Apparel, Footwear & Accessories",
          "Apparel, Footwear & Accessories",
          "Apparel, Footwear & Accessories",
          "Apparel, Footwear & Accessories",
          "Apparel, Footwear & Accessories",
          "Apparel, Footwear & Accessories",
          "Apparel, Footwear & Accessories",
          "Apparel, Footwear & Accessories",
          "Apparel, Footwear & Accessories",
          "Apparel, Footwear & Accessories",
          "Apparel, Footwear & Accessories",
          "Apparel, Footwear & Accessories",
          "Apparel, Footwear & Accessories",
          "Apparel, Footwear & Accessories",
          "Apparel, Footwear & Accessories",
          "Apparel, Footwear & Accessories",
          "Apparel, Footwear & Accessories",
          "Apparel, Footwear & Accessories",
          "Apparel, Footwear & Accessories",
          "Apparel, Footwear & Accessories",
          "Apparel, Footwear & Accessories",
          "Apparel, Footwear & Accessories",
          "Apparel, Footwear & Accessories",
          "Apparel, Footwear & Accessories",
          "Apparel, Footwear & Accessories",
          "Apparel, Footwear & Accessories",
          "Apparel, Footwear & Accessories",
          "Apparel, Footwear & Accessories",
          "Apparel, Footwear & Accessories",
          "Apparel, Footwear & Accessories",
          "Apparel, Footwear & Accessories",
          "Apparel, Footwear & Accessories",
          "Apparel, Footwear & Accessories",
          "Apparel, Footwear & Accessories",
          "Apparel, Footwear & Accessories",
          "Apparel, Footwear & Accessories",
          "Apparel, Footwear & Accessories",
          "Apparel, Footwear & Accessories",
          "Apparel, Footwear & Accessories",
          "Apparel, Footwear & Accessories",
          "Apparel, Footwear & Accessories",
          "Apparel, Footwear & Accessories",
          "Apparel, Footwear & Accessories",
          "Apparel, Footwear & Accessories",
          "Apparel, Footwear & Accessories",
          "Apparel, Footwear & Accessories",
          "Apparel, Footwear & Accessories",
          "Apparel, Footwear & Accessories",
          "Apparel, Footwear & Accessories",
          "Apparel, Footwear & Accessories",
          "Apparel, Footwear & Accessories",
          "Apparel, Footwear & Accessories",
          "Apparel, Footwear & Accessories",
          "Apparel, Footwear & Accessories",
          "Apparel, Footwear & Accessories",
          "Apparel, Footwear & Accessories",
          "Apparel, Footwear & Accessories",
          "Apparel, Footwear & Accessories",
          "Apparel, Footwear & Accessories",
          "Apparel, Footwear & Accessories",
          "Apparel, Footwear & Accessories",
          "Apparel, Footwear & Accessories",
          "Apparel, Footwear & Accessories",
          "Apparel, Footwear & Accessories",
          "Apparel, Footwear & Accessories",
          "Apparel, Footwear & Accessories",
          "Apparel, Footwear & Accessories",
          "Apparel, Footwear & Accessories",
          "Apparel, Footwear & Accessories",
          "Apparel, Footwear & Accessories",
          "Apparel, Footwear & Accessories",
          "Apparel, Footwear & Accessories",
          "Apparel, Footwear & Accessories",
          "Apparel, Footwear & Accessories",
          "Apparel, Footwear & Accessories",
          "Apparel, Footwear & Accessories",
          "Apparel, Footwear & Accessories",
          "Apparel, Footwear & Accessories",
          "Apparel, Footwear & Accessories",
          "Apparel, Footwear & Accessories",
          "Apparel, Footwear & Accessories",
          "Apparel, Footwear & Accessories",
          "Apparel, Footwear & Accessories",
          "Apparel, Footwear & Accessories",
          "Apparel, Footwear & Accessories",
          "Apparel, Footwear & Accessories",
          "Apparel, Footwear & Accessories",
          "Apparel, Footwear & Accessories",
          "Apparel, Footwear & Accessories",
          "Apparel, Footwear & Accessories",
          "Apparel, Footwear & Accessories",
          "Apparel, Footwear & Accessories",
          "Apparel, Footwear & Accessories",
          "Apparel, Footwear & Accessories",
          "Apparel, Footwear & Accessories",
          "Apparel, Footwear & Accessories",
          "Apparel, Footwear & Accessories",
          "Apparel, Footwear & Accessories",
          "Apparel, Footwear & Accessories",
          "Apparel, Footwear & Accessories",
          "Apparel, Footwear & Accessories",
          "Apparel, Footwear & Accessories",
          "Apparel, Footwear & Accessories",
          "Apparel, Footwear & Accessories",
          "Apparel, Footwear & Accessories",
          "Apparel, Footwear & Accessories",
          "Apparel, Footwear & Accessories",
          "Apparel, Footwear & Accessories",
          "Apparel, Footwear & Accessories",
          "Apparel, Footwear & Accessories",
          "Apparel, Footwear & Accessories",
          "Apparel, Footwear & Accessories",
          "Apparel, Footwear & Accessories",
          "Apparel, Footwear & Accessories",
          "Apparel, Footwear & Accessories",
          "Apparel, Footwear & Accessories",
          "Apparel, Footwear & Accessories",
          "Apparel, Footwear & Accessories",
          "Apparel, Footwear & Accessories",
          "Apparel, Footwear & Accessories",
          "Apparel, Footwear & Accessories",
          "Apparel, Footwear & Accessories",
          "Apparel, Footwear & Accessories",
          "Apparel, Footwear & Accessories",
          "Apparel, Footwear & Accessories",
          "Apparel, Footwear & Accessories",
          "Apparel, Footwear & Accessories",
          "Apparel, Footwear & Accessories",
          "Apparel, Footwear & Accessories",
          "Apparel, Footwear & Accessories",
          "Apparel, Footwear & Accessories",
          "Apparel, Footwear & Accessories",
          "Apparel, Footwear & Accessories",
          "Apparel, Footwear & Accessories",
          "Apparel, Footwear & Accessories",
          "Apparel, Footwear & Accessories",
          "Apparel, Footwear & Accessories",
          "Apparel, Footwear & Accessories",
          "Apparel, Footwear & Accessories",
          "Apparel, Footwear & Accessories",
          "Apparel, Footwear & Accessories",
          "Apparel, Footwear & Accessories",
          "Apparel, Footwear & Accessories",
          "Apparel, Footwear & Accessories",
          "Apparel, Footwear & Accessories",
          "Apparel, Footwear & Accessories",
          "Apparel, Footwear & Accessories",
          "Apparel, Footwear & Accessories",
          "Apparel, Footwear & Accessories",
          "Apparel, Footwear & Accessories",
          "Apparel, Footwear & Accessories",
          "Apparel, Footwear & Accessories",
          "Apparel, Footwear & Accessories",
          "Apparel, Footwear & Accessories",
          "Apparel, Footwear & Accessories",
          "Apparel, Footwear & Accessories",
          "Apparel, Footwear & Accessories",
          "Apparel, Footwear & Accessories",
          "Apparel, Footwear & Accessories",
          "Apparel, Footwear & Accessories",
          "Apparel, Footwear & Accessories",
          "Apparel, Footwear & Accessories",
          "Apparel, Footwear & Accessories",
          "Apparel, Footwear & Accessories",
          "Apparel, Footwear & Accessories",
          "Apparel, Footwear & Accessories",
          "Apparel, Footwear & Accessories",
          "Apparel, Footwear & Accessories",
          "Apparel, Footwear & Accessories",
          "Apparel, Footwear & Accessories",
          "Apparel, Footwear & Accessories",
          "Apparel, Footwear & Accessories",
          "Apparel, Footwear & Accessories",
          "Apparel, Footwear & Accessories",
          "Apparel, Footwear & Accessories",
          "Apparel, Footwear & Accessories",
          "Apparel, Footwear & Accessories",
          "Apparel, Footwear & Accessories",
          "Apparel, Footwear & Accessories",
          "Apparel, Footwear & Accessories",
          "Apparel, Footwear & Accessories",
          "Apparel, Footwear & Accessories",
          "Apparel, Footwear & Accessories",
          "Apparel, Footwear & Accessories",
          "Apparel, Footwear & Accessories",
          "Apparel, Footwear & Accessories",
          "Apparel, Footwear & Accessories",
          "Apparel, Footwear & Accessories",
          "Apparel, Footwear & Accessories",
          "Apparel, Footwear & Accessories",
          "Apparel, Footwear & Accessories",
          "Apparel, Footwear & Accessories",
          "Apparel, Footwear & Accessories",
          "Apparel, Footwear & Accessories",
          "Apparel, Footwear & Accessories",
          "Apparel, Footwear & Accessories",
          "Apparel, Footwear & Accessories",
          "Apparel, Footwear & Accessories",
          "Apparel, Footwear & Accessories",
          "Apparel, Footwear & Accessories",
          "Apparel, Footwear & Accessories",
          "Apparel, Footwear & Accessories",
          "Apparel, Footwear & Accessories",
          "Apparel, Footwear & Accessories",
          "Apparel, Footwear & Accessories",
          "Apparel, Footwear & Accessories",
          "Apparel, Footwear & Accessories",
          "Apparel, Footwear & Accessories",
          "Apparel, Footwear & Accessories",
          "Apparel, Footwear & Accessories",
          "Apparel, Footwear & Accessories",
          "Apparel, Footwear & Accessories",
          "Apparel, Footwear & Accessories",
          "Apparel, Footwear & Accessories",
          "Apparel, Footwear & Accessories",
          "Apparel, Footwear & Accessories",
          "Apparel, Footwear & Accessories",
          "Apparel, Footwear & Accessories",
          "Apparel, Footwear & Accessories",
          "Apparel, Footwear & Accessories",
          "Apparel, Footwear & Accessories",
          "Apparel, Footwear & Accessories",
          "Apparel, Footwear & Accessories",
          "Apparel, Footwear & Accessories",
          "Apparel, Footwear & Accessories",
          "Apparel, Footwear & Accessories",
          "Apparel, Footwear & Accessories",
          "Apparel, Footwear & Accessories",
          "Apparel, Footwear & Accessories",
          "Apparel, Footwear & Accessories",
          "Apparel, Footwear & Accessories",
          "Apparel, Footwear & Accessories",
          "Apparel, Footwear & Accessories",
          "Apparel, Footwear & Accessories",
          "Apparel, Footwear & Accessories",
          "Apparel, Footwear & Accessories",
          "Apparel, Footwear & Accessories",
          "Apparel, Footwear & Accessories",
          "Apparel, Footwear & Accessories",
          "Apparel, Footwear & Accessories",
          "Apparel, Footwear & Accessories",
          "Apparel, Footwear & Accessories",
          "Apparel, Footwear & Accessories",
          "Apparel, Footwear & Accessories",
          "Apparel, Footwear & Accessories",
          "Apparel, Footwear & Accessories",
          "Apparel, Footwear & Accessories",
          "Apparel, Footwear & Accessories",
          "Apparel, Footwear & Accessories",
          "Apparel, Footwear & Accessories",
          "Apparel, Footwear & Accessories",
          "Apparel, Footwear & Accessories",
          "Apparel, Footwear & Accessories",
          "Apparel, Footwear & Accessories",
          "Apparel, Footwear & Accessories",
          "Apparel, Footwear & Accessories",
          "Apparel, Footwear & Accessories",
          "Apparel, Footwear & Accessories",
          "Apparel, Footwear & Accessories",
          "Apparel, Footwear & Accessories",
          "Apparel, Footwear & Accessories",
          "Apparel, Footwear & Accessories",
          "Apparel, Footwear & Accessories",
          "Apparel, Footwear & Accessories",
          "Apparel, Footwear & Accessories",
          "Apparel, Footwear & Accessories",
          "Apparel, Footwear & Accessories",
          "Apparel, Footwear & Accessories",
          "Apparel, Footwear & Accessories",
          "Apparel, Footwear & Accessories",
          "Apparel, Footwear & Accessories",
          "Apparel, Footwear & Accessories",
          "Apparel, Footwear & Accessories",
          "Apparel, Footwear & Accessories",
          "Apparel, Footwear & Accessories",
          "Apparel, Footwear & Accessories",
          "Apparel, Footwear & Accessories",
          "Apparel, Footwear & Accessories",
          "Apparel, Footwear & Accessories",
          "Apparel, Footwear & Accessories",
          "Apparel, Footwear & Accessories",
          "Apparel, Footwear & Accessories",
          "Apparel, Footwear & Accessories",
          "Apparel, Footwear & Accessories",
          "Apparel, Footwear & Accessories",
          "Apparel, Footwear & Accessories",
          "Apparel, Footwear & Accessories",
          "Apparel, Footwear & Accessories",
          "Apparel, Footwear & Accessories",
          "Apparel, Footwear & Accessories",
          "Apparel, Footwear & Accessories",
          "Apparel, Footwear & Accessories",
          "Apparel, Footwear & Accessories",
          "Apparel, Footwear & Accessories",
          "Apparel, Footwear & Accessories",
          "Apparel, Footwear & Accessories",
          "Apparel, Footwear & Accessories",
          "Apparel, Footwear & Accessories",
          "Apparel, Footwear & Accessories",
          "Apparel, Footwear & Accessories",
          "Apparel, Footwear & Accessories",
          "Apparel, Footwear & Accessories",
          "Apparel, Footwear & Accessories",
          "Apparel, Footwear & Accessories",
          "Apparel, Footwear & Accessories",
          "Apparel, Footwear & Accessories",
          "Apparel, Footwear & Accessories",
          "Apparel, Footwear & Accessories",
          "Apparel, Footwear & Accessories",
          "Apparel, Footwear & Accessories",
          "Apparel, Footwear & Accessories",
          "Apparel, Footwear & Accessories",
          "Apparel, Footwear & Accessories",
          "Apparel, Footwear & Accessories",
          "Apparel, Footwear & Accessories",
          "Apparel, Footwear & Accessories",
          "Apparel, Footwear & Accessories",
          "Apparel, Footwear & Accessories",
          "Apparel, Footwear & Accessories",
          "Apparel, Footwear & Accessories",
          "Apparel, Footwear & Accessories",
          "Apparel, Footwear & Accessories",
          "Apparel, Footwear & Accessories",
          "Apparel, Footwear & Accessories",
          "Apparel, Footwear & Accessories",
          "Apparel, Footwear & Accessories",
          "Apparel, Footwear & Accessories",
          "Apparel, Footwear & Accessories",
          "Apparel, Footwear & Accessories",
          "Apparel, Footwear & Accessories",
          "Apparel, Footwear & Accessories",
          "Apparel, Footwear & Accessories",
          "Apparel, Footwear & Accessories",
          "Apparel, Footwear & Accessories",
          "Apparel, Footwear & Accessories",
          "Apparel, Footwear & Accessories",
          "Apparel, Footwear & Accessories",
          "Apparel, Footwear & Accessories",
          "Apparel, Footwear & Accessories",
          "Apparel, Footwear & Accessories",
          "Apparel, Footwear & Accessories",
          "Apparel, Footwear & Accessories",
          "Apparel, Footwear & Accessories",
          "Apparel, Footwear & Accessories",
          "Apparel, Footwear & Accessories",
          "Apparel, Footwear & Accessories",
          "Apparel, Footwear & Accessories",
          "Apparel, Footwear & Accessories",
          "Apparel, Footwear & Accessories",
          "Apparel, Footwear & Accessories",
          "Apparel, Footwear & Accessories",
          "Apparel, Footwear & Accessories",
          "Apparel, Footwear & Accessories",
          "Apparel, Footwear & Accessories",
          "Apparel, Footwear & Accessories",
          "Apparel, Footwear & Accessories",
          "Apparel, Footwear & Accessories",
          "Apparel, Footwear & Accessories",
          "Apparel, Footwear & Accessories",
          "Apparel, Footwear & Accessories",
          "Apparel, Footwear & Accessories",
          "Apparel, Footwear & Accessories",
          "Apparel, Footwear & Accessories",
          "Apparel, Footwear & Accessories",
          "Apparel, Footwear & Accessories",
          "Apparel, Footwear & Accessories",
          "Apparel, Footwear & Accessories",
          "Apparel, Footwear & Accessories",
          "Apparel, Footwear & Accessories",
          "Apparel, Footwear & Accessories",
          "Apparel, Footwear & Accessories",
          "Apparel, Footwear & Accessories",
          "Apparel, Footwear & Accessories",
          "Apparel, Footwear & Accessories",
          "Apparel, Footwear & Accessories",
          "Apparel, Footwear & Accessories",
          "Apparel, Footwear & Accessories",
          "Apparel, Footwear & Accessories",
          "Apparel, Footwear & Accessories",
          "Apparel, Footwear & Accessories",
          "Apparel, Footwear & Accessories",
          "Apparel, Footwear & Accessories",
          "Apparel, Footwear & Accessories",
          "Apparel, Footwear & Accessories",
          "Apparel, Footwear & Accessories",
          "Apparel, Footwear & Accessories",
          "Apparel, Footwear & Accessories",
          "Apparel, Footwear & Accessories",
          "Apparel, Footwear & Accessories",
          "Apparel, Footwear & Accessories",
          "Apparel, Footwear & Accessories",
          "Apparel, Footwear & Accessories",
          "Apparel, Footwear & Accessories",
          "Apparel, Footwear & Accessories",
          "Apparel, Footwear & Accessories",
          "Apparel, Footwear & Accessories",
          "Apparel, Footwear & Accessories",
          "Apparel, Footwear & Accessories",
          "Apparel, Footwear & Accessories",
          "Apparel, Footwear & Accessories",
          "Apparel, Footwear & Accessories",
          "Apparel, Footwear & Accessories",
          "Apparel, Footwear & Accessories",
          "Apparel, Footwear & Accessories",
          "Apparel, Footwear & Accessories",
          "Apparel, Footwear & Accessories",
          "Apparel, Footwear & Accessories",
          "Apparel, Footwear & Accessories",
          "Apparel, Footwear & Accessories",
          "Apparel, Footwear & Accessories",
          "Apparel, Footwear & Accessories",
          "Apparel, Footwear & Accessories",
          "Apparel, Footwear & Accessories",
          "Apparel, Footwear & Accessories",
          "Apparel, Footwear & Accessories",
          "Apparel, Footwear & Accessories",
          "Apparel, Footwear & Accessories",
          "Apparel, Footwear & Accessories",
          "Apparel, Footwear & Accessories",
          "Apparel, Footwear & Accessories",
          "Apparel, Footwear & Accessories",
          "Apparel, Footwear & Accessories",
          "Apparel, Footwear & Accessories",
          "Apparel, Footwear & Accessories",
          "Apparel, Footwear & Accessories",
          "Apparel, Footwear & Accessories",
          "Apparel, Footwear & Accessories",
          "Apparel, Footwear & Accessories",
          "Apparel, Footwear & Accessories",
          "Apparel, Footwear & Accessories",
          "Apparel, Footwear & Accessories",
          "Apparel, Footwear & Accessories",
          "Apparel, Footwear & Accessories",
          "Apparel, Footwear & Accessories",
          "Apparel, Footwear & Accessories",
          "Apparel, Footwear & Accessories",
          "Apparel, Footwear & Accessories",
          "Apparel, Footwear & Accessories",
          "Apparel, Footwear & Accessories",
          "Apparel, Footwear & Accessories",
          "Apparel, Footwear & Accessories",
          "Apparel, Footwear & Accessories",
          "Apparel, Footwear & Accessories",
          "Apparel, Footwear & Accessories",
          "Apparel, Footwear & Accessories",
          "Apparel, Footwear & Accessories",
          "Apparel, Footwear & Accessories",
          "Apparel, Footwear & Accessories",
          "Apparel, Footwear & Accessories",
          "Apparel, Footwear & Accessories",
          "Apparel, Footwear & Accessories",
          "Apparel, Footwear & Accessories",
          "Apparel, Footwear & Accessories",
          "Apparel, Footwear & Accessories",
          "Apparel, Footwear & Accessories",
          "Apparel, Footwear & Accessories",
          "Apparel, Footwear & Accessories",
          "Apparel, Footwear & Accessories",
          "Apparel, Footwear & Accessories",
          "Apparel, Footwear & Accessories",
          "Apparel, Footwear & Accessories",
          "Apparel, Footwear & Accessories",
          "Apparel, Footwear & Accessories",
          "Apparel, Footwear & Accessories",
          "Apparel, Footwear & Accessories",
          "Apparel, Footwear & Accessories",
          "Apparel, Footwear & Accessories",
          "Apparel, Footwear & Accessories",
          "Apparel, Footwear & Accessories",
          "Apparel, Footwear & Accessories",
          "Apparel, Footwear & Accessories",
          "Apparel, Footwear & Accessories",
          "Apparel, Footwear & Accessories",
          "Apparel, Footwear & Accessories",
          "Apparel, Footwear & Accessories",
          "Apparel, Footwear & Accessories",
          "Apparel, Footwear & Accessories",
          "Apparel, Footwear & Accessories",
          "Apparel, Footwear & Accessories",
          "Apparel, Footwear & Accessories",
          "Apparel, Footwear & Accessories",
          "Apparel, Footwear & Accessories",
          "Apparel, Footwear & Accessories",
          "Apparel, Footwear & Accessories",
          "Apparel, Footwear & Accessories",
          "Apparel, Footwear & Accessories",
          "Apparel, Footwear & Accessories",
          "Apparel, Footwear & Accessories",
          "Apparel, Footwear & Accessories",
          "Apparel, Footwear & Accessories",
          "Apparel, Footwear & Accessories",
          "Apparel, Footwear & Accessories",
          "Apparel, Footwear & Accessories",
          "Apparel, Footwear & Accessories",
          "Apparel, Footwear & Accessories",
          "Apparel, Footwear & Accessories",
          "Apparel, Footwear & Accessories",
          "Apparel, Footwear & Accessories",
          "Apparel, Footwear & Accessories",
          "Apparel, Footwear & Accessories",
          "Apparel, Footwear & Accessories",
          "Apparel, Footwear & Accessories",
          "Apparel, Footwear & Accessories",
          "Apparel, Footwear & Accessories",
          "Apparel, Footwear & Accessories",
          "Apparel, Footwear & Accessories",
          "Apparel, Footwear & Accessories",
          "Apparel, Footwear & Accessories",
          "Apparel, Footwear & Accessories",
          "Apparel, Footwear & Accessories",
          "Apparel, Footwear & Accessories",
          "Apparel, Footwear & Accessories",
          "Apparel, Footwear & Accessories",
          "Apparel, Footwear & Accessories",
          "Apparel, Footwear & Accessories",
          "Apparel, Footwear & Accessories",
          "Apparel, Footwear & Accessories",
          "Apparel, Footwear & Accessories",
          "Apparel, Footwear & Accessories",
          "Apparel, Footwear & Accessories",
          "Apparel, Footwear & Accessories",
          "Apparel, Footwear & Accessories",
          "Apparel, Footwear & Accessories",
          "Apparel, Footwear & Accessories",
          "Apparel, Footwear & Accessories",
          "Apparel, Footwear & Accessories",
          "Apparel, Footwear & Accessories",
          "Apparel, Footwear & Accessories",
          "Apparel, Footwear & Accessories",
          "Apparel, Footwear & Accessories",
          "Apparel, Footwear & Accessories",
          "Apparel, Footwear & Accessories",
          "Apparel, Footwear & Accessories",
          "Apparel, Footwear & Accessories",
          "Apparel, Footwear & Accessories",
          "Apparel, Footwear & Accessories",
          "Apparel, Footwear & Accessories",
          "Apparel, Footwear & Accessories",
          "Apparel, Footwear & Accessories",
          "Apparel, Footwear & Accessories",
          "Apparel, Footwear & Accessories",
          "Apparel, Footwear & Accessories",
          "Apparel, Footwear & Accessories",
          "Apparel, Footwear & Accessories",
          "Apparel, Footwear & Accessories",
          "Apparel, Footwear & Accessories",
          "Apparel, Footwear & Accessories",
          "Apparel, Footwear & Accessories",
          "Apparel, Footwear & Accessories",
          "Apparel, Footwear & Accessories",
          "Apparel, Footwear & Accessories",
          "Apparel, Footwear & Accessories",
          "Apparel, Footwear & Accessories",
          "Apparel, Footwear & Accessories",
          "Apparel, Footwear & Accessories",
          "Apparel, Footwear & Accessories",
          "Apparel, Footwear & Accessories",
          "Apparel, Footwear & Accessories",
          "Apparel, Footwear & Accessories",
          "Apparel, Footwear & Accessories",
          "Apparel, Footwear & Accessories",
          "Apparel, Footwear & Accessories",
          "Apparel, Footwear & Accessories",
          "Apparel, Footwear & Accessories",
          "Apparel, Footwear & Accessories",
          "Apparel, Footwear & Accessories",
          "Apparel, Footwear & Accessories",
          "Apparel, Footwear & Accessories",
          "Apparel, Footwear & Accessories",
          "Apparel, Footwear & Accessories",
          "Apparel, Footwear & Accessories",
          "Apparel, Footwear & Accessories",
          "Apparel, Footwear & Accessories",
          "Apparel, Footwear & Accessories",
          "Apparel, Footwear & Accessories",
          "Apparel, Footwear & Accessories",
          "Apparel, Footwear & Accessories",
          "Apparel, Footwear & Accessories",
          "Apparel, Footwear & Accessories",
          "Apparel, Footwear & Accessories",
          "Apparel, Footwear & Accessories",
          "Apparel, Footwear & Accessories",
          "Apparel, Footwear & Accessories",
          "Apparel, Footwear & Accessories",
          "Apparel, Footwear & Accessories",
          "Apparel, Footwear & Accessories",
          "Apparel, Footwear & Accessories",
          "Apparel, Footwear & Accessories",
          "Apparel, Footwear & Accessories",
          "Apparel, Footwear & Accessories",
          "Apparel, Footwear & Accessories",
          "Apparel, Footwear & Accessories",
          "Apparel, Footwear & Accessories",
          "Apparel, Footwear & Accessories",
          "Apparel, Footwear & Accessories",
          "Apparel, Footwear & Accessories",
          "Apparel, Footwear & Accessories",
          "Apparel, Footwear & Accessories",
          "Apparel, Footwear & Accessories",
          "Apparel, Footwear & Accessories",
          "Apparel, Footwear & Accessories",
          "Apparel, Footwear & Accessories",
          "Apparel, Footwear & Accessories",
          "Apparel, Footwear & Accessories",
          "Apparel, Footwear & Accessories",
          "Apparel, Footwear & Accessories",
          "Apparel, Footwear & Accessories",
          "Apparel, Footwear & Accessories",
          "Apparel, Footwear & Accessories",
          "Apparel, Footwear & Accessories",
          "Apparel, Footwear & Accessories",
          "Apparel, Footwear & Accessories",
          "Apparel, Footwear & Accessories",
          "Apparel, Footwear & Accessories",
          "Apparel, Footwear & Accessories",
          "Apparel, Footwear & Accessories",
          "Apparel, Footwear & Accessories",
          "Apparel, Footwear & Accessories",
          "Apparel, Footwear & Accessories",
          "Apparel, Footwear & Accessories",
          "Apparel, Footwear & Accessories",
          "Apparel, Footwear & Accessories",
          "Apparel, Footwear & Accessories",
          "Apparel, Footwear & Accessories",
          "Apparel, Footwear & Accessories",
          "Apparel, Footwear & Accessories",
          "Apparel, Footwear & Accessories",
          "Apparel, Footwear & Accessories",
          "Apparel, Footwear & Accessories",
          "Apparel, Footwear & Accessories",
          "Apparel, Footwear & Accessories",
          "Apparel, Footwear & Accessories",
          "Apparel, Footwear & Accessories",
          "Apparel, Footwear & Accessories",
          "Apparel, Footwear & Accessories",
          "Apparel, Footwear & Accessories",
          "Apparel, Footwear & Accessories",
          "Apparel, Footwear & Accessories",
          "Apparel, Footwear & Accessories",
          "Apparel, Footwear & Accessories",
          "Apparel, Footwear & Accessories",
          "Apparel, Footwear & Accessories",
          "Apparel, Footwear & Accessories",
          "Apparel, Footwear & Accessories",
          "Apparel, Footwear & Accessories",
          "Apparel, Footwear & Accessories",
          "Apparel, Footwear & Accessories",
          "Apparel, Footwear & Accessories",
          "Apparel, Footwear & Accessories",
          "Apparel, Footwear & Accessories",
          "Apparel, Footwear & Accessories",
          "Apparel, Footwear & Accessories",
          "Apparel, Footwear & Accessories",
          "Apparel, Footwear & Accessories",
          "Apparel, Footwear & Accessories",
          "Apparel, Footwear & Accessories",
          "Apparel, Footwear & Accessories",
          "Apparel, Footwear & Accessories",
          "Apparel, Footwear & Accessories",
          "Apparel, Footwear & Accessories",
          "Apparel, Footwear & Accessories",
          "Apparel, Footwear & Accessories",
          "Apparel, Footwear & Accessories",
          "Apparel, Footwear & Accessories",
          "Apparel, Footwear & Accessories",
          "Apparel, Footwear & Accessories",
          "Apparel, Footwear & Accessories",
          "Apparel, Footwear & Accessories",
          "Apparel, Footwear & Accessories",
          "Apparel, Footwear & Accessories",
          "Apparel, Footwear & Accessories"
         ],
         "x0": " ",
         "xaxis": "x",
         "y": [
          10,
          100,
          101,
          200,
          201,
          300,
          600,
          601,
          700,
          1000,
          1001,
          1100,
          100,
          125,
          200,
          225,
          250,
          325,
          500,
          600,
          650,
          650,
          701,
          826,
          926,
          987,
          1532,
          1590,
          1850,
          2005,
          2025,
          2075,
          2125,
          2150,
          2201,
          2300,
          2337,
          2500,
          2501,
          2530,
          2580,
          2600,
          2625,
          2670,
          2750,
          2750,
          2800,
          2801,
          2826,
          2876,
          2900,
          3000,
          100,
          150,
          155,
          207,
          100,
          150,
          225,
          250,
          300,
          301,
          732,
          900,
          950,
          1000,
          1032,
          1200,
          1400,
          1700,
          1777,
          1831,
          1902,
          2021,
          2111,
          2202,
          2302,
          2401,
          2500,
          2521,
          100,
          125,
          200,
          225,
          250,
          275,
          300,
          400,
          450,
          525,
          625,
          725,
          775,
          922,
          1000,
          1075,
          1111,
          1112,
          1200,
          1300,
          1500,
          1552,
          1650,
          1725,
          1800,
          1875,
          2667,
          100,
          125,
          280,
          450,
          500,
          550,
          550,
          622,
          101,
          150,
          151,
          250,
          275,
          350,
          450,
          575,
          625,
          675,
          732,
          777,
          827,
          832,
          865,
          922,
          200,
          500,
          500,
          525,
          565,
          600,
          666,
          1500,
          1700,
          2000,
          2000,
          100,
          250,
          300,
          450,
          550,
          650,
          815,
          922,
          1111,
          1200,
          1222,
          111,
          125,
          175,
          225,
          500,
          777,
          888,
          1000,
          1100,
          1111,
          1200,
          1222,
          1300,
          1333,
          1444,
          1500,
          111,
          125,
          500,
          700,
          1005,
          1009,
          1250,
          1400,
          1500,
          1500,
          1600,
          1777,
          1800,
          1888,
          1900,
          1950,
          2100,
          2111,
          2200,
          2222,
          2444,
          2600,
          2800,
          111,
          200,
          333,
          1000,
          1300,
          1355,
          1444,
          1500,
          1555,
          111,
          700,
          825,
          900,
          1000,
          1000,
          1100,
          1111,
          222,
          400,
          450,
          505,
          555,
          555,
          605,
          777,
          1111,
          1155,
          1444,
          111,
          161,
          333,
          443,
          555,
          600,
          777,
          111,
          150,
          201,
          255,
          300,
          335,
          450,
          465,
          555,
          580,
          777,
          815,
          111,
          415,
          450,
          550,
          555,
          600,
          674,
          750,
          800,
          850,
          900,
          1111,
          222,
          301,
          360,
          500,
          501,
          600,
          605,
          650,
          777,
          800,
          1000,
          1022,
          1200,
          1444,
          1500,
          1600,
          1666,
          1800,
          1888,
          1900,
          2000,
          222,
          272,
          351,
          501,
          777,
          888,
          999,
          1000,
          1222,
          1333,
          1400,
          1444,
          1555,
          1600,
          1677,
          1800,
          1900,
          2000,
          2000,
          2100,
          2200,
          2300,
          2430,
          2500,
          2500,
          2600,
          125,
          333,
          500,
          600,
          755,
          880,
          1165,
          1265,
          1500,
          1551,
          1565,
          1601,
          1651,
          1777,
          1800,
          1888,
          2000,
          2100,
          2200,
          2222,
          2325,
          2400,
          2444,
          2555,
          2600,
          2800,
          2888,
          150,
          250,
          350,
          444,
          500,
          600,
          666,
          700,
          716,
          741,
          766,
          900,
          901,
          951,
          1000,
          1001,
          1051,
          1101,
          1106,
          1131,
          1156,
          1181,
          1206,
          1231,
          1256,
          1306,
          1356,
          1400,
          1406,
          1456,
          1506,
          1556,
          1600,
          1606,
          1656,
          1706,
          1750,
          1756,
          1888,
          2000,
          2200,
          2222,
          2300,
          2350,
          2400,
          2450,
          2500,
          2550,
          2555,
          2580,
          2630,
          2680,
          2730,
          2777,
          2780,
          2830,
          2880,
          2930,
          2980,
          3030,
          3080,
          3130,
          3155,
          3180,
          3230,
          3255,
          3280,
          3330,
          3333,
          3358,
          3408,
          3458,
          3508,
          3558,
          3608,
          3658,
          3708,
          3758,
          3777,
          3802,
          3852,
          3902,
          3952,
          4002,
          4052,
          4102,
          4111,
          4136,
          4186,
          4222,
          4236,
          125,
          175,
          250,
          300,
          444,
          500,
          506,
          535,
          580,
          750,
          800,
          976,
          1000,
          1033,
          1200,
          1250,
          1300,
          1400,
          1500,
          1600,
          1800,
          2000,
          2000,
          2025,
          2075,
          2150,
          2250,
          2450,
          2550,
          3000,
          3050,
          3150,
          3250,
          3399,
          3999,
          4000,
          4099,
          4100,
          4200,
          4300,
          4400,
          4500,
          4600,
          4700,
          4999,
          5555,
          5888,
          5999,
          6222,
          125,
          175,
          222,
          225,
          2050,
          2444,
          2777,
          3000,
          3100,
          3111,
          3333,
          3500,
          3600,
          3666,
          3700,
          3850,
          222,
          2000,
          2050,
          3111,
          3200,
          3599,
          3699,
          3750,
          3799,
          3899,
          3949,
          4000,
          111,
          125,
          175,
          534,
          688,
          715,
          765,
          790,
          815,
          888,
          1111,
          1212,
          1222,
          111,
          165,
          210,
          215,
          355,
          688,
          715,
          765,
          790,
          888,
          890,
          1000,
          1050,
          1100,
          1111,
          1136,
          1222,
          1255,
          1305,
          1333,
          1355,
          1455,
          1555,
          1555,
          1605,
          1677,
          1801,
          1888,
          2001,
          111,
          125,
          150,
          688,
          738,
          888,
          1000,
          1100,
          1111,
          1333,
          1468,
          1518,
          1555,
          1717,
          1777,
          1818,
          1901,
          2057,
          150,
          200,
          250,
          300,
          322,
          350,
          372,
          460,
          548,
          700,
          700,
          777,
          827,
          900,
          1050,
          1100,
          1111,
          1225,
          1300,
          1450,
          1555,
          1600,
          1700,
          1777,
          1844,
          2157,
          2200,
          222,
          350,
          400,
          580,
          888,
          915,
          1008,
          1033,
          1083,
          1111,
          1200,
          1222,
          1333,
          1400,
          1450,
          1500,
          1550,
          1588,
          1600,
          1777,
          100,
          150,
          200,
          250,
          300,
          500,
          555,
          700,
          750,
          800,
          850,
          888,
          900,
          950,
          1000,
          1050,
          1100,
          1111,
          1136,
          1186,
          1222,
          1236,
          1286,
          1333,
          1336,
          100,
          150,
          200,
          250,
          300,
          500,
          555,
          666,
          800,
          850,
          888,
          908,
          1000,
          1050,
          1100,
          1111,
          1222,
          1250,
          1299,
          1300,
          1350,
          1399,
          1400,
          1499,
          1599,
          1600,
          1699,
          150,
          200,
          250,
          300,
          400,
          450,
          600,
          800,
          1200,
          1400,
          2000,
          3000,
          4000,
          4000,
          125,
          200,
          222,
          275,
          300,
          350,
          400,
          405,
          435,
          500,
          505,
          550,
          575,
          600,
          655,
          750,
          777,
          888,
          1111,
          1222,
          2000,
          125,
          175,
          222,
          225,
          300,
          301,
          350,
          400,
          401,
          450,
          125,
          222,
          300,
          350,
          400,
          450,
          500,
          501,
          600,
          125,
          175,
          222,
          225,
          250,
          300,
          300,
          375,
          500,
          501,
          600,
          600,
          444,
          500,
          650,
          756,
          956,
          1000,
          1100,
          1200,
          1250,
          1300,
          1444,
          1475,
          1700,
          1750,
          1777,
          1800,
          2222,
          444,
          500,
          500,
          550,
          600,
          708,
          800,
          950,
          1086,
          1200,
          1236,
          1287,
          1351,
          1444,
          1470,
          1494,
          1745,
          1777,
          1977,
          2047,
          2222,
          2300,
          2444,
          2745,
          2777,
          2795,
          2888,
          444,
          500,
          550,
          600,
          608,
          700,
          955,
          1005,
          1086,
          1136,
          1186,
          1350,
          1430,
          1444,
          1745,
          1777,
          2047,
          2222,
          2475,
          2888,
          3047,
          3333,
          3400,
          3475,
          3740,
          4300,
          4444,
          4475,
          4525,
          4575,
          4625,
          4700,
          4750,
          4800,
          4850,
          4900,
          4975,
          5475,
          5555,
          5677,
          5745,
          5888,
          5900,
          5925,
          333,
          500,
          700,
          800,
          850,
          900,
          950,
          996,
          1000,
          1100,
          700,
          888,
          1080,
          1300,
          1500,
          222,
          500,
          708,
          750,
          850,
          888
         ],
         "y0": " ",
         "yaxis": "y"
        }
       ],
       "layout": {
        "boxmode": "group",
        "legend": {
         "tracegroupgap": 0
        },
        "template": {
         "data": {
          "bar": [
           {
            "error_x": {
             "color": "#2a3f5f"
            },
            "error_y": {
             "color": "#2a3f5f"
            },
            "marker": {
             "line": {
              "color": "#E5ECF6",
              "width": 0.5
             },
             "pattern": {
              "fillmode": "overlay",
              "size": 10,
              "solidity": 0.2
             }
            },
            "type": "bar"
           }
          ],
          "barpolar": [
           {
            "marker": {
             "line": {
              "color": "#E5ECF6",
              "width": 0.5
             },
             "pattern": {
              "fillmode": "overlay",
              "size": 10,
              "solidity": 0.2
             }
            },
            "type": "barpolar"
           }
          ],
          "carpet": [
           {
            "aaxis": {
             "endlinecolor": "#2a3f5f",
             "gridcolor": "white",
             "linecolor": "white",
             "minorgridcolor": "white",
             "startlinecolor": "#2a3f5f"
            },
            "baxis": {
             "endlinecolor": "#2a3f5f",
             "gridcolor": "white",
             "linecolor": "white",
             "minorgridcolor": "white",
             "startlinecolor": "#2a3f5f"
            },
            "type": "carpet"
           }
          ],
          "choropleth": [
           {
            "colorbar": {
             "outlinewidth": 0,
             "ticks": ""
            },
            "type": "choropleth"
           }
          ],
          "contour": [
           {
            "colorbar": {
             "outlinewidth": 0,
             "ticks": ""
            },
            "colorscale": [
             [
              0,
              "#0d0887"
             ],
             [
              0.1111111111111111,
              "#46039f"
             ],
             [
              0.2222222222222222,
              "#7201a8"
             ],
             [
              0.3333333333333333,
              "#9c179e"
             ],
             [
              0.4444444444444444,
              "#bd3786"
             ],
             [
              0.5555555555555556,
              "#d8576b"
             ],
             [
              0.6666666666666666,
              "#ed7953"
             ],
             [
              0.7777777777777778,
              "#fb9f3a"
             ],
             [
              0.8888888888888888,
              "#fdca26"
             ],
             [
              1,
              "#f0f921"
             ]
            ],
            "type": "contour"
           }
          ],
          "contourcarpet": [
           {
            "colorbar": {
             "outlinewidth": 0,
             "ticks": ""
            },
            "type": "contourcarpet"
           }
          ],
          "heatmap": [
           {
            "colorbar": {
             "outlinewidth": 0,
             "ticks": ""
            },
            "colorscale": [
             [
              0,
              "#0d0887"
             ],
             [
              0.1111111111111111,
              "#46039f"
             ],
             [
              0.2222222222222222,
              "#7201a8"
             ],
             [
              0.3333333333333333,
              "#9c179e"
             ],
             [
              0.4444444444444444,
              "#bd3786"
             ],
             [
              0.5555555555555556,
              "#d8576b"
             ],
             [
              0.6666666666666666,
              "#ed7953"
             ],
             [
              0.7777777777777778,
              "#fb9f3a"
             ],
             [
              0.8888888888888888,
              "#fdca26"
             ],
             [
              1,
              "#f0f921"
             ]
            ],
            "type": "heatmap"
           }
          ],
          "heatmapgl": [
           {
            "colorbar": {
             "outlinewidth": 0,
             "ticks": ""
            },
            "colorscale": [
             [
              0,
              "#0d0887"
             ],
             [
              0.1111111111111111,
              "#46039f"
             ],
             [
              0.2222222222222222,
              "#7201a8"
             ],
             [
              0.3333333333333333,
              "#9c179e"
             ],
             [
              0.4444444444444444,
              "#bd3786"
             ],
             [
              0.5555555555555556,
              "#d8576b"
             ],
             [
              0.6666666666666666,
              "#ed7953"
             ],
             [
              0.7777777777777778,
              "#fb9f3a"
             ],
             [
              0.8888888888888888,
              "#fdca26"
             ],
             [
              1,
              "#f0f921"
             ]
            ],
            "type": "heatmapgl"
           }
          ],
          "histogram": [
           {
            "marker": {
             "pattern": {
              "fillmode": "overlay",
              "size": 10,
              "solidity": 0.2
             }
            },
            "type": "histogram"
           }
          ],
          "histogram2d": [
           {
            "colorbar": {
             "outlinewidth": 0,
             "ticks": ""
            },
            "colorscale": [
             [
              0,
              "#0d0887"
             ],
             [
              0.1111111111111111,
              "#46039f"
             ],
             [
              0.2222222222222222,
              "#7201a8"
             ],
             [
              0.3333333333333333,
              "#9c179e"
             ],
             [
              0.4444444444444444,
              "#bd3786"
             ],
             [
              0.5555555555555556,
              "#d8576b"
             ],
             [
              0.6666666666666666,
              "#ed7953"
             ],
             [
              0.7777777777777778,
              "#fb9f3a"
             ],
             [
              0.8888888888888888,
              "#fdca26"
             ],
             [
              1,
              "#f0f921"
             ]
            ],
            "type": "histogram2d"
           }
          ],
          "histogram2dcontour": [
           {
            "colorbar": {
             "outlinewidth": 0,
             "ticks": ""
            },
            "colorscale": [
             [
              0,
              "#0d0887"
             ],
             [
              0.1111111111111111,
              "#46039f"
             ],
             [
              0.2222222222222222,
              "#7201a8"
             ],
             [
              0.3333333333333333,
              "#9c179e"
             ],
             [
              0.4444444444444444,
              "#bd3786"
             ],
             [
              0.5555555555555556,
              "#d8576b"
             ],
             [
              0.6666666666666666,
              "#ed7953"
             ],
             [
              0.7777777777777778,
              "#fb9f3a"
             ],
             [
              0.8888888888888888,
              "#fdca26"
             ],
             [
              1,
              "#f0f921"
             ]
            ],
            "type": "histogram2dcontour"
           }
          ],
          "mesh3d": [
           {
            "colorbar": {
             "outlinewidth": 0,
             "ticks": ""
            },
            "type": "mesh3d"
           }
          ],
          "parcoords": [
           {
            "line": {
             "colorbar": {
              "outlinewidth": 0,
              "ticks": ""
             }
            },
            "type": "parcoords"
           }
          ],
          "pie": [
           {
            "automargin": true,
            "type": "pie"
           }
          ],
          "scatter": [
           {
            "fillpattern": {
             "fillmode": "overlay",
             "size": 10,
             "solidity": 0.2
            },
            "type": "scatter"
           }
          ],
          "scatter3d": [
           {
            "line": {
             "colorbar": {
              "outlinewidth": 0,
              "ticks": ""
             }
            },
            "marker": {
             "colorbar": {
              "outlinewidth": 0,
              "ticks": ""
             }
            },
            "type": "scatter3d"
           }
          ],
          "scattercarpet": [
           {
            "marker": {
             "colorbar": {
              "outlinewidth": 0,
              "ticks": ""
             }
            },
            "type": "scattercarpet"
           }
          ],
          "scattergeo": [
           {
            "marker": {
             "colorbar": {
              "outlinewidth": 0,
              "ticks": ""
             }
            },
            "type": "scattergeo"
           }
          ],
          "scattergl": [
           {
            "marker": {
             "colorbar": {
              "outlinewidth": 0,
              "ticks": ""
             }
            },
            "type": "scattergl"
           }
          ],
          "scattermapbox": [
           {
            "marker": {
             "colorbar": {
              "outlinewidth": 0,
              "ticks": ""
             }
            },
            "type": "scattermapbox"
           }
          ],
          "scatterpolar": [
           {
            "marker": {
             "colorbar": {
              "outlinewidth": 0,
              "ticks": ""
             }
            },
            "type": "scatterpolar"
           }
          ],
          "scatterpolargl": [
           {
            "marker": {
             "colorbar": {
              "outlinewidth": 0,
              "ticks": ""
             }
            },
            "type": "scatterpolargl"
           }
          ],
          "scatterternary": [
           {
            "marker": {
             "colorbar": {
              "outlinewidth": 0,
              "ticks": ""
             }
            },
            "type": "scatterternary"
           }
          ],
          "surface": [
           {
            "colorbar": {
             "outlinewidth": 0,
             "ticks": ""
            },
            "colorscale": [
             [
              0,
              "#0d0887"
             ],
             [
              0.1111111111111111,
              "#46039f"
             ],
             [
              0.2222222222222222,
              "#7201a8"
             ],
             [
              0.3333333333333333,
              "#9c179e"
             ],
             [
              0.4444444444444444,
              "#bd3786"
             ],
             [
              0.5555555555555556,
              "#d8576b"
             ],
             [
              0.6666666666666666,
              "#ed7953"
             ],
             [
              0.7777777777777778,
              "#fb9f3a"
             ],
             [
              0.8888888888888888,
              "#fdca26"
             ],
             [
              1,
              "#f0f921"
             ]
            ],
            "type": "surface"
           }
          ],
          "table": [
           {
            "cells": {
             "fill": {
              "color": "#EBF0F8"
             },
             "line": {
              "color": "white"
             }
            },
            "header": {
             "fill": {
              "color": "#C8D4E3"
             },
             "line": {
              "color": "white"
             }
            },
            "type": "table"
           }
          ]
         },
         "layout": {
          "annotationdefaults": {
           "arrowcolor": "#2a3f5f",
           "arrowhead": 0,
           "arrowwidth": 1
          },
          "autotypenumbers": "strict",
          "coloraxis": {
           "colorbar": {
            "outlinewidth": 0,
            "ticks": ""
           }
          },
          "colorscale": {
           "diverging": [
            [
             0,
             "#8e0152"
            ],
            [
             0.1,
             "#c51b7d"
            ],
            [
             0.2,
             "#de77ae"
            ],
            [
             0.3,
             "#f1b6da"
            ],
            [
             0.4,
             "#fde0ef"
            ],
            [
             0.5,
             "#f7f7f7"
            ],
            [
             0.6,
             "#e6f5d0"
            ],
            [
             0.7,
             "#b8e186"
            ],
            [
             0.8,
             "#7fbc41"
            ],
            [
             0.9,
             "#4d9221"
            ],
            [
             1,
             "#276419"
            ]
           ],
           "sequential": [
            [
             0,
             "#0d0887"
            ],
            [
             0.1111111111111111,
             "#46039f"
            ],
            [
             0.2222222222222222,
             "#7201a8"
            ],
            [
             0.3333333333333333,
             "#9c179e"
            ],
            [
             0.4444444444444444,
             "#bd3786"
            ],
            [
             0.5555555555555556,
             "#d8576b"
            ],
            [
             0.6666666666666666,
             "#ed7953"
            ],
            [
             0.7777777777777778,
             "#fb9f3a"
            ],
            [
             0.8888888888888888,
             "#fdca26"
            ],
            [
             1,
             "#f0f921"
            ]
           ],
           "sequentialminus": [
            [
             0,
             "#0d0887"
            ],
            [
             0.1111111111111111,
             "#46039f"
            ],
            [
             0.2222222222222222,
             "#7201a8"
            ],
            [
             0.3333333333333333,
             "#9c179e"
            ],
            [
             0.4444444444444444,
             "#bd3786"
            ],
            [
             0.5555555555555556,
             "#d8576b"
            ],
            [
             0.6666666666666666,
             "#ed7953"
            ],
            [
             0.7777777777777778,
             "#fb9f3a"
            ],
            [
             0.8888888888888888,
             "#fdca26"
            ],
            [
             1,
             "#f0f921"
            ]
           ]
          },
          "colorway": [
           "#636efa",
           "#EF553B",
           "#00cc96",
           "#ab63fa",
           "#FFA15A",
           "#19d3f3",
           "#FF6692",
           "#B6E880",
           "#FF97FF",
           "#FECB52"
          ],
          "font": {
           "color": "#2a3f5f"
          },
          "geo": {
           "bgcolor": "white",
           "lakecolor": "white",
           "landcolor": "#E5ECF6",
           "showlakes": true,
           "showland": true,
           "subunitcolor": "white"
          },
          "hoverlabel": {
           "align": "left"
          },
          "hovermode": "closest",
          "mapbox": {
           "style": "light"
          },
          "paper_bgcolor": "white",
          "plot_bgcolor": "#E5ECF6",
          "polar": {
           "angularaxis": {
            "gridcolor": "white",
            "linecolor": "white",
            "ticks": ""
           },
           "bgcolor": "#E5ECF6",
           "radialaxis": {
            "gridcolor": "white",
            "linecolor": "white",
            "ticks": ""
           }
          },
          "scene": {
           "xaxis": {
            "backgroundcolor": "#E5ECF6",
            "gridcolor": "white",
            "gridwidth": 2,
            "linecolor": "white",
            "showbackground": true,
            "ticks": "",
            "zerolinecolor": "white"
           },
           "yaxis": {
            "backgroundcolor": "#E5ECF6",
            "gridcolor": "white",
            "gridwidth": 2,
            "linecolor": "white",
            "showbackground": true,
            "ticks": "",
            "zerolinecolor": "white"
           },
           "zaxis": {
            "backgroundcolor": "#E5ECF6",
            "gridcolor": "white",
            "gridwidth": 2,
            "linecolor": "white",
            "showbackground": true,
            "ticks": "",
            "zerolinecolor": "white"
           }
          },
          "shapedefaults": {
           "line": {
            "color": "#2a3f5f"
           }
          },
          "ternary": {
           "aaxis": {
            "gridcolor": "white",
            "linecolor": "white",
            "ticks": ""
           },
           "baxis": {
            "gridcolor": "white",
            "linecolor": "white",
            "ticks": ""
           },
           "bgcolor": "#E5ECF6",
           "caxis": {
            "gridcolor": "white",
            "linecolor": "white",
            "ticks": ""
           }
          },
          "title": {
           "x": 0.05
          },
          "xaxis": {
           "automargin": true,
           "gridcolor": "white",
           "linecolor": "white",
           "ticks": "",
           "title": {
            "standoff": 15
           },
           "zerolinecolor": "white",
           "zerolinewidth": 2
          },
          "yaxis": {
           "automargin": true,
           "gridcolor": "white",
           "linecolor": "white",
           "ticks": "",
           "title": {
            "standoff": 15
           },
           "zerolinecolor": "white",
           "zerolinewidth": 2
          }
         }
        },
        "title": {
         "text": "Bid amount distribution per category and auction date"
        },
        "xaxis": {
         "anchor": "y",
         "categoryarray": [
          "Apparel, Footwear & Accessories",
          "Consumer Electronics",
          "Furniture"
         ],
         "categoryorder": "array",
         "domain": [
          0,
          1
         ],
         "title": {
          "text": "bstock_category_name"
         }
        },
        "yaxis": {
         "anchor": "x",
         "domain": [
          0,
          1
         ],
         "title": {
          "text": "bid_amount"
         }
        }
       }
      },
      "text/html": [
       "<div>                            <div id=\"b7bdbfb8-9048-4988-b323-e848650c48ae\" class=\"plotly-graph-div\" style=\"height:525px; width:100%;\"></div>            <script type=\"text/javascript\">                require([\"plotly\"], function(Plotly) {                    window.PLOTLYENV=window.PLOTLYENV || {};                                    if (document.getElementById(\"b7bdbfb8-9048-4988-b323-e848650c48ae\")) {                    Plotly.newPlot(                        \"b7bdbfb8-9048-4988-b323-e848650c48ae\",                        [{\"alignmentgroup\":\"True\",\"hovertemplate\":\"bstock_category_name=%{x}<br>bid_amount=%{y}<extra></extra>\",\"legendgroup\":\"\",\"marker\":{\"color\":\"#636efa\"},\"name\":\"\",\"notched\":false,\"offsetgroup\":\"\",\"orientation\":\"v\",\"showlegend\":false,\"x\":[\"Apparel, Footwear & Accessories\",\"Apparel, Footwear & Accessories\",\"Apparel, Footwear & Accessories\",\"Apparel, Footwear & Accessories\",\"Apparel, Footwear & Accessories\",\"Apparel, Footwear & Accessories\",\"Apparel, Footwear & Accessories\",\"Apparel, Footwear & Accessories\",\"Apparel, Footwear & Accessories\",\"Apparel, Footwear & Accessories\",\"Apparel, Footwear & Accessories\",\"Apparel, Footwear & Accessories\",\"Apparel, Footwear & Accessories\",\"Apparel, Footwear & Accessories\",\"Apparel, Footwear & Accessories\",\"Apparel, Footwear & Accessories\",\"Apparel, Footwear & Accessories\",\"Apparel, Footwear & Accessories\",\"Apparel, Footwear & Accessories\",\"Apparel, Footwear & Accessories\",\"Apparel, Footwear & Accessories\",\"Apparel, Footwear & Accessories\",\"Apparel, Footwear & Accessories\",\"Apparel, Footwear & Accessories\",\"Apparel, Footwear & Accessories\",\"Apparel, Footwear & Accessories\",\"Apparel, Footwear & Accessories\",\"Apparel, Footwear & Accessories\",\"Apparel, Footwear & Accessories\",\"Apparel, Footwear & Accessories\",\"Apparel, Footwear & Accessories\",\"Apparel, Footwear & Accessories\",\"Apparel, Footwear & Accessories\",\"Apparel, Footwear & Accessories\",\"Apparel, Footwear & Accessories\",\"Apparel, Footwear & Accessories\",\"Apparel, Footwear & Accessories\",\"Apparel, Footwear & Accessories\",\"Apparel, Footwear & Accessories\",\"Apparel, Footwear & Accessories\",\"Apparel, Footwear & Accessories\",\"Apparel, Footwear & Accessories\",\"Apparel, Footwear & Accessories\",\"Apparel, Footwear & Accessories\",\"Apparel, Footwear & Accessories\",\"Apparel, Footwear & Accessories\",\"Apparel, Footwear & Accessories\",\"Apparel, Footwear & Accessories\",\"Apparel, Footwear & Accessories\",\"Apparel, Footwear & Accessories\",\"Apparel, Footwear & Accessories\",\"Apparel, Footwear & Accessories\",\"Apparel, Footwear & Accessories\",\"Apparel, Footwear & Accessories\",\"Apparel, Footwear & Accessories\",\"Apparel, Footwear & Accessories\",\"Furniture\",\"Furniture\",\"Furniture\",\"Furniture\",\"Furniture\",\"Furniture\",\"Furniture\",\"Furniture\",\"Furniture\",\"Furniture\",\"Furniture\",\"Furniture\",\"Furniture\",\"Furniture\",\"Furniture\",\"Furniture\",\"Furniture\",\"Furniture\",\"Furniture\",\"Furniture\",\"Furniture\",\"Furniture\",\"Furniture\",\"Furniture\",\"Consumer Electronics\",\"Consumer Electronics\",\"Consumer Electronics\",\"Consumer Electronics\",\"Consumer Electronics\",\"Consumer Electronics\",\"Consumer Electronics\",\"Consumer Electronics\",\"Consumer Electronics\",\"Consumer Electronics\",\"Consumer Electronics\",\"Consumer Electronics\",\"Consumer Electronics\",\"Consumer Electronics\",\"Consumer Electronics\",\"Consumer Electronics\",\"Consumer Electronics\",\"Consumer Electronics\",\"Consumer Electronics\",\"Consumer Electronics\",\"Consumer Electronics\",\"Consumer Electronics\",\"Consumer Electronics\",\"Consumer Electronics\",\"Consumer Electronics\",\"Consumer Electronics\",\"Consumer Electronics\",\"Consumer Electronics\",\"Consumer Electronics\",\"Consumer Electronics\",\"Consumer Electronics\",\"Consumer Electronics\",\"Consumer Electronics\",\"Consumer Electronics\",\"Consumer Electronics\",\"Consumer Electronics\",\"Consumer Electronics\",\"Consumer Electronics\",\"Consumer Electronics\",\"Consumer Electronics\",\"Consumer Electronics\",\"Consumer Electronics\",\"Consumer Electronics\",\"Consumer Electronics\",\"Consumer Electronics\",\"Consumer Electronics\",\"Consumer Electronics\",\"Consumer Electronics\",\"Consumer Electronics\",\"Consumer Electronics\",\"Consumer Electronics\",\"Consumer Electronics\",\"Consumer Electronics\",\"Consumer Electronics\",\"Consumer Electronics\",\"Consumer Electronics\",\"Consumer Electronics\",\"Consumer Electronics\",\"Consumer Electronics\",\"Consumer Electronics\",\"Consumer Electronics\",\"Consumer Electronics\",\"Apparel, Footwear & Accessories\",\"Apparel, Footwear & Accessories\",\"Apparel, Footwear & Accessories\",\"Apparel, Footwear & Accessories\",\"Apparel, Footwear & Accessories\",\"Apparel, Footwear & Accessories\",\"Apparel, Footwear & Accessories\",\"Apparel, Footwear & Accessories\",\"Apparel, Footwear & Accessories\",\"Apparel, Footwear & Accessories\",\"Apparel, Footwear & Accessories\",\"Apparel, Footwear & Accessories\",\"Apparel, Footwear & Accessories\",\"Apparel, Footwear & Accessories\",\"Apparel, Footwear & Accessories\",\"Apparel, Footwear & Accessories\",\"Apparel, Footwear & Accessories\",\"Apparel, Footwear & Accessories\",\"Apparel, Footwear & Accessories\",\"Apparel, Footwear & Accessories\",\"Apparel, Footwear & Accessories\",\"Apparel, Footwear & Accessories\",\"Apparel, Footwear & Accessories\",\"Apparel, Footwear & Accessories\",\"Apparel, Footwear & Accessories\",\"Apparel, Footwear & Accessories\",\"Apparel, Footwear & Accessories\",\"Apparel, Footwear & Accessories\",\"Apparel, Footwear & Accessories\",\"Apparel, Footwear & Accessories\",\"Apparel, Footwear & Accessories\",\"Apparel, Footwear & Accessories\",\"Apparel, Footwear & Accessories\",\"Apparel, Footwear & Accessories\",\"Apparel, Footwear & Accessories\",\"Apparel, Footwear & Accessories\",\"Apparel, Footwear & Accessories\",\"Apparel, Footwear & Accessories\",\"Apparel, Footwear & Accessories\",\"Apparel, Footwear & Accessories\",\"Apparel, Footwear & Accessories\",\"Apparel, Footwear & Accessories\",\"Apparel, Footwear & Accessories\",\"Apparel, Footwear & Accessories\",\"Apparel, Footwear & Accessories\",\"Apparel, Footwear & Accessories\",\"Apparel, Footwear & Accessories\",\"Apparel, Footwear & Accessories\",\"Apparel, Footwear & Accessories\",\"Apparel, Footwear & Accessories\",\"Apparel, Footwear & Accessories\",\"Apparel, Footwear & Accessories\",\"Apparel, Footwear & Accessories\",\"Apparel, Footwear & Accessories\",\"Apparel, Footwear & Accessories\",\"Apparel, Footwear & Accessories\",\"Apparel, Footwear & Accessories\",\"Apparel, Footwear & Accessories\",\"Apparel, Footwear & Accessories\",\"Apparel, Footwear & Accessories\",\"Apparel, Footwear & Accessories\",\"Apparel, Footwear & Accessories\",\"Apparel, Footwear & Accessories\",\"Apparel, Footwear & Accessories\",\"Apparel, Footwear & Accessories\",\"Apparel, Footwear & Accessories\",\"Apparel, Footwear & Accessories\",\"Apparel, Footwear & Accessories\",\"Apparel, Footwear & Accessories\",\"Apparel, Footwear & Accessories\",\"Apparel, Footwear & Accessories\",\"Apparel, Footwear & Accessories\",\"Apparel, Footwear & Accessories\",\"Apparel, Footwear & Accessories\",\"Apparel, Footwear & Accessories\",\"Apparel, Footwear & Accessories\",\"Apparel, Footwear & Accessories\",\"Apparel, Footwear & Accessories\",\"Apparel, Footwear & Accessories\",\"Apparel, Footwear & Accessories\",\"Apparel, Footwear & Accessories\",\"Apparel, Footwear & Accessories\",\"Apparel, Footwear & Accessories\",\"Apparel, Footwear & Accessories\",\"Apparel, Footwear & Accessories\",\"Apparel, Footwear & Accessories\",\"Apparel, Footwear & Accessories\",\"Apparel, Footwear & Accessories\",\"Apparel, Footwear & Accessories\",\"Apparel, Footwear & Accessories\",\"Apparel, Footwear & Accessories\",\"Apparel, Footwear & Accessories\",\"Apparel, Footwear & Accessories\",\"Apparel, Footwear & Accessories\",\"Apparel, Footwear & Accessories\",\"Apparel, Footwear & Accessories\",\"Apparel, Footwear & Accessories\",\"Apparel, Footwear & Accessories\",\"Apparel, Footwear & Accessories\",\"Apparel, Footwear & Accessories\",\"Apparel, Footwear & Accessories\",\"Apparel, Footwear & Accessories\",\"Apparel, Footwear & Accessories\",\"Apparel, Footwear & Accessories\",\"Apparel, Footwear & Accessories\",\"Apparel, Footwear & Accessories\",\"Apparel, Footwear & Accessories\",\"Apparel, Footwear & Accessories\",\"Apparel, Footwear & Accessories\",\"Apparel, Footwear & Accessories\",\"Apparel, Footwear & Accessories\",\"Apparel, Footwear & Accessories\",\"Apparel, Footwear & Accessories\",\"Apparel, Footwear & Accessories\",\"Apparel, Footwear & Accessories\",\"Apparel, Footwear & Accessories\",\"Apparel, Footwear & Accessories\",\"Apparel, Footwear & Accessories\",\"Apparel, Footwear & Accessories\",\"Apparel, Footwear & Accessories\",\"Apparel, Footwear & Accessories\",\"Apparel, Footwear & Accessories\",\"Apparel, Footwear & Accessories\",\"Apparel, Footwear & Accessories\",\"Apparel, Footwear & Accessories\",\"Apparel, Footwear & Accessories\",\"Apparel, Footwear & Accessories\",\"Apparel, Footwear & Accessories\",\"Apparel, Footwear & Accessories\",\"Apparel, Footwear & Accessories\",\"Apparel, Footwear & Accessories\",\"Apparel, Footwear & Accessories\",\"Apparel, Footwear & Accessories\",\"Apparel, Footwear & Accessories\",\"Apparel, Footwear & Accessories\",\"Apparel, Footwear & Accessories\",\"Apparel, Footwear & Accessories\",\"Apparel, Footwear & Accessories\",\"Apparel, Footwear & Accessories\",\"Apparel, Footwear & Accessories\",\"Apparel, Footwear & Accessories\",\"Apparel, Footwear & Accessories\",\"Apparel, Footwear & Accessories\",\"Apparel, Footwear & Accessories\",\"Apparel, Footwear & Accessories\",\"Apparel, Footwear & Accessories\",\"Apparel, Footwear & Accessories\",\"Apparel, Footwear & Accessories\",\"Apparel, Footwear & Accessories\",\"Apparel, Footwear & Accessories\",\"Apparel, Footwear & Accessories\",\"Apparel, Footwear & Accessories\",\"Apparel, Footwear & Accessories\",\"Apparel, Footwear & Accessories\",\"Apparel, Footwear & Accessories\",\"Apparel, Footwear & Accessories\",\"Apparel, Footwear & Accessories\",\"Apparel, Footwear & Accessories\",\"Apparel, Footwear & Accessories\",\"Apparel, Footwear & Accessories\",\"Apparel, Footwear & Accessories\",\"Apparel, Footwear & Accessories\",\"Apparel, Footwear & Accessories\",\"Apparel, Footwear & Accessories\",\"Apparel, Footwear & Accessories\",\"Apparel, Footwear & Accessories\",\"Apparel, Footwear & Accessories\",\"Apparel, Footwear & Accessories\",\"Apparel, Footwear & Accessories\",\"Apparel, Footwear & Accessories\",\"Apparel, Footwear & Accessories\",\"Apparel, Footwear & Accessories\",\"Apparel, Footwear & Accessories\",\"Apparel, Footwear & Accessories\",\"Apparel, Footwear & Accessories\",\"Apparel, Footwear & Accessories\",\"Apparel, Footwear & Accessories\",\"Apparel, Footwear & Accessories\",\"Apparel, Footwear & Accessories\",\"Apparel, Footwear & Accessories\",\"Apparel, Footwear & Accessories\",\"Apparel, Footwear & Accessories\",\"Apparel, Footwear & Accessories\",\"Apparel, Footwear & Accessories\",\"Apparel, Footwear & Accessories\",\"Apparel, Footwear & Accessories\",\"Apparel, Footwear & Accessories\",\"Apparel, Footwear & Accessories\",\"Apparel, Footwear & Accessories\",\"Apparel, Footwear & Accessories\",\"Apparel, Footwear & Accessories\",\"Apparel, Footwear & Accessories\",\"Apparel, Footwear & Accessories\",\"Apparel, Footwear & Accessories\",\"Apparel, Footwear & Accessories\",\"Apparel, Footwear & Accessories\",\"Apparel, Footwear & Accessories\",\"Apparel, Footwear & Accessories\",\"Apparel, Footwear & Accessories\",\"Apparel, Footwear & Accessories\",\"Apparel, Footwear & Accessories\",\"Apparel, Footwear & Accessories\",\"Apparel, Footwear & Accessories\",\"Apparel, Footwear & Accessories\",\"Apparel, Footwear & Accessories\",\"Apparel, Footwear & Accessories\",\"Apparel, Footwear & Accessories\",\"Apparel, Footwear & Accessories\",\"Apparel, Footwear & Accessories\",\"Apparel, Footwear & Accessories\",\"Apparel, Footwear & Accessories\",\"Apparel, Footwear & Accessories\",\"Apparel, Footwear & Accessories\",\"Apparel, Footwear & Accessories\",\"Apparel, Footwear & Accessories\",\"Apparel, Footwear & Accessories\",\"Apparel, Footwear & Accessories\",\"Apparel, Footwear & Accessories\",\"Apparel, Footwear & Accessories\",\"Apparel, Footwear & Accessories\",\"Apparel, Footwear & Accessories\",\"Apparel, Footwear & Accessories\",\"Apparel, Footwear & Accessories\",\"Apparel, Footwear & Accessories\",\"Apparel, Footwear & Accessories\",\"Apparel, Footwear & Accessories\",\"Apparel, Footwear & Accessories\",\"Apparel, Footwear & Accessories\",\"Apparel, Footwear & Accessories\",\"Apparel, Footwear & Accessories\",\"Apparel, Footwear & Accessories\",\"Apparel, Footwear & Accessories\",\"Apparel, Footwear & Accessories\",\"Apparel, Footwear & Accessories\",\"Apparel, Footwear & Accessories\",\"Apparel, Footwear & Accessories\",\"Apparel, Footwear & Accessories\",\"Apparel, Footwear & Accessories\",\"Apparel, Footwear & Accessories\",\"Apparel, Footwear & Accessories\",\"Apparel, Footwear & Accessories\",\"Apparel, Footwear & Accessories\",\"Apparel, Footwear & Accessories\",\"Apparel, Footwear & Accessories\",\"Apparel, Footwear & Accessories\",\"Apparel, Footwear & Accessories\",\"Apparel, Footwear & Accessories\",\"Apparel, Footwear & Accessories\",\"Apparel, Footwear & Accessories\",\"Apparel, Footwear & Accessories\",\"Apparel, Footwear & Accessories\",\"Apparel, Footwear & Accessories\",\"Apparel, Footwear & Accessories\",\"Apparel, Footwear & Accessories\",\"Apparel, Footwear & Accessories\",\"Apparel, Footwear & Accessories\",\"Apparel, Footwear & Accessories\",\"Apparel, Footwear & Accessories\",\"Apparel, Footwear & Accessories\",\"Apparel, Footwear & Accessories\",\"Apparel, Footwear & Accessories\",\"Apparel, Footwear & Accessories\",\"Apparel, Footwear & Accessories\",\"Apparel, Footwear & Accessories\",\"Apparel, Footwear & Accessories\",\"Apparel, Footwear & Accessories\",\"Apparel, Footwear & Accessories\",\"Apparel, Footwear & Accessories\",\"Apparel, Footwear & Accessories\",\"Apparel, Footwear & Accessories\",\"Apparel, Footwear & Accessories\",\"Apparel, Footwear & Accessories\",\"Apparel, Footwear & Accessories\",\"Apparel, Footwear & Accessories\",\"Apparel, Footwear & Accessories\",\"Apparel, Footwear & Accessories\",\"Apparel, Footwear & Accessories\",\"Apparel, Footwear & Accessories\",\"Apparel, Footwear & Accessories\",\"Apparel, Footwear & Accessories\",\"Apparel, Footwear & Accessories\",\"Apparel, Footwear & Accessories\",\"Apparel, Footwear & Accessories\",\"Apparel, Footwear & Accessories\",\"Apparel, Footwear & Accessories\",\"Apparel, Footwear & Accessories\",\"Apparel, Footwear & Accessories\",\"Apparel, Footwear & Accessories\",\"Apparel, Footwear & Accessories\",\"Apparel, Footwear & Accessories\",\"Apparel, Footwear & Accessories\",\"Apparel, Footwear & Accessories\",\"Apparel, Footwear & Accessories\",\"Apparel, Footwear & Accessories\",\"Apparel, Footwear & Accessories\",\"Apparel, Footwear & Accessories\",\"Apparel, Footwear & Accessories\",\"Apparel, Footwear & Accessories\",\"Apparel, Footwear & Accessories\",\"Apparel, Footwear & Accessories\",\"Apparel, Footwear & Accessories\",\"Apparel, Footwear & Accessories\",\"Apparel, Footwear & Accessories\",\"Apparel, Footwear & Accessories\",\"Apparel, Footwear & Accessories\",\"Apparel, Footwear & Accessories\",\"Apparel, Footwear & Accessories\",\"Apparel, Footwear & Accessories\",\"Apparel, Footwear & Accessories\",\"Apparel, Footwear & Accessories\",\"Apparel, Footwear & Accessories\",\"Apparel, Footwear & Accessories\",\"Apparel, Footwear & Accessories\",\"Apparel, Footwear & Accessories\",\"Apparel, Footwear & Accessories\",\"Apparel, Footwear & Accessories\",\"Apparel, Footwear & Accessories\",\"Apparel, Footwear & Accessories\",\"Apparel, Footwear & Accessories\",\"Apparel, Footwear & Accessories\",\"Apparel, Footwear & Accessories\",\"Apparel, Footwear & Accessories\",\"Apparel, Footwear & Accessories\",\"Apparel, Footwear & Accessories\",\"Apparel, Footwear & Accessories\",\"Apparel, Footwear & Accessories\",\"Apparel, Footwear & Accessories\",\"Apparel, Footwear & Accessories\",\"Apparel, Footwear & Accessories\",\"Apparel, Footwear & Accessories\",\"Apparel, Footwear & Accessories\",\"Apparel, Footwear & Accessories\",\"Apparel, Footwear & Accessories\",\"Apparel, Footwear & Accessories\",\"Apparel, Footwear & Accessories\",\"Apparel, Footwear & Accessories\",\"Apparel, Footwear & Accessories\",\"Apparel, Footwear & Accessories\",\"Apparel, Footwear & Accessories\",\"Apparel, Footwear & Accessories\",\"Apparel, Footwear & Accessories\",\"Apparel, Footwear & Accessories\",\"Apparel, Footwear & Accessories\",\"Apparel, Footwear & Accessories\",\"Apparel, Footwear & Accessories\",\"Apparel, Footwear & Accessories\",\"Apparel, Footwear & Accessories\",\"Apparel, Footwear & Accessories\",\"Apparel, Footwear & Accessories\",\"Apparel, Footwear & Accessories\",\"Apparel, Footwear & Accessories\",\"Apparel, Footwear & Accessories\",\"Apparel, Footwear & Accessories\",\"Apparel, Footwear & Accessories\",\"Apparel, Footwear & Accessories\",\"Apparel, Footwear & Accessories\",\"Apparel, Footwear & Accessories\",\"Apparel, Footwear & Accessories\",\"Apparel, Footwear & Accessories\",\"Apparel, Footwear & Accessories\",\"Apparel, Footwear & Accessories\",\"Apparel, Footwear & Accessories\",\"Apparel, Footwear & Accessories\",\"Apparel, Footwear & Accessories\",\"Apparel, Footwear & Accessories\",\"Apparel, Footwear & Accessories\",\"Apparel, Footwear & Accessories\",\"Apparel, Footwear & Accessories\",\"Apparel, Footwear & Accessories\",\"Apparel, Footwear & Accessories\",\"Apparel, Footwear & Accessories\",\"Apparel, Footwear & Accessories\",\"Apparel, Footwear & Accessories\",\"Apparel, Footwear & Accessories\",\"Apparel, Footwear & Accessories\",\"Apparel, Footwear & Accessories\",\"Apparel, Footwear & Accessories\",\"Apparel, Footwear & Accessories\",\"Apparel, Footwear & Accessories\",\"Apparel, Footwear & Accessories\",\"Apparel, Footwear & Accessories\",\"Apparel, Footwear & Accessories\",\"Apparel, Footwear & Accessories\",\"Apparel, Footwear & Accessories\",\"Apparel, Footwear & Accessories\",\"Apparel, Footwear & Accessories\",\"Apparel, Footwear & Accessories\",\"Apparel, Footwear & Accessories\",\"Apparel, Footwear & Accessories\",\"Apparel, Footwear & Accessories\",\"Apparel, Footwear & Accessories\",\"Apparel, Footwear & Accessories\",\"Apparel, Footwear & Accessories\",\"Apparel, Footwear & Accessories\",\"Apparel, Footwear & Accessories\",\"Apparel, Footwear & Accessories\",\"Apparel, Footwear & Accessories\",\"Apparel, Footwear & Accessories\",\"Apparel, Footwear & Accessories\",\"Apparel, Footwear & Accessories\",\"Apparel, Footwear & Accessories\",\"Apparel, Footwear & Accessories\",\"Apparel, Footwear & Accessories\",\"Apparel, Footwear & Accessories\",\"Apparel, Footwear & Accessories\",\"Apparel, Footwear & Accessories\",\"Apparel, Footwear & Accessories\",\"Apparel, Footwear & Accessories\",\"Apparel, Footwear & Accessories\",\"Apparel, Footwear & Accessories\",\"Apparel, Footwear & Accessories\",\"Apparel, Footwear & Accessories\",\"Apparel, Footwear & Accessories\",\"Apparel, Footwear & Accessories\",\"Apparel, Footwear & Accessories\",\"Apparel, Footwear & Accessories\",\"Apparel, Footwear & Accessories\",\"Apparel, Footwear & Accessories\",\"Apparel, Footwear & Accessories\",\"Apparel, Footwear & Accessories\",\"Apparel, Footwear & Accessories\",\"Apparel, Footwear & Accessories\",\"Apparel, Footwear & Accessories\",\"Apparel, Footwear & Accessories\",\"Apparel, Footwear & Accessories\",\"Apparel, Footwear & Accessories\",\"Apparel, Footwear & Accessories\",\"Apparel, Footwear & Accessories\",\"Apparel, Footwear & Accessories\",\"Apparel, Footwear & Accessories\",\"Apparel, Footwear & Accessories\",\"Apparel, Footwear & Accessories\",\"Apparel, Footwear & Accessories\",\"Apparel, Footwear & Accessories\",\"Apparel, Footwear & Accessories\",\"Apparel, Footwear & Accessories\",\"Apparel, Footwear & Accessories\",\"Apparel, Footwear & Accessories\",\"Apparel, Footwear & Accessories\",\"Apparel, Footwear & Accessories\",\"Apparel, Footwear & Accessories\",\"Apparel, Footwear & Accessories\",\"Apparel, Footwear & Accessories\",\"Apparel, Footwear & Accessories\",\"Apparel, Footwear & Accessories\",\"Apparel, Footwear & Accessories\",\"Apparel, Footwear & Accessories\",\"Apparel, Footwear & Accessories\",\"Apparel, Footwear & Accessories\",\"Apparel, Footwear & Accessories\",\"Apparel, Footwear & Accessories\",\"Apparel, Footwear & Accessories\",\"Apparel, Footwear & Accessories\",\"Apparel, Footwear & Accessories\",\"Apparel, Footwear & Accessories\",\"Apparel, Footwear & Accessories\",\"Apparel, Footwear & Accessories\",\"Apparel, Footwear & Accessories\",\"Apparel, Footwear & Accessories\",\"Apparel, Footwear & Accessories\",\"Apparel, Footwear & Accessories\",\"Apparel, Footwear & Accessories\",\"Apparel, Footwear & Accessories\",\"Apparel, Footwear & Accessories\",\"Apparel, Footwear & Accessories\",\"Apparel, Footwear & Accessories\",\"Apparel, Footwear & Accessories\",\"Apparel, Footwear & Accessories\",\"Apparel, Footwear & Accessories\",\"Apparel, Footwear & Accessories\",\"Apparel, Footwear & Accessories\",\"Apparel, Footwear & Accessories\",\"Apparel, Footwear & Accessories\",\"Apparel, Footwear & Accessories\",\"Apparel, Footwear & Accessories\",\"Apparel, Footwear & Accessories\",\"Apparel, Footwear & Accessories\",\"Apparel, Footwear & Accessories\",\"Apparel, Footwear & Accessories\",\"Apparel, Footwear & Accessories\",\"Apparel, Footwear & Accessories\",\"Apparel, Footwear & Accessories\",\"Apparel, Footwear & Accessories\",\"Apparel, Footwear & Accessories\",\"Apparel, Footwear & Accessories\",\"Apparel, Footwear & Accessories\",\"Apparel, Footwear & Accessories\",\"Apparel, Footwear & Accessories\",\"Apparel, Footwear & Accessories\",\"Apparel, Footwear & Accessories\",\"Apparel, Footwear & Accessories\",\"Apparel, Footwear & Accessories\",\"Apparel, Footwear & Accessories\",\"Apparel, Footwear & Accessories\",\"Apparel, Footwear & Accessories\",\"Apparel, Footwear & Accessories\",\"Apparel, Footwear & Accessories\",\"Apparel, Footwear & Accessories\",\"Apparel, Footwear & Accessories\",\"Apparel, Footwear & Accessories\",\"Apparel, Footwear & Accessories\",\"Apparel, Footwear & Accessories\",\"Apparel, Footwear & Accessories\",\"Apparel, Footwear & Accessories\",\"Apparel, Footwear & Accessories\",\"Apparel, Footwear & Accessories\",\"Apparel, Footwear & Accessories\",\"Apparel, Footwear & Accessories\",\"Apparel, Footwear & Accessories\",\"Apparel, Footwear & Accessories\",\"Apparel, Footwear & Accessories\",\"Apparel, Footwear & Accessories\",\"Apparel, Footwear & Accessories\",\"Apparel, Footwear & Accessories\",\"Apparel, Footwear & Accessories\",\"Apparel, Footwear & Accessories\",\"Apparel, Footwear & Accessories\",\"Apparel, Footwear & Accessories\",\"Apparel, Footwear & Accessories\",\"Apparel, Footwear & Accessories\",\"Apparel, Footwear & Accessories\",\"Apparel, Footwear & Accessories\",\"Apparel, Footwear & Accessories\",\"Apparel, Footwear & Accessories\",\"Apparel, Footwear & Accessories\",\"Apparel, Footwear & Accessories\",\"Apparel, Footwear & Accessories\",\"Apparel, Footwear & Accessories\",\"Apparel, Footwear & Accessories\",\"Apparel, Footwear & Accessories\",\"Apparel, Footwear & Accessories\",\"Apparel, Footwear & Accessories\",\"Apparel, Footwear & Accessories\",\"Apparel, Footwear & Accessories\",\"Apparel, Footwear & Accessories\",\"Apparel, Footwear & Accessories\",\"Apparel, Footwear & Accessories\",\"Apparel, Footwear & Accessories\",\"Apparel, Footwear & Accessories\",\"Apparel, Footwear & Accessories\",\"Apparel, Footwear & Accessories\",\"Apparel, Footwear & Accessories\",\"Apparel, Footwear & Accessories\",\"Apparel, Footwear & Accessories\",\"Apparel, Footwear & Accessories\",\"Apparel, Footwear & Accessories\",\"Apparel, Footwear & Accessories\",\"Apparel, Footwear & Accessories\",\"Apparel, Footwear & Accessories\",\"Apparel, Footwear & Accessories\",\"Apparel, Footwear & Accessories\",\"Apparel, Footwear & Accessories\",\"Apparel, Footwear & Accessories\",\"Apparel, Footwear & Accessories\",\"Apparel, Footwear & Accessories\",\"Apparel, Footwear & Accessories\",\"Apparel, Footwear & Accessories\",\"Apparel, Footwear & Accessories\",\"Apparel, Footwear & Accessories\",\"Apparel, Footwear & Accessories\",\"Apparel, Footwear & Accessories\",\"Apparel, Footwear & Accessories\",\"Apparel, Footwear & Accessories\",\"Apparel, Footwear & Accessories\",\"Apparel, Footwear & Accessories\",\"Apparel, Footwear & Accessories\",\"Apparel, Footwear & Accessories\",\"Apparel, Footwear & Accessories\",\"Apparel, Footwear & Accessories\",\"Apparel, Footwear & Accessories\",\"Apparel, Footwear & Accessories\",\"Apparel, Footwear & Accessories\",\"Apparel, Footwear & Accessories\",\"Apparel, Footwear & Accessories\",\"Apparel, Footwear & Accessories\",\"Apparel, Footwear & Accessories\",\"Apparel, Footwear & Accessories\",\"Apparel, Footwear & Accessories\",\"Apparel, Footwear & Accessories\",\"Apparel, Footwear & Accessories\",\"Apparel, Footwear & Accessories\",\"Apparel, Footwear & Accessories\",\"Apparel, Footwear & Accessories\",\"Apparel, Footwear & Accessories\",\"Apparel, Footwear & Accessories\",\"Apparel, Footwear & Accessories\",\"Apparel, Footwear & Accessories\",\"Apparel, Footwear & Accessories\",\"Apparel, Footwear & Accessories\",\"Apparel, Footwear & Accessories\",\"Apparel, Footwear & Accessories\",\"Apparel, Footwear & Accessories\",\"Apparel, Footwear & Accessories\",\"Apparel, Footwear & Accessories\",\"Apparel, Footwear & Accessories\",\"Apparel, Footwear & Accessories\",\"Apparel, Footwear & Accessories\",\"Apparel, Footwear & Accessories\",\"Apparel, Footwear & Accessories\",\"Apparel, Footwear & Accessories\",\"Apparel, Footwear & Accessories\",\"Apparel, Footwear & Accessories\",\"Apparel, Footwear & Accessories\",\"Apparel, Footwear & Accessories\",\"Apparel, Footwear & Accessories\",\"Apparel, Footwear & Accessories\",\"Apparel, Footwear & Accessories\",\"Apparel, Footwear & Accessories\",\"Apparel, Footwear & Accessories\",\"Apparel, Footwear & Accessories\",\"Apparel, Footwear & Accessories\",\"Apparel, Footwear & Accessories\",\"Apparel, Footwear & Accessories\",\"Apparel, Footwear & Accessories\",\"Apparel, Footwear & Accessories\",\"Apparel, Footwear & Accessories\",\"Apparel, Footwear & Accessories\",\"Apparel, Footwear & Accessories\",\"Apparel, Footwear & Accessories\",\"Apparel, Footwear & Accessories\",\"Apparel, Footwear & Accessories\",\"Apparel, Footwear & Accessories\",\"Apparel, Footwear & Accessories\",\"Apparel, Footwear & Accessories\",\"Apparel, Footwear & Accessories\",\"Apparel, Footwear & Accessories\",\"Apparel, Footwear & Accessories\",\"Apparel, Footwear & Accessories\",\"Apparel, Footwear & Accessories\",\"Apparel, Footwear & Accessories\",\"Apparel, Footwear & Accessories\",\"Apparel, Footwear & Accessories\",\"Apparel, Footwear & Accessories\",\"Apparel, Footwear & Accessories\",\"Apparel, Footwear & Accessories\",\"Apparel, Footwear & Accessories\",\"Apparel, Footwear & Accessories\",\"Apparel, Footwear & Accessories\",\"Apparel, Footwear & Accessories\",\"Apparel, Footwear & Accessories\",\"Apparel, Footwear & Accessories\",\"Apparel, Footwear & Accessories\",\"Apparel, Footwear & Accessories\",\"Apparel, Footwear & Accessories\",\"Apparel, Footwear & Accessories\",\"Apparel, Footwear & Accessories\",\"Apparel, Footwear & Accessories\",\"Apparel, Footwear & Accessories\",\"Apparel, Footwear & Accessories\",\"Apparel, Footwear & Accessories\",\"Apparel, Footwear & Accessories\",\"Apparel, Footwear & Accessories\",\"Apparel, Footwear & Accessories\",\"Apparel, Footwear & Accessories\",\"Apparel, Footwear & Accessories\",\"Apparel, Footwear & Accessories\",\"Apparel, Footwear & Accessories\",\"Apparel, Footwear & Accessories\",\"Apparel, Footwear & Accessories\",\"Apparel, Footwear & Accessories\",\"Apparel, Footwear & Accessories\",\"Apparel, Footwear & Accessories\",\"Apparel, Footwear & Accessories\",\"Apparel, Footwear & Accessories\",\"Apparel, Footwear & Accessories\",\"Apparel, Footwear & Accessories\",\"Apparel, Footwear & Accessories\",\"Apparel, Footwear & Accessories\",\"Apparel, Footwear & Accessories\",\"Apparel, Footwear & Accessories\",\"Apparel, Footwear & Accessories\",\"Apparel, Footwear & Accessories\",\"Apparel, Footwear & Accessories\",\"Apparel, Footwear & Accessories\",\"Apparel, Footwear & Accessories\",\"Apparel, Footwear & Accessories\",\"Apparel, Footwear & Accessories\",\"Apparel, Footwear & Accessories\",\"Apparel, Footwear & Accessories\",\"Apparel, Footwear & Accessories\",\"Apparel, Footwear & Accessories\",\"Apparel, Footwear & Accessories\",\"Apparel, Footwear & Accessories\",\"Apparel, Footwear & Accessories\",\"Apparel, Footwear & Accessories\"],\"x0\":\" \",\"xaxis\":\"x\",\"y\":[10.0,100.0,101.0,200.0,201.0,300.0,600.0,601.0,700.0,1000.0,1001.0,1100.0,100.0,125.0,200.0,225.0,250.0,325.0,500.0,600.0,650.0,650.0,701.0,826.0,926.0,987.0,1532.0,1590.0,1850.0,2005.0,2025.0,2075.0,2125.0,2150.0,2201.0,2300.0,2337.0,2500.0,2501.0,2530.0,2580.0,2600.0,2625.0,2670.0,2750.0,2750.0,2800.0,2801.0,2826.0,2876.0,2900.0,3000.0,100.0,150.0,155.0,207.0,100.0,150.0,225.0,250.0,300.0,301.0,732.0,900.0,950.0,1000.0,1032.0,1200.0,1400.0,1700.0,1777.0,1831.0,1902.0,2021.0,2111.0,2202.0,2302.0,2401.0,2500.0,2521.0,100.0,125.0,200.0,225.0,250.0,275.0,300.0,400.0,450.0,525.0,625.0,725.0,775.0,922.0,1000.0,1075.0,1111.0,1112.0,1200.0,1300.0,1500.0,1552.0,1650.0,1725.0,1800.0,1875.0,2667.0,100.0,125.0,280.0,450.0,500.0,550.0,550.0,622.0,101.0,150.0,151.0,250.0,275.0,350.0,450.0,575.0,625.0,675.0,732.0,777.0,827.0,832.0,865.0,922.0,200.0,500.0,500.0,525.0,565.0,600.0,666.0,1500.0,1700.0,2000.0,2000.0,100.0,250.0,300.0,450.0,550.0,650.0,815.0,922.0,1111.0,1200.0,1222.0,111.0,125.0,175.0,225.0,500.0,777.0,888.0,1000.0,1100.0,1111.0,1200.0,1222.0,1300.0,1333.0,1444.0,1500.0,111.0,125.0,500.0,700.0,1005.0,1009.0,1250.0,1400.0,1500.0,1500.0,1600.0,1777.0,1800.0,1888.0,1900.0,1950.0,2100.0,2111.0,2200.0,2222.0,2444.0,2600.0,2800.0,111.0,200.0,333.0,1000.0,1300.0,1355.0,1444.0,1500.0,1555.0,111.0,700.0,825.0,900.0,1000.0,1000.0,1100.0,1111.0,222.0,400.0,450.0,505.0,555.0,555.0,605.0,777.0,1111.0,1155.0,1444.0,111.0,161.0,333.0,443.0,555.0,600.0,777.0,111.0,150.0,201.0,255.0,300.0,335.0,450.0,465.0,555.0,580.0,777.0,815.0,111.0,415.0,450.0,550.0,555.0,600.0,674.0,750.0,800.0,850.0,900.0,1111.0,222.0,301.0,360.0,500.0,501.0,600.0,605.0,650.0,777.0,800.0,1000.0,1022.0,1200.0,1444.0,1500.0,1600.0,1666.0,1800.0,1888.0,1900.0,2000.0,222.0,272.0,351.0,501.0,777.0,888.0,999.0,1000.0,1222.0,1333.0,1400.0,1444.0,1555.0,1600.0,1677.0,1800.0,1900.0,2000.0,2000.0,2100.0,2200.0,2300.0,2430.0,2500.0,2500.0,2600.0,125.0,333.0,500.0,600.0,755.0,880.0,1165.0,1265.0,1500.0,1551.0,1565.0,1601.0,1651.0,1777.0,1800.0,1888.0,2000.0,2100.0,2200.0,2222.0,2325.0,2400.0,2444.0,2555.0,2600.0,2800.0,2888.0,150.0,250.0,350.0,444.0,500.0,600.0,666.0,700.0,716.0,741.0,766.0,900.0,901.0,951.0,1000.0,1001.0,1051.0,1101.0,1106.0,1131.0,1156.0,1181.0,1206.0,1231.0,1256.0,1306.0,1356.0,1400.0,1406.0,1456.0,1506.0,1556.0,1600.0,1606.0,1656.0,1706.0,1750.0,1756.0,1888.0,2000.0,2200.0,2222.0,2300.0,2350.0,2400.0,2450.0,2500.0,2550.0,2555.0,2580.0,2630.0,2680.0,2730.0,2777.0,2780.0,2830.0,2880.0,2930.0,2980.0,3030.0,3080.0,3130.0,3155.0,3180.0,3230.0,3255.0,3280.0,3330.0,3333.0,3358.0,3408.0,3458.0,3508.0,3558.0,3608.0,3658.0,3708.0,3758.0,3777.0,3802.0,3852.0,3902.0,3952.0,4002.0,4052.0,4102.0,4111.0,4136.0,4186.0,4222.0,4236.0,125.0,175.0,250.0,300.0,444.0,500.0,506.0,535.0,580.0,750.0,800.0,976.0,1000.0,1033.0,1200.0,1250.0,1300.0,1400.0,1500.0,1600.0,1800.0,2000.0,2000.0,2025.0,2075.0,2150.0,2250.0,2450.0,2550.0,3000.0,3050.0,3150.0,3250.0,3399.0,3999.0,4000.0,4099.0,4100.0,4200.0,4300.0,4400.0,4500.0,4600.0,4700.0,4999.0,5555.0,5888.0,5999.0,6222.0,125.0,175.0,222.0,225.0,2050.0,2444.0,2777.0,3000.0,3100.0,3111.0,3333.0,3500.0,3600.0,3666.0,3700.0,3850.0,222.0,2000.0,2050.0,3111.0,3200.0,3599.0,3699.0,3750.0,3799.0,3899.0,3949.0,4000.0,111.0,125.0,175.0,534.0,688.0,715.0,765.0,790.0,815.0,888.0,1111.0,1212.0,1222.0,111.0,165.0,210.0,215.0,355.0,688.0,715.0,765.0,790.0,888.0,890.0,1000.0,1050.0,1100.0,1111.0,1136.0,1222.0,1255.0,1305.0,1333.0,1355.0,1455.0,1555.0,1555.0,1605.0,1677.0,1801.0,1888.0,2001.0,111.0,125.0,150.0,688.0,738.0,888.0,1000.0,1100.0,1111.0,1333.0,1468.0,1518.0,1555.0,1717.0,1777.0,1818.0,1901.0,2057.0,150.0,200.0,250.0,300.0,322.0,350.0,372.0,460.0,548.0,700.0,700.0,777.0,827.0,900.0,1050.0,1100.0,1111.0,1225.0,1300.0,1450.0,1555.0,1600.0,1700.0,1777.0,1844.0,2157.0,2200.0,222.0,350.0,400.0,580.0,888.0,915.0,1008.0,1033.0,1083.0,1111.0,1200.0,1222.0,1333.0,1400.0,1450.0,1500.0,1550.0,1588.0,1600.0,1777.0,100.0,150.0,200.0,250.0,300.0,500.0,555.0,700.0,750.0,800.0,850.0,888.0,900.0,950.0,1000.0,1050.0,1100.0,1111.0,1136.0,1186.0,1222.0,1236.0,1286.0,1333.0,1336.0,100.0,150.0,200.0,250.0,300.0,500.0,555.0,666.0,800.0,850.0,888.0,908.0,1000.0,1050.0,1100.0,1111.0,1222.0,1250.0,1299.0,1300.0,1350.0,1399.0,1400.0,1499.0,1599.0,1600.0,1699.0,150.0,200.0,250.0,300.0,400.0,450.0,600.0,800.0,1200.0,1400.0,2000.0,3000.0,4000.0,4000.0,125.0,200.0,222.0,275.0,300.0,350.0,400.0,405.0,435.0,500.0,505.0,550.0,575.0,600.0,655.0,750.0,777.0,888.0,1111.0,1222.0,2000.0,125.0,175.0,222.0,225.0,300.0,301.0,350.0,400.0,401.0,450.0,125.0,222.0,300.0,350.0,400.0,450.0,500.0,501.0,600.0,125.0,175.0,222.0,225.0,250.0,300.0,300.0,375.0,500.0,501.0,600.0,600.0,444.0,500.0,650.0,756.0,956.0,1000.0,1100.0,1200.0,1250.0,1300.0,1444.0,1475.0,1700.0,1750.0,1777.0,1800.0,2222.0,444.0,500.0,500.0,550.0,600.0,708.0,800.0,950.0,1086.0,1200.0,1236.0,1287.0,1351.0,1444.0,1470.0,1494.0,1745.0,1777.0,1977.0,2047.0,2222.0,2300.0,2444.0,2745.0,2777.0,2795.0,2888.0,444.0,500.0,550.0,600.0,608.0,700.0,955.0,1005.0,1086.0,1136.0,1186.0,1350.0,1430.0,1444.0,1745.0,1777.0,2047.0,2222.0,2475.0,2888.0,3047.0,3333.0,3400.0,3475.0,3740.0,4300.0,4444.0,4475.0,4525.0,4575.0,4625.0,4700.0,4750.0,4800.0,4850.0,4900.0,4975.0,5475.0,5555.0,5677.0,5745.0,5888.0,5900.0,5925.0,333.0,500.0,700.0,800.0,850.0,900.0,950.0,996.0,1000.0,1100.0,700.0,888.0,1080.0,1300.0,1500.0,222.0,500.0,708.0,750.0,850.0,888.0],\"y0\":\" \",\"yaxis\":\"y\",\"type\":\"box\",\"quartilemethod\":\"exclusive\"}],                        {\"template\":{\"data\":{\"histogram2dcontour\":[{\"type\":\"histogram2dcontour\",\"colorbar\":{\"outlinewidth\":0,\"ticks\":\"\"},\"colorscale\":[[0.0,\"#0d0887\"],[0.1111111111111111,\"#46039f\"],[0.2222222222222222,\"#7201a8\"],[0.3333333333333333,\"#9c179e\"],[0.4444444444444444,\"#bd3786\"],[0.5555555555555556,\"#d8576b\"],[0.6666666666666666,\"#ed7953\"],[0.7777777777777778,\"#fb9f3a\"],[0.8888888888888888,\"#fdca26\"],[1.0,\"#f0f921\"]]}],\"choropleth\":[{\"type\":\"choropleth\",\"colorbar\":{\"outlinewidth\":0,\"ticks\":\"\"}}],\"histogram2d\":[{\"type\":\"histogram2d\",\"colorbar\":{\"outlinewidth\":0,\"ticks\":\"\"},\"colorscale\":[[0.0,\"#0d0887\"],[0.1111111111111111,\"#46039f\"],[0.2222222222222222,\"#7201a8\"],[0.3333333333333333,\"#9c179e\"],[0.4444444444444444,\"#bd3786\"],[0.5555555555555556,\"#d8576b\"],[0.6666666666666666,\"#ed7953\"],[0.7777777777777778,\"#fb9f3a\"],[0.8888888888888888,\"#fdca26\"],[1.0,\"#f0f921\"]]}],\"heatmap\":[{\"type\":\"heatmap\",\"colorbar\":{\"outlinewidth\":0,\"ticks\":\"\"},\"colorscale\":[[0.0,\"#0d0887\"],[0.1111111111111111,\"#46039f\"],[0.2222222222222222,\"#7201a8\"],[0.3333333333333333,\"#9c179e\"],[0.4444444444444444,\"#bd3786\"],[0.5555555555555556,\"#d8576b\"],[0.6666666666666666,\"#ed7953\"],[0.7777777777777778,\"#fb9f3a\"],[0.8888888888888888,\"#fdca26\"],[1.0,\"#f0f921\"]]}],\"heatmapgl\":[{\"type\":\"heatmapgl\",\"colorbar\":{\"outlinewidth\":0,\"ticks\":\"\"},\"colorscale\":[[0.0,\"#0d0887\"],[0.1111111111111111,\"#46039f\"],[0.2222222222222222,\"#7201a8\"],[0.3333333333333333,\"#9c179e\"],[0.4444444444444444,\"#bd3786\"],[0.5555555555555556,\"#d8576b\"],[0.6666666666666666,\"#ed7953\"],[0.7777777777777778,\"#fb9f3a\"],[0.8888888888888888,\"#fdca26\"],[1.0,\"#f0f921\"]]}],\"contourcarpet\":[{\"type\":\"contourcarpet\",\"colorbar\":{\"outlinewidth\":0,\"ticks\":\"\"}}],\"contour\":[{\"type\":\"contour\",\"colorbar\":{\"outlinewidth\":0,\"ticks\":\"\"},\"colorscale\":[[0.0,\"#0d0887\"],[0.1111111111111111,\"#46039f\"],[0.2222222222222222,\"#7201a8\"],[0.3333333333333333,\"#9c179e\"],[0.4444444444444444,\"#bd3786\"],[0.5555555555555556,\"#d8576b\"],[0.6666666666666666,\"#ed7953\"],[0.7777777777777778,\"#fb9f3a\"],[0.8888888888888888,\"#fdca26\"],[1.0,\"#f0f921\"]]}],\"surface\":[{\"type\":\"surface\",\"colorbar\":{\"outlinewidth\":0,\"ticks\":\"\"},\"colorscale\":[[0.0,\"#0d0887\"],[0.1111111111111111,\"#46039f\"],[0.2222222222222222,\"#7201a8\"],[0.3333333333333333,\"#9c179e\"],[0.4444444444444444,\"#bd3786\"],[0.5555555555555556,\"#d8576b\"],[0.6666666666666666,\"#ed7953\"],[0.7777777777777778,\"#fb9f3a\"],[0.8888888888888888,\"#fdca26\"],[1.0,\"#f0f921\"]]}],\"mesh3d\":[{\"type\":\"mesh3d\",\"colorbar\":{\"outlinewidth\":0,\"ticks\":\"\"}}],\"scatter\":[{\"fillpattern\":{\"fillmode\":\"overlay\",\"size\":10,\"solidity\":0.2},\"type\":\"scatter\"}],\"parcoords\":[{\"type\":\"parcoords\",\"line\":{\"colorbar\":{\"outlinewidth\":0,\"ticks\":\"\"}}}],\"scatterpolargl\":[{\"type\":\"scatterpolargl\",\"marker\":{\"colorbar\":{\"outlinewidth\":0,\"ticks\":\"\"}}}],\"bar\":[{\"error_x\":{\"color\":\"#2a3f5f\"},\"error_y\":{\"color\":\"#2a3f5f\"},\"marker\":{\"line\":{\"color\":\"#E5ECF6\",\"width\":0.5},\"pattern\":{\"fillmode\":\"overlay\",\"size\":10,\"solidity\":0.2}},\"type\":\"bar\"}],\"scattergeo\":[{\"type\":\"scattergeo\",\"marker\":{\"colorbar\":{\"outlinewidth\":0,\"ticks\":\"\"}}}],\"scatterpolar\":[{\"type\":\"scatterpolar\",\"marker\":{\"colorbar\":{\"outlinewidth\":0,\"ticks\":\"\"}}}],\"histogram\":[{\"marker\":{\"pattern\":{\"fillmode\":\"overlay\",\"size\":10,\"solidity\":0.2}},\"type\":\"histogram\"}],\"scattergl\":[{\"type\":\"scattergl\",\"marker\":{\"colorbar\":{\"outlinewidth\":0,\"ticks\":\"\"}}}],\"scatter3d\":[{\"type\":\"scatter3d\",\"line\":{\"colorbar\":{\"outlinewidth\":0,\"ticks\":\"\"}},\"marker\":{\"colorbar\":{\"outlinewidth\":0,\"ticks\":\"\"}}}],\"scattermapbox\":[{\"type\":\"scattermapbox\",\"marker\":{\"colorbar\":{\"outlinewidth\":0,\"ticks\":\"\"}}}],\"scatterternary\":[{\"type\":\"scatterternary\",\"marker\":{\"colorbar\":{\"outlinewidth\":0,\"ticks\":\"\"}}}],\"scattercarpet\":[{\"type\":\"scattercarpet\",\"marker\":{\"colorbar\":{\"outlinewidth\":0,\"ticks\":\"\"}}}],\"carpet\":[{\"aaxis\":{\"endlinecolor\":\"#2a3f5f\",\"gridcolor\":\"white\",\"linecolor\":\"white\",\"minorgridcolor\":\"white\",\"startlinecolor\":\"#2a3f5f\"},\"baxis\":{\"endlinecolor\":\"#2a3f5f\",\"gridcolor\":\"white\",\"linecolor\":\"white\",\"minorgridcolor\":\"white\",\"startlinecolor\":\"#2a3f5f\"},\"type\":\"carpet\"}],\"table\":[{\"cells\":{\"fill\":{\"color\":\"#EBF0F8\"},\"line\":{\"color\":\"white\"}},\"header\":{\"fill\":{\"color\":\"#C8D4E3\"},\"line\":{\"color\":\"white\"}},\"type\":\"table\"}],\"barpolar\":[{\"marker\":{\"line\":{\"color\":\"#E5ECF6\",\"width\":0.5},\"pattern\":{\"fillmode\":\"overlay\",\"size\":10,\"solidity\":0.2}},\"type\":\"barpolar\"}],\"pie\":[{\"automargin\":true,\"type\":\"pie\"}]},\"layout\":{\"autotypenumbers\":\"strict\",\"colorway\":[\"#636efa\",\"#EF553B\",\"#00cc96\",\"#ab63fa\",\"#FFA15A\",\"#19d3f3\",\"#FF6692\",\"#B6E880\",\"#FF97FF\",\"#FECB52\"],\"font\":{\"color\":\"#2a3f5f\"},\"hovermode\":\"closest\",\"hoverlabel\":{\"align\":\"left\"},\"paper_bgcolor\":\"white\",\"plot_bgcolor\":\"#E5ECF6\",\"polar\":{\"bgcolor\":\"#E5ECF6\",\"angularaxis\":{\"gridcolor\":\"white\",\"linecolor\":\"white\",\"ticks\":\"\"},\"radialaxis\":{\"gridcolor\":\"white\",\"linecolor\":\"white\",\"ticks\":\"\"}},\"ternary\":{\"bgcolor\":\"#E5ECF6\",\"aaxis\":{\"gridcolor\":\"white\",\"linecolor\":\"white\",\"ticks\":\"\"},\"baxis\":{\"gridcolor\":\"white\",\"linecolor\":\"white\",\"ticks\":\"\"},\"caxis\":{\"gridcolor\":\"white\",\"linecolor\":\"white\",\"ticks\":\"\"}},\"coloraxis\":{\"colorbar\":{\"outlinewidth\":0,\"ticks\":\"\"}},\"colorscale\":{\"sequential\":[[0.0,\"#0d0887\"],[0.1111111111111111,\"#46039f\"],[0.2222222222222222,\"#7201a8\"],[0.3333333333333333,\"#9c179e\"],[0.4444444444444444,\"#bd3786\"],[0.5555555555555556,\"#d8576b\"],[0.6666666666666666,\"#ed7953\"],[0.7777777777777778,\"#fb9f3a\"],[0.8888888888888888,\"#fdca26\"],[1.0,\"#f0f921\"]],\"sequentialminus\":[[0.0,\"#0d0887\"],[0.1111111111111111,\"#46039f\"],[0.2222222222222222,\"#7201a8\"],[0.3333333333333333,\"#9c179e\"],[0.4444444444444444,\"#bd3786\"],[0.5555555555555556,\"#d8576b\"],[0.6666666666666666,\"#ed7953\"],[0.7777777777777778,\"#fb9f3a\"],[0.8888888888888888,\"#fdca26\"],[1.0,\"#f0f921\"]],\"diverging\":[[0,\"#8e0152\"],[0.1,\"#c51b7d\"],[0.2,\"#de77ae\"],[0.3,\"#f1b6da\"],[0.4,\"#fde0ef\"],[0.5,\"#f7f7f7\"],[0.6,\"#e6f5d0\"],[0.7,\"#b8e186\"],[0.8,\"#7fbc41\"],[0.9,\"#4d9221\"],[1,\"#276419\"]]},\"xaxis\":{\"gridcolor\":\"white\",\"linecolor\":\"white\",\"ticks\":\"\",\"title\":{\"standoff\":15},\"zerolinecolor\":\"white\",\"automargin\":true,\"zerolinewidth\":2},\"yaxis\":{\"gridcolor\":\"white\",\"linecolor\":\"white\",\"ticks\":\"\",\"title\":{\"standoff\":15},\"zerolinecolor\":\"white\",\"automargin\":true,\"zerolinewidth\":2},\"scene\":{\"xaxis\":{\"backgroundcolor\":\"#E5ECF6\",\"gridcolor\":\"white\",\"linecolor\":\"white\",\"showbackground\":true,\"ticks\":\"\",\"zerolinecolor\":\"white\",\"gridwidth\":2},\"yaxis\":{\"backgroundcolor\":\"#E5ECF6\",\"gridcolor\":\"white\",\"linecolor\":\"white\",\"showbackground\":true,\"ticks\":\"\",\"zerolinecolor\":\"white\",\"gridwidth\":2},\"zaxis\":{\"backgroundcolor\":\"#E5ECF6\",\"gridcolor\":\"white\",\"linecolor\":\"white\",\"showbackground\":true,\"ticks\":\"\",\"zerolinecolor\":\"white\",\"gridwidth\":2}},\"shapedefaults\":{\"line\":{\"color\":\"#2a3f5f\"}},\"annotationdefaults\":{\"arrowcolor\":\"#2a3f5f\",\"arrowhead\":0,\"arrowwidth\":1},\"geo\":{\"bgcolor\":\"white\",\"landcolor\":\"#E5ECF6\",\"subunitcolor\":\"white\",\"showland\":true,\"showlakes\":true,\"lakecolor\":\"white\"},\"title\":{\"x\":0.05},\"mapbox\":{\"style\":\"light\"}}},\"xaxis\":{\"anchor\":\"y\",\"domain\":[0.0,1.0],\"title\":{\"text\":\"bstock_category_name\"},\"categoryorder\":\"array\",\"categoryarray\":[\"Apparel, Footwear & Accessories\",\"Consumer Electronics\",\"Furniture\"]},\"yaxis\":{\"anchor\":\"x\",\"domain\":[0.0,1.0],\"title\":{\"text\":\"bid_amount\"}},\"legend\":{\"tracegroupgap\":0},\"title\":{\"text\":\"Bid amount distribution per category and auction date\"},\"boxmode\":\"group\"},                        {\"responsive\": true}                    ).then(function(){\n",
       "                            \n",
       "var gd = document.getElementById('b7bdbfb8-9048-4988-b323-e848650c48ae');\n",
       "var x = new MutationObserver(function (mutations, observer) {{\n",
       "        var display = window.getComputedStyle(gd).display;\n",
       "        if (!display || display === 'none') {{\n",
       "            console.log([gd, 'removed!']);\n",
       "            Plotly.purge(gd);\n",
       "            observer.disconnect();\n",
       "        }}\n",
       "}});\n",
       "\n",
       "// Listen for the removal of the full notebook cells\n",
       "var notebookContainer = gd.closest('#notebook-container');\n",
       "if (notebookContainer) {{\n",
       "    x.observe(notebookContainer, {childList: true});\n",
       "}}\n",
       "\n",
       "// Listen for the clearing of the current output cell\n",
       "var outputEl = gd.closest('.output');\n",
       "if (outputEl) {{\n",
       "    x.observe(outputEl, {childList: true});\n",
       "}}\n",
       "\n",
       "                        })                };                });            </script>        </div>"
      ]
     },
     "metadata": {},
     "output_type": "display_data"
    }
   ],
   "source": [
    "import plotly.express as px\n",
    "\n",
    "\n",
    "fig = px.box(df, x=\"bstock_category_name\", y=\"bid_amount\", title='Bid amount distribution per category and auction date')\n",
    "fig.update_traces(quartilemethod=\"exclusive\") # or \"inclusive\", or \"linear\" by default\n",
    "fig.update_xaxes(categoryorder='array', categoryarray=['Apparel, Footwear & Accessories', 'Consumer Electronics', 'Furniture'])\n",
    "fig.show()"
   ]
  },
  {
   "attachments": {},
   "cell_type": "markdown",
   "metadata": {},
   "source": [
    "- In order to be impartial, I consider that it would be better to disaggregate these box plots to identify which where the dates with greatest bid amount variability.\n",
    "- November 1st, December 13th and November November 4th were auction dates with highest bid amount variability!\n",
    "- On those dates, only 'Apparel, Footwear & Accesories category were sold."
   ]
  },
  {
   "attachments": {},
   "cell_type": "markdown",
   "metadata": {},
   "source": [
    "- On November 1st, the auction started with a bid amount of 125 USD and finished with a bid amount of 6222 USD\n",
    "- On December 13th, the auction started with a bid amount of 444 USD and finished with a bid amount of 5925 USD\n",
    "- ON November 4th, the auction started with a bid amount od 125 USD and finished with a bid amount of 4000 USD"
   ]
  },
  {
   "cell_type": "code",
   "execution_count": 723,
   "metadata": {},
   "outputs": [
    {
     "data": {
      "application/vnd.plotly.v1+json": {
       "config": {
        "plotlyServerURL": "https://plot.ly"
       },
       "data": [
        {
         "alignmentgroup": "True",
         "hovertemplate": "bstock_category_name=Apparel, Footwear & Accessories<br>auction_date=%{x}<br>bid_amount=%{y}<extra></extra>",
         "legendgroup": "Apparel, Footwear & Accessories",
         "marker": {
          "color": "#636efa"
         },
         "name": "Apparel, Footwear & Accessories",
         "notched": false,
         "offsetgroup": "Apparel, Footwear & Accessories",
         "orientation": "v",
         "quartilemethod": "exclusive",
         "showlegend": true,
         "type": "box",
         "x": [
          "2022-09-10",
          "2022-09-10",
          "2022-09-10",
          "2022-09-10",
          "2022-09-10",
          "2022-09-10",
          "2022-09-10",
          "2022-09-10",
          "2022-09-10",
          "2022-09-10",
          "2022-09-10",
          "2022-09-10",
          "2022-09-13",
          "2022-09-13",
          "2022-09-13",
          "2022-09-13",
          "2022-09-13",
          "2022-09-13",
          "2022-09-13",
          "2022-09-13",
          "2022-09-13",
          "2022-09-13",
          "2022-09-13",
          "2022-09-13",
          "2022-09-13",
          "2022-09-13",
          "2022-09-13",
          "2022-09-13",
          "2022-09-13",
          "2022-09-13",
          "2022-09-13",
          "2022-09-13",
          "2022-09-13",
          "2022-09-13",
          "2022-09-13",
          "2022-09-13",
          "2022-09-13",
          "2022-09-13",
          "2022-09-13",
          "2022-09-13",
          "2022-09-13",
          "2022-09-13",
          "2022-09-13",
          "2022-09-13",
          "2022-09-13",
          "2022-09-13",
          "2022-09-13",
          "2022-09-13",
          "2022-09-13",
          "2022-09-13",
          "2022-09-13",
          "2022-09-13",
          "2022-09-13",
          "2022-09-13",
          "2022-09-13",
          "2022-09-13",
          "2022-09-16",
          "2022-09-16",
          "2022-09-16",
          "2022-09-16",
          "2022-09-16",
          "2022-09-16",
          "2022-09-16",
          "2022-09-16",
          "2022-09-16",
          "2022-09-16",
          "2022-09-16",
          "2022-09-23",
          "2022-09-23",
          "2022-09-23",
          "2022-09-23",
          "2022-09-23",
          "2022-09-23",
          "2022-09-23",
          "2022-09-23",
          "2022-09-23",
          "2022-09-23",
          "2022-09-23",
          "2022-09-23",
          "2022-09-23",
          "2022-09-23",
          "2022-09-23",
          "2022-09-23",
          "2022-09-23",
          "2022-09-23",
          "2022-09-23",
          "2022-09-23",
          "2022-09-23",
          "2022-09-23",
          "2022-09-23",
          "2022-09-23",
          "2022-09-23",
          "2022-09-23",
          "2022-09-23",
          "2022-09-23",
          "2022-09-23",
          "2022-09-23",
          "2022-09-23",
          "2022-09-23",
          "2022-09-23",
          "2022-09-23",
          "2022-09-23",
          "2022-09-23",
          "2022-09-23",
          "2022-09-23",
          "2022-09-23",
          "2022-09-23",
          "2022-09-23",
          "2022-09-23",
          "2022-09-23",
          "2022-09-23",
          "2022-09-23",
          "2022-09-23",
          "2022-09-23",
          "2022-09-23",
          "2022-09-23",
          "2022-09-23",
          "2022-09-23",
          "2022-09-23",
          "2022-09-23",
          "2022-09-23",
          "2022-09-23",
          "2022-09-23",
          "2022-09-30",
          "2022-09-30",
          "2022-09-30",
          "2022-09-30",
          "2022-09-30",
          "2022-09-30",
          "2022-09-30",
          "2022-09-30",
          "2022-09-30",
          "2022-09-30",
          "2022-09-30",
          "2022-09-30",
          "2022-09-30",
          "2022-09-30",
          "2022-09-30",
          "2022-09-30",
          "2022-09-30",
          "2022-09-30",
          "2022-09-30",
          "2022-09-30",
          "2022-09-30",
          "2022-09-30",
          "2022-09-30",
          "2022-09-30",
          "2022-09-30",
          "2022-09-30",
          "2022-09-30",
          "2022-09-30",
          "2022-09-30",
          "2022-09-30",
          "2022-09-30",
          "2022-09-30",
          "2022-09-30",
          "2022-09-30",
          "2022-09-30",
          "2022-09-30",
          "2022-09-30",
          "2022-09-30",
          "2022-09-30",
          "2022-09-30",
          "2022-09-30",
          "2022-09-30",
          "2022-10-07",
          "2022-10-07",
          "2022-10-07",
          "2022-10-07",
          "2022-10-07",
          "2022-10-07",
          "2022-10-07",
          "2022-10-07",
          "2022-10-07",
          "2022-10-07",
          "2022-10-07",
          "2022-10-07",
          "2022-10-07",
          "2022-10-07",
          "2022-10-07",
          "2022-10-07",
          "2022-10-07",
          "2022-10-07",
          "2022-10-07",
          "2022-10-07",
          "2022-10-07",
          "2022-10-07",
          "2022-10-07",
          "2022-10-07",
          "2022-10-07",
          "2022-10-07",
          "2022-10-07",
          "2022-10-07",
          "2022-10-07",
          "2022-10-07",
          "2022-10-07",
          "2022-10-07",
          "2022-10-07",
          "2022-10-07",
          "2022-10-07",
          "2022-10-07",
          "2022-10-07",
          "2022-10-07",
          "2022-10-07",
          "2022-10-07",
          "2022-10-07",
          "2022-10-07",
          "2022-10-07",
          "2022-10-07",
          "2022-10-07",
          "2022-10-07",
          "2022-10-07",
          "2022-10-07",
          "2022-10-07",
          "2022-10-07",
          "2022-10-07",
          "2022-10-07",
          "2022-10-07",
          "2022-10-07",
          "2022-10-07",
          "2022-10-07",
          "2022-10-07",
          "2022-10-07",
          "2022-10-07",
          "2022-10-07",
          "2022-10-07",
          "2022-10-07",
          "2022-10-07",
          "2022-10-07",
          "2022-10-07",
          "2022-10-07",
          "2022-10-07",
          "2022-10-07",
          "2022-10-07",
          "2022-10-07",
          "2022-10-07",
          "2022-10-07",
          "2022-10-07",
          "2022-10-07",
          "2022-11-01",
          "2022-11-01",
          "2022-11-01",
          "2022-11-01",
          "2022-11-01",
          "2022-11-01",
          "2022-11-01",
          "2022-11-01",
          "2022-11-01",
          "2022-11-01",
          "2022-11-01",
          "2022-11-01",
          "2022-11-01",
          "2022-11-01",
          "2022-11-01",
          "2022-11-01",
          "2022-11-01",
          "2022-11-01",
          "2022-11-01",
          "2022-11-01",
          "2022-11-01",
          "2022-11-01",
          "2022-11-01",
          "2022-11-01",
          "2022-11-01",
          "2022-11-01",
          "2022-11-01",
          "2022-11-01",
          "2022-11-01",
          "2022-11-01",
          "2022-11-01",
          "2022-11-01",
          "2022-11-01",
          "2022-11-01",
          "2022-11-01",
          "2022-11-01",
          "2022-11-01",
          "2022-11-01",
          "2022-11-01",
          "2022-11-01",
          "2022-11-01",
          "2022-11-01",
          "2022-11-01",
          "2022-11-01",
          "2022-11-01",
          "2022-11-01",
          "2022-11-01",
          "2022-11-01",
          "2022-11-01",
          "2022-11-01",
          "2022-11-01",
          "2022-11-01",
          "2022-11-01",
          "2022-11-01",
          "2022-11-01",
          "2022-11-01",
          "2022-11-01",
          "2022-11-01",
          "2022-11-01",
          "2022-11-01",
          "2022-11-01",
          "2022-11-01",
          "2022-11-01",
          "2022-11-01",
          "2022-11-01",
          "2022-11-01",
          "2022-11-01",
          "2022-11-01",
          "2022-11-01",
          "2022-11-01",
          "2022-11-01",
          "2022-11-01",
          "2022-11-01",
          "2022-11-01",
          "2022-11-01",
          "2022-11-01",
          "2022-11-01",
          "2022-11-01",
          "2022-11-01",
          "2022-11-01",
          "2022-11-01",
          "2022-11-01",
          "2022-11-01",
          "2022-11-01",
          "2022-11-01",
          "2022-11-01",
          "2022-11-01",
          "2022-11-01",
          "2022-11-01",
          "2022-11-01",
          "2022-11-01",
          "2022-11-01",
          "2022-11-01",
          "2022-11-01",
          "2022-11-01",
          "2022-11-01",
          "2022-11-01",
          "2022-11-01",
          "2022-11-01",
          "2022-11-01",
          "2022-11-01",
          "2022-11-01",
          "2022-11-01",
          "2022-11-01",
          "2022-11-01",
          "2022-11-01",
          "2022-11-01",
          "2022-11-01",
          "2022-11-01",
          "2022-11-01",
          "2022-11-01",
          "2022-11-01",
          "2022-11-01",
          "2022-11-01",
          "2022-11-01",
          "2022-11-01",
          "2022-11-01",
          "2022-11-01",
          "2022-11-01",
          "2022-11-01",
          "2022-11-01",
          "2022-11-01",
          "2022-11-01",
          "2022-11-01",
          "2022-11-01",
          "2022-11-01",
          "2022-11-01",
          "2022-11-01",
          "2022-11-01",
          "2022-11-01",
          "2022-11-01",
          "2022-11-01",
          "2022-11-01",
          "2022-11-01",
          "2022-11-01",
          "2022-11-01",
          "2022-11-01",
          "2022-11-01",
          "2022-11-01",
          "2022-11-01",
          "2022-11-04",
          "2022-11-04",
          "2022-11-04",
          "2022-11-04",
          "2022-11-04",
          "2022-11-04",
          "2022-11-04",
          "2022-11-04",
          "2022-11-04",
          "2022-11-04",
          "2022-11-04",
          "2022-11-04",
          "2022-11-04",
          "2022-11-04",
          "2022-11-04",
          "2022-11-04",
          "2022-11-04",
          "2022-11-04",
          "2022-11-04",
          "2022-11-04",
          "2022-11-04",
          "2022-11-04",
          "2022-11-04",
          "2022-11-04",
          "2022-11-04",
          "2022-11-04",
          "2022-11-04",
          "2022-11-04",
          "2022-11-15",
          "2022-11-15",
          "2022-11-15",
          "2022-11-15",
          "2022-11-15",
          "2022-11-15",
          "2022-11-15",
          "2022-11-15",
          "2022-11-15",
          "2022-11-15",
          "2022-11-15",
          "2022-11-15",
          "2022-11-15",
          "2022-11-15",
          "2022-11-15",
          "2022-11-15",
          "2022-11-15",
          "2022-11-15",
          "2022-11-15",
          "2022-11-15",
          "2022-11-15",
          "2022-11-15",
          "2022-11-15",
          "2022-11-15",
          "2022-11-15",
          "2022-11-15",
          "2022-11-15",
          "2022-11-15",
          "2022-11-15",
          "2022-11-15",
          "2022-11-15",
          "2022-11-15",
          "2022-11-15",
          "2022-11-15",
          "2022-11-15",
          "2022-11-15",
          "2022-11-15",
          "2022-11-15",
          "2022-11-15",
          "2022-11-15",
          "2022-11-15",
          "2022-11-15",
          "2022-11-15",
          "2022-11-15",
          "2022-11-15",
          "2022-11-15",
          "2022-11-15",
          "2022-11-15",
          "2022-11-15",
          "2022-11-15",
          "2022-11-15",
          "2022-11-15",
          "2022-11-15",
          "2022-11-15",
          "2022-11-15",
          "2022-11-15",
          "2022-11-15",
          "2022-11-15",
          "2022-11-15",
          "2022-11-15",
          "2022-11-18",
          "2022-11-18",
          "2022-11-18",
          "2022-11-18",
          "2022-11-18",
          "2022-11-18",
          "2022-11-18",
          "2022-11-18",
          "2022-11-18",
          "2022-11-18",
          "2022-11-18",
          "2022-11-18",
          "2022-11-18",
          "2022-11-18",
          "2022-11-18",
          "2022-11-18",
          "2022-11-18",
          "2022-11-18",
          "2022-11-18",
          "2022-11-18",
          "2022-11-18",
          "2022-11-18",
          "2022-11-18",
          "2022-11-18",
          "2022-11-18",
          "2022-11-18",
          "2022-11-18",
          "2022-11-18",
          "2022-11-18",
          "2022-11-18",
          "2022-11-18",
          "2022-11-18",
          "2022-11-18",
          "2022-11-18",
          "2022-11-18",
          "2022-11-18",
          "2022-11-18",
          "2022-11-18",
          "2022-11-18",
          "2022-11-18",
          "2022-11-18",
          "2022-11-18",
          "2022-11-18",
          "2022-11-18",
          "2022-11-18",
          "2022-11-18",
          "2022-11-18",
          "2022-11-22",
          "2022-11-22",
          "2022-11-22",
          "2022-11-22",
          "2022-11-22",
          "2022-11-22",
          "2022-11-22",
          "2022-11-22",
          "2022-11-22",
          "2022-11-22",
          "2022-11-22",
          "2022-11-22",
          "2022-11-22",
          "2022-11-22",
          "2022-11-22",
          "2022-11-22",
          "2022-11-22",
          "2022-11-22",
          "2022-11-22",
          "2022-11-22",
          "2022-11-22",
          "2022-11-22",
          "2022-11-22",
          "2022-11-22",
          "2022-11-22",
          "2022-11-22",
          "2022-11-22",
          "2022-11-22",
          "2022-11-22",
          "2022-11-22",
          "2022-11-22",
          "2022-11-22",
          "2022-11-22",
          "2022-11-22",
          "2022-11-22",
          "2022-11-22",
          "2022-11-22",
          "2022-11-22",
          "2022-11-22",
          "2022-11-22",
          "2022-11-22",
          "2022-11-22",
          "2022-11-22",
          "2022-11-22",
          "2022-11-22",
          "2022-11-22",
          "2022-11-22",
          "2022-11-22",
          "2022-11-22",
          "2022-11-22",
          "2022-11-22",
          "2022-11-22",
          "2022-12-02",
          "2022-12-02",
          "2022-12-02",
          "2022-12-02",
          "2022-12-02",
          "2022-12-02",
          "2022-12-02",
          "2022-12-02",
          "2022-12-02",
          "2022-12-02",
          "2022-12-02",
          "2022-12-02",
          "2022-12-02",
          "2022-12-02",
          "2022-12-02",
          "2022-12-02",
          "2022-12-02",
          "2022-12-02",
          "2022-12-02",
          "2022-12-02",
          "2022-12-02",
          "2022-12-02",
          "2022-12-02",
          "2022-12-02",
          "2022-12-02",
          "2022-12-02",
          "2022-12-02",
          "2022-12-02",
          "2022-12-02",
          "2022-12-02",
          "2022-12-02",
          "2022-12-02",
          "2022-12-02",
          "2022-12-02",
          "2022-12-02",
          "2022-12-08",
          "2022-12-08",
          "2022-12-08",
          "2022-12-08",
          "2022-12-08",
          "2022-12-08",
          "2022-12-08",
          "2022-12-08",
          "2022-12-08",
          "2022-12-08",
          "2022-12-08",
          "2022-12-08",
          "2022-12-08",
          "2022-12-08",
          "2022-12-08",
          "2022-12-08",
          "2022-12-08",
          "2022-12-08",
          "2022-12-08",
          "2022-12-08",
          "2022-12-08",
          "2022-12-08",
          "2022-12-08",
          "2022-12-08",
          "2022-12-08",
          "2022-12-08",
          "2022-12-08",
          "2022-12-08",
          "2022-12-08",
          "2022-12-08",
          "2022-12-08",
          "2022-12-13",
          "2022-12-13",
          "2022-12-13",
          "2022-12-13",
          "2022-12-13",
          "2022-12-13",
          "2022-12-13",
          "2022-12-13",
          "2022-12-13",
          "2022-12-13",
          "2022-12-13",
          "2022-12-13",
          "2022-12-13",
          "2022-12-13",
          "2022-12-13",
          "2022-12-13",
          "2022-12-13",
          "2022-12-13",
          "2022-12-13",
          "2022-12-13",
          "2022-12-13",
          "2022-12-13",
          "2022-12-13",
          "2022-12-13",
          "2022-12-13",
          "2022-12-13",
          "2022-12-13",
          "2022-12-13",
          "2022-12-13",
          "2022-12-13",
          "2022-12-13",
          "2022-12-13",
          "2022-12-13",
          "2022-12-13",
          "2022-12-13",
          "2022-12-13",
          "2022-12-13",
          "2022-12-13",
          "2022-12-13",
          "2022-12-13",
          "2022-12-13",
          "2022-12-13",
          "2022-12-13",
          "2022-12-13",
          "2022-12-13",
          "2022-12-13",
          "2022-12-13",
          "2022-12-13",
          "2022-12-13",
          "2022-12-13",
          "2022-12-13",
          "2022-12-13",
          "2022-12-13",
          "2022-12-13",
          "2022-12-13",
          "2022-12-13",
          "2022-12-13",
          "2022-12-13",
          "2022-12-13",
          "2022-12-13",
          "2022-12-13",
          "2022-12-13",
          "2022-12-13",
          "2022-12-13",
          "2022-12-13",
          "2022-12-13",
          "2022-12-13",
          "2022-12-13",
          "2022-12-13",
          "2022-12-13",
          "2022-12-13",
          "2022-12-13",
          "2022-12-13",
          "2022-12-13",
          "2022-12-13",
          "2022-12-13",
          "2022-12-13",
          "2022-12-13",
          "2022-12-13",
          "2022-12-13",
          "2022-12-13",
          "2022-12-13",
          "2022-12-13",
          "2022-12-13",
          "2022-12-13",
          "2022-12-13",
          "2022-12-13",
          "2022-12-13",
          "2022-12-16",
          "2022-12-16",
          "2022-12-16",
          "2022-12-16",
          "2022-12-16",
          "2022-12-16",
          "2022-12-16",
          "2022-12-16",
          "2022-12-16",
          "2022-12-16",
          "2022-12-16",
          "2022-12-16",
          "2022-12-16",
          "2022-12-16",
          "2022-12-16",
          "2022-12-16",
          "2022-12-16",
          "2022-12-16",
          "2022-12-16",
          "2022-12-16",
          "2022-12-16"
         ],
         "x0": " ",
         "xaxis": "x",
         "y": [
          10,
          100,
          101,
          200,
          201,
          300,
          600,
          601,
          700,
          1000,
          1001,
          1100,
          100,
          125,
          200,
          225,
          250,
          325,
          500,
          600,
          650,
          650,
          701,
          826,
          926,
          987,
          1532,
          1590,
          1850,
          2005,
          2025,
          2075,
          2125,
          2150,
          2201,
          2300,
          2337,
          2500,
          2501,
          2530,
          2580,
          2600,
          2625,
          2670,
          2750,
          2750,
          2800,
          2801,
          2826,
          2876,
          2900,
          3000,
          100,
          150,
          155,
          207,
          100,
          250,
          300,
          450,
          550,
          650,
          815,
          922,
          1111,
          1200,
          1222,
          111,
          125,
          175,
          225,
          500,
          777,
          888,
          1000,
          1100,
          1111,
          1200,
          1222,
          1300,
          1333,
          1444,
          1500,
          111,
          125,
          500,
          700,
          1005,
          1009,
          1250,
          1400,
          1500,
          1500,
          1600,
          1777,
          1800,
          1888,
          1900,
          1950,
          2100,
          2111,
          2200,
          2222,
          2444,
          2600,
          2800,
          111,
          200,
          333,
          1000,
          1300,
          1355,
          1444,
          1500,
          1555,
          111,
          700,
          825,
          900,
          1000,
          1000,
          1100,
          1111,
          222,
          400,
          450,
          505,
          555,
          555,
          605,
          777,
          1111,
          1155,
          1444,
          111,
          161,
          333,
          443,
          555,
          600,
          777,
          111,
          150,
          201,
          255,
          300,
          335,
          450,
          465,
          555,
          580,
          777,
          815,
          111,
          415,
          450,
          550,
          555,
          600,
          674,
          750,
          800,
          850,
          900,
          1111,
          222,
          301,
          360,
          500,
          501,
          600,
          605,
          650,
          777,
          800,
          1000,
          1022,
          1200,
          1444,
          1500,
          1600,
          1666,
          1800,
          1888,
          1900,
          2000,
          222,
          272,
          351,
          501,
          777,
          888,
          999,
          1000,
          1222,
          1333,
          1400,
          1444,
          1555,
          1600,
          1677,
          1800,
          1900,
          2000,
          2000,
          2100,
          2200,
          2300,
          2430,
          2500,
          2500,
          2600,
          125,
          333,
          500,
          600,
          755,
          880,
          1165,
          1265,
          1500,
          1551,
          1565,
          1601,
          1651,
          1777,
          1800,
          1888,
          2000,
          2100,
          2200,
          2222,
          2325,
          2400,
          2444,
          2555,
          2600,
          2800,
          2888,
          150,
          250,
          350,
          444,
          500,
          600,
          666,
          700,
          716,
          741,
          766,
          900,
          901,
          951,
          1000,
          1001,
          1051,
          1101,
          1106,
          1131,
          1156,
          1181,
          1206,
          1231,
          1256,
          1306,
          1356,
          1400,
          1406,
          1456,
          1506,
          1556,
          1600,
          1606,
          1656,
          1706,
          1750,
          1756,
          1888,
          2000,
          2200,
          2222,
          2300,
          2350,
          2400,
          2450,
          2500,
          2550,
          2555,
          2580,
          2630,
          2680,
          2730,
          2777,
          2780,
          2830,
          2880,
          2930,
          2980,
          3030,
          3080,
          3130,
          3155,
          3180,
          3230,
          3255,
          3280,
          3330,
          3333,
          3358,
          3408,
          3458,
          3508,
          3558,
          3608,
          3658,
          3708,
          3758,
          3777,
          3802,
          3852,
          3902,
          3952,
          4002,
          4052,
          4102,
          4111,
          4136,
          4186,
          4222,
          4236,
          125,
          175,
          250,
          300,
          444,
          500,
          506,
          535,
          580,
          750,
          800,
          976,
          1000,
          1033,
          1200,
          1250,
          1300,
          1400,
          1500,
          1600,
          1800,
          2000,
          2000,
          2025,
          2075,
          2150,
          2250,
          2450,
          2550,
          3000,
          3050,
          3150,
          3250,
          3399,
          3999,
          4000,
          4099,
          4100,
          4200,
          4300,
          4400,
          4500,
          4600,
          4700,
          4999,
          5555,
          5888,
          5999,
          6222,
          125,
          175,
          222,
          225,
          2050,
          2444,
          2777,
          3000,
          3100,
          3111,
          3333,
          3500,
          3600,
          3666,
          3700,
          3850,
          222,
          2000,
          2050,
          3111,
          3200,
          3599,
          3699,
          3750,
          3799,
          3899,
          3949,
          4000,
          111,
          125,
          175,
          534,
          688,
          715,
          765,
          790,
          815,
          888,
          1111,
          1212,
          1222,
          111,
          165,
          210,
          215,
          355,
          688,
          715,
          765,
          790,
          888,
          890,
          1000,
          1050,
          1100,
          1111,
          1136,
          1222,
          1255,
          1305,
          1333,
          1355,
          1455,
          1555,
          1555,
          1605,
          1677,
          1801,
          1888,
          2001,
          111,
          125,
          150,
          688,
          738,
          888,
          1000,
          1100,
          1111,
          1333,
          1468,
          1518,
          1555,
          1717,
          1777,
          1818,
          1901,
          2057,
          150,
          200,
          250,
          300,
          322,
          350,
          372,
          460,
          548,
          700,
          700,
          777,
          827,
          900,
          1050,
          1100,
          1111,
          1225,
          1300,
          1450,
          1555,
          1600,
          1700,
          1777,
          1844,
          2157,
          2200,
          222,
          350,
          400,
          580,
          888,
          915,
          1008,
          1033,
          1083,
          1111,
          1200,
          1222,
          1333,
          1400,
          1450,
          1500,
          1550,
          1588,
          1600,
          1777,
          100,
          150,
          200,
          250,
          300,
          500,
          555,
          700,
          750,
          800,
          850,
          888,
          900,
          950,
          1000,
          1050,
          1100,
          1111,
          1136,
          1186,
          1222,
          1236,
          1286,
          1333,
          1336,
          100,
          150,
          200,
          250,
          300,
          500,
          555,
          666,
          800,
          850,
          888,
          908,
          1000,
          1050,
          1100,
          1111,
          1222,
          1250,
          1299,
          1300,
          1350,
          1399,
          1400,
          1499,
          1599,
          1600,
          1699,
          150,
          200,
          250,
          300,
          400,
          450,
          600,
          800,
          1200,
          1400,
          2000,
          3000,
          4000,
          4000,
          125,
          200,
          222,
          275,
          300,
          350,
          400,
          405,
          435,
          500,
          505,
          550,
          575,
          600,
          655,
          750,
          777,
          888,
          1111,
          1222,
          2000,
          125,
          175,
          222,
          225,
          300,
          301,
          350,
          400,
          401,
          450,
          125,
          222,
          300,
          350,
          400,
          450,
          500,
          501,
          600,
          125,
          175,
          222,
          225,
          250,
          300,
          300,
          375,
          500,
          501,
          600,
          600,
          444,
          500,
          650,
          756,
          956,
          1000,
          1100,
          1200,
          1250,
          1300,
          1444,
          1475,
          1700,
          1750,
          1777,
          1800,
          2222,
          444,
          500,
          500,
          550,
          600,
          708,
          800,
          950,
          1086,
          1200,
          1236,
          1287,
          1351,
          1444,
          1470,
          1494,
          1745,
          1777,
          1977,
          2047,
          2222,
          2300,
          2444,
          2745,
          2777,
          2795,
          2888,
          444,
          500,
          550,
          600,
          608,
          700,
          955,
          1005,
          1086,
          1136,
          1186,
          1350,
          1430,
          1444,
          1745,
          1777,
          2047,
          2222,
          2475,
          2888,
          3047,
          3333,
          3400,
          3475,
          3740,
          4300,
          4444,
          4475,
          4525,
          4575,
          4625,
          4700,
          4750,
          4800,
          4850,
          4900,
          4975,
          5475,
          5555,
          5677,
          5745,
          5888,
          5900,
          5925,
          333,
          500,
          700,
          800,
          850,
          900,
          950,
          996,
          1000,
          1100,
          700,
          888,
          1080,
          1300,
          1500,
          222,
          500,
          708,
          750,
          850,
          888
         ],
         "y0": " ",
         "yaxis": "y"
        },
        {
         "alignmentgroup": "True",
         "hovertemplate": "bstock_category_name=Furniture<br>auction_date=%{x}<br>bid_amount=%{y}<extra></extra>",
         "legendgroup": "Furniture",
         "marker": {
          "color": "#EF553B"
         },
         "name": "Furniture",
         "notched": false,
         "offsetgroup": "Furniture",
         "orientation": "v",
         "quartilemethod": "exclusive",
         "showlegend": true,
         "type": "box",
         "x": [
          "2022-09-13",
          "2022-09-13",
          "2022-09-13",
          "2022-09-13",
          "2022-09-13",
          "2022-09-13",
          "2022-09-13",
          "2022-09-13",
          "2022-09-13",
          "2022-09-13",
          "2022-09-13",
          "2022-09-13",
          "2022-09-13",
          "2022-09-13",
          "2022-09-13",
          "2022-09-13",
          "2022-09-13",
          "2022-09-13",
          "2022-09-13",
          "2022-09-13",
          "2022-09-13",
          "2022-09-13",
          "2022-09-13",
          "2022-09-13"
         ],
         "x0": " ",
         "xaxis": "x",
         "y": [
          100,
          150,
          225,
          250,
          300,
          301,
          732,
          900,
          950,
          1000,
          1032,
          1200,
          1400,
          1700,
          1777,
          1831,
          1902,
          2021,
          2111,
          2202,
          2302,
          2401,
          2500,
          2521
         ],
         "y0": " ",
         "yaxis": "y"
        },
        {
         "alignmentgroup": "True",
         "hovertemplate": "bstock_category_name=Consumer Electronics<br>auction_date=%{x}<br>bid_amount=%{y}<extra></extra>",
         "legendgroup": "Consumer Electronics",
         "marker": {
          "color": "#00cc96"
         },
         "name": "Consumer Electronics",
         "notched": false,
         "offsetgroup": "Consumer Electronics",
         "orientation": "v",
         "quartilemethod": "exclusive",
         "showlegend": true,
         "type": "box",
         "x": [
          "2022-09-13",
          "2022-09-13",
          "2022-09-13",
          "2022-09-13",
          "2022-09-13",
          "2022-09-13",
          "2022-09-13",
          "2022-09-13",
          "2022-09-13",
          "2022-09-13",
          "2022-09-13",
          "2022-09-13",
          "2022-09-13",
          "2022-09-13",
          "2022-09-13",
          "2022-09-13",
          "2022-09-13",
          "2022-09-13",
          "2022-09-13",
          "2022-09-13",
          "2022-09-13",
          "2022-09-13",
          "2022-09-13",
          "2022-09-13",
          "2022-09-13",
          "2022-09-13",
          "2022-09-13",
          "2022-09-13",
          "2022-09-13",
          "2022-09-13",
          "2022-09-13",
          "2022-09-13",
          "2022-09-13",
          "2022-09-13",
          "2022-09-13",
          "2022-09-13",
          "2022-09-13",
          "2022-09-13",
          "2022-09-13",
          "2022-09-13",
          "2022-09-13",
          "2022-09-13",
          "2022-09-13",
          "2022-09-13",
          "2022-09-13",
          "2022-09-13",
          "2022-09-13",
          "2022-09-13",
          "2022-09-13",
          "2022-09-13",
          "2022-09-13",
          "2022-09-16",
          "2022-09-16",
          "2022-09-16",
          "2022-09-16",
          "2022-09-16",
          "2022-09-16",
          "2022-09-16",
          "2022-09-16",
          "2022-09-16",
          "2022-09-16",
          "2022-09-16"
         ],
         "x0": " ",
         "xaxis": "x",
         "y": [
          100,
          125,
          200,
          225,
          250,
          275,
          300,
          400,
          450,
          525,
          625,
          725,
          775,
          922,
          1000,
          1075,
          1111,
          1112,
          1200,
          1300,
          1500,
          1552,
          1650,
          1725,
          1800,
          1875,
          2667,
          100,
          125,
          280,
          450,
          500,
          550,
          550,
          622,
          101,
          150,
          151,
          250,
          275,
          350,
          450,
          575,
          625,
          675,
          732,
          777,
          827,
          832,
          865,
          922,
          200,
          500,
          500,
          525,
          565,
          600,
          666,
          1500,
          1700,
          2000,
          2000
         ],
         "y0": " ",
         "yaxis": "y"
        }
       ],
       "layout": {
        "boxmode": "group",
        "legend": {
         "title": {
          "text": "bstock_category_name"
         },
         "tracegroupgap": 0
        },
        "template": {
         "data": {
          "bar": [
           {
            "error_x": {
             "color": "#2a3f5f"
            },
            "error_y": {
             "color": "#2a3f5f"
            },
            "marker": {
             "line": {
              "color": "#E5ECF6",
              "width": 0.5
             },
             "pattern": {
              "fillmode": "overlay",
              "size": 10,
              "solidity": 0.2
             }
            },
            "type": "bar"
           }
          ],
          "barpolar": [
           {
            "marker": {
             "line": {
              "color": "#E5ECF6",
              "width": 0.5
             },
             "pattern": {
              "fillmode": "overlay",
              "size": 10,
              "solidity": 0.2
             }
            },
            "type": "barpolar"
           }
          ],
          "carpet": [
           {
            "aaxis": {
             "endlinecolor": "#2a3f5f",
             "gridcolor": "white",
             "linecolor": "white",
             "minorgridcolor": "white",
             "startlinecolor": "#2a3f5f"
            },
            "baxis": {
             "endlinecolor": "#2a3f5f",
             "gridcolor": "white",
             "linecolor": "white",
             "minorgridcolor": "white",
             "startlinecolor": "#2a3f5f"
            },
            "type": "carpet"
           }
          ],
          "choropleth": [
           {
            "colorbar": {
             "outlinewidth": 0,
             "ticks": ""
            },
            "type": "choropleth"
           }
          ],
          "contour": [
           {
            "colorbar": {
             "outlinewidth": 0,
             "ticks": ""
            },
            "colorscale": [
             [
              0,
              "#0d0887"
             ],
             [
              0.1111111111111111,
              "#46039f"
             ],
             [
              0.2222222222222222,
              "#7201a8"
             ],
             [
              0.3333333333333333,
              "#9c179e"
             ],
             [
              0.4444444444444444,
              "#bd3786"
             ],
             [
              0.5555555555555556,
              "#d8576b"
             ],
             [
              0.6666666666666666,
              "#ed7953"
             ],
             [
              0.7777777777777778,
              "#fb9f3a"
             ],
             [
              0.8888888888888888,
              "#fdca26"
             ],
             [
              1,
              "#f0f921"
             ]
            ],
            "type": "contour"
           }
          ],
          "contourcarpet": [
           {
            "colorbar": {
             "outlinewidth": 0,
             "ticks": ""
            },
            "type": "contourcarpet"
           }
          ],
          "heatmap": [
           {
            "colorbar": {
             "outlinewidth": 0,
             "ticks": ""
            },
            "colorscale": [
             [
              0,
              "#0d0887"
             ],
             [
              0.1111111111111111,
              "#46039f"
             ],
             [
              0.2222222222222222,
              "#7201a8"
             ],
             [
              0.3333333333333333,
              "#9c179e"
             ],
             [
              0.4444444444444444,
              "#bd3786"
             ],
             [
              0.5555555555555556,
              "#d8576b"
             ],
             [
              0.6666666666666666,
              "#ed7953"
             ],
             [
              0.7777777777777778,
              "#fb9f3a"
             ],
             [
              0.8888888888888888,
              "#fdca26"
             ],
             [
              1,
              "#f0f921"
             ]
            ],
            "type": "heatmap"
           }
          ],
          "heatmapgl": [
           {
            "colorbar": {
             "outlinewidth": 0,
             "ticks": ""
            },
            "colorscale": [
             [
              0,
              "#0d0887"
             ],
             [
              0.1111111111111111,
              "#46039f"
             ],
             [
              0.2222222222222222,
              "#7201a8"
             ],
             [
              0.3333333333333333,
              "#9c179e"
             ],
             [
              0.4444444444444444,
              "#bd3786"
             ],
             [
              0.5555555555555556,
              "#d8576b"
             ],
             [
              0.6666666666666666,
              "#ed7953"
             ],
             [
              0.7777777777777778,
              "#fb9f3a"
             ],
             [
              0.8888888888888888,
              "#fdca26"
             ],
             [
              1,
              "#f0f921"
             ]
            ],
            "type": "heatmapgl"
           }
          ],
          "histogram": [
           {
            "marker": {
             "pattern": {
              "fillmode": "overlay",
              "size": 10,
              "solidity": 0.2
             }
            },
            "type": "histogram"
           }
          ],
          "histogram2d": [
           {
            "colorbar": {
             "outlinewidth": 0,
             "ticks": ""
            },
            "colorscale": [
             [
              0,
              "#0d0887"
             ],
             [
              0.1111111111111111,
              "#46039f"
             ],
             [
              0.2222222222222222,
              "#7201a8"
             ],
             [
              0.3333333333333333,
              "#9c179e"
             ],
             [
              0.4444444444444444,
              "#bd3786"
             ],
             [
              0.5555555555555556,
              "#d8576b"
             ],
             [
              0.6666666666666666,
              "#ed7953"
             ],
             [
              0.7777777777777778,
              "#fb9f3a"
             ],
             [
              0.8888888888888888,
              "#fdca26"
             ],
             [
              1,
              "#f0f921"
             ]
            ],
            "type": "histogram2d"
           }
          ],
          "histogram2dcontour": [
           {
            "colorbar": {
             "outlinewidth": 0,
             "ticks": ""
            },
            "colorscale": [
             [
              0,
              "#0d0887"
             ],
             [
              0.1111111111111111,
              "#46039f"
             ],
             [
              0.2222222222222222,
              "#7201a8"
             ],
             [
              0.3333333333333333,
              "#9c179e"
             ],
             [
              0.4444444444444444,
              "#bd3786"
             ],
             [
              0.5555555555555556,
              "#d8576b"
             ],
             [
              0.6666666666666666,
              "#ed7953"
             ],
             [
              0.7777777777777778,
              "#fb9f3a"
             ],
             [
              0.8888888888888888,
              "#fdca26"
             ],
             [
              1,
              "#f0f921"
             ]
            ],
            "type": "histogram2dcontour"
           }
          ],
          "mesh3d": [
           {
            "colorbar": {
             "outlinewidth": 0,
             "ticks": ""
            },
            "type": "mesh3d"
           }
          ],
          "parcoords": [
           {
            "line": {
             "colorbar": {
              "outlinewidth": 0,
              "ticks": ""
             }
            },
            "type": "parcoords"
           }
          ],
          "pie": [
           {
            "automargin": true,
            "type": "pie"
           }
          ],
          "scatter": [
           {
            "fillpattern": {
             "fillmode": "overlay",
             "size": 10,
             "solidity": 0.2
            },
            "type": "scatter"
           }
          ],
          "scatter3d": [
           {
            "line": {
             "colorbar": {
              "outlinewidth": 0,
              "ticks": ""
             }
            },
            "marker": {
             "colorbar": {
              "outlinewidth": 0,
              "ticks": ""
             }
            },
            "type": "scatter3d"
           }
          ],
          "scattercarpet": [
           {
            "marker": {
             "colorbar": {
              "outlinewidth": 0,
              "ticks": ""
             }
            },
            "type": "scattercarpet"
           }
          ],
          "scattergeo": [
           {
            "marker": {
             "colorbar": {
              "outlinewidth": 0,
              "ticks": ""
             }
            },
            "type": "scattergeo"
           }
          ],
          "scattergl": [
           {
            "marker": {
             "colorbar": {
              "outlinewidth": 0,
              "ticks": ""
             }
            },
            "type": "scattergl"
           }
          ],
          "scattermapbox": [
           {
            "marker": {
             "colorbar": {
              "outlinewidth": 0,
              "ticks": ""
             }
            },
            "type": "scattermapbox"
           }
          ],
          "scatterpolar": [
           {
            "marker": {
             "colorbar": {
              "outlinewidth": 0,
              "ticks": ""
             }
            },
            "type": "scatterpolar"
           }
          ],
          "scatterpolargl": [
           {
            "marker": {
             "colorbar": {
              "outlinewidth": 0,
              "ticks": ""
             }
            },
            "type": "scatterpolargl"
           }
          ],
          "scatterternary": [
           {
            "marker": {
             "colorbar": {
              "outlinewidth": 0,
              "ticks": ""
             }
            },
            "type": "scatterternary"
           }
          ],
          "surface": [
           {
            "colorbar": {
             "outlinewidth": 0,
             "ticks": ""
            },
            "colorscale": [
             [
              0,
              "#0d0887"
             ],
             [
              0.1111111111111111,
              "#46039f"
             ],
             [
              0.2222222222222222,
              "#7201a8"
             ],
             [
              0.3333333333333333,
              "#9c179e"
             ],
             [
              0.4444444444444444,
              "#bd3786"
             ],
             [
              0.5555555555555556,
              "#d8576b"
             ],
             [
              0.6666666666666666,
              "#ed7953"
             ],
             [
              0.7777777777777778,
              "#fb9f3a"
             ],
             [
              0.8888888888888888,
              "#fdca26"
             ],
             [
              1,
              "#f0f921"
             ]
            ],
            "type": "surface"
           }
          ],
          "table": [
           {
            "cells": {
             "fill": {
              "color": "#EBF0F8"
             },
             "line": {
              "color": "white"
             }
            },
            "header": {
             "fill": {
              "color": "#C8D4E3"
             },
             "line": {
              "color": "white"
             }
            },
            "type": "table"
           }
          ]
         },
         "layout": {
          "annotationdefaults": {
           "arrowcolor": "#2a3f5f",
           "arrowhead": 0,
           "arrowwidth": 1
          },
          "autotypenumbers": "strict",
          "coloraxis": {
           "colorbar": {
            "outlinewidth": 0,
            "ticks": ""
           }
          },
          "colorscale": {
           "diverging": [
            [
             0,
             "#8e0152"
            ],
            [
             0.1,
             "#c51b7d"
            ],
            [
             0.2,
             "#de77ae"
            ],
            [
             0.3,
             "#f1b6da"
            ],
            [
             0.4,
             "#fde0ef"
            ],
            [
             0.5,
             "#f7f7f7"
            ],
            [
             0.6,
             "#e6f5d0"
            ],
            [
             0.7,
             "#b8e186"
            ],
            [
             0.8,
             "#7fbc41"
            ],
            [
             0.9,
             "#4d9221"
            ],
            [
             1,
             "#276419"
            ]
           ],
           "sequential": [
            [
             0,
             "#0d0887"
            ],
            [
             0.1111111111111111,
             "#46039f"
            ],
            [
             0.2222222222222222,
             "#7201a8"
            ],
            [
             0.3333333333333333,
             "#9c179e"
            ],
            [
             0.4444444444444444,
             "#bd3786"
            ],
            [
             0.5555555555555556,
             "#d8576b"
            ],
            [
             0.6666666666666666,
             "#ed7953"
            ],
            [
             0.7777777777777778,
             "#fb9f3a"
            ],
            [
             0.8888888888888888,
             "#fdca26"
            ],
            [
             1,
             "#f0f921"
            ]
           ],
           "sequentialminus": [
            [
             0,
             "#0d0887"
            ],
            [
             0.1111111111111111,
             "#46039f"
            ],
            [
             0.2222222222222222,
             "#7201a8"
            ],
            [
             0.3333333333333333,
             "#9c179e"
            ],
            [
             0.4444444444444444,
             "#bd3786"
            ],
            [
             0.5555555555555556,
             "#d8576b"
            ],
            [
             0.6666666666666666,
             "#ed7953"
            ],
            [
             0.7777777777777778,
             "#fb9f3a"
            ],
            [
             0.8888888888888888,
             "#fdca26"
            ],
            [
             1,
             "#f0f921"
            ]
           ]
          },
          "colorway": [
           "#636efa",
           "#EF553B",
           "#00cc96",
           "#ab63fa",
           "#FFA15A",
           "#19d3f3",
           "#FF6692",
           "#B6E880",
           "#FF97FF",
           "#FECB52"
          ],
          "font": {
           "color": "#2a3f5f"
          },
          "geo": {
           "bgcolor": "white",
           "lakecolor": "white",
           "landcolor": "#E5ECF6",
           "showlakes": true,
           "showland": true,
           "subunitcolor": "white"
          },
          "hoverlabel": {
           "align": "left"
          },
          "hovermode": "closest",
          "mapbox": {
           "style": "light"
          },
          "paper_bgcolor": "white",
          "plot_bgcolor": "#E5ECF6",
          "polar": {
           "angularaxis": {
            "gridcolor": "white",
            "linecolor": "white",
            "ticks": ""
           },
           "bgcolor": "#E5ECF6",
           "radialaxis": {
            "gridcolor": "white",
            "linecolor": "white",
            "ticks": ""
           }
          },
          "scene": {
           "xaxis": {
            "backgroundcolor": "#E5ECF6",
            "gridcolor": "white",
            "gridwidth": 2,
            "linecolor": "white",
            "showbackground": true,
            "ticks": "",
            "zerolinecolor": "white"
           },
           "yaxis": {
            "backgroundcolor": "#E5ECF6",
            "gridcolor": "white",
            "gridwidth": 2,
            "linecolor": "white",
            "showbackground": true,
            "ticks": "",
            "zerolinecolor": "white"
           },
           "zaxis": {
            "backgroundcolor": "#E5ECF6",
            "gridcolor": "white",
            "gridwidth": 2,
            "linecolor": "white",
            "showbackground": true,
            "ticks": "",
            "zerolinecolor": "white"
           }
          },
          "shapedefaults": {
           "line": {
            "color": "#2a3f5f"
           }
          },
          "ternary": {
           "aaxis": {
            "gridcolor": "white",
            "linecolor": "white",
            "ticks": ""
           },
           "baxis": {
            "gridcolor": "white",
            "linecolor": "white",
            "ticks": ""
           },
           "bgcolor": "#E5ECF6",
           "caxis": {
            "gridcolor": "white",
            "linecolor": "white",
            "ticks": ""
           }
          },
          "title": {
           "x": 0.05
          },
          "xaxis": {
           "automargin": true,
           "gridcolor": "white",
           "linecolor": "white",
           "ticks": "",
           "title": {
            "standoff": 15
           },
           "zerolinecolor": "white",
           "zerolinewidth": 2
          },
          "yaxis": {
           "automargin": true,
           "gridcolor": "white",
           "linecolor": "white",
           "ticks": "",
           "title": {
            "standoff": 15
           },
           "zerolinecolor": "white",
           "zerolinewidth": 2
          }
         }
        },
        "title": {
         "text": "Bid amount distribution per category and auction date"
        },
        "xaxis": {
         "anchor": "y",
         "domain": [
          0,
          1
         ],
         "title": {
          "text": "auction_date"
         }
        },
        "yaxis": {
         "anchor": "x",
         "domain": [
          0,
          1
         ],
         "title": {
          "text": "bid_amount"
         }
        }
       }
      },
      "text/html": [
       "<div>                            <div id=\"d5911424-e5bb-4e92-a9c8-f167a50fa2b8\" class=\"plotly-graph-div\" style=\"height:525px; width:100%;\"></div>            <script type=\"text/javascript\">                require([\"plotly\"], function(Plotly) {                    window.PLOTLYENV=window.PLOTLYENV || {};                                    if (document.getElementById(\"d5911424-e5bb-4e92-a9c8-f167a50fa2b8\")) {                    Plotly.newPlot(                        \"d5911424-e5bb-4e92-a9c8-f167a50fa2b8\",                        [{\"alignmentgroup\":\"True\",\"hovertemplate\":\"bstock_category_name=Apparel, Footwear & Accessories<br>auction_date=%{x}<br>bid_amount=%{y}<extra></extra>\",\"legendgroup\":\"Apparel, Footwear & Accessories\",\"marker\":{\"color\":\"#636efa\"},\"name\":\"Apparel, Footwear & Accessories\",\"notched\":false,\"offsetgroup\":\"Apparel, Footwear & Accessories\",\"orientation\":\"v\",\"showlegend\":true,\"x\":[\"2022-09-10\",\"2022-09-10\",\"2022-09-10\",\"2022-09-10\",\"2022-09-10\",\"2022-09-10\",\"2022-09-10\",\"2022-09-10\",\"2022-09-10\",\"2022-09-10\",\"2022-09-10\",\"2022-09-10\",\"2022-09-13\",\"2022-09-13\",\"2022-09-13\",\"2022-09-13\",\"2022-09-13\",\"2022-09-13\",\"2022-09-13\",\"2022-09-13\",\"2022-09-13\",\"2022-09-13\",\"2022-09-13\",\"2022-09-13\",\"2022-09-13\",\"2022-09-13\",\"2022-09-13\",\"2022-09-13\",\"2022-09-13\",\"2022-09-13\",\"2022-09-13\",\"2022-09-13\",\"2022-09-13\",\"2022-09-13\",\"2022-09-13\",\"2022-09-13\",\"2022-09-13\",\"2022-09-13\",\"2022-09-13\",\"2022-09-13\",\"2022-09-13\",\"2022-09-13\",\"2022-09-13\",\"2022-09-13\",\"2022-09-13\",\"2022-09-13\",\"2022-09-13\",\"2022-09-13\",\"2022-09-13\",\"2022-09-13\",\"2022-09-13\",\"2022-09-13\",\"2022-09-13\",\"2022-09-13\",\"2022-09-13\",\"2022-09-13\",\"2022-09-16\",\"2022-09-16\",\"2022-09-16\",\"2022-09-16\",\"2022-09-16\",\"2022-09-16\",\"2022-09-16\",\"2022-09-16\",\"2022-09-16\",\"2022-09-16\",\"2022-09-16\",\"2022-09-23\",\"2022-09-23\",\"2022-09-23\",\"2022-09-23\",\"2022-09-23\",\"2022-09-23\",\"2022-09-23\",\"2022-09-23\",\"2022-09-23\",\"2022-09-23\",\"2022-09-23\",\"2022-09-23\",\"2022-09-23\",\"2022-09-23\",\"2022-09-23\",\"2022-09-23\",\"2022-09-23\",\"2022-09-23\",\"2022-09-23\",\"2022-09-23\",\"2022-09-23\",\"2022-09-23\",\"2022-09-23\",\"2022-09-23\",\"2022-09-23\",\"2022-09-23\",\"2022-09-23\",\"2022-09-23\",\"2022-09-23\",\"2022-09-23\",\"2022-09-23\",\"2022-09-23\",\"2022-09-23\",\"2022-09-23\",\"2022-09-23\",\"2022-09-23\",\"2022-09-23\",\"2022-09-23\",\"2022-09-23\",\"2022-09-23\",\"2022-09-23\",\"2022-09-23\",\"2022-09-23\",\"2022-09-23\",\"2022-09-23\",\"2022-09-23\",\"2022-09-23\",\"2022-09-23\",\"2022-09-23\",\"2022-09-23\",\"2022-09-23\",\"2022-09-23\",\"2022-09-23\",\"2022-09-23\",\"2022-09-23\",\"2022-09-23\",\"2022-09-30\",\"2022-09-30\",\"2022-09-30\",\"2022-09-30\",\"2022-09-30\",\"2022-09-30\",\"2022-09-30\",\"2022-09-30\",\"2022-09-30\",\"2022-09-30\",\"2022-09-30\",\"2022-09-30\",\"2022-09-30\",\"2022-09-30\",\"2022-09-30\",\"2022-09-30\",\"2022-09-30\",\"2022-09-30\",\"2022-09-30\",\"2022-09-30\",\"2022-09-30\",\"2022-09-30\",\"2022-09-30\",\"2022-09-30\",\"2022-09-30\",\"2022-09-30\",\"2022-09-30\",\"2022-09-30\",\"2022-09-30\",\"2022-09-30\",\"2022-09-30\",\"2022-09-30\",\"2022-09-30\",\"2022-09-30\",\"2022-09-30\",\"2022-09-30\",\"2022-09-30\",\"2022-09-30\",\"2022-09-30\",\"2022-09-30\",\"2022-09-30\",\"2022-09-30\",\"2022-10-07\",\"2022-10-07\",\"2022-10-07\",\"2022-10-07\",\"2022-10-07\",\"2022-10-07\",\"2022-10-07\",\"2022-10-07\",\"2022-10-07\",\"2022-10-07\",\"2022-10-07\",\"2022-10-07\",\"2022-10-07\",\"2022-10-07\",\"2022-10-07\",\"2022-10-07\",\"2022-10-07\",\"2022-10-07\",\"2022-10-07\",\"2022-10-07\",\"2022-10-07\",\"2022-10-07\",\"2022-10-07\",\"2022-10-07\",\"2022-10-07\",\"2022-10-07\",\"2022-10-07\",\"2022-10-07\",\"2022-10-07\",\"2022-10-07\",\"2022-10-07\",\"2022-10-07\",\"2022-10-07\",\"2022-10-07\",\"2022-10-07\",\"2022-10-07\",\"2022-10-07\",\"2022-10-07\",\"2022-10-07\",\"2022-10-07\",\"2022-10-07\",\"2022-10-07\",\"2022-10-07\",\"2022-10-07\",\"2022-10-07\",\"2022-10-07\",\"2022-10-07\",\"2022-10-07\",\"2022-10-07\",\"2022-10-07\",\"2022-10-07\",\"2022-10-07\",\"2022-10-07\",\"2022-10-07\",\"2022-10-07\",\"2022-10-07\",\"2022-10-07\",\"2022-10-07\",\"2022-10-07\",\"2022-10-07\",\"2022-10-07\",\"2022-10-07\",\"2022-10-07\",\"2022-10-07\",\"2022-10-07\",\"2022-10-07\",\"2022-10-07\",\"2022-10-07\",\"2022-10-07\",\"2022-10-07\",\"2022-10-07\",\"2022-10-07\",\"2022-10-07\",\"2022-10-07\",\"2022-11-01\",\"2022-11-01\",\"2022-11-01\",\"2022-11-01\",\"2022-11-01\",\"2022-11-01\",\"2022-11-01\",\"2022-11-01\",\"2022-11-01\",\"2022-11-01\",\"2022-11-01\",\"2022-11-01\",\"2022-11-01\",\"2022-11-01\",\"2022-11-01\",\"2022-11-01\",\"2022-11-01\",\"2022-11-01\",\"2022-11-01\",\"2022-11-01\",\"2022-11-01\",\"2022-11-01\",\"2022-11-01\",\"2022-11-01\",\"2022-11-01\",\"2022-11-01\",\"2022-11-01\",\"2022-11-01\",\"2022-11-01\",\"2022-11-01\",\"2022-11-01\",\"2022-11-01\",\"2022-11-01\",\"2022-11-01\",\"2022-11-01\",\"2022-11-01\",\"2022-11-01\",\"2022-11-01\",\"2022-11-01\",\"2022-11-01\",\"2022-11-01\",\"2022-11-01\",\"2022-11-01\",\"2022-11-01\",\"2022-11-01\",\"2022-11-01\",\"2022-11-01\",\"2022-11-01\",\"2022-11-01\",\"2022-11-01\",\"2022-11-01\",\"2022-11-01\",\"2022-11-01\",\"2022-11-01\",\"2022-11-01\",\"2022-11-01\",\"2022-11-01\",\"2022-11-01\",\"2022-11-01\",\"2022-11-01\",\"2022-11-01\",\"2022-11-01\",\"2022-11-01\",\"2022-11-01\",\"2022-11-01\",\"2022-11-01\",\"2022-11-01\",\"2022-11-01\",\"2022-11-01\",\"2022-11-01\",\"2022-11-01\",\"2022-11-01\",\"2022-11-01\",\"2022-11-01\",\"2022-11-01\",\"2022-11-01\",\"2022-11-01\",\"2022-11-01\",\"2022-11-01\",\"2022-11-01\",\"2022-11-01\",\"2022-11-01\",\"2022-11-01\",\"2022-11-01\",\"2022-11-01\",\"2022-11-01\",\"2022-11-01\",\"2022-11-01\",\"2022-11-01\",\"2022-11-01\",\"2022-11-01\",\"2022-11-01\",\"2022-11-01\",\"2022-11-01\",\"2022-11-01\",\"2022-11-01\",\"2022-11-01\",\"2022-11-01\",\"2022-11-01\",\"2022-11-01\",\"2022-11-01\",\"2022-11-01\",\"2022-11-01\",\"2022-11-01\",\"2022-11-01\",\"2022-11-01\",\"2022-11-01\",\"2022-11-01\",\"2022-11-01\",\"2022-11-01\",\"2022-11-01\",\"2022-11-01\",\"2022-11-01\",\"2022-11-01\",\"2022-11-01\",\"2022-11-01\",\"2022-11-01\",\"2022-11-01\",\"2022-11-01\",\"2022-11-01\",\"2022-11-01\",\"2022-11-01\",\"2022-11-01\",\"2022-11-01\",\"2022-11-01\",\"2022-11-01\",\"2022-11-01\",\"2022-11-01\",\"2022-11-01\",\"2022-11-01\",\"2022-11-01\",\"2022-11-01\",\"2022-11-01\",\"2022-11-01\",\"2022-11-01\",\"2022-11-01\",\"2022-11-01\",\"2022-11-01\",\"2022-11-01\",\"2022-11-01\",\"2022-11-04\",\"2022-11-04\",\"2022-11-04\",\"2022-11-04\",\"2022-11-04\",\"2022-11-04\",\"2022-11-04\",\"2022-11-04\",\"2022-11-04\",\"2022-11-04\",\"2022-11-04\",\"2022-11-04\",\"2022-11-04\",\"2022-11-04\",\"2022-11-04\",\"2022-11-04\",\"2022-11-04\",\"2022-11-04\",\"2022-11-04\",\"2022-11-04\",\"2022-11-04\",\"2022-11-04\",\"2022-11-04\",\"2022-11-04\",\"2022-11-04\",\"2022-11-04\",\"2022-11-04\",\"2022-11-04\",\"2022-11-15\",\"2022-11-15\",\"2022-11-15\",\"2022-11-15\",\"2022-11-15\",\"2022-11-15\",\"2022-11-15\",\"2022-11-15\",\"2022-11-15\",\"2022-11-15\",\"2022-11-15\",\"2022-11-15\",\"2022-11-15\",\"2022-11-15\",\"2022-11-15\",\"2022-11-15\",\"2022-11-15\",\"2022-11-15\",\"2022-11-15\",\"2022-11-15\",\"2022-11-15\",\"2022-11-15\",\"2022-11-15\",\"2022-11-15\",\"2022-11-15\",\"2022-11-15\",\"2022-11-15\",\"2022-11-15\",\"2022-11-15\",\"2022-11-15\",\"2022-11-15\",\"2022-11-15\",\"2022-11-15\",\"2022-11-15\",\"2022-11-15\",\"2022-11-15\",\"2022-11-15\",\"2022-11-15\",\"2022-11-15\",\"2022-11-15\",\"2022-11-15\",\"2022-11-15\",\"2022-11-15\",\"2022-11-15\",\"2022-11-15\",\"2022-11-15\",\"2022-11-15\",\"2022-11-15\",\"2022-11-15\",\"2022-11-15\",\"2022-11-15\",\"2022-11-15\",\"2022-11-15\",\"2022-11-15\",\"2022-11-15\",\"2022-11-15\",\"2022-11-15\",\"2022-11-15\",\"2022-11-15\",\"2022-11-15\",\"2022-11-18\",\"2022-11-18\",\"2022-11-18\",\"2022-11-18\",\"2022-11-18\",\"2022-11-18\",\"2022-11-18\",\"2022-11-18\",\"2022-11-18\",\"2022-11-18\",\"2022-11-18\",\"2022-11-18\",\"2022-11-18\",\"2022-11-18\",\"2022-11-18\",\"2022-11-18\",\"2022-11-18\",\"2022-11-18\",\"2022-11-18\",\"2022-11-18\",\"2022-11-18\",\"2022-11-18\",\"2022-11-18\",\"2022-11-18\",\"2022-11-18\",\"2022-11-18\",\"2022-11-18\",\"2022-11-18\",\"2022-11-18\",\"2022-11-18\",\"2022-11-18\",\"2022-11-18\",\"2022-11-18\",\"2022-11-18\",\"2022-11-18\",\"2022-11-18\",\"2022-11-18\",\"2022-11-18\",\"2022-11-18\",\"2022-11-18\",\"2022-11-18\",\"2022-11-18\",\"2022-11-18\",\"2022-11-18\",\"2022-11-18\",\"2022-11-18\",\"2022-11-18\",\"2022-11-22\",\"2022-11-22\",\"2022-11-22\",\"2022-11-22\",\"2022-11-22\",\"2022-11-22\",\"2022-11-22\",\"2022-11-22\",\"2022-11-22\",\"2022-11-22\",\"2022-11-22\",\"2022-11-22\",\"2022-11-22\",\"2022-11-22\",\"2022-11-22\",\"2022-11-22\",\"2022-11-22\",\"2022-11-22\",\"2022-11-22\",\"2022-11-22\",\"2022-11-22\",\"2022-11-22\",\"2022-11-22\",\"2022-11-22\",\"2022-11-22\",\"2022-11-22\",\"2022-11-22\",\"2022-11-22\",\"2022-11-22\",\"2022-11-22\",\"2022-11-22\",\"2022-11-22\",\"2022-11-22\",\"2022-11-22\",\"2022-11-22\",\"2022-11-22\",\"2022-11-22\",\"2022-11-22\",\"2022-11-22\",\"2022-11-22\",\"2022-11-22\",\"2022-11-22\",\"2022-11-22\",\"2022-11-22\",\"2022-11-22\",\"2022-11-22\",\"2022-11-22\",\"2022-11-22\",\"2022-11-22\",\"2022-11-22\",\"2022-11-22\",\"2022-11-22\",\"2022-12-02\",\"2022-12-02\",\"2022-12-02\",\"2022-12-02\",\"2022-12-02\",\"2022-12-02\",\"2022-12-02\",\"2022-12-02\",\"2022-12-02\",\"2022-12-02\",\"2022-12-02\",\"2022-12-02\",\"2022-12-02\",\"2022-12-02\",\"2022-12-02\",\"2022-12-02\",\"2022-12-02\",\"2022-12-02\",\"2022-12-02\",\"2022-12-02\",\"2022-12-02\",\"2022-12-02\",\"2022-12-02\",\"2022-12-02\",\"2022-12-02\",\"2022-12-02\",\"2022-12-02\",\"2022-12-02\",\"2022-12-02\",\"2022-12-02\",\"2022-12-02\",\"2022-12-02\",\"2022-12-02\",\"2022-12-02\",\"2022-12-02\",\"2022-12-08\",\"2022-12-08\",\"2022-12-08\",\"2022-12-08\",\"2022-12-08\",\"2022-12-08\",\"2022-12-08\",\"2022-12-08\",\"2022-12-08\",\"2022-12-08\",\"2022-12-08\",\"2022-12-08\",\"2022-12-08\",\"2022-12-08\",\"2022-12-08\",\"2022-12-08\",\"2022-12-08\",\"2022-12-08\",\"2022-12-08\",\"2022-12-08\",\"2022-12-08\",\"2022-12-08\",\"2022-12-08\",\"2022-12-08\",\"2022-12-08\",\"2022-12-08\",\"2022-12-08\",\"2022-12-08\",\"2022-12-08\",\"2022-12-08\",\"2022-12-08\",\"2022-12-13\",\"2022-12-13\",\"2022-12-13\",\"2022-12-13\",\"2022-12-13\",\"2022-12-13\",\"2022-12-13\",\"2022-12-13\",\"2022-12-13\",\"2022-12-13\",\"2022-12-13\",\"2022-12-13\",\"2022-12-13\",\"2022-12-13\",\"2022-12-13\",\"2022-12-13\",\"2022-12-13\",\"2022-12-13\",\"2022-12-13\",\"2022-12-13\",\"2022-12-13\",\"2022-12-13\",\"2022-12-13\",\"2022-12-13\",\"2022-12-13\",\"2022-12-13\",\"2022-12-13\",\"2022-12-13\",\"2022-12-13\",\"2022-12-13\",\"2022-12-13\",\"2022-12-13\",\"2022-12-13\",\"2022-12-13\",\"2022-12-13\",\"2022-12-13\",\"2022-12-13\",\"2022-12-13\",\"2022-12-13\",\"2022-12-13\",\"2022-12-13\",\"2022-12-13\",\"2022-12-13\",\"2022-12-13\",\"2022-12-13\",\"2022-12-13\",\"2022-12-13\",\"2022-12-13\",\"2022-12-13\",\"2022-12-13\",\"2022-12-13\",\"2022-12-13\",\"2022-12-13\",\"2022-12-13\",\"2022-12-13\",\"2022-12-13\",\"2022-12-13\",\"2022-12-13\",\"2022-12-13\",\"2022-12-13\",\"2022-12-13\",\"2022-12-13\",\"2022-12-13\",\"2022-12-13\",\"2022-12-13\",\"2022-12-13\",\"2022-12-13\",\"2022-12-13\",\"2022-12-13\",\"2022-12-13\",\"2022-12-13\",\"2022-12-13\",\"2022-12-13\",\"2022-12-13\",\"2022-12-13\",\"2022-12-13\",\"2022-12-13\",\"2022-12-13\",\"2022-12-13\",\"2022-12-13\",\"2022-12-13\",\"2022-12-13\",\"2022-12-13\",\"2022-12-13\",\"2022-12-13\",\"2022-12-13\",\"2022-12-13\",\"2022-12-13\",\"2022-12-16\",\"2022-12-16\",\"2022-12-16\",\"2022-12-16\",\"2022-12-16\",\"2022-12-16\",\"2022-12-16\",\"2022-12-16\",\"2022-12-16\",\"2022-12-16\",\"2022-12-16\",\"2022-12-16\",\"2022-12-16\",\"2022-12-16\",\"2022-12-16\",\"2022-12-16\",\"2022-12-16\",\"2022-12-16\",\"2022-12-16\",\"2022-12-16\",\"2022-12-16\"],\"x0\":\" \",\"xaxis\":\"x\",\"y\":[10.0,100.0,101.0,200.0,201.0,300.0,600.0,601.0,700.0,1000.0,1001.0,1100.0,100.0,125.0,200.0,225.0,250.0,325.0,500.0,600.0,650.0,650.0,701.0,826.0,926.0,987.0,1532.0,1590.0,1850.0,2005.0,2025.0,2075.0,2125.0,2150.0,2201.0,2300.0,2337.0,2500.0,2501.0,2530.0,2580.0,2600.0,2625.0,2670.0,2750.0,2750.0,2800.0,2801.0,2826.0,2876.0,2900.0,3000.0,100.0,150.0,155.0,207.0,100.0,250.0,300.0,450.0,550.0,650.0,815.0,922.0,1111.0,1200.0,1222.0,111.0,125.0,175.0,225.0,500.0,777.0,888.0,1000.0,1100.0,1111.0,1200.0,1222.0,1300.0,1333.0,1444.0,1500.0,111.0,125.0,500.0,700.0,1005.0,1009.0,1250.0,1400.0,1500.0,1500.0,1600.0,1777.0,1800.0,1888.0,1900.0,1950.0,2100.0,2111.0,2200.0,2222.0,2444.0,2600.0,2800.0,111.0,200.0,333.0,1000.0,1300.0,1355.0,1444.0,1500.0,1555.0,111.0,700.0,825.0,900.0,1000.0,1000.0,1100.0,1111.0,222.0,400.0,450.0,505.0,555.0,555.0,605.0,777.0,1111.0,1155.0,1444.0,111.0,161.0,333.0,443.0,555.0,600.0,777.0,111.0,150.0,201.0,255.0,300.0,335.0,450.0,465.0,555.0,580.0,777.0,815.0,111.0,415.0,450.0,550.0,555.0,600.0,674.0,750.0,800.0,850.0,900.0,1111.0,222.0,301.0,360.0,500.0,501.0,600.0,605.0,650.0,777.0,800.0,1000.0,1022.0,1200.0,1444.0,1500.0,1600.0,1666.0,1800.0,1888.0,1900.0,2000.0,222.0,272.0,351.0,501.0,777.0,888.0,999.0,1000.0,1222.0,1333.0,1400.0,1444.0,1555.0,1600.0,1677.0,1800.0,1900.0,2000.0,2000.0,2100.0,2200.0,2300.0,2430.0,2500.0,2500.0,2600.0,125.0,333.0,500.0,600.0,755.0,880.0,1165.0,1265.0,1500.0,1551.0,1565.0,1601.0,1651.0,1777.0,1800.0,1888.0,2000.0,2100.0,2200.0,2222.0,2325.0,2400.0,2444.0,2555.0,2600.0,2800.0,2888.0,150.0,250.0,350.0,444.0,500.0,600.0,666.0,700.0,716.0,741.0,766.0,900.0,901.0,951.0,1000.0,1001.0,1051.0,1101.0,1106.0,1131.0,1156.0,1181.0,1206.0,1231.0,1256.0,1306.0,1356.0,1400.0,1406.0,1456.0,1506.0,1556.0,1600.0,1606.0,1656.0,1706.0,1750.0,1756.0,1888.0,2000.0,2200.0,2222.0,2300.0,2350.0,2400.0,2450.0,2500.0,2550.0,2555.0,2580.0,2630.0,2680.0,2730.0,2777.0,2780.0,2830.0,2880.0,2930.0,2980.0,3030.0,3080.0,3130.0,3155.0,3180.0,3230.0,3255.0,3280.0,3330.0,3333.0,3358.0,3408.0,3458.0,3508.0,3558.0,3608.0,3658.0,3708.0,3758.0,3777.0,3802.0,3852.0,3902.0,3952.0,4002.0,4052.0,4102.0,4111.0,4136.0,4186.0,4222.0,4236.0,125.0,175.0,250.0,300.0,444.0,500.0,506.0,535.0,580.0,750.0,800.0,976.0,1000.0,1033.0,1200.0,1250.0,1300.0,1400.0,1500.0,1600.0,1800.0,2000.0,2000.0,2025.0,2075.0,2150.0,2250.0,2450.0,2550.0,3000.0,3050.0,3150.0,3250.0,3399.0,3999.0,4000.0,4099.0,4100.0,4200.0,4300.0,4400.0,4500.0,4600.0,4700.0,4999.0,5555.0,5888.0,5999.0,6222.0,125.0,175.0,222.0,225.0,2050.0,2444.0,2777.0,3000.0,3100.0,3111.0,3333.0,3500.0,3600.0,3666.0,3700.0,3850.0,222.0,2000.0,2050.0,3111.0,3200.0,3599.0,3699.0,3750.0,3799.0,3899.0,3949.0,4000.0,111.0,125.0,175.0,534.0,688.0,715.0,765.0,790.0,815.0,888.0,1111.0,1212.0,1222.0,111.0,165.0,210.0,215.0,355.0,688.0,715.0,765.0,790.0,888.0,890.0,1000.0,1050.0,1100.0,1111.0,1136.0,1222.0,1255.0,1305.0,1333.0,1355.0,1455.0,1555.0,1555.0,1605.0,1677.0,1801.0,1888.0,2001.0,111.0,125.0,150.0,688.0,738.0,888.0,1000.0,1100.0,1111.0,1333.0,1468.0,1518.0,1555.0,1717.0,1777.0,1818.0,1901.0,2057.0,150.0,200.0,250.0,300.0,322.0,350.0,372.0,460.0,548.0,700.0,700.0,777.0,827.0,900.0,1050.0,1100.0,1111.0,1225.0,1300.0,1450.0,1555.0,1600.0,1700.0,1777.0,1844.0,2157.0,2200.0,222.0,350.0,400.0,580.0,888.0,915.0,1008.0,1033.0,1083.0,1111.0,1200.0,1222.0,1333.0,1400.0,1450.0,1500.0,1550.0,1588.0,1600.0,1777.0,100.0,150.0,200.0,250.0,300.0,500.0,555.0,700.0,750.0,800.0,850.0,888.0,900.0,950.0,1000.0,1050.0,1100.0,1111.0,1136.0,1186.0,1222.0,1236.0,1286.0,1333.0,1336.0,100.0,150.0,200.0,250.0,300.0,500.0,555.0,666.0,800.0,850.0,888.0,908.0,1000.0,1050.0,1100.0,1111.0,1222.0,1250.0,1299.0,1300.0,1350.0,1399.0,1400.0,1499.0,1599.0,1600.0,1699.0,150.0,200.0,250.0,300.0,400.0,450.0,600.0,800.0,1200.0,1400.0,2000.0,3000.0,4000.0,4000.0,125.0,200.0,222.0,275.0,300.0,350.0,400.0,405.0,435.0,500.0,505.0,550.0,575.0,600.0,655.0,750.0,777.0,888.0,1111.0,1222.0,2000.0,125.0,175.0,222.0,225.0,300.0,301.0,350.0,400.0,401.0,450.0,125.0,222.0,300.0,350.0,400.0,450.0,500.0,501.0,600.0,125.0,175.0,222.0,225.0,250.0,300.0,300.0,375.0,500.0,501.0,600.0,600.0,444.0,500.0,650.0,756.0,956.0,1000.0,1100.0,1200.0,1250.0,1300.0,1444.0,1475.0,1700.0,1750.0,1777.0,1800.0,2222.0,444.0,500.0,500.0,550.0,600.0,708.0,800.0,950.0,1086.0,1200.0,1236.0,1287.0,1351.0,1444.0,1470.0,1494.0,1745.0,1777.0,1977.0,2047.0,2222.0,2300.0,2444.0,2745.0,2777.0,2795.0,2888.0,444.0,500.0,550.0,600.0,608.0,700.0,955.0,1005.0,1086.0,1136.0,1186.0,1350.0,1430.0,1444.0,1745.0,1777.0,2047.0,2222.0,2475.0,2888.0,3047.0,3333.0,3400.0,3475.0,3740.0,4300.0,4444.0,4475.0,4525.0,4575.0,4625.0,4700.0,4750.0,4800.0,4850.0,4900.0,4975.0,5475.0,5555.0,5677.0,5745.0,5888.0,5900.0,5925.0,333.0,500.0,700.0,800.0,850.0,900.0,950.0,996.0,1000.0,1100.0,700.0,888.0,1080.0,1300.0,1500.0,222.0,500.0,708.0,750.0,850.0,888.0],\"y0\":\" \",\"yaxis\":\"y\",\"type\":\"box\",\"quartilemethod\":\"exclusive\"},{\"alignmentgroup\":\"True\",\"hovertemplate\":\"bstock_category_name=Furniture<br>auction_date=%{x}<br>bid_amount=%{y}<extra></extra>\",\"legendgroup\":\"Furniture\",\"marker\":{\"color\":\"#EF553B\"},\"name\":\"Furniture\",\"notched\":false,\"offsetgroup\":\"Furniture\",\"orientation\":\"v\",\"showlegend\":true,\"x\":[\"2022-09-13\",\"2022-09-13\",\"2022-09-13\",\"2022-09-13\",\"2022-09-13\",\"2022-09-13\",\"2022-09-13\",\"2022-09-13\",\"2022-09-13\",\"2022-09-13\",\"2022-09-13\",\"2022-09-13\",\"2022-09-13\",\"2022-09-13\",\"2022-09-13\",\"2022-09-13\",\"2022-09-13\",\"2022-09-13\",\"2022-09-13\",\"2022-09-13\",\"2022-09-13\",\"2022-09-13\",\"2022-09-13\",\"2022-09-13\"],\"x0\":\" \",\"xaxis\":\"x\",\"y\":[100.0,150.0,225.0,250.0,300.0,301.0,732.0,900.0,950.0,1000.0,1032.0,1200.0,1400.0,1700.0,1777.0,1831.0,1902.0,2021.0,2111.0,2202.0,2302.0,2401.0,2500.0,2521.0],\"y0\":\" \",\"yaxis\":\"y\",\"type\":\"box\",\"quartilemethod\":\"exclusive\"},{\"alignmentgroup\":\"True\",\"hovertemplate\":\"bstock_category_name=Consumer Electronics<br>auction_date=%{x}<br>bid_amount=%{y}<extra></extra>\",\"legendgroup\":\"Consumer Electronics\",\"marker\":{\"color\":\"#00cc96\"},\"name\":\"Consumer Electronics\",\"notched\":false,\"offsetgroup\":\"Consumer Electronics\",\"orientation\":\"v\",\"showlegend\":true,\"x\":[\"2022-09-13\",\"2022-09-13\",\"2022-09-13\",\"2022-09-13\",\"2022-09-13\",\"2022-09-13\",\"2022-09-13\",\"2022-09-13\",\"2022-09-13\",\"2022-09-13\",\"2022-09-13\",\"2022-09-13\",\"2022-09-13\",\"2022-09-13\",\"2022-09-13\",\"2022-09-13\",\"2022-09-13\",\"2022-09-13\",\"2022-09-13\",\"2022-09-13\",\"2022-09-13\",\"2022-09-13\",\"2022-09-13\",\"2022-09-13\",\"2022-09-13\",\"2022-09-13\",\"2022-09-13\",\"2022-09-13\",\"2022-09-13\",\"2022-09-13\",\"2022-09-13\",\"2022-09-13\",\"2022-09-13\",\"2022-09-13\",\"2022-09-13\",\"2022-09-13\",\"2022-09-13\",\"2022-09-13\",\"2022-09-13\",\"2022-09-13\",\"2022-09-13\",\"2022-09-13\",\"2022-09-13\",\"2022-09-13\",\"2022-09-13\",\"2022-09-13\",\"2022-09-13\",\"2022-09-13\",\"2022-09-13\",\"2022-09-13\",\"2022-09-13\",\"2022-09-16\",\"2022-09-16\",\"2022-09-16\",\"2022-09-16\",\"2022-09-16\",\"2022-09-16\",\"2022-09-16\",\"2022-09-16\",\"2022-09-16\",\"2022-09-16\",\"2022-09-16\"],\"x0\":\" \",\"xaxis\":\"x\",\"y\":[100.0,125.0,200.0,225.0,250.0,275.0,300.0,400.0,450.0,525.0,625.0,725.0,775.0,922.0,1000.0,1075.0,1111.0,1112.0,1200.0,1300.0,1500.0,1552.0,1650.0,1725.0,1800.0,1875.0,2667.0,100.0,125.0,280.0,450.0,500.0,550.0,550.0,622.0,101.0,150.0,151.0,250.0,275.0,350.0,450.0,575.0,625.0,675.0,732.0,777.0,827.0,832.0,865.0,922.0,200.0,500.0,500.0,525.0,565.0,600.0,666.0,1500.0,1700.0,2000.0,2000.0],\"y0\":\" \",\"yaxis\":\"y\",\"type\":\"box\",\"quartilemethod\":\"exclusive\"}],                        {\"template\":{\"data\":{\"histogram2dcontour\":[{\"type\":\"histogram2dcontour\",\"colorbar\":{\"outlinewidth\":0,\"ticks\":\"\"},\"colorscale\":[[0.0,\"#0d0887\"],[0.1111111111111111,\"#46039f\"],[0.2222222222222222,\"#7201a8\"],[0.3333333333333333,\"#9c179e\"],[0.4444444444444444,\"#bd3786\"],[0.5555555555555556,\"#d8576b\"],[0.6666666666666666,\"#ed7953\"],[0.7777777777777778,\"#fb9f3a\"],[0.8888888888888888,\"#fdca26\"],[1.0,\"#f0f921\"]]}],\"choropleth\":[{\"type\":\"choropleth\",\"colorbar\":{\"outlinewidth\":0,\"ticks\":\"\"}}],\"histogram2d\":[{\"type\":\"histogram2d\",\"colorbar\":{\"outlinewidth\":0,\"ticks\":\"\"},\"colorscale\":[[0.0,\"#0d0887\"],[0.1111111111111111,\"#46039f\"],[0.2222222222222222,\"#7201a8\"],[0.3333333333333333,\"#9c179e\"],[0.4444444444444444,\"#bd3786\"],[0.5555555555555556,\"#d8576b\"],[0.6666666666666666,\"#ed7953\"],[0.7777777777777778,\"#fb9f3a\"],[0.8888888888888888,\"#fdca26\"],[1.0,\"#f0f921\"]]}],\"heatmap\":[{\"type\":\"heatmap\",\"colorbar\":{\"outlinewidth\":0,\"ticks\":\"\"},\"colorscale\":[[0.0,\"#0d0887\"],[0.1111111111111111,\"#46039f\"],[0.2222222222222222,\"#7201a8\"],[0.3333333333333333,\"#9c179e\"],[0.4444444444444444,\"#bd3786\"],[0.5555555555555556,\"#d8576b\"],[0.6666666666666666,\"#ed7953\"],[0.7777777777777778,\"#fb9f3a\"],[0.8888888888888888,\"#fdca26\"],[1.0,\"#f0f921\"]]}],\"heatmapgl\":[{\"type\":\"heatmapgl\",\"colorbar\":{\"outlinewidth\":0,\"ticks\":\"\"},\"colorscale\":[[0.0,\"#0d0887\"],[0.1111111111111111,\"#46039f\"],[0.2222222222222222,\"#7201a8\"],[0.3333333333333333,\"#9c179e\"],[0.4444444444444444,\"#bd3786\"],[0.5555555555555556,\"#d8576b\"],[0.6666666666666666,\"#ed7953\"],[0.7777777777777778,\"#fb9f3a\"],[0.8888888888888888,\"#fdca26\"],[1.0,\"#f0f921\"]]}],\"contourcarpet\":[{\"type\":\"contourcarpet\",\"colorbar\":{\"outlinewidth\":0,\"ticks\":\"\"}}],\"contour\":[{\"type\":\"contour\",\"colorbar\":{\"outlinewidth\":0,\"ticks\":\"\"},\"colorscale\":[[0.0,\"#0d0887\"],[0.1111111111111111,\"#46039f\"],[0.2222222222222222,\"#7201a8\"],[0.3333333333333333,\"#9c179e\"],[0.4444444444444444,\"#bd3786\"],[0.5555555555555556,\"#d8576b\"],[0.6666666666666666,\"#ed7953\"],[0.7777777777777778,\"#fb9f3a\"],[0.8888888888888888,\"#fdca26\"],[1.0,\"#f0f921\"]]}],\"surface\":[{\"type\":\"surface\",\"colorbar\":{\"outlinewidth\":0,\"ticks\":\"\"},\"colorscale\":[[0.0,\"#0d0887\"],[0.1111111111111111,\"#46039f\"],[0.2222222222222222,\"#7201a8\"],[0.3333333333333333,\"#9c179e\"],[0.4444444444444444,\"#bd3786\"],[0.5555555555555556,\"#d8576b\"],[0.6666666666666666,\"#ed7953\"],[0.7777777777777778,\"#fb9f3a\"],[0.8888888888888888,\"#fdca26\"],[1.0,\"#f0f921\"]]}],\"mesh3d\":[{\"type\":\"mesh3d\",\"colorbar\":{\"outlinewidth\":0,\"ticks\":\"\"}}],\"scatter\":[{\"fillpattern\":{\"fillmode\":\"overlay\",\"size\":10,\"solidity\":0.2},\"type\":\"scatter\"}],\"parcoords\":[{\"type\":\"parcoords\",\"line\":{\"colorbar\":{\"outlinewidth\":0,\"ticks\":\"\"}}}],\"scatterpolargl\":[{\"type\":\"scatterpolargl\",\"marker\":{\"colorbar\":{\"outlinewidth\":0,\"ticks\":\"\"}}}],\"bar\":[{\"error_x\":{\"color\":\"#2a3f5f\"},\"error_y\":{\"color\":\"#2a3f5f\"},\"marker\":{\"line\":{\"color\":\"#E5ECF6\",\"width\":0.5},\"pattern\":{\"fillmode\":\"overlay\",\"size\":10,\"solidity\":0.2}},\"type\":\"bar\"}],\"scattergeo\":[{\"type\":\"scattergeo\",\"marker\":{\"colorbar\":{\"outlinewidth\":0,\"ticks\":\"\"}}}],\"scatterpolar\":[{\"type\":\"scatterpolar\",\"marker\":{\"colorbar\":{\"outlinewidth\":0,\"ticks\":\"\"}}}],\"histogram\":[{\"marker\":{\"pattern\":{\"fillmode\":\"overlay\",\"size\":10,\"solidity\":0.2}},\"type\":\"histogram\"}],\"scattergl\":[{\"type\":\"scattergl\",\"marker\":{\"colorbar\":{\"outlinewidth\":0,\"ticks\":\"\"}}}],\"scatter3d\":[{\"type\":\"scatter3d\",\"line\":{\"colorbar\":{\"outlinewidth\":0,\"ticks\":\"\"}},\"marker\":{\"colorbar\":{\"outlinewidth\":0,\"ticks\":\"\"}}}],\"scattermapbox\":[{\"type\":\"scattermapbox\",\"marker\":{\"colorbar\":{\"outlinewidth\":0,\"ticks\":\"\"}}}],\"scatterternary\":[{\"type\":\"scatterternary\",\"marker\":{\"colorbar\":{\"outlinewidth\":0,\"ticks\":\"\"}}}],\"scattercarpet\":[{\"type\":\"scattercarpet\",\"marker\":{\"colorbar\":{\"outlinewidth\":0,\"ticks\":\"\"}}}],\"carpet\":[{\"aaxis\":{\"endlinecolor\":\"#2a3f5f\",\"gridcolor\":\"white\",\"linecolor\":\"white\",\"minorgridcolor\":\"white\",\"startlinecolor\":\"#2a3f5f\"},\"baxis\":{\"endlinecolor\":\"#2a3f5f\",\"gridcolor\":\"white\",\"linecolor\":\"white\",\"minorgridcolor\":\"white\",\"startlinecolor\":\"#2a3f5f\"},\"type\":\"carpet\"}],\"table\":[{\"cells\":{\"fill\":{\"color\":\"#EBF0F8\"},\"line\":{\"color\":\"white\"}},\"header\":{\"fill\":{\"color\":\"#C8D4E3\"},\"line\":{\"color\":\"white\"}},\"type\":\"table\"}],\"barpolar\":[{\"marker\":{\"line\":{\"color\":\"#E5ECF6\",\"width\":0.5},\"pattern\":{\"fillmode\":\"overlay\",\"size\":10,\"solidity\":0.2}},\"type\":\"barpolar\"}],\"pie\":[{\"automargin\":true,\"type\":\"pie\"}]},\"layout\":{\"autotypenumbers\":\"strict\",\"colorway\":[\"#636efa\",\"#EF553B\",\"#00cc96\",\"#ab63fa\",\"#FFA15A\",\"#19d3f3\",\"#FF6692\",\"#B6E880\",\"#FF97FF\",\"#FECB52\"],\"font\":{\"color\":\"#2a3f5f\"},\"hovermode\":\"closest\",\"hoverlabel\":{\"align\":\"left\"},\"paper_bgcolor\":\"white\",\"plot_bgcolor\":\"#E5ECF6\",\"polar\":{\"bgcolor\":\"#E5ECF6\",\"angularaxis\":{\"gridcolor\":\"white\",\"linecolor\":\"white\",\"ticks\":\"\"},\"radialaxis\":{\"gridcolor\":\"white\",\"linecolor\":\"white\",\"ticks\":\"\"}},\"ternary\":{\"bgcolor\":\"#E5ECF6\",\"aaxis\":{\"gridcolor\":\"white\",\"linecolor\":\"white\",\"ticks\":\"\"},\"baxis\":{\"gridcolor\":\"white\",\"linecolor\":\"white\",\"ticks\":\"\"},\"caxis\":{\"gridcolor\":\"white\",\"linecolor\":\"white\",\"ticks\":\"\"}},\"coloraxis\":{\"colorbar\":{\"outlinewidth\":0,\"ticks\":\"\"}},\"colorscale\":{\"sequential\":[[0.0,\"#0d0887\"],[0.1111111111111111,\"#46039f\"],[0.2222222222222222,\"#7201a8\"],[0.3333333333333333,\"#9c179e\"],[0.4444444444444444,\"#bd3786\"],[0.5555555555555556,\"#d8576b\"],[0.6666666666666666,\"#ed7953\"],[0.7777777777777778,\"#fb9f3a\"],[0.8888888888888888,\"#fdca26\"],[1.0,\"#f0f921\"]],\"sequentialminus\":[[0.0,\"#0d0887\"],[0.1111111111111111,\"#46039f\"],[0.2222222222222222,\"#7201a8\"],[0.3333333333333333,\"#9c179e\"],[0.4444444444444444,\"#bd3786\"],[0.5555555555555556,\"#d8576b\"],[0.6666666666666666,\"#ed7953\"],[0.7777777777777778,\"#fb9f3a\"],[0.8888888888888888,\"#fdca26\"],[1.0,\"#f0f921\"]],\"diverging\":[[0,\"#8e0152\"],[0.1,\"#c51b7d\"],[0.2,\"#de77ae\"],[0.3,\"#f1b6da\"],[0.4,\"#fde0ef\"],[0.5,\"#f7f7f7\"],[0.6,\"#e6f5d0\"],[0.7,\"#b8e186\"],[0.8,\"#7fbc41\"],[0.9,\"#4d9221\"],[1,\"#276419\"]]},\"xaxis\":{\"gridcolor\":\"white\",\"linecolor\":\"white\",\"ticks\":\"\",\"title\":{\"standoff\":15},\"zerolinecolor\":\"white\",\"automargin\":true,\"zerolinewidth\":2},\"yaxis\":{\"gridcolor\":\"white\",\"linecolor\":\"white\",\"ticks\":\"\",\"title\":{\"standoff\":15},\"zerolinecolor\":\"white\",\"automargin\":true,\"zerolinewidth\":2},\"scene\":{\"xaxis\":{\"backgroundcolor\":\"#E5ECF6\",\"gridcolor\":\"white\",\"linecolor\":\"white\",\"showbackground\":true,\"ticks\":\"\",\"zerolinecolor\":\"white\",\"gridwidth\":2},\"yaxis\":{\"backgroundcolor\":\"#E5ECF6\",\"gridcolor\":\"white\",\"linecolor\":\"white\",\"showbackground\":true,\"ticks\":\"\",\"zerolinecolor\":\"white\",\"gridwidth\":2},\"zaxis\":{\"backgroundcolor\":\"#E5ECF6\",\"gridcolor\":\"white\",\"linecolor\":\"white\",\"showbackground\":true,\"ticks\":\"\",\"zerolinecolor\":\"white\",\"gridwidth\":2}},\"shapedefaults\":{\"line\":{\"color\":\"#2a3f5f\"}},\"annotationdefaults\":{\"arrowcolor\":\"#2a3f5f\",\"arrowhead\":0,\"arrowwidth\":1},\"geo\":{\"bgcolor\":\"white\",\"landcolor\":\"#E5ECF6\",\"subunitcolor\":\"white\",\"showland\":true,\"showlakes\":true,\"lakecolor\":\"white\"},\"title\":{\"x\":0.05},\"mapbox\":{\"style\":\"light\"}}},\"xaxis\":{\"anchor\":\"y\",\"domain\":[0.0,1.0],\"title\":{\"text\":\"auction_date\"}},\"yaxis\":{\"anchor\":\"x\",\"domain\":[0.0,1.0],\"title\":{\"text\":\"bid_amount\"}},\"legend\":{\"title\":{\"text\":\"bstock_category_name\"},\"tracegroupgap\":0},\"title\":{\"text\":\"Bid amount distribution per category and auction date\"},\"boxmode\":\"group\"},                        {\"responsive\": true}                    ).then(function(){\n",
       "                            \n",
       "var gd = document.getElementById('d5911424-e5bb-4e92-a9c8-f167a50fa2b8');\n",
       "var x = new MutationObserver(function (mutations, observer) {{\n",
       "        var display = window.getComputedStyle(gd).display;\n",
       "        if (!display || display === 'none') {{\n",
       "            console.log([gd, 'removed!']);\n",
       "            Plotly.purge(gd);\n",
       "            observer.disconnect();\n",
       "        }}\n",
       "}});\n",
       "\n",
       "// Listen for the removal of the full notebook cells\n",
       "var notebookContainer = gd.closest('#notebook-container');\n",
       "if (notebookContainer) {{\n",
       "    x.observe(notebookContainer, {childList: true});\n",
       "}}\n",
       "\n",
       "// Listen for the clearing of the current output cell\n",
       "var outputEl = gd.closest('.output');\n",
       "if (outputEl) {{\n",
       "    x.observe(outputEl, {childList: true});\n",
       "}}\n",
       "\n",
       "                        })                };                });            </script>        </div>"
      ]
     },
     "metadata": {},
     "output_type": "display_data"
    }
   ],
   "source": [
    "import plotly.express as px\n",
    "\n",
    "\n",
    "fig = px.box(df, x=\"auction_date\", y=\"bid_amount\", color=\"bstock_category_name\", title='Bid amount distribution per category and auction date')\n",
    "fig.update_traces(quartilemethod=\"exclusive\")\n",
    "fig.show()"
   ]
  },
  {
   "attachments": {},
   "cell_type": "markdown",
   "metadata": {},
   "source": [
    "# Monthly Analysis"
   ]
  },
  {
   "attachments": {},
   "cell_type": "markdown",
   "metadata": {},
   "source": [
    "- Now is the time to focus on business growth!\n",
    "- Can we begin to ask ourselves how many bids per month we have?"
   ]
  },
  {
   "cell_type": "code",
   "execution_count": 724,
   "metadata": {},
   "outputs": [
    {
     "data": {
      "text/html": [
       "<div>\n",
       "<style scoped>\n",
       "    .dataframe tbody tr th:only-of-type {\n",
       "        vertical-align: middle;\n",
       "    }\n",
       "\n",
       "    .dataframe tbody tr th {\n",
       "        vertical-align: top;\n",
       "    }\n",
       "\n",
       "    .dataframe thead th {\n",
       "        text-align: right;\n",
       "    }\n",
       "</style>\n",
       "<table border=\"1\" class=\"dataframe\">\n",
       "  <thead>\n",
       "    <tr style=\"text-align: right;\">\n",
       "      <th></th>\n",
       "      <th>auction_date</th>\n",
       "      <th>auction_id</th>\n",
       "      <th>bstock_category_name</th>\n",
       "      <th>bid_date</th>\n",
       "      <th>bid_id</th>\n",
       "      <th>bidder_id</th>\n",
       "      <th>bid_amount</th>\n",
       "      <th>bid_date_month</th>\n",
       "    </tr>\n",
       "  </thead>\n",
       "  <tbody>\n",
       "    <tr>\n",
       "      <th>0</th>\n",
       "      <td>2022-09-10</td>\n",
       "      <td>1500000</td>\n",
       "      <td>Apparel, Footwear &amp; Accessories</td>\n",
       "      <td>2022-09-10 17:22:49</td>\n",
       "      <td>16819417</td>\n",
       "      <td>1</td>\n",
       "      <td>10.0</td>\n",
       "      <td>2022-09-01</td>\n",
       "    </tr>\n",
       "    <tr>\n",
       "      <th>1</th>\n",
       "      <td>2022-09-10</td>\n",
       "      <td>1500000</td>\n",
       "      <td>Apparel, Footwear &amp; Accessories</td>\n",
       "      <td>2022-09-10 17:22:50</td>\n",
       "      <td>16819418</td>\n",
       "      <td>1</td>\n",
       "      <td>100.0</td>\n",
       "      <td>2022-09-01</td>\n",
       "    </tr>\n",
       "    <tr>\n",
       "      <th>2</th>\n",
       "      <td>2022-09-10</td>\n",
       "      <td>1500000</td>\n",
       "      <td>Apparel, Footwear &amp; Accessories</td>\n",
       "      <td>2022-09-10 17:22:51</td>\n",
       "      <td>16819419</td>\n",
       "      <td>2</td>\n",
       "      <td>101.0</td>\n",
       "      <td>2022-09-01</td>\n",
       "    </tr>\n",
       "    <tr>\n",
       "      <th>3</th>\n",
       "      <td>2022-09-10</td>\n",
       "      <td>1500000</td>\n",
       "      <td>Apparel, Footwear &amp; Accessories</td>\n",
       "      <td>2022-09-10 17:22:52</td>\n",
       "      <td>16819420</td>\n",
       "      <td>1</td>\n",
       "      <td>200.0</td>\n",
       "      <td>2022-09-01</td>\n",
       "    </tr>\n",
       "    <tr>\n",
       "      <th>4</th>\n",
       "      <td>2022-09-10</td>\n",
       "      <td>1500000</td>\n",
       "      <td>Apparel, Footwear &amp; Accessories</td>\n",
       "      <td>2022-09-10 17:22:53</td>\n",
       "      <td>16819421</td>\n",
       "      <td>2</td>\n",
       "      <td>201.0</td>\n",
       "      <td>2022-09-01</td>\n",
       "    </tr>\n",
       "    <tr>\n",
       "      <th>...</th>\n",
       "      <td>...</td>\n",
       "      <td>...</td>\n",
       "      <td>...</td>\n",
       "      <td>...</td>\n",
       "      <td>...</td>\n",
       "      <td>...</td>\n",
       "      <td>...</td>\n",
       "      <td>...</td>\n",
       "    </tr>\n",
       "    <tr>\n",
       "      <th>822</th>\n",
       "      <td>2022-12-16</td>\n",
       "      <td>1721860</td>\n",
       "      <td>Apparel, Footwear &amp; Accessories</td>\n",
       "      <td>2022-12-13 23:58:16</td>\n",
       "      <td>18712359</td>\n",
       "      <td>5fbc4f53c8ce886dac7f4ba8</td>\n",
       "      <td>500.0</td>\n",
       "      <td>2022-12-01</td>\n",
       "    </tr>\n",
       "    <tr>\n",
       "      <th>823</th>\n",
       "      <td>2022-12-16</td>\n",
       "      <td>1721860</td>\n",
       "      <td>Apparel, Footwear &amp; Accessories</td>\n",
       "      <td>2022-12-14 02:55:27</td>\n",
       "      <td>18713339</td>\n",
       "      <td>59769fe3e3d4600d362c31c0</td>\n",
       "      <td>708.0</td>\n",
       "      <td>2022-12-01</td>\n",
       "    </tr>\n",
       "    <tr>\n",
       "      <th>824</th>\n",
       "      <td>2022-12-16</td>\n",
       "      <td>1721860</td>\n",
       "      <td>Apparel, Footwear &amp; Accessories</td>\n",
       "      <td>2022-12-14 10:12:08</td>\n",
       "      <td>18714207</td>\n",
       "      <td>5fbc4f53c8ce886dac7f4ba8</td>\n",
       "      <td>750.0</td>\n",
       "      <td>2022-12-01</td>\n",
       "    </tr>\n",
       "    <tr>\n",
       "      <th>825</th>\n",
       "      <td>2022-12-16</td>\n",
       "      <td>1721860</td>\n",
       "      <td>Apparel, Footwear &amp; Accessories</td>\n",
       "      <td>2022-12-15 16:13:16</td>\n",
       "      <td>18726173</td>\n",
       "      <td>601e76d8c8ce886da835b151</td>\n",
       "      <td>850.0</td>\n",
       "      <td>2022-12-01</td>\n",
       "    </tr>\n",
       "    <tr>\n",
       "      <th>826</th>\n",
       "      <td>2022-12-16</td>\n",
       "      <td>1721860</td>\n",
       "      <td>Apparel, Footwear &amp; Accessories</td>\n",
       "      <td>2022-12-16 17:58:10</td>\n",
       "      <td>18743281</td>\n",
       "      <td>62e329abff03c2000d83079d</td>\n",
       "      <td>888.0</td>\n",
       "      <td>2022-12-01</td>\n",
       "    </tr>\n",
       "  </tbody>\n",
       "</table>\n",
       "<p>827 rows × 8 columns</p>\n",
       "</div>"
      ],
      "text/plain": [
       "    auction_date  auction_id             bstock_category_name  \\\n",
       "0     2022-09-10     1500000  Apparel, Footwear & Accessories   \n",
       "1     2022-09-10     1500000  Apparel, Footwear & Accessories   \n",
       "2     2022-09-10     1500000  Apparel, Footwear & Accessories   \n",
       "3     2022-09-10     1500000  Apparel, Footwear & Accessories   \n",
       "4     2022-09-10     1500000  Apparel, Footwear & Accessories   \n",
       "..           ...         ...                              ...   \n",
       "822   2022-12-16     1721860  Apparel, Footwear & Accessories   \n",
       "823   2022-12-16     1721860  Apparel, Footwear & Accessories   \n",
       "824   2022-12-16     1721860  Apparel, Footwear & Accessories   \n",
       "825   2022-12-16     1721860  Apparel, Footwear & Accessories   \n",
       "826   2022-12-16     1721860  Apparel, Footwear & Accessories   \n",
       "\n",
       "               bid_date    bid_id                 bidder_id  bid_amount  \\\n",
       "0   2022-09-10 17:22:49  16819417                         1        10.0   \n",
       "1   2022-09-10 17:22:50  16819418                         1       100.0   \n",
       "2   2022-09-10 17:22:51  16819419                         2       101.0   \n",
       "3   2022-09-10 17:22:52  16819420                         1       200.0   \n",
       "4   2022-09-10 17:22:53  16819421                         2       201.0   \n",
       "..                  ...       ...                       ...         ...   \n",
       "822 2022-12-13 23:58:16  18712359  5fbc4f53c8ce886dac7f4ba8       500.0   \n",
       "823 2022-12-14 02:55:27  18713339  59769fe3e3d4600d362c31c0       708.0   \n",
       "824 2022-12-14 10:12:08  18714207  5fbc4f53c8ce886dac7f4ba8       750.0   \n",
       "825 2022-12-15 16:13:16  18726173  601e76d8c8ce886da835b151       850.0   \n",
       "826 2022-12-16 17:58:10  18743281  62e329abff03c2000d83079d       888.0   \n",
       "\n",
       "    bid_date_month  \n",
       "0       2022-09-01  \n",
       "1       2022-09-01  \n",
       "2       2022-09-01  \n",
       "3       2022-09-01  \n",
       "4       2022-09-01  \n",
       "..             ...  \n",
       "822     2022-12-01  \n",
       "823     2022-12-01  \n",
       "824     2022-12-01  \n",
       "825     2022-12-01  \n",
       "826     2022-12-01  \n",
       "\n",
       "[827 rows x 8 columns]"
      ]
     },
     "execution_count": 724,
     "metadata": {},
     "output_type": "execute_result"
    }
   ],
   "source": [
    "# Truncate bid_date to month values\n",
    "import datetime as dt\n",
    "def get_month(x): return dt.datetime(x.year, x.month, 1)\n",
    "\n",
    "df['bid_date_month'] = df['bid_date'].apply(get_month)\n",
    "df"
   ]
  },
  {
   "attachments": {},
   "cell_type": "markdown",
   "metadata": {},
   "source": [
    "- Well, with this limited dataset I can't conclude if there is any monthly seasonality\n",
    "- But, I can conclude that November was the month with highest bids (324)!"
   ]
  },
  {
   "cell_type": "code",
   "execution_count": 725,
   "metadata": {},
   "outputs": [
    {
     "data": {
      "text/html": [
       "<div>\n",
       "<style scoped>\n",
       "    .dataframe tbody tr th:only-of-type {\n",
       "        vertical-align: middle;\n",
       "    }\n",
       "\n",
       "    .dataframe tbody tr th {\n",
       "        vertical-align: top;\n",
       "    }\n",
       "\n",
       "    .dataframe thead th {\n",
       "        text-align: right;\n",
       "    }\n",
       "</style>\n",
       "<table border=\"1\" class=\"dataframe\">\n",
       "  <thead>\n",
       "    <tr style=\"text-align: right;\">\n",
       "      <th></th>\n",
       "      <th>bids</th>\n",
       "    </tr>\n",
       "    <tr>\n",
       "      <th>bid_date_month</th>\n",
       "      <th></th>\n",
       "    </tr>\n",
       "  </thead>\n",
       "  <tbody>\n",
       "    <tr>\n",
       "      <th>2022-09-01</th>\n",
       "      <td>251</td>\n",
       "    </tr>\n",
       "    <tr>\n",
       "      <th>2022-10-01</th>\n",
       "      <td>100</td>\n",
       "    </tr>\n",
       "    <tr>\n",
       "      <th>2022-11-01</th>\n",
       "      <td>324</td>\n",
       "    </tr>\n",
       "    <tr>\n",
       "      <th>2022-12-01</th>\n",
       "      <td>152</td>\n",
       "    </tr>\n",
       "  </tbody>\n",
       "</table>\n",
       "</div>"
      ],
      "text/plain": [
       "                bids\n",
       "bid_date_month      \n",
       "2022-09-01       251\n",
       "2022-10-01       100\n",
       "2022-11-01       324\n",
       "2022-12-01       152"
      ]
     },
     "execution_count": 725,
     "metadata": {},
     "output_type": "execute_result"
    }
   ],
   "source": [
    "# Total bids per month\n",
    "bids_per_month = df.groupby(['bid_date_month'])\n",
    "bids_per_month = bids_per_month.agg({'bid_id': ['count']})\n",
    "bids_per_month.columns = ['bids']\n",
    "bids_per_month"
   ]
  },
  {
   "cell_type": "code",
   "execution_count": 726,
   "metadata": {},
   "outputs": [
    {
     "data": {
      "application/vnd.plotly.v1+json": {
       "config": {
        "plotlyServerURL": "https://plot.ly"
       },
       "data": [
        {
         "hovertemplate": "x=%{x}<br>bids=%{y}<extra></extra>",
         "legendgroup": "",
         "line": {
          "color": "#636efa",
          "dash": "solid"
         },
         "marker": {
          "symbol": "circle"
         },
         "mode": "lines",
         "name": "",
         "orientation": "v",
         "showlegend": false,
         "type": "scatter",
         "x": [
          "2022-09-01T00:00:00",
          "2022-10-01T00:00:00",
          "2022-11-01T00:00:00",
          "2022-12-01T00:00:00"
         ],
         "xaxis": "x",
         "y": [
          251,
          100,
          324,
          152
         ],
         "yaxis": "y"
        }
       ],
       "layout": {
        "legend": {
         "tracegroupgap": 0
        },
        "template": {
         "data": {
          "bar": [
           {
            "error_x": {
             "color": "#2a3f5f"
            },
            "error_y": {
             "color": "#2a3f5f"
            },
            "marker": {
             "line": {
              "color": "#E5ECF6",
              "width": 0.5
             },
             "pattern": {
              "fillmode": "overlay",
              "size": 10,
              "solidity": 0.2
             }
            },
            "type": "bar"
           }
          ],
          "barpolar": [
           {
            "marker": {
             "line": {
              "color": "#E5ECF6",
              "width": 0.5
             },
             "pattern": {
              "fillmode": "overlay",
              "size": 10,
              "solidity": 0.2
             }
            },
            "type": "barpolar"
           }
          ],
          "carpet": [
           {
            "aaxis": {
             "endlinecolor": "#2a3f5f",
             "gridcolor": "white",
             "linecolor": "white",
             "minorgridcolor": "white",
             "startlinecolor": "#2a3f5f"
            },
            "baxis": {
             "endlinecolor": "#2a3f5f",
             "gridcolor": "white",
             "linecolor": "white",
             "minorgridcolor": "white",
             "startlinecolor": "#2a3f5f"
            },
            "type": "carpet"
           }
          ],
          "choropleth": [
           {
            "colorbar": {
             "outlinewidth": 0,
             "ticks": ""
            },
            "type": "choropleth"
           }
          ],
          "contour": [
           {
            "colorbar": {
             "outlinewidth": 0,
             "ticks": ""
            },
            "colorscale": [
             [
              0,
              "#0d0887"
             ],
             [
              0.1111111111111111,
              "#46039f"
             ],
             [
              0.2222222222222222,
              "#7201a8"
             ],
             [
              0.3333333333333333,
              "#9c179e"
             ],
             [
              0.4444444444444444,
              "#bd3786"
             ],
             [
              0.5555555555555556,
              "#d8576b"
             ],
             [
              0.6666666666666666,
              "#ed7953"
             ],
             [
              0.7777777777777778,
              "#fb9f3a"
             ],
             [
              0.8888888888888888,
              "#fdca26"
             ],
             [
              1,
              "#f0f921"
             ]
            ],
            "type": "contour"
           }
          ],
          "contourcarpet": [
           {
            "colorbar": {
             "outlinewidth": 0,
             "ticks": ""
            },
            "type": "contourcarpet"
           }
          ],
          "heatmap": [
           {
            "colorbar": {
             "outlinewidth": 0,
             "ticks": ""
            },
            "colorscale": [
             [
              0,
              "#0d0887"
             ],
             [
              0.1111111111111111,
              "#46039f"
             ],
             [
              0.2222222222222222,
              "#7201a8"
             ],
             [
              0.3333333333333333,
              "#9c179e"
             ],
             [
              0.4444444444444444,
              "#bd3786"
             ],
             [
              0.5555555555555556,
              "#d8576b"
             ],
             [
              0.6666666666666666,
              "#ed7953"
             ],
             [
              0.7777777777777778,
              "#fb9f3a"
             ],
             [
              0.8888888888888888,
              "#fdca26"
             ],
             [
              1,
              "#f0f921"
             ]
            ],
            "type": "heatmap"
           }
          ],
          "heatmapgl": [
           {
            "colorbar": {
             "outlinewidth": 0,
             "ticks": ""
            },
            "colorscale": [
             [
              0,
              "#0d0887"
             ],
             [
              0.1111111111111111,
              "#46039f"
             ],
             [
              0.2222222222222222,
              "#7201a8"
             ],
             [
              0.3333333333333333,
              "#9c179e"
             ],
             [
              0.4444444444444444,
              "#bd3786"
             ],
             [
              0.5555555555555556,
              "#d8576b"
             ],
             [
              0.6666666666666666,
              "#ed7953"
             ],
             [
              0.7777777777777778,
              "#fb9f3a"
             ],
             [
              0.8888888888888888,
              "#fdca26"
             ],
             [
              1,
              "#f0f921"
             ]
            ],
            "type": "heatmapgl"
           }
          ],
          "histogram": [
           {
            "marker": {
             "pattern": {
              "fillmode": "overlay",
              "size": 10,
              "solidity": 0.2
             }
            },
            "type": "histogram"
           }
          ],
          "histogram2d": [
           {
            "colorbar": {
             "outlinewidth": 0,
             "ticks": ""
            },
            "colorscale": [
             [
              0,
              "#0d0887"
             ],
             [
              0.1111111111111111,
              "#46039f"
             ],
             [
              0.2222222222222222,
              "#7201a8"
             ],
             [
              0.3333333333333333,
              "#9c179e"
             ],
             [
              0.4444444444444444,
              "#bd3786"
             ],
             [
              0.5555555555555556,
              "#d8576b"
             ],
             [
              0.6666666666666666,
              "#ed7953"
             ],
             [
              0.7777777777777778,
              "#fb9f3a"
             ],
             [
              0.8888888888888888,
              "#fdca26"
             ],
             [
              1,
              "#f0f921"
             ]
            ],
            "type": "histogram2d"
           }
          ],
          "histogram2dcontour": [
           {
            "colorbar": {
             "outlinewidth": 0,
             "ticks": ""
            },
            "colorscale": [
             [
              0,
              "#0d0887"
             ],
             [
              0.1111111111111111,
              "#46039f"
             ],
             [
              0.2222222222222222,
              "#7201a8"
             ],
             [
              0.3333333333333333,
              "#9c179e"
             ],
             [
              0.4444444444444444,
              "#bd3786"
             ],
             [
              0.5555555555555556,
              "#d8576b"
             ],
             [
              0.6666666666666666,
              "#ed7953"
             ],
             [
              0.7777777777777778,
              "#fb9f3a"
             ],
             [
              0.8888888888888888,
              "#fdca26"
             ],
             [
              1,
              "#f0f921"
             ]
            ],
            "type": "histogram2dcontour"
           }
          ],
          "mesh3d": [
           {
            "colorbar": {
             "outlinewidth": 0,
             "ticks": ""
            },
            "type": "mesh3d"
           }
          ],
          "parcoords": [
           {
            "line": {
             "colorbar": {
              "outlinewidth": 0,
              "ticks": ""
             }
            },
            "type": "parcoords"
           }
          ],
          "pie": [
           {
            "automargin": true,
            "type": "pie"
           }
          ],
          "scatter": [
           {
            "fillpattern": {
             "fillmode": "overlay",
             "size": 10,
             "solidity": 0.2
            },
            "type": "scatter"
           }
          ],
          "scatter3d": [
           {
            "line": {
             "colorbar": {
              "outlinewidth": 0,
              "ticks": ""
             }
            },
            "marker": {
             "colorbar": {
              "outlinewidth": 0,
              "ticks": ""
             }
            },
            "type": "scatter3d"
           }
          ],
          "scattercarpet": [
           {
            "marker": {
             "colorbar": {
              "outlinewidth": 0,
              "ticks": ""
             }
            },
            "type": "scattercarpet"
           }
          ],
          "scattergeo": [
           {
            "marker": {
             "colorbar": {
              "outlinewidth": 0,
              "ticks": ""
             }
            },
            "type": "scattergeo"
           }
          ],
          "scattergl": [
           {
            "marker": {
             "colorbar": {
              "outlinewidth": 0,
              "ticks": ""
             }
            },
            "type": "scattergl"
           }
          ],
          "scattermapbox": [
           {
            "marker": {
             "colorbar": {
              "outlinewidth": 0,
              "ticks": ""
             }
            },
            "type": "scattermapbox"
           }
          ],
          "scatterpolar": [
           {
            "marker": {
             "colorbar": {
              "outlinewidth": 0,
              "ticks": ""
             }
            },
            "type": "scatterpolar"
           }
          ],
          "scatterpolargl": [
           {
            "marker": {
             "colorbar": {
              "outlinewidth": 0,
              "ticks": ""
             }
            },
            "type": "scatterpolargl"
           }
          ],
          "scatterternary": [
           {
            "marker": {
             "colorbar": {
              "outlinewidth": 0,
              "ticks": ""
             }
            },
            "type": "scatterternary"
           }
          ],
          "surface": [
           {
            "colorbar": {
             "outlinewidth": 0,
             "ticks": ""
            },
            "colorscale": [
             [
              0,
              "#0d0887"
             ],
             [
              0.1111111111111111,
              "#46039f"
             ],
             [
              0.2222222222222222,
              "#7201a8"
             ],
             [
              0.3333333333333333,
              "#9c179e"
             ],
             [
              0.4444444444444444,
              "#bd3786"
             ],
             [
              0.5555555555555556,
              "#d8576b"
             ],
             [
              0.6666666666666666,
              "#ed7953"
             ],
             [
              0.7777777777777778,
              "#fb9f3a"
             ],
             [
              0.8888888888888888,
              "#fdca26"
             ],
             [
              1,
              "#f0f921"
             ]
            ],
            "type": "surface"
           }
          ],
          "table": [
           {
            "cells": {
             "fill": {
              "color": "#EBF0F8"
             },
             "line": {
              "color": "white"
             }
            },
            "header": {
             "fill": {
              "color": "#C8D4E3"
             },
             "line": {
              "color": "white"
             }
            },
            "type": "table"
           }
          ]
         },
         "layout": {
          "annotationdefaults": {
           "arrowcolor": "#2a3f5f",
           "arrowhead": 0,
           "arrowwidth": 1
          },
          "autotypenumbers": "strict",
          "coloraxis": {
           "colorbar": {
            "outlinewidth": 0,
            "ticks": ""
           }
          },
          "colorscale": {
           "diverging": [
            [
             0,
             "#8e0152"
            ],
            [
             0.1,
             "#c51b7d"
            ],
            [
             0.2,
             "#de77ae"
            ],
            [
             0.3,
             "#f1b6da"
            ],
            [
             0.4,
             "#fde0ef"
            ],
            [
             0.5,
             "#f7f7f7"
            ],
            [
             0.6,
             "#e6f5d0"
            ],
            [
             0.7,
             "#b8e186"
            ],
            [
             0.8,
             "#7fbc41"
            ],
            [
             0.9,
             "#4d9221"
            ],
            [
             1,
             "#276419"
            ]
           ],
           "sequential": [
            [
             0,
             "#0d0887"
            ],
            [
             0.1111111111111111,
             "#46039f"
            ],
            [
             0.2222222222222222,
             "#7201a8"
            ],
            [
             0.3333333333333333,
             "#9c179e"
            ],
            [
             0.4444444444444444,
             "#bd3786"
            ],
            [
             0.5555555555555556,
             "#d8576b"
            ],
            [
             0.6666666666666666,
             "#ed7953"
            ],
            [
             0.7777777777777778,
             "#fb9f3a"
            ],
            [
             0.8888888888888888,
             "#fdca26"
            ],
            [
             1,
             "#f0f921"
            ]
           ],
           "sequentialminus": [
            [
             0,
             "#0d0887"
            ],
            [
             0.1111111111111111,
             "#46039f"
            ],
            [
             0.2222222222222222,
             "#7201a8"
            ],
            [
             0.3333333333333333,
             "#9c179e"
            ],
            [
             0.4444444444444444,
             "#bd3786"
            ],
            [
             0.5555555555555556,
             "#d8576b"
            ],
            [
             0.6666666666666666,
             "#ed7953"
            ],
            [
             0.7777777777777778,
             "#fb9f3a"
            ],
            [
             0.8888888888888888,
             "#fdca26"
            ],
            [
             1,
             "#f0f921"
            ]
           ]
          },
          "colorway": [
           "#636efa",
           "#EF553B",
           "#00cc96",
           "#ab63fa",
           "#FFA15A",
           "#19d3f3",
           "#FF6692",
           "#B6E880",
           "#FF97FF",
           "#FECB52"
          ],
          "font": {
           "color": "#2a3f5f"
          },
          "geo": {
           "bgcolor": "white",
           "lakecolor": "white",
           "landcolor": "#E5ECF6",
           "showlakes": true,
           "showland": true,
           "subunitcolor": "white"
          },
          "hoverlabel": {
           "align": "left"
          },
          "hovermode": "closest",
          "mapbox": {
           "style": "light"
          },
          "paper_bgcolor": "white",
          "plot_bgcolor": "#E5ECF6",
          "polar": {
           "angularaxis": {
            "gridcolor": "white",
            "linecolor": "white",
            "ticks": ""
           },
           "bgcolor": "#E5ECF6",
           "radialaxis": {
            "gridcolor": "white",
            "linecolor": "white",
            "ticks": ""
           }
          },
          "scene": {
           "xaxis": {
            "backgroundcolor": "#E5ECF6",
            "gridcolor": "white",
            "gridwidth": 2,
            "linecolor": "white",
            "showbackground": true,
            "ticks": "",
            "zerolinecolor": "white"
           },
           "yaxis": {
            "backgroundcolor": "#E5ECF6",
            "gridcolor": "white",
            "gridwidth": 2,
            "linecolor": "white",
            "showbackground": true,
            "ticks": "",
            "zerolinecolor": "white"
           },
           "zaxis": {
            "backgroundcolor": "#E5ECF6",
            "gridcolor": "white",
            "gridwidth": 2,
            "linecolor": "white",
            "showbackground": true,
            "ticks": "",
            "zerolinecolor": "white"
           }
          },
          "shapedefaults": {
           "line": {
            "color": "#2a3f5f"
           }
          },
          "ternary": {
           "aaxis": {
            "gridcolor": "white",
            "linecolor": "white",
            "ticks": ""
           },
           "baxis": {
            "gridcolor": "white",
            "linecolor": "white",
            "ticks": ""
           },
           "bgcolor": "#E5ECF6",
           "caxis": {
            "gridcolor": "white",
            "linecolor": "white",
            "ticks": ""
           }
          },
          "title": {
           "x": 0.05
          },
          "xaxis": {
           "automargin": true,
           "gridcolor": "white",
           "linecolor": "white",
           "ticks": "",
           "title": {
            "standoff": 15
           },
           "zerolinecolor": "white",
           "zerolinewidth": 2
          },
          "yaxis": {
           "automargin": true,
           "gridcolor": "white",
           "linecolor": "white",
           "ticks": "",
           "title": {
            "standoff": 15
           },
           "zerolinecolor": "white",
           "zerolinewidth": 2
          }
         }
        },
        "title": {
         "text": "Bids per month"
        },
        "xaxis": {
         "anchor": "y",
         "domain": [
          0,
          1
         ],
         "title": {
          "text": "x"
         }
        },
        "yaxis": {
         "anchor": "x",
         "domain": [
          0,
          1
         ],
         "title": {
          "text": "bids"
         }
        }
       }
      },
      "text/html": [
       "<div>                            <div id=\"924472fb-b669-444f-8c22-255f16bd004f\" class=\"plotly-graph-div\" style=\"height:525px; width:100%;\"></div>            <script type=\"text/javascript\">                require([\"plotly\"], function(Plotly) {                    window.PLOTLYENV=window.PLOTLYENV || {};                                    if (document.getElementById(\"924472fb-b669-444f-8c22-255f16bd004f\")) {                    Plotly.newPlot(                        \"924472fb-b669-444f-8c22-255f16bd004f\",                        [{\"hovertemplate\":\"x=%{x}<br>bids=%{y}<extra></extra>\",\"legendgroup\":\"\",\"line\":{\"color\":\"#636efa\",\"dash\":\"solid\"},\"marker\":{\"symbol\":\"circle\"},\"mode\":\"lines\",\"name\":\"\",\"orientation\":\"v\",\"showlegend\":false,\"x\":[\"2022-09-01T00:00:00\",\"2022-10-01T00:00:00\",\"2022-11-01T00:00:00\",\"2022-12-01T00:00:00\"],\"xaxis\":\"x\",\"y\":[251,100,324,152],\"yaxis\":\"y\",\"type\":\"scatter\"}],                        {\"template\":{\"data\":{\"histogram2dcontour\":[{\"type\":\"histogram2dcontour\",\"colorbar\":{\"outlinewidth\":0,\"ticks\":\"\"},\"colorscale\":[[0.0,\"#0d0887\"],[0.1111111111111111,\"#46039f\"],[0.2222222222222222,\"#7201a8\"],[0.3333333333333333,\"#9c179e\"],[0.4444444444444444,\"#bd3786\"],[0.5555555555555556,\"#d8576b\"],[0.6666666666666666,\"#ed7953\"],[0.7777777777777778,\"#fb9f3a\"],[0.8888888888888888,\"#fdca26\"],[1.0,\"#f0f921\"]]}],\"choropleth\":[{\"type\":\"choropleth\",\"colorbar\":{\"outlinewidth\":0,\"ticks\":\"\"}}],\"histogram2d\":[{\"type\":\"histogram2d\",\"colorbar\":{\"outlinewidth\":0,\"ticks\":\"\"},\"colorscale\":[[0.0,\"#0d0887\"],[0.1111111111111111,\"#46039f\"],[0.2222222222222222,\"#7201a8\"],[0.3333333333333333,\"#9c179e\"],[0.4444444444444444,\"#bd3786\"],[0.5555555555555556,\"#d8576b\"],[0.6666666666666666,\"#ed7953\"],[0.7777777777777778,\"#fb9f3a\"],[0.8888888888888888,\"#fdca26\"],[1.0,\"#f0f921\"]]}],\"heatmap\":[{\"type\":\"heatmap\",\"colorbar\":{\"outlinewidth\":0,\"ticks\":\"\"},\"colorscale\":[[0.0,\"#0d0887\"],[0.1111111111111111,\"#46039f\"],[0.2222222222222222,\"#7201a8\"],[0.3333333333333333,\"#9c179e\"],[0.4444444444444444,\"#bd3786\"],[0.5555555555555556,\"#d8576b\"],[0.6666666666666666,\"#ed7953\"],[0.7777777777777778,\"#fb9f3a\"],[0.8888888888888888,\"#fdca26\"],[1.0,\"#f0f921\"]]}],\"heatmapgl\":[{\"type\":\"heatmapgl\",\"colorbar\":{\"outlinewidth\":0,\"ticks\":\"\"},\"colorscale\":[[0.0,\"#0d0887\"],[0.1111111111111111,\"#46039f\"],[0.2222222222222222,\"#7201a8\"],[0.3333333333333333,\"#9c179e\"],[0.4444444444444444,\"#bd3786\"],[0.5555555555555556,\"#d8576b\"],[0.6666666666666666,\"#ed7953\"],[0.7777777777777778,\"#fb9f3a\"],[0.8888888888888888,\"#fdca26\"],[1.0,\"#f0f921\"]]}],\"contourcarpet\":[{\"type\":\"contourcarpet\",\"colorbar\":{\"outlinewidth\":0,\"ticks\":\"\"}}],\"contour\":[{\"type\":\"contour\",\"colorbar\":{\"outlinewidth\":0,\"ticks\":\"\"},\"colorscale\":[[0.0,\"#0d0887\"],[0.1111111111111111,\"#46039f\"],[0.2222222222222222,\"#7201a8\"],[0.3333333333333333,\"#9c179e\"],[0.4444444444444444,\"#bd3786\"],[0.5555555555555556,\"#d8576b\"],[0.6666666666666666,\"#ed7953\"],[0.7777777777777778,\"#fb9f3a\"],[0.8888888888888888,\"#fdca26\"],[1.0,\"#f0f921\"]]}],\"surface\":[{\"type\":\"surface\",\"colorbar\":{\"outlinewidth\":0,\"ticks\":\"\"},\"colorscale\":[[0.0,\"#0d0887\"],[0.1111111111111111,\"#46039f\"],[0.2222222222222222,\"#7201a8\"],[0.3333333333333333,\"#9c179e\"],[0.4444444444444444,\"#bd3786\"],[0.5555555555555556,\"#d8576b\"],[0.6666666666666666,\"#ed7953\"],[0.7777777777777778,\"#fb9f3a\"],[0.8888888888888888,\"#fdca26\"],[1.0,\"#f0f921\"]]}],\"mesh3d\":[{\"type\":\"mesh3d\",\"colorbar\":{\"outlinewidth\":0,\"ticks\":\"\"}}],\"scatter\":[{\"fillpattern\":{\"fillmode\":\"overlay\",\"size\":10,\"solidity\":0.2},\"type\":\"scatter\"}],\"parcoords\":[{\"type\":\"parcoords\",\"line\":{\"colorbar\":{\"outlinewidth\":0,\"ticks\":\"\"}}}],\"scatterpolargl\":[{\"type\":\"scatterpolargl\",\"marker\":{\"colorbar\":{\"outlinewidth\":0,\"ticks\":\"\"}}}],\"bar\":[{\"error_x\":{\"color\":\"#2a3f5f\"},\"error_y\":{\"color\":\"#2a3f5f\"},\"marker\":{\"line\":{\"color\":\"#E5ECF6\",\"width\":0.5},\"pattern\":{\"fillmode\":\"overlay\",\"size\":10,\"solidity\":0.2}},\"type\":\"bar\"}],\"scattergeo\":[{\"type\":\"scattergeo\",\"marker\":{\"colorbar\":{\"outlinewidth\":0,\"ticks\":\"\"}}}],\"scatterpolar\":[{\"type\":\"scatterpolar\",\"marker\":{\"colorbar\":{\"outlinewidth\":0,\"ticks\":\"\"}}}],\"histogram\":[{\"marker\":{\"pattern\":{\"fillmode\":\"overlay\",\"size\":10,\"solidity\":0.2}},\"type\":\"histogram\"}],\"scattergl\":[{\"type\":\"scattergl\",\"marker\":{\"colorbar\":{\"outlinewidth\":0,\"ticks\":\"\"}}}],\"scatter3d\":[{\"type\":\"scatter3d\",\"line\":{\"colorbar\":{\"outlinewidth\":0,\"ticks\":\"\"}},\"marker\":{\"colorbar\":{\"outlinewidth\":0,\"ticks\":\"\"}}}],\"scattermapbox\":[{\"type\":\"scattermapbox\",\"marker\":{\"colorbar\":{\"outlinewidth\":0,\"ticks\":\"\"}}}],\"scatterternary\":[{\"type\":\"scatterternary\",\"marker\":{\"colorbar\":{\"outlinewidth\":0,\"ticks\":\"\"}}}],\"scattercarpet\":[{\"type\":\"scattercarpet\",\"marker\":{\"colorbar\":{\"outlinewidth\":0,\"ticks\":\"\"}}}],\"carpet\":[{\"aaxis\":{\"endlinecolor\":\"#2a3f5f\",\"gridcolor\":\"white\",\"linecolor\":\"white\",\"minorgridcolor\":\"white\",\"startlinecolor\":\"#2a3f5f\"},\"baxis\":{\"endlinecolor\":\"#2a3f5f\",\"gridcolor\":\"white\",\"linecolor\":\"white\",\"minorgridcolor\":\"white\",\"startlinecolor\":\"#2a3f5f\"},\"type\":\"carpet\"}],\"table\":[{\"cells\":{\"fill\":{\"color\":\"#EBF0F8\"},\"line\":{\"color\":\"white\"}},\"header\":{\"fill\":{\"color\":\"#C8D4E3\"},\"line\":{\"color\":\"white\"}},\"type\":\"table\"}],\"barpolar\":[{\"marker\":{\"line\":{\"color\":\"#E5ECF6\",\"width\":0.5},\"pattern\":{\"fillmode\":\"overlay\",\"size\":10,\"solidity\":0.2}},\"type\":\"barpolar\"}],\"pie\":[{\"automargin\":true,\"type\":\"pie\"}]},\"layout\":{\"autotypenumbers\":\"strict\",\"colorway\":[\"#636efa\",\"#EF553B\",\"#00cc96\",\"#ab63fa\",\"#FFA15A\",\"#19d3f3\",\"#FF6692\",\"#B6E880\",\"#FF97FF\",\"#FECB52\"],\"font\":{\"color\":\"#2a3f5f\"},\"hovermode\":\"closest\",\"hoverlabel\":{\"align\":\"left\"},\"paper_bgcolor\":\"white\",\"plot_bgcolor\":\"#E5ECF6\",\"polar\":{\"bgcolor\":\"#E5ECF6\",\"angularaxis\":{\"gridcolor\":\"white\",\"linecolor\":\"white\",\"ticks\":\"\"},\"radialaxis\":{\"gridcolor\":\"white\",\"linecolor\":\"white\",\"ticks\":\"\"}},\"ternary\":{\"bgcolor\":\"#E5ECF6\",\"aaxis\":{\"gridcolor\":\"white\",\"linecolor\":\"white\",\"ticks\":\"\"},\"baxis\":{\"gridcolor\":\"white\",\"linecolor\":\"white\",\"ticks\":\"\"},\"caxis\":{\"gridcolor\":\"white\",\"linecolor\":\"white\",\"ticks\":\"\"}},\"coloraxis\":{\"colorbar\":{\"outlinewidth\":0,\"ticks\":\"\"}},\"colorscale\":{\"sequential\":[[0.0,\"#0d0887\"],[0.1111111111111111,\"#46039f\"],[0.2222222222222222,\"#7201a8\"],[0.3333333333333333,\"#9c179e\"],[0.4444444444444444,\"#bd3786\"],[0.5555555555555556,\"#d8576b\"],[0.6666666666666666,\"#ed7953\"],[0.7777777777777778,\"#fb9f3a\"],[0.8888888888888888,\"#fdca26\"],[1.0,\"#f0f921\"]],\"sequentialminus\":[[0.0,\"#0d0887\"],[0.1111111111111111,\"#46039f\"],[0.2222222222222222,\"#7201a8\"],[0.3333333333333333,\"#9c179e\"],[0.4444444444444444,\"#bd3786\"],[0.5555555555555556,\"#d8576b\"],[0.6666666666666666,\"#ed7953\"],[0.7777777777777778,\"#fb9f3a\"],[0.8888888888888888,\"#fdca26\"],[1.0,\"#f0f921\"]],\"diverging\":[[0,\"#8e0152\"],[0.1,\"#c51b7d\"],[0.2,\"#de77ae\"],[0.3,\"#f1b6da\"],[0.4,\"#fde0ef\"],[0.5,\"#f7f7f7\"],[0.6,\"#e6f5d0\"],[0.7,\"#b8e186\"],[0.8,\"#7fbc41\"],[0.9,\"#4d9221\"],[1,\"#276419\"]]},\"xaxis\":{\"gridcolor\":\"white\",\"linecolor\":\"white\",\"ticks\":\"\",\"title\":{\"standoff\":15},\"zerolinecolor\":\"white\",\"automargin\":true,\"zerolinewidth\":2},\"yaxis\":{\"gridcolor\":\"white\",\"linecolor\":\"white\",\"ticks\":\"\",\"title\":{\"standoff\":15},\"zerolinecolor\":\"white\",\"automargin\":true,\"zerolinewidth\":2},\"scene\":{\"xaxis\":{\"backgroundcolor\":\"#E5ECF6\",\"gridcolor\":\"white\",\"linecolor\":\"white\",\"showbackground\":true,\"ticks\":\"\",\"zerolinecolor\":\"white\",\"gridwidth\":2},\"yaxis\":{\"backgroundcolor\":\"#E5ECF6\",\"gridcolor\":\"white\",\"linecolor\":\"white\",\"showbackground\":true,\"ticks\":\"\",\"zerolinecolor\":\"white\",\"gridwidth\":2},\"zaxis\":{\"backgroundcolor\":\"#E5ECF6\",\"gridcolor\":\"white\",\"linecolor\":\"white\",\"showbackground\":true,\"ticks\":\"\",\"zerolinecolor\":\"white\",\"gridwidth\":2}},\"shapedefaults\":{\"line\":{\"color\":\"#2a3f5f\"}},\"annotationdefaults\":{\"arrowcolor\":\"#2a3f5f\",\"arrowhead\":0,\"arrowwidth\":1},\"geo\":{\"bgcolor\":\"white\",\"landcolor\":\"#E5ECF6\",\"subunitcolor\":\"white\",\"showland\":true,\"showlakes\":true,\"lakecolor\":\"white\"},\"title\":{\"x\":0.05},\"mapbox\":{\"style\":\"light\"}}},\"xaxis\":{\"anchor\":\"y\",\"domain\":[0.0,1.0],\"title\":{\"text\":\"x\"}},\"yaxis\":{\"anchor\":\"x\",\"domain\":[0.0,1.0],\"title\":{\"text\":\"bids\"}},\"legend\":{\"tracegroupgap\":0},\"title\":{\"text\":\"Bids per month\"}},                        {\"responsive\": true}                    ).then(function(){\n",
       "                            \n",
       "var gd = document.getElementById('924472fb-b669-444f-8c22-255f16bd004f');\n",
       "var x = new MutationObserver(function (mutations, observer) {{\n",
       "        var display = window.getComputedStyle(gd).display;\n",
       "        if (!display || display === 'none') {{\n",
       "            console.log([gd, 'removed!']);\n",
       "            Plotly.purge(gd);\n",
       "            observer.disconnect();\n",
       "        }}\n",
       "}});\n",
       "\n",
       "// Listen for the removal of the full notebook cells\n",
       "var notebookContainer = gd.closest('#notebook-container');\n",
       "if (notebookContainer) {{\n",
       "    x.observe(notebookContainer, {childList: true});\n",
       "}}\n",
       "\n",
       "// Listen for the clearing of the current output cell\n",
       "var outputEl = gd.closest('.output');\n",
       "if (outputEl) {{\n",
       "    x.observe(outputEl, {childList: true});\n",
       "}}\n",
       "\n",
       "                        })                };                });            </script>        </div>"
      ]
     },
     "metadata": {},
     "output_type": "display_data"
    }
   ],
   "source": [
    "# Total bids per month\n",
    "import plotly.express as px\n",
    "\n",
    "fig = px.line(bids_per_month, x=bidders_per_month.index, y=\"bids\", title='Bids per month')\n",
    "fig.show()"
   ]
  },
  {
   "attachments": {},
   "cell_type": "markdown",
   "metadata": {},
   "source": [
    "- Also, we want to know how many active bidders do we have each month!\n",
    "- On October 2022, we had the lowest active bidders (21)!\n",
    "- On September 2022, we had the highest active bidders (52)!"
   ]
  },
  {
   "cell_type": "code",
   "execution_count": 727,
   "metadata": {},
   "outputs": [
    {
     "data": {
      "text/html": [
       "<div>\n",
       "<style scoped>\n",
       "    .dataframe tbody tr th:only-of-type {\n",
       "        vertical-align: middle;\n",
       "    }\n",
       "\n",
       "    .dataframe tbody tr th {\n",
       "        vertical-align: top;\n",
       "    }\n",
       "\n",
       "    .dataframe thead th {\n",
       "        text-align: right;\n",
       "    }\n",
       "</style>\n",
       "<table border=\"1\" class=\"dataframe\">\n",
       "  <thead>\n",
       "    <tr style=\"text-align: right;\">\n",
       "      <th></th>\n",
       "      <th>bidders</th>\n",
       "    </tr>\n",
       "    <tr>\n",
       "      <th>bid_date_month</th>\n",
       "      <th></th>\n",
       "    </tr>\n",
       "  </thead>\n",
       "  <tbody>\n",
       "    <tr>\n",
       "      <th>2022-09-01</th>\n",
       "      <td>52</td>\n",
       "    </tr>\n",
       "    <tr>\n",
       "      <th>2022-10-01</th>\n",
       "      <td>21</td>\n",
       "    </tr>\n",
       "    <tr>\n",
       "      <th>2022-11-01</th>\n",
       "      <td>42</td>\n",
       "    </tr>\n",
       "    <tr>\n",
       "      <th>2022-12-01</th>\n",
       "      <td>22</td>\n",
       "    </tr>\n",
       "  </tbody>\n",
       "</table>\n",
       "</div>"
      ],
      "text/plain": [
       "                bidders\n",
       "bid_date_month         \n",
       "2022-09-01           52\n",
       "2022-10-01           21\n",
       "2022-11-01           42\n",
       "2022-12-01           22"
      ]
     },
     "execution_count": 727,
     "metadata": {},
     "output_type": "execute_result"
    }
   ],
   "source": [
    "# Total unique bidders per month\n",
    "bidders_per_month = df.groupby(['bid_date_month'])\n",
    "bidders_per_month = bidders_per_month.agg({'bidder_id': ['count'], 'bidder_id':pd.Series.nunique})\n",
    "bidders_per_month.columns = ['bidders']\n",
    "bidders_per_month"
   ]
  },
  {
   "cell_type": "code",
   "execution_count": 728,
   "metadata": {},
   "outputs": [
    {
     "data": {
      "application/vnd.plotly.v1+json": {
       "config": {
        "plotlyServerURL": "https://plot.ly"
       },
       "data": [
        {
         "hovertemplate": "bid_date_month=%{x}<br>bidders=%{y}<extra></extra>",
         "legendgroup": "",
         "line": {
          "color": "#636efa",
          "dash": "solid"
         },
         "marker": {
          "symbol": "circle"
         },
         "mode": "lines",
         "name": "",
         "orientation": "v",
         "showlegend": false,
         "type": "scatter",
         "x": [
          "2022-09-01T00:00:00",
          "2022-10-01T00:00:00",
          "2022-11-01T00:00:00",
          "2022-12-01T00:00:00"
         ],
         "xaxis": "x",
         "y": [
          52,
          21,
          42,
          22
         ],
         "yaxis": "y"
        }
       ],
       "layout": {
        "legend": {
         "tracegroupgap": 0
        },
        "template": {
         "data": {
          "bar": [
           {
            "error_x": {
             "color": "#2a3f5f"
            },
            "error_y": {
             "color": "#2a3f5f"
            },
            "marker": {
             "line": {
              "color": "#E5ECF6",
              "width": 0.5
             },
             "pattern": {
              "fillmode": "overlay",
              "size": 10,
              "solidity": 0.2
             }
            },
            "type": "bar"
           }
          ],
          "barpolar": [
           {
            "marker": {
             "line": {
              "color": "#E5ECF6",
              "width": 0.5
             },
             "pattern": {
              "fillmode": "overlay",
              "size": 10,
              "solidity": 0.2
             }
            },
            "type": "barpolar"
           }
          ],
          "carpet": [
           {
            "aaxis": {
             "endlinecolor": "#2a3f5f",
             "gridcolor": "white",
             "linecolor": "white",
             "minorgridcolor": "white",
             "startlinecolor": "#2a3f5f"
            },
            "baxis": {
             "endlinecolor": "#2a3f5f",
             "gridcolor": "white",
             "linecolor": "white",
             "minorgridcolor": "white",
             "startlinecolor": "#2a3f5f"
            },
            "type": "carpet"
           }
          ],
          "choropleth": [
           {
            "colorbar": {
             "outlinewidth": 0,
             "ticks": ""
            },
            "type": "choropleth"
           }
          ],
          "contour": [
           {
            "colorbar": {
             "outlinewidth": 0,
             "ticks": ""
            },
            "colorscale": [
             [
              0,
              "#0d0887"
             ],
             [
              0.1111111111111111,
              "#46039f"
             ],
             [
              0.2222222222222222,
              "#7201a8"
             ],
             [
              0.3333333333333333,
              "#9c179e"
             ],
             [
              0.4444444444444444,
              "#bd3786"
             ],
             [
              0.5555555555555556,
              "#d8576b"
             ],
             [
              0.6666666666666666,
              "#ed7953"
             ],
             [
              0.7777777777777778,
              "#fb9f3a"
             ],
             [
              0.8888888888888888,
              "#fdca26"
             ],
             [
              1,
              "#f0f921"
             ]
            ],
            "type": "contour"
           }
          ],
          "contourcarpet": [
           {
            "colorbar": {
             "outlinewidth": 0,
             "ticks": ""
            },
            "type": "contourcarpet"
           }
          ],
          "heatmap": [
           {
            "colorbar": {
             "outlinewidth": 0,
             "ticks": ""
            },
            "colorscale": [
             [
              0,
              "#0d0887"
             ],
             [
              0.1111111111111111,
              "#46039f"
             ],
             [
              0.2222222222222222,
              "#7201a8"
             ],
             [
              0.3333333333333333,
              "#9c179e"
             ],
             [
              0.4444444444444444,
              "#bd3786"
             ],
             [
              0.5555555555555556,
              "#d8576b"
             ],
             [
              0.6666666666666666,
              "#ed7953"
             ],
             [
              0.7777777777777778,
              "#fb9f3a"
             ],
             [
              0.8888888888888888,
              "#fdca26"
             ],
             [
              1,
              "#f0f921"
             ]
            ],
            "type": "heatmap"
           }
          ],
          "heatmapgl": [
           {
            "colorbar": {
             "outlinewidth": 0,
             "ticks": ""
            },
            "colorscale": [
             [
              0,
              "#0d0887"
             ],
             [
              0.1111111111111111,
              "#46039f"
             ],
             [
              0.2222222222222222,
              "#7201a8"
             ],
             [
              0.3333333333333333,
              "#9c179e"
             ],
             [
              0.4444444444444444,
              "#bd3786"
             ],
             [
              0.5555555555555556,
              "#d8576b"
             ],
             [
              0.6666666666666666,
              "#ed7953"
             ],
             [
              0.7777777777777778,
              "#fb9f3a"
             ],
             [
              0.8888888888888888,
              "#fdca26"
             ],
             [
              1,
              "#f0f921"
             ]
            ],
            "type": "heatmapgl"
           }
          ],
          "histogram": [
           {
            "marker": {
             "pattern": {
              "fillmode": "overlay",
              "size": 10,
              "solidity": 0.2
             }
            },
            "type": "histogram"
           }
          ],
          "histogram2d": [
           {
            "colorbar": {
             "outlinewidth": 0,
             "ticks": ""
            },
            "colorscale": [
             [
              0,
              "#0d0887"
             ],
             [
              0.1111111111111111,
              "#46039f"
             ],
             [
              0.2222222222222222,
              "#7201a8"
             ],
             [
              0.3333333333333333,
              "#9c179e"
             ],
             [
              0.4444444444444444,
              "#bd3786"
             ],
             [
              0.5555555555555556,
              "#d8576b"
             ],
             [
              0.6666666666666666,
              "#ed7953"
             ],
             [
              0.7777777777777778,
              "#fb9f3a"
             ],
             [
              0.8888888888888888,
              "#fdca26"
             ],
             [
              1,
              "#f0f921"
             ]
            ],
            "type": "histogram2d"
           }
          ],
          "histogram2dcontour": [
           {
            "colorbar": {
             "outlinewidth": 0,
             "ticks": ""
            },
            "colorscale": [
             [
              0,
              "#0d0887"
             ],
             [
              0.1111111111111111,
              "#46039f"
             ],
             [
              0.2222222222222222,
              "#7201a8"
             ],
             [
              0.3333333333333333,
              "#9c179e"
             ],
             [
              0.4444444444444444,
              "#bd3786"
             ],
             [
              0.5555555555555556,
              "#d8576b"
             ],
             [
              0.6666666666666666,
              "#ed7953"
             ],
             [
              0.7777777777777778,
              "#fb9f3a"
             ],
             [
              0.8888888888888888,
              "#fdca26"
             ],
             [
              1,
              "#f0f921"
             ]
            ],
            "type": "histogram2dcontour"
           }
          ],
          "mesh3d": [
           {
            "colorbar": {
             "outlinewidth": 0,
             "ticks": ""
            },
            "type": "mesh3d"
           }
          ],
          "parcoords": [
           {
            "line": {
             "colorbar": {
              "outlinewidth": 0,
              "ticks": ""
             }
            },
            "type": "parcoords"
           }
          ],
          "pie": [
           {
            "automargin": true,
            "type": "pie"
           }
          ],
          "scatter": [
           {
            "fillpattern": {
             "fillmode": "overlay",
             "size": 10,
             "solidity": 0.2
            },
            "type": "scatter"
           }
          ],
          "scatter3d": [
           {
            "line": {
             "colorbar": {
              "outlinewidth": 0,
              "ticks": ""
             }
            },
            "marker": {
             "colorbar": {
              "outlinewidth": 0,
              "ticks": ""
             }
            },
            "type": "scatter3d"
           }
          ],
          "scattercarpet": [
           {
            "marker": {
             "colorbar": {
              "outlinewidth": 0,
              "ticks": ""
             }
            },
            "type": "scattercarpet"
           }
          ],
          "scattergeo": [
           {
            "marker": {
             "colorbar": {
              "outlinewidth": 0,
              "ticks": ""
             }
            },
            "type": "scattergeo"
           }
          ],
          "scattergl": [
           {
            "marker": {
             "colorbar": {
              "outlinewidth": 0,
              "ticks": ""
             }
            },
            "type": "scattergl"
           }
          ],
          "scattermapbox": [
           {
            "marker": {
             "colorbar": {
              "outlinewidth": 0,
              "ticks": ""
             }
            },
            "type": "scattermapbox"
           }
          ],
          "scatterpolar": [
           {
            "marker": {
             "colorbar": {
              "outlinewidth": 0,
              "ticks": ""
             }
            },
            "type": "scatterpolar"
           }
          ],
          "scatterpolargl": [
           {
            "marker": {
             "colorbar": {
              "outlinewidth": 0,
              "ticks": ""
             }
            },
            "type": "scatterpolargl"
           }
          ],
          "scatterternary": [
           {
            "marker": {
             "colorbar": {
              "outlinewidth": 0,
              "ticks": ""
             }
            },
            "type": "scatterternary"
           }
          ],
          "surface": [
           {
            "colorbar": {
             "outlinewidth": 0,
             "ticks": ""
            },
            "colorscale": [
             [
              0,
              "#0d0887"
             ],
             [
              0.1111111111111111,
              "#46039f"
             ],
             [
              0.2222222222222222,
              "#7201a8"
             ],
             [
              0.3333333333333333,
              "#9c179e"
             ],
             [
              0.4444444444444444,
              "#bd3786"
             ],
             [
              0.5555555555555556,
              "#d8576b"
             ],
             [
              0.6666666666666666,
              "#ed7953"
             ],
             [
              0.7777777777777778,
              "#fb9f3a"
             ],
             [
              0.8888888888888888,
              "#fdca26"
             ],
             [
              1,
              "#f0f921"
             ]
            ],
            "type": "surface"
           }
          ],
          "table": [
           {
            "cells": {
             "fill": {
              "color": "#EBF0F8"
             },
             "line": {
              "color": "white"
             }
            },
            "header": {
             "fill": {
              "color": "#C8D4E3"
             },
             "line": {
              "color": "white"
             }
            },
            "type": "table"
           }
          ]
         },
         "layout": {
          "annotationdefaults": {
           "arrowcolor": "#2a3f5f",
           "arrowhead": 0,
           "arrowwidth": 1
          },
          "autotypenumbers": "strict",
          "coloraxis": {
           "colorbar": {
            "outlinewidth": 0,
            "ticks": ""
           }
          },
          "colorscale": {
           "diverging": [
            [
             0,
             "#8e0152"
            ],
            [
             0.1,
             "#c51b7d"
            ],
            [
             0.2,
             "#de77ae"
            ],
            [
             0.3,
             "#f1b6da"
            ],
            [
             0.4,
             "#fde0ef"
            ],
            [
             0.5,
             "#f7f7f7"
            ],
            [
             0.6,
             "#e6f5d0"
            ],
            [
             0.7,
             "#b8e186"
            ],
            [
             0.8,
             "#7fbc41"
            ],
            [
             0.9,
             "#4d9221"
            ],
            [
             1,
             "#276419"
            ]
           ],
           "sequential": [
            [
             0,
             "#0d0887"
            ],
            [
             0.1111111111111111,
             "#46039f"
            ],
            [
             0.2222222222222222,
             "#7201a8"
            ],
            [
             0.3333333333333333,
             "#9c179e"
            ],
            [
             0.4444444444444444,
             "#bd3786"
            ],
            [
             0.5555555555555556,
             "#d8576b"
            ],
            [
             0.6666666666666666,
             "#ed7953"
            ],
            [
             0.7777777777777778,
             "#fb9f3a"
            ],
            [
             0.8888888888888888,
             "#fdca26"
            ],
            [
             1,
             "#f0f921"
            ]
           ],
           "sequentialminus": [
            [
             0,
             "#0d0887"
            ],
            [
             0.1111111111111111,
             "#46039f"
            ],
            [
             0.2222222222222222,
             "#7201a8"
            ],
            [
             0.3333333333333333,
             "#9c179e"
            ],
            [
             0.4444444444444444,
             "#bd3786"
            ],
            [
             0.5555555555555556,
             "#d8576b"
            ],
            [
             0.6666666666666666,
             "#ed7953"
            ],
            [
             0.7777777777777778,
             "#fb9f3a"
            ],
            [
             0.8888888888888888,
             "#fdca26"
            ],
            [
             1,
             "#f0f921"
            ]
           ]
          },
          "colorway": [
           "#636efa",
           "#EF553B",
           "#00cc96",
           "#ab63fa",
           "#FFA15A",
           "#19d3f3",
           "#FF6692",
           "#B6E880",
           "#FF97FF",
           "#FECB52"
          ],
          "font": {
           "color": "#2a3f5f"
          },
          "geo": {
           "bgcolor": "white",
           "lakecolor": "white",
           "landcolor": "#E5ECF6",
           "showlakes": true,
           "showland": true,
           "subunitcolor": "white"
          },
          "hoverlabel": {
           "align": "left"
          },
          "hovermode": "closest",
          "mapbox": {
           "style": "light"
          },
          "paper_bgcolor": "white",
          "plot_bgcolor": "#E5ECF6",
          "polar": {
           "angularaxis": {
            "gridcolor": "white",
            "linecolor": "white",
            "ticks": ""
           },
           "bgcolor": "#E5ECF6",
           "radialaxis": {
            "gridcolor": "white",
            "linecolor": "white",
            "ticks": ""
           }
          },
          "scene": {
           "xaxis": {
            "backgroundcolor": "#E5ECF6",
            "gridcolor": "white",
            "gridwidth": 2,
            "linecolor": "white",
            "showbackground": true,
            "ticks": "",
            "zerolinecolor": "white"
           },
           "yaxis": {
            "backgroundcolor": "#E5ECF6",
            "gridcolor": "white",
            "gridwidth": 2,
            "linecolor": "white",
            "showbackground": true,
            "ticks": "",
            "zerolinecolor": "white"
           },
           "zaxis": {
            "backgroundcolor": "#E5ECF6",
            "gridcolor": "white",
            "gridwidth": 2,
            "linecolor": "white",
            "showbackground": true,
            "ticks": "",
            "zerolinecolor": "white"
           }
          },
          "shapedefaults": {
           "line": {
            "color": "#2a3f5f"
           }
          },
          "ternary": {
           "aaxis": {
            "gridcolor": "white",
            "linecolor": "white",
            "ticks": ""
           },
           "baxis": {
            "gridcolor": "white",
            "linecolor": "white",
            "ticks": ""
           },
           "bgcolor": "#E5ECF6",
           "caxis": {
            "gridcolor": "white",
            "linecolor": "white",
            "ticks": ""
           }
          },
          "title": {
           "x": 0.05
          },
          "xaxis": {
           "automargin": true,
           "gridcolor": "white",
           "linecolor": "white",
           "ticks": "",
           "title": {
            "standoff": 15
           },
           "zerolinecolor": "white",
           "zerolinewidth": 2
          },
          "yaxis": {
           "automargin": true,
           "gridcolor": "white",
           "linecolor": "white",
           "ticks": "",
           "title": {
            "standoff": 15
           },
           "zerolinecolor": "white",
           "zerolinewidth": 2
          }
         }
        },
        "title": {
         "text": "Bidders per month"
        },
        "xaxis": {
         "anchor": "y",
         "domain": [
          0,
          1
         ],
         "title": {
          "text": "bid_date_month"
         }
        },
        "yaxis": {
         "anchor": "x",
         "domain": [
          0,
          1
         ],
         "title": {
          "text": "bidders"
         }
        }
       }
      },
      "text/html": [
       "<div>                            <div id=\"2becf600-65dd-495c-ab97-e04b2a20808f\" class=\"plotly-graph-div\" style=\"height:525px; width:100%;\"></div>            <script type=\"text/javascript\">                require([\"plotly\"], function(Plotly) {                    window.PLOTLYENV=window.PLOTLYENV || {};                                    if (document.getElementById(\"2becf600-65dd-495c-ab97-e04b2a20808f\")) {                    Plotly.newPlot(                        \"2becf600-65dd-495c-ab97-e04b2a20808f\",                        [{\"hovertemplate\":\"bid_date_month=%{x}<br>bidders=%{y}<extra></extra>\",\"legendgroup\":\"\",\"line\":{\"color\":\"#636efa\",\"dash\":\"solid\"},\"marker\":{\"symbol\":\"circle\"},\"mode\":\"lines\",\"name\":\"\",\"orientation\":\"v\",\"showlegend\":false,\"x\":[\"2022-09-01T00:00:00\",\"2022-10-01T00:00:00\",\"2022-11-01T00:00:00\",\"2022-12-01T00:00:00\"],\"xaxis\":\"x\",\"y\":[52,21,42,22],\"yaxis\":\"y\",\"type\":\"scatter\"}],                        {\"template\":{\"data\":{\"histogram2dcontour\":[{\"type\":\"histogram2dcontour\",\"colorbar\":{\"outlinewidth\":0,\"ticks\":\"\"},\"colorscale\":[[0.0,\"#0d0887\"],[0.1111111111111111,\"#46039f\"],[0.2222222222222222,\"#7201a8\"],[0.3333333333333333,\"#9c179e\"],[0.4444444444444444,\"#bd3786\"],[0.5555555555555556,\"#d8576b\"],[0.6666666666666666,\"#ed7953\"],[0.7777777777777778,\"#fb9f3a\"],[0.8888888888888888,\"#fdca26\"],[1.0,\"#f0f921\"]]}],\"choropleth\":[{\"type\":\"choropleth\",\"colorbar\":{\"outlinewidth\":0,\"ticks\":\"\"}}],\"histogram2d\":[{\"type\":\"histogram2d\",\"colorbar\":{\"outlinewidth\":0,\"ticks\":\"\"},\"colorscale\":[[0.0,\"#0d0887\"],[0.1111111111111111,\"#46039f\"],[0.2222222222222222,\"#7201a8\"],[0.3333333333333333,\"#9c179e\"],[0.4444444444444444,\"#bd3786\"],[0.5555555555555556,\"#d8576b\"],[0.6666666666666666,\"#ed7953\"],[0.7777777777777778,\"#fb9f3a\"],[0.8888888888888888,\"#fdca26\"],[1.0,\"#f0f921\"]]}],\"heatmap\":[{\"type\":\"heatmap\",\"colorbar\":{\"outlinewidth\":0,\"ticks\":\"\"},\"colorscale\":[[0.0,\"#0d0887\"],[0.1111111111111111,\"#46039f\"],[0.2222222222222222,\"#7201a8\"],[0.3333333333333333,\"#9c179e\"],[0.4444444444444444,\"#bd3786\"],[0.5555555555555556,\"#d8576b\"],[0.6666666666666666,\"#ed7953\"],[0.7777777777777778,\"#fb9f3a\"],[0.8888888888888888,\"#fdca26\"],[1.0,\"#f0f921\"]]}],\"heatmapgl\":[{\"type\":\"heatmapgl\",\"colorbar\":{\"outlinewidth\":0,\"ticks\":\"\"},\"colorscale\":[[0.0,\"#0d0887\"],[0.1111111111111111,\"#46039f\"],[0.2222222222222222,\"#7201a8\"],[0.3333333333333333,\"#9c179e\"],[0.4444444444444444,\"#bd3786\"],[0.5555555555555556,\"#d8576b\"],[0.6666666666666666,\"#ed7953\"],[0.7777777777777778,\"#fb9f3a\"],[0.8888888888888888,\"#fdca26\"],[1.0,\"#f0f921\"]]}],\"contourcarpet\":[{\"type\":\"contourcarpet\",\"colorbar\":{\"outlinewidth\":0,\"ticks\":\"\"}}],\"contour\":[{\"type\":\"contour\",\"colorbar\":{\"outlinewidth\":0,\"ticks\":\"\"},\"colorscale\":[[0.0,\"#0d0887\"],[0.1111111111111111,\"#46039f\"],[0.2222222222222222,\"#7201a8\"],[0.3333333333333333,\"#9c179e\"],[0.4444444444444444,\"#bd3786\"],[0.5555555555555556,\"#d8576b\"],[0.6666666666666666,\"#ed7953\"],[0.7777777777777778,\"#fb9f3a\"],[0.8888888888888888,\"#fdca26\"],[1.0,\"#f0f921\"]]}],\"surface\":[{\"type\":\"surface\",\"colorbar\":{\"outlinewidth\":0,\"ticks\":\"\"},\"colorscale\":[[0.0,\"#0d0887\"],[0.1111111111111111,\"#46039f\"],[0.2222222222222222,\"#7201a8\"],[0.3333333333333333,\"#9c179e\"],[0.4444444444444444,\"#bd3786\"],[0.5555555555555556,\"#d8576b\"],[0.6666666666666666,\"#ed7953\"],[0.7777777777777778,\"#fb9f3a\"],[0.8888888888888888,\"#fdca26\"],[1.0,\"#f0f921\"]]}],\"mesh3d\":[{\"type\":\"mesh3d\",\"colorbar\":{\"outlinewidth\":0,\"ticks\":\"\"}}],\"scatter\":[{\"fillpattern\":{\"fillmode\":\"overlay\",\"size\":10,\"solidity\":0.2},\"type\":\"scatter\"}],\"parcoords\":[{\"type\":\"parcoords\",\"line\":{\"colorbar\":{\"outlinewidth\":0,\"ticks\":\"\"}}}],\"scatterpolargl\":[{\"type\":\"scatterpolargl\",\"marker\":{\"colorbar\":{\"outlinewidth\":0,\"ticks\":\"\"}}}],\"bar\":[{\"error_x\":{\"color\":\"#2a3f5f\"},\"error_y\":{\"color\":\"#2a3f5f\"},\"marker\":{\"line\":{\"color\":\"#E5ECF6\",\"width\":0.5},\"pattern\":{\"fillmode\":\"overlay\",\"size\":10,\"solidity\":0.2}},\"type\":\"bar\"}],\"scattergeo\":[{\"type\":\"scattergeo\",\"marker\":{\"colorbar\":{\"outlinewidth\":0,\"ticks\":\"\"}}}],\"scatterpolar\":[{\"type\":\"scatterpolar\",\"marker\":{\"colorbar\":{\"outlinewidth\":0,\"ticks\":\"\"}}}],\"histogram\":[{\"marker\":{\"pattern\":{\"fillmode\":\"overlay\",\"size\":10,\"solidity\":0.2}},\"type\":\"histogram\"}],\"scattergl\":[{\"type\":\"scattergl\",\"marker\":{\"colorbar\":{\"outlinewidth\":0,\"ticks\":\"\"}}}],\"scatter3d\":[{\"type\":\"scatter3d\",\"line\":{\"colorbar\":{\"outlinewidth\":0,\"ticks\":\"\"}},\"marker\":{\"colorbar\":{\"outlinewidth\":0,\"ticks\":\"\"}}}],\"scattermapbox\":[{\"type\":\"scattermapbox\",\"marker\":{\"colorbar\":{\"outlinewidth\":0,\"ticks\":\"\"}}}],\"scatterternary\":[{\"type\":\"scatterternary\",\"marker\":{\"colorbar\":{\"outlinewidth\":0,\"ticks\":\"\"}}}],\"scattercarpet\":[{\"type\":\"scattercarpet\",\"marker\":{\"colorbar\":{\"outlinewidth\":0,\"ticks\":\"\"}}}],\"carpet\":[{\"aaxis\":{\"endlinecolor\":\"#2a3f5f\",\"gridcolor\":\"white\",\"linecolor\":\"white\",\"minorgridcolor\":\"white\",\"startlinecolor\":\"#2a3f5f\"},\"baxis\":{\"endlinecolor\":\"#2a3f5f\",\"gridcolor\":\"white\",\"linecolor\":\"white\",\"minorgridcolor\":\"white\",\"startlinecolor\":\"#2a3f5f\"},\"type\":\"carpet\"}],\"table\":[{\"cells\":{\"fill\":{\"color\":\"#EBF0F8\"},\"line\":{\"color\":\"white\"}},\"header\":{\"fill\":{\"color\":\"#C8D4E3\"},\"line\":{\"color\":\"white\"}},\"type\":\"table\"}],\"barpolar\":[{\"marker\":{\"line\":{\"color\":\"#E5ECF6\",\"width\":0.5},\"pattern\":{\"fillmode\":\"overlay\",\"size\":10,\"solidity\":0.2}},\"type\":\"barpolar\"}],\"pie\":[{\"automargin\":true,\"type\":\"pie\"}]},\"layout\":{\"autotypenumbers\":\"strict\",\"colorway\":[\"#636efa\",\"#EF553B\",\"#00cc96\",\"#ab63fa\",\"#FFA15A\",\"#19d3f3\",\"#FF6692\",\"#B6E880\",\"#FF97FF\",\"#FECB52\"],\"font\":{\"color\":\"#2a3f5f\"},\"hovermode\":\"closest\",\"hoverlabel\":{\"align\":\"left\"},\"paper_bgcolor\":\"white\",\"plot_bgcolor\":\"#E5ECF6\",\"polar\":{\"bgcolor\":\"#E5ECF6\",\"angularaxis\":{\"gridcolor\":\"white\",\"linecolor\":\"white\",\"ticks\":\"\"},\"radialaxis\":{\"gridcolor\":\"white\",\"linecolor\":\"white\",\"ticks\":\"\"}},\"ternary\":{\"bgcolor\":\"#E5ECF6\",\"aaxis\":{\"gridcolor\":\"white\",\"linecolor\":\"white\",\"ticks\":\"\"},\"baxis\":{\"gridcolor\":\"white\",\"linecolor\":\"white\",\"ticks\":\"\"},\"caxis\":{\"gridcolor\":\"white\",\"linecolor\":\"white\",\"ticks\":\"\"}},\"coloraxis\":{\"colorbar\":{\"outlinewidth\":0,\"ticks\":\"\"}},\"colorscale\":{\"sequential\":[[0.0,\"#0d0887\"],[0.1111111111111111,\"#46039f\"],[0.2222222222222222,\"#7201a8\"],[0.3333333333333333,\"#9c179e\"],[0.4444444444444444,\"#bd3786\"],[0.5555555555555556,\"#d8576b\"],[0.6666666666666666,\"#ed7953\"],[0.7777777777777778,\"#fb9f3a\"],[0.8888888888888888,\"#fdca26\"],[1.0,\"#f0f921\"]],\"sequentialminus\":[[0.0,\"#0d0887\"],[0.1111111111111111,\"#46039f\"],[0.2222222222222222,\"#7201a8\"],[0.3333333333333333,\"#9c179e\"],[0.4444444444444444,\"#bd3786\"],[0.5555555555555556,\"#d8576b\"],[0.6666666666666666,\"#ed7953\"],[0.7777777777777778,\"#fb9f3a\"],[0.8888888888888888,\"#fdca26\"],[1.0,\"#f0f921\"]],\"diverging\":[[0,\"#8e0152\"],[0.1,\"#c51b7d\"],[0.2,\"#de77ae\"],[0.3,\"#f1b6da\"],[0.4,\"#fde0ef\"],[0.5,\"#f7f7f7\"],[0.6,\"#e6f5d0\"],[0.7,\"#b8e186\"],[0.8,\"#7fbc41\"],[0.9,\"#4d9221\"],[1,\"#276419\"]]},\"xaxis\":{\"gridcolor\":\"white\",\"linecolor\":\"white\",\"ticks\":\"\",\"title\":{\"standoff\":15},\"zerolinecolor\":\"white\",\"automargin\":true,\"zerolinewidth\":2},\"yaxis\":{\"gridcolor\":\"white\",\"linecolor\":\"white\",\"ticks\":\"\",\"title\":{\"standoff\":15},\"zerolinecolor\":\"white\",\"automargin\":true,\"zerolinewidth\":2},\"scene\":{\"xaxis\":{\"backgroundcolor\":\"#E5ECF6\",\"gridcolor\":\"white\",\"linecolor\":\"white\",\"showbackground\":true,\"ticks\":\"\",\"zerolinecolor\":\"white\",\"gridwidth\":2},\"yaxis\":{\"backgroundcolor\":\"#E5ECF6\",\"gridcolor\":\"white\",\"linecolor\":\"white\",\"showbackground\":true,\"ticks\":\"\",\"zerolinecolor\":\"white\",\"gridwidth\":2},\"zaxis\":{\"backgroundcolor\":\"#E5ECF6\",\"gridcolor\":\"white\",\"linecolor\":\"white\",\"showbackground\":true,\"ticks\":\"\",\"zerolinecolor\":\"white\",\"gridwidth\":2}},\"shapedefaults\":{\"line\":{\"color\":\"#2a3f5f\"}},\"annotationdefaults\":{\"arrowcolor\":\"#2a3f5f\",\"arrowhead\":0,\"arrowwidth\":1},\"geo\":{\"bgcolor\":\"white\",\"landcolor\":\"#E5ECF6\",\"subunitcolor\":\"white\",\"showland\":true,\"showlakes\":true,\"lakecolor\":\"white\"},\"title\":{\"x\":0.05},\"mapbox\":{\"style\":\"light\"}}},\"xaxis\":{\"anchor\":\"y\",\"domain\":[0.0,1.0],\"title\":{\"text\":\"bid_date_month\"}},\"yaxis\":{\"anchor\":\"x\",\"domain\":[0.0,1.0],\"title\":{\"text\":\"bidders\"}},\"legend\":{\"tracegroupgap\":0},\"title\":{\"text\":\"Bidders per month\"}},                        {\"responsive\": true}                    ).then(function(){\n",
       "                            \n",
       "var gd = document.getElementById('2becf600-65dd-495c-ab97-e04b2a20808f');\n",
       "var x = new MutationObserver(function (mutations, observer) {{\n",
       "        var display = window.getComputedStyle(gd).display;\n",
       "        if (!display || display === 'none') {{\n",
       "            console.log([gd, 'removed!']);\n",
       "            Plotly.purge(gd);\n",
       "            observer.disconnect();\n",
       "        }}\n",
       "}});\n",
       "\n",
       "// Listen for the removal of the full notebook cells\n",
       "var notebookContainer = gd.closest('#notebook-container');\n",
       "if (notebookContainer) {{\n",
       "    x.observe(notebookContainer, {childList: true});\n",
       "}}\n",
       "\n",
       "// Listen for the clearing of the current output cell\n",
       "var outputEl = gd.closest('.output');\n",
       "if (outputEl) {{\n",
       "    x.observe(outputEl, {childList: true});\n",
       "}}\n",
       "\n",
       "                        })                };                });            </script>        </div>"
      ]
     },
     "metadata": {},
     "output_type": "display_data"
    }
   ],
   "source": [
    "# Total unique bidders per month\n",
    "import plotly.express as px\n",
    "\n",
    "fig = px.line(bidders_per_month, x=bidders_per_month.index, y=\"bidders\", title='Bidders per month')\n",
    "fig.show()"
   ]
  },
  {
   "attachments": {},
   "cell_type": "markdown",
   "metadata": {},
   "source": [
    "- Last but not least, to assess how fast our company grows we must know the first-time bidders for each month!\n",
    "- On October 2022, we had the lowest first-time bidders (11)!\n",
    "- On November 2022, we had 31 first-time bidders!\n",
    "- On September 2022, we had the highest first-time bidders (52), was a great month!"
   ]
  },
  {
   "cell_type": "code",
   "execution_count": 729,
   "metadata": {},
   "outputs": [
    {
     "data": {
      "text/html": [
       "<div>\n",
       "<style scoped>\n",
       "    .dataframe tbody tr th:only-of-type {\n",
       "        vertical-align: middle;\n",
       "    }\n",
       "\n",
       "    .dataframe tbody tr th {\n",
       "        vertical-align: top;\n",
       "    }\n",
       "\n",
       "    .dataframe thead th {\n",
       "        text-align: right;\n",
       "    }\n",
       "</style>\n",
       "<table border=\"1\" class=\"dataframe\">\n",
       "  <thead>\n",
       "    <tr style=\"text-align: right;\">\n",
       "      <th></th>\n",
       "      <th>first-time bidders</th>\n",
       "    </tr>\n",
       "    <tr>\n",
       "      <th>cohort_month</th>\n",
       "      <th></th>\n",
       "    </tr>\n",
       "  </thead>\n",
       "  <tbody>\n",
       "    <tr>\n",
       "      <th>2022-09-01</th>\n",
       "      <td>52</td>\n",
       "    </tr>\n",
       "    <tr>\n",
       "      <th>2022-10-01</th>\n",
       "      <td>11</td>\n",
       "    </tr>\n",
       "    <tr>\n",
       "      <th>2022-11-01</th>\n",
       "      <td>31</td>\n",
       "    </tr>\n",
       "    <tr>\n",
       "      <th>2022-12-01</th>\n",
       "      <td>13</td>\n",
       "    </tr>\n",
       "  </tbody>\n",
       "</table>\n",
       "</div>"
      ],
      "text/plain": [
       "              first-time bidders\n",
       "cohort_month                    \n",
       "2022-09-01                    52\n",
       "2022-10-01                    11\n",
       "2022-11-01                    31\n",
       "2022-12-01                    13"
      ]
     },
     "execution_count": 729,
     "metadata": {},
     "output_type": "execute_result"
    }
   ],
   "source": [
    "# First-time bidders per month\n",
    "grouping = df.groupby('bidder_id')['bid_date']\n",
    "df['cohort_month'] = grouping.transform('min')\n",
    "df['cohort_month'] = df['cohort_month'].apply(get_month)\n",
    "\n",
    "first_time_bidder_per_month = df.groupby('cohort_month')\n",
    "first_time_bidder_per_month = first_time_bidder_per_month.agg({'bidder_id': ['count'], 'bidder_id':pd.Series.nunique})\n",
    "first_time_bidder_per_month.columns = ['first-time bidders']\n",
    "first_time_bidder_per_month"
   ]
  },
  {
   "cell_type": "code",
   "execution_count": 730,
   "metadata": {},
   "outputs": [
    {
     "data": {
      "text/html": [
       "<div>\n",
       "<style scoped>\n",
       "    .dataframe tbody tr th:only-of-type {\n",
       "        vertical-align: middle;\n",
       "    }\n",
       "\n",
       "    .dataframe tbody tr th {\n",
       "        vertical-align: top;\n",
       "    }\n",
       "\n",
       "    .dataframe thead th {\n",
       "        text-align: right;\n",
       "    }\n",
       "</style>\n",
       "<table border=\"1\" class=\"dataframe\">\n",
       "  <thead>\n",
       "    <tr style=\"text-align: right;\">\n",
       "      <th></th>\n",
       "      <th>bidders</th>\n",
       "      <th>first-time bidders</th>\n",
       "    </tr>\n",
       "    <tr>\n",
       "      <th>bid_date_month</th>\n",
       "      <th></th>\n",
       "      <th></th>\n",
       "    </tr>\n",
       "  </thead>\n",
       "  <tbody>\n",
       "    <tr>\n",
       "      <th>2022-09-01</th>\n",
       "      <td>52</td>\n",
       "      <td>52</td>\n",
       "    </tr>\n",
       "    <tr>\n",
       "      <th>2022-10-01</th>\n",
       "      <td>21</td>\n",
       "      <td>11</td>\n",
       "    </tr>\n",
       "    <tr>\n",
       "      <th>2022-11-01</th>\n",
       "      <td>42</td>\n",
       "      <td>31</td>\n",
       "    </tr>\n",
       "    <tr>\n",
       "      <th>2022-12-01</th>\n",
       "      <td>22</td>\n",
       "      <td>13</td>\n",
       "    </tr>\n",
       "  </tbody>\n",
       "</table>\n",
       "</div>"
      ],
      "text/plain": [
       "                bidders  first-time bidders\n",
       "bid_date_month                             \n",
       "2022-09-01           52                  52\n",
       "2022-10-01           21                  11\n",
       "2022-11-01           42                  31\n",
       "2022-12-01           22                  13"
      ]
     },
     "execution_count": 730,
     "metadata": {},
     "output_type": "execute_result"
    }
   ],
   "source": [
    "merge_bidders = pd.merge(bidders_per_month, first_time_bidder_per_month, how='inner', left_index=True, right_index=True)\n",
    "merge_bidders"
   ]
  },
  {
   "attachments": {},
   "cell_type": "markdown",
   "metadata": {},
   "source": [
    "# Bidders Analytics"
   ]
  },
  {
   "attachments": {},
   "cell_type": "markdown",
   "metadata": {},
   "source": [
    "- We have to know our bidders!\n",
    "- Who is the bidder with highest historial bids?\n",
    "- The bidder '62e329abff03c2000d83079d' is the most active customer in last months!\n",
    "- We can give him/her/them a loyalty program with us!\n",
    "- But, not so fast, let's find out if this bidder is profitable..."
   ]
  },
  {
   "cell_type": "code",
   "execution_count": 734,
   "metadata": {},
   "outputs": [
    {
     "data": {
      "text/html": [
       "<div>\n",
       "<style scoped>\n",
       "    .dataframe tbody tr th:only-of-type {\n",
       "        vertical-align: middle;\n",
       "    }\n",
       "\n",
       "    .dataframe tbody tr th {\n",
       "        vertical-align: top;\n",
       "    }\n",
       "\n",
       "    .dataframe thead th {\n",
       "        text-align: right;\n",
       "    }\n",
       "</style>\n",
       "<table border=\"1\" class=\"dataframe\">\n",
       "  <thead>\n",
       "    <tr style=\"text-align: right;\">\n",
       "      <th></th>\n",
       "      <th>auction_date</th>\n",
       "      <th>auction_id</th>\n",
       "      <th>bstock_category_name</th>\n",
       "      <th>bid_date</th>\n",
       "      <th>bid_id</th>\n",
       "      <th>bidder_id</th>\n",
       "      <th>bid_amount</th>\n",
       "      <th>bid_date_month</th>\n",
       "      <th>cohort_month</th>\n",
       "    </tr>\n",
       "  </thead>\n",
       "  <tbody>\n",
       "    <tr>\n",
       "      <th>0</th>\n",
       "      <td>2022-09-10</td>\n",
       "      <td>1500000</td>\n",
       "      <td>Apparel, Footwear &amp; Accessories</td>\n",
       "      <td>2022-09-10 17:22:49</td>\n",
       "      <td>16819417</td>\n",
       "      <td>1</td>\n",
       "      <td>10.0</td>\n",
       "      <td>2022-09-01</td>\n",
       "      <td>2022-09-01</td>\n",
       "    </tr>\n",
       "    <tr>\n",
       "      <th>1</th>\n",
       "      <td>2022-09-10</td>\n",
       "      <td>1500000</td>\n",
       "      <td>Apparel, Footwear &amp; Accessories</td>\n",
       "      <td>2022-09-10 17:22:50</td>\n",
       "      <td>16819418</td>\n",
       "      <td>1</td>\n",
       "      <td>100.0</td>\n",
       "      <td>2022-09-01</td>\n",
       "      <td>2022-09-01</td>\n",
       "    </tr>\n",
       "    <tr>\n",
       "      <th>2</th>\n",
       "      <td>2022-09-10</td>\n",
       "      <td>1500000</td>\n",
       "      <td>Apparel, Footwear &amp; Accessories</td>\n",
       "      <td>2022-09-10 17:22:51</td>\n",
       "      <td>16819419</td>\n",
       "      <td>2</td>\n",
       "      <td>101.0</td>\n",
       "      <td>2022-09-01</td>\n",
       "      <td>2022-09-01</td>\n",
       "    </tr>\n",
       "    <tr>\n",
       "      <th>3</th>\n",
       "      <td>2022-09-10</td>\n",
       "      <td>1500000</td>\n",
       "      <td>Apparel, Footwear &amp; Accessories</td>\n",
       "      <td>2022-09-10 17:22:52</td>\n",
       "      <td>16819420</td>\n",
       "      <td>1</td>\n",
       "      <td>200.0</td>\n",
       "      <td>2022-09-01</td>\n",
       "      <td>2022-09-01</td>\n",
       "    </tr>\n",
       "    <tr>\n",
       "      <th>4</th>\n",
       "      <td>2022-09-10</td>\n",
       "      <td>1500000</td>\n",
       "      <td>Apparel, Footwear &amp; Accessories</td>\n",
       "      <td>2022-09-10 17:22:53</td>\n",
       "      <td>16819421</td>\n",
       "      <td>2</td>\n",
       "      <td>201.0</td>\n",
       "      <td>2022-09-01</td>\n",
       "      <td>2022-09-01</td>\n",
       "    </tr>\n",
       "  </tbody>\n",
       "</table>\n",
       "</div>"
      ],
      "text/plain": [
       "  auction_date  auction_id             bstock_category_name  \\\n",
       "0   2022-09-10     1500000  Apparel, Footwear & Accessories   \n",
       "1   2022-09-10     1500000  Apparel, Footwear & Accessories   \n",
       "2   2022-09-10     1500000  Apparel, Footwear & Accessories   \n",
       "3   2022-09-10     1500000  Apparel, Footwear & Accessories   \n",
       "4   2022-09-10     1500000  Apparel, Footwear & Accessories   \n",
       "\n",
       "             bid_date    bid_id bidder_id  bid_amount bid_date_month  \\\n",
       "0 2022-09-10 17:22:49  16819417         1        10.0     2022-09-01   \n",
       "1 2022-09-10 17:22:50  16819418         1       100.0     2022-09-01   \n",
       "2 2022-09-10 17:22:51  16819419         2       101.0     2022-09-01   \n",
       "3 2022-09-10 17:22:52  16819420         1       200.0     2022-09-01   \n",
       "4 2022-09-10 17:22:53  16819421         2       201.0     2022-09-01   \n",
       "\n",
       "  cohort_month  \n",
       "0   2022-09-01  \n",
       "1   2022-09-01  \n",
       "2   2022-09-01  \n",
       "3   2022-09-01  \n",
       "4   2022-09-01  "
      ]
     },
     "execution_count": 734,
     "metadata": {},
     "output_type": "execute_result"
    }
   ],
   "source": [
    "df.head()"
   ]
  },
  {
   "cell_type": "code",
   "execution_count": 732,
   "metadata": {},
   "outputs": [
    {
     "data": {
      "text/html": [
       "<div>\n",
       "<style scoped>\n",
       "    .dataframe tbody tr th:only-of-type {\n",
       "        vertical-align: middle;\n",
       "    }\n",
       "\n",
       "    .dataframe tbody tr th {\n",
       "        vertical-align: top;\n",
       "    }\n",
       "\n",
       "    .dataframe thead th {\n",
       "        text-align: right;\n",
       "    }\n",
       "</style>\n",
       "<table border=\"1\" class=\"dataframe\">\n",
       "  <thead>\n",
       "    <tr style=\"text-align: right;\">\n",
       "      <th></th>\n",
       "      <th>total bids</th>\n",
       "    </tr>\n",
       "    <tr>\n",
       "      <th>bidder_id</th>\n",
       "      <th></th>\n",
       "    </tr>\n",
       "  </thead>\n",
       "  <tbody>\n",
       "    <tr>\n",
       "      <th>62e329abff03c2000d83079d</th>\n",
       "      <td>194</td>\n",
       "    </tr>\n",
       "    <tr>\n",
       "      <th>6359b3f4feb3d7000ca36001</th>\n",
       "      <td>57</td>\n",
       "    </tr>\n",
       "    <tr>\n",
       "      <th>60c94b4fc8ce886daa7749b4</th>\n",
       "      <td>38</td>\n",
       "    </tr>\n",
       "    <tr>\n",
       "      <th>620412efc8ce885c4ac7395f</th>\n",
       "      <td>28</td>\n",
       "    </tr>\n",
       "    <tr>\n",
       "      <th>5e9bf479c8ce886c85a237b9</th>\n",
       "      <td>23</td>\n",
       "    </tr>\n",
       "    <tr>\n",
       "      <th>...</th>\n",
       "      <td>...</td>\n",
       "    </tr>\n",
       "    <tr>\n",
       "      <th>5eac1301c8ce880620f02290</th>\n",
       "      <td>1</td>\n",
       "    </tr>\n",
       "    <tr>\n",
       "      <th>5e45a255c8ce886c859ecfee</th>\n",
       "      <td>1</td>\n",
       "    </tr>\n",
       "    <tr>\n",
       "      <th>5e44b8cbc8ce886c884331ec</th>\n",
       "      <td>1</td>\n",
       "    </tr>\n",
       "    <tr>\n",
       "      <th>5e20eab3c8ce886c8841a912</th>\n",
       "      <td>1</td>\n",
       "    </tr>\n",
       "    <tr>\n",
       "      <th>62bd1a96ff03c200105701ad</th>\n",
       "      <td>1</td>\n",
       "    </tr>\n",
       "  </tbody>\n",
       "</table>\n",
       "<p>107 rows × 1 columns</p>\n",
       "</div>"
      ],
      "text/plain": [
       "                          total bids\n",
       "bidder_id                           \n",
       "62e329abff03c2000d83079d         194\n",
       "6359b3f4feb3d7000ca36001          57\n",
       "60c94b4fc8ce886daa7749b4          38\n",
       "620412efc8ce885c4ac7395f          28\n",
       "5e9bf479c8ce886c85a237b9          23\n",
       "...                              ...\n",
       "5eac1301c8ce880620f02290           1\n",
       "5e45a255c8ce886c859ecfee           1\n",
       "5e44b8cbc8ce886c884331ec           1\n",
       "5e20eab3c8ce886c8841a912           1\n",
       "62bd1a96ff03c200105701ad           1\n",
       "\n",
       "[107 rows x 1 columns]"
      ]
     },
     "execution_count": 732,
     "metadata": {},
     "output_type": "execute_result"
    }
   ],
   "source": [
    "# Historical bids per bidder ID\n",
    "bidders_stats = df.groupby(['bidder_id'])\n",
    "bidders_stats = bidders_stats.agg({'bid_id':['count']})\n",
    "bidders_stats.columns = ['total bids']\n",
    "bidders_stats = bidders_stats.sort_values(by='total bids', ascending=False)\n",
    "bidders_stats\n"
   ]
  },
  {
   "cell_type": "code",
   "execution_count": 735,
   "metadata": {},
   "outputs": [
    {
     "data": {
      "text/html": [
       "<div>\n",
       "<style scoped>\n",
       "    .dataframe tbody tr th:only-of-type {\n",
       "        vertical-align: middle;\n",
       "    }\n",
       "\n",
       "    .dataframe tbody tr th {\n",
       "        vertical-align: top;\n",
       "    }\n",
       "\n",
       "    .dataframe thead th {\n",
       "        text-align: right;\n",
       "    }\n",
       "</style>\n",
       "<table border=\"1\" class=\"dataframe\">\n",
       "  <thead>\n",
       "    <tr style=\"text-align: right;\">\n",
       "      <th></th>\n",
       "      <th>october bids</th>\n",
       "    </tr>\n",
       "    <tr>\n",
       "      <th>bidder_id</th>\n",
       "      <th></th>\n",
       "    </tr>\n",
       "  </thead>\n",
       "  <tbody>\n",
       "    <tr>\n",
       "      <th>62e329abff03c2000d83079d</th>\n",
       "      <td>25</td>\n",
       "    </tr>\n",
       "    <tr>\n",
       "      <th>5e9bf479c8ce886c85a237b9</th>\n",
       "      <td>23</td>\n",
       "    </tr>\n",
       "    <tr>\n",
       "      <th>62a227deff03c2000b28e506</th>\n",
       "      <td>8</td>\n",
       "    </tr>\n",
       "    <tr>\n",
       "      <th>62de2eb5ff03c2000f137373</th>\n",
       "      <td>7</td>\n",
       "    </tr>\n",
       "    <tr>\n",
       "      <th>600ed3a0c8ce886dac844326</th>\n",
       "      <td>6</td>\n",
       "    </tr>\n",
       "    <tr>\n",
       "      <th>5f5bf9eec8ce880639fe9393</th>\n",
       "      <td>6</td>\n",
       "    </tr>\n",
       "    <tr>\n",
       "      <th>54c3586f421aa90e94a53497</th>\n",
       "      <td>5</td>\n",
       "    </tr>\n",
       "    <tr>\n",
       "      <th>54c356f5421aa90e92aab121</th>\n",
       "      <td>3</td>\n",
       "    </tr>\n",
       "    <tr>\n",
       "      <th>60f9ad9cc8ce886da7e41b40</th>\n",
       "      <td>2</td>\n",
       "    </tr>\n",
       "    <tr>\n",
       "      <th>60130b4ac8ce886da943b405</th>\n",
       "      <td>2</td>\n",
       "    </tr>\n",
       "    <tr>\n",
       "      <th>6359b3f4feb3d7000ca36001</th>\n",
       "      <td>2</td>\n",
       "    </tr>\n",
       "    <tr>\n",
       "      <th>5b871bbfe3d4600e8076cc5f</th>\n",
       "      <td>2</td>\n",
       "    </tr>\n",
       "    <tr>\n",
       "      <th>5e85a1d7c8ce886c84641f51</th>\n",
       "      <td>1</td>\n",
       "    </tr>\n",
       "    <tr>\n",
       "      <th>5e44b8cbc8ce886c884331ec</th>\n",
       "      <td>1</td>\n",
       "    </tr>\n",
       "    <tr>\n",
       "      <th>5d687a77e3d460052b26884d</th>\n",
       "      <td>1</td>\n",
       "    </tr>\n",
       "    <tr>\n",
       "      <th>5d42dd06e3d460052763b8ba</th>\n",
       "      <td>1</td>\n",
       "    </tr>\n",
       "    <tr>\n",
       "      <th>5872eb71421aa90ceab0bb2f</th>\n",
       "      <td>1</td>\n",
       "    </tr>\n",
       "    <tr>\n",
       "      <th>572cfa67421aa90c80a34448</th>\n",
       "      <td>1</td>\n",
       "    </tr>\n",
       "    <tr>\n",
       "      <th>62f2aa60ff03c2000d858f21</th>\n",
       "      <td>1</td>\n",
       "    </tr>\n",
       "    <tr>\n",
       "      <th>63537c8bfeb3d7000bb32876</th>\n",
       "      <td>1</td>\n",
       "    </tr>\n",
       "    <tr>\n",
       "      <th>5eac1301c8ce880620f02290</th>\n",
       "      <td>1</td>\n",
       "    </tr>\n",
       "  </tbody>\n",
       "</table>\n",
       "</div>"
      ],
      "text/plain": [
       "                          october bids\n",
       "bidder_id                             \n",
       "62e329abff03c2000d83079d            25\n",
       "5e9bf479c8ce886c85a237b9            23\n",
       "62a227deff03c2000b28e506             8\n",
       "62de2eb5ff03c2000f137373             7\n",
       "600ed3a0c8ce886dac844326             6\n",
       "5f5bf9eec8ce880639fe9393             6\n",
       "54c3586f421aa90e94a53497             5\n",
       "54c356f5421aa90e92aab121             3\n",
       "60f9ad9cc8ce886da7e41b40             2\n",
       "60130b4ac8ce886da943b405             2\n",
       "6359b3f4feb3d7000ca36001             2\n",
       "5b871bbfe3d4600e8076cc5f             2\n",
       "5e85a1d7c8ce886c84641f51             1\n",
       "5e44b8cbc8ce886c884331ec             1\n",
       "5d687a77e3d460052b26884d             1\n",
       "5d42dd06e3d460052763b8ba             1\n",
       "5872eb71421aa90ceab0bb2f             1\n",
       "572cfa67421aa90c80a34448             1\n",
       "62f2aa60ff03c2000d858f21             1\n",
       "63537c8bfeb3d7000bb32876             1\n",
       "5eac1301c8ce880620f02290             1"
      ]
     },
     "execution_count": 735,
     "metadata": {},
     "output_type": "execute_result"
    }
   ],
   "source": [
    "# October bids per bidder ID\n",
    "\n",
    "bidders_stats_oct = df[df['bid_date_month']=='2022-10-01'].groupby(['bidder_id'])\n",
    "bidders_stats_oct = bidders_stats_oct.agg({'bid_id':['count']})\n",
    "bidders_stats_oct.columns = ['october bids']\n",
    "bidders_stats_oct = bidders_stats_oct.sort_values(by='october bids', ascending=False)\n",
    "bidders_stats_oct"
   ]
  },
  {
   "attachments": {},
   "cell_type": "markdown",
   "metadata": {},
   "source": [
    "- To keep things simple, I developed a query on MySQL to return the following report!\n",
    "- That is an inner join between misc.abc_bids and misc.abc_orders with the winner or ua_id_buyer"
   ]
  },
  {
   "cell_type": "code",
   "execution_count": 683,
   "metadata": {},
   "outputs": [
    {
     "data": {
      "text/html": [
       "<div>\n",
       "<style scoped>\n",
       "    .dataframe tbody tr th:only-of-type {\n",
       "        vertical-align: middle;\n",
       "    }\n",
       "\n",
       "    .dataframe tbody tr th {\n",
       "        vertical-align: top;\n",
       "    }\n",
       "\n",
       "    .dataframe thead th {\n",
       "        text-align: right;\n",
       "    }\n",
       "</style>\n",
       "<table border=\"1\" class=\"dataframe\">\n",
       "  <thead>\n",
       "    <tr style=\"text-align: right;\">\n",
       "      <th></th>\n",
       "      <th>auction_date_transformed</th>\n",
       "      <th>auction_id</th>\n",
       "      <th>bstock_category_name</th>\n",
       "      <th>bid_date</th>\n",
       "      <th>bid_id</th>\n",
       "      <th>bidder_id</th>\n",
       "      <th>bid_amount_transformed</th>\n",
       "      <th>bstock_condition_name</th>\n",
       "      <th>winning_bid_usd</th>\n",
       "      <th>retail_price</th>\n",
       "      <th>profit</th>\n",
       "    </tr>\n",
       "  </thead>\n",
       "  <tbody>\n",
       "    <tr>\n",
       "      <th>0</th>\n",
       "      <td>2022-09-10</td>\n",
       "      <td>1500000</td>\n",
       "      <td>Apparel, Footwear &amp; Accessories</td>\n",
       "      <td>2022-09-10 17:22:59.000000 UTC</td>\n",
       "      <td>16819428</td>\n",
       "      <td>1</td>\n",
       "      <td>1100</td>\n",
       "      <td>NaN</td>\n",
       "      <td>NaN</td>\n",
       "      <td>NaN</td>\n",
       "      <td>NaN</td>\n",
       "    </tr>\n",
       "    <tr>\n",
       "      <th>1</th>\n",
       "      <td>2022-09-13</td>\n",
       "      <td>1640483</td>\n",
       "      <td>Apparel, Footwear &amp; Accessories</td>\n",
       "      <td>2022-09-13 17:33:16.000000 UTC</td>\n",
       "      <td>17819741</td>\n",
       "      <td>62e329abff03c2000d83079d</td>\n",
       "      <td>3000</td>\n",
       "      <td>Brand New</td>\n",
       "      <td>2925.0</td>\n",
       "      <td>23195.0</td>\n",
       "      <td>20270.0</td>\n",
       "    </tr>\n",
       "    <tr>\n",
       "      <th>2</th>\n",
       "      <td>2022-09-13</td>\n",
       "      <td>1640484</td>\n",
       "      <td>Apparel, Footwear &amp; Accessories</td>\n",
       "      <td>2022-09-13 16:12:53.000000 UTC</td>\n",
       "      <td>17817684</td>\n",
       "      <td>62e329abff03c2000d83079d</td>\n",
       "      <td>207</td>\n",
       "      <td>Brand New</td>\n",
       "      <td>155.0</td>\n",
       "      <td>28526.0</td>\n",
       "      <td>28371.0</td>\n",
       "    </tr>\n",
       "    <tr>\n",
       "      <th>3</th>\n",
       "      <td>2022-09-13</td>\n",
       "      <td>1640485</td>\n",
       "      <td>Furniture</td>\n",
       "      <td>2022-09-13 15:48:56.000000 UTC</td>\n",
       "      <td>17817438</td>\n",
       "      <td>62e329abff03c2000d83079d</td>\n",
       "      <td>2521</td>\n",
       "      <td>Like New</td>\n",
       "      <td>2521.0</td>\n",
       "      <td>40122.0</td>\n",
       "      <td>37601.0</td>\n",
       "    </tr>\n",
       "    <tr>\n",
       "      <th>4</th>\n",
       "      <td>2022-09-13</td>\n",
       "      <td>1640486</td>\n",
       "      <td>Consumer Electronics</td>\n",
       "      <td>2022-09-13 16:59:30.000000 UTC</td>\n",
       "      <td>17818639</td>\n",
       "      <td>62e329abff03c2000d83079d</td>\n",
       "      <td>2667</td>\n",
       "      <td>Brand New</td>\n",
       "      <td>1900.0</td>\n",
       "      <td>46405.0</td>\n",
       "      <td>44505.0</td>\n",
       "    </tr>\n",
       "  </tbody>\n",
       "</table>\n",
       "</div>"
      ],
      "text/plain": [
       "  auction_date_transformed  auction_id             bstock_category_name  \\\n",
       "0               2022-09-10     1500000  Apparel, Footwear & Accessories   \n",
       "1               2022-09-13     1640483  Apparel, Footwear & Accessories   \n",
       "2               2022-09-13     1640484  Apparel, Footwear & Accessories   \n",
       "3               2022-09-13     1640485                        Furniture   \n",
       "4               2022-09-13     1640486             Consumer Electronics   \n",
       "\n",
       "                         bid_date    bid_id                 bidder_id  \\\n",
       "0  2022-09-10 17:22:59.000000 UTC  16819428                         1   \n",
       "1  2022-09-13 17:33:16.000000 UTC  17819741  62e329abff03c2000d83079d   \n",
       "2  2022-09-13 16:12:53.000000 UTC  17817684  62e329abff03c2000d83079d   \n",
       "3  2022-09-13 15:48:56.000000 UTC  17817438  62e329abff03c2000d83079d   \n",
       "4  2022-09-13 16:59:30.000000 UTC  17818639  62e329abff03c2000d83079d   \n",
       "\n",
       "   bid_amount_transformed bstock_condition_name  winning_bid_usd  \\\n",
       "0                    1100                   NaN              NaN   \n",
       "1                    3000             Brand New           2925.0   \n",
       "2                     207             Brand New            155.0   \n",
       "3                    2521              Like New           2521.0   \n",
       "4                    2667             Brand New           1900.0   \n",
       "\n",
       "   retail_price   profit  \n",
       "0           NaN      NaN  \n",
       "1       23195.0  20270.0  \n",
       "2       28526.0  28371.0  \n",
       "3       40122.0  37601.0  \n",
       "4       46405.0  44505.0  "
      ]
     },
     "execution_count": 683,
     "metadata": {},
     "output_type": "execute_result"
    }
   ],
   "source": [
    "bidders_orders = pd.read_csv('bidders-and-orders.csv')\n",
    "bidders_orders.head()"
   ]
  },
  {
   "attachments": {},
   "cell_type": "markdown",
   "metadata": {},
   "source": [
    "- Indeed, this hidder (62e329abff03c2000d83079d) is the most active in our auctions (194 total bids) and is very profitable (526,881 USD)!\n",
    "- Let's find out in which categories it is most profitable!"
   ]
  },
  {
   "cell_type": "code",
   "execution_count": 739,
   "metadata": {},
   "outputs": [
    {
     "data": {
      "text/html": [
       "<div>\n",
       "<style scoped>\n",
       "    .dataframe tbody tr th:only-of-type {\n",
       "        vertical-align: middle;\n",
       "    }\n",
       "\n",
       "    .dataframe tbody tr th {\n",
       "        vertical-align: top;\n",
       "    }\n",
       "\n",
       "    .dataframe thead th {\n",
       "        text-align: right;\n",
       "    }\n",
       "</style>\n",
       "<table border=\"1\" class=\"dataframe\">\n",
       "  <thead>\n",
       "    <tr style=\"text-align: right;\">\n",
       "      <th></th>\n",
       "      <th>total profit</th>\n",
       "    </tr>\n",
       "    <tr>\n",
       "      <th>bidder_id</th>\n",
       "      <th></th>\n",
       "    </tr>\n",
       "  </thead>\n",
       "  <tbody>\n",
       "    <tr>\n",
       "      <th>62e329abff03c2000d83079d</th>\n",
       "      <td>526881.0</td>\n",
       "    </tr>\n",
       "    <tr>\n",
       "      <th>60130b4ac8ce886da943b405</th>\n",
       "      <td>69639.0</td>\n",
       "    </tr>\n",
       "    <tr>\n",
       "      <th>6346cfecfeb3d7000dbb3495</th>\n",
       "      <td>44234.0</td>\n",
       "    </tr>\n",
       "    <tr>\n",
       "      <th>54c35b66421aa90e9061d305</th>\n",
       "      <td>43766.0</td>\n",
       "    </tr>\n",
       "    <tr>\n",
       "      <th>60c94b4fc8ce886daa7749b4</th>\n",
       "      <td>38706.0</td>\n",
       "    </tr>\n",
       "    <tr>\n",
       "      <th>635b4a04feb3d7000dbeacfc</th>\n",
       "      <td>35274.0</td>\n",
       "    </tr>\n",
       "    <tr>\n",
       "      <th>5872eb71421aa90ceab0bb2f</th>\n",
       "      <td>35025.0</td>\n",
       "    </tr>\n",
       "    <tr>\n",
       "      <th>591e47e3e3d4600d330ec1e8</th>\n",
       "      <td>32831.0</td>\n",
       "    </tr>\n",
       "    <tr>\n",
       "      <th>5e9bf479c8ce886c85a237b9</th>\n",
       "      <td>31425.0</td>\n",
       "    </tr>\n",
       "    <tr>\n",
       "      <th>54c35a91421aa90e9561b321</th>\n",
       "      <td>30170.0</td>\n",
       "    </tr>\n",
       "    <tr>\n",
       "      <th>54c35450421aa90e915a9806</th>\n",
       "      <td>28061.0</td>\n",
       "    </tr>\n",
       "    <tr>\n",
       "      <th>572cfa67421aa90c80a34448</th>\n",
       "      <td>23246.0</td>\n",
       "    </tr>\n",
       "    <tr>\n",
       "      <th>637d93dcfeb3d7000ec27aa8</th>\n",
       "      <td>19339.0</td>\n",
       "    </tr>\n",
       "    <tr>\n",
       "      <th>6266f403ff03c2000cc91fed</th>\n",
       "      <td>15439.0</td>\n",
       "    </tr>\n",
       "    <tr>\n",
       "      <th>6359b3f4feb3d7000ca36001</th>\n",
       "      <td>13758.0</td>\n",
       "    </tr>\n",
       "    <tr>\n",
       "      <th>5ee99029c8ce8806227dd424</th>\n",
       "      <td>11375.0</td>\n",
       "    </tr>\n",
       "    <tr>\n",
       "      <th>5f87a8dec8ce886daa622e6d</th>\n",
       "      <td>10660.0</td>\n",
       "    </tr>\n",
       "    <tr>\n",
       "      <th>5c9150efe3d4600e81e037d8</th>\n",
       "      <td>6586.0</td>\n",
       "    </tr>\n",
       "    <tr>\n",
       "      <th>54c36026421aa90e9061f860</th>\n",
       "      <td>6586.0</td>\n",
       "    </tr>\n",
       "    <tr>\n",
       "      <th>60dd1662c8ce886daa78f1b1</th>\n",
       "      <td>0.0</td>\n",
       "    </tr>\n",
       "    <tr>\n",
       "      <th>634dda38feb3d7000fd41790</th>\n",
       "      <td>0.0</td>\n",
       "    </tr>\n",
       "    <tr>\n",
       "      <th>1</th>\n",
       "      <td>0.0</td>\n",
       "    </tr>\n",
       "  </tbody>\n",
       "</table>\n",
       "</div>"
      ],
      "text/plain": [
       "                          total profit\n",
       "bidder_id                             \n",
       "62e329abff03c2000d83079d      526881.0\n",
       "60130b4ac8ce886da943b405       69639.0\n",
       "6346cfecfeb3d7000dbb3495       44234.0\n",
       "54c35b66421aa90e9061d305       43766.0\n",
       "60c94b4fc8ce886daa7749b4       38706.0\n",
       "635b4a04feb3d7000dbeacfc       35274.0\n",
       "5872eb71421aa90ceab0bb2f       35025.0\n",
       "591e47e3e3d4600d330ec1e8       32831.0\n",
       "5e9bf479c8ce886c85a237b9       31425.0\n",
       "54c35a91421aa90e9561b321       30170.0\n",
       "54c35450421aa90e915a9806       28061.0\n",
       "572cfa67421aa90c80a34448       23246.0\n",
       "637d93dcfeb3d7000ec27aa8       19339.0\n",
       "6266f403ff03c2000cc91fed       15439.0\n",
       "6359b3f4feb3d7000ca36001       13758.0\n",
       "5ee99029c8ce8806227dd424       11375.0\n",
       "5f87a8dec8ce886daa622e6d       10660.0\n",
       "5c9150efe3d4600e81e037d8        6586.0\n",
       "54c36026421aa90e9061f860        6586.0\n",
       "60dd1662c8ce886daa78f1b1           0.0\n",
       "634dda38feb3d7000fd41790           0.0\n",
       "1                                  0.0"
      ]
     },
     "execution_count": 739,
     "metadata": {},
     "output_type": "execute_result"
    }
   ],
   "source": [
    "order_stats = bidders_orders.groupby(['bidder_id'])\n",
    "order_stats = order_stats.agg({'profit':['sum']})\n",
    "order_stats.columns = ['total profit']\n",
    "order_stats = order_stats.sort_values(by='total profit', ascending=False)\n",
    "order_stats"
   ]
  },
  {
   "attachments": {},
   "cell_type": "markdown",
   "metadata": {},
   "source": [
    "- As expected, bidder ID '62e329abff03c2000d83079d' is very profitable in the 'Apparel, Footwear & Accesories category (396,680 USD)"
   ]
  },
  {
   "cell_type": "code",
   "execution_count": 745,
   "metadata": {},
   "outputs": [
    {
     "data": {
      "text/html": [
       "<div>\n",
       "<style scoped>\n",
       "    .dataframe tbody tr th:only-of-type {\n",
       "        vertical-align: middle;\n",
       "    }\n",
       "\n",
       "    .dataframe tbody tr th {\n",
       "        vertical-align: top;\n",
       "    }\n",
       "\n",
       "    .dataframe thead th {\n",
       "        text-align: right;\n",
       "    }\n",
       "</style>\n",
       "<table border=\"1\" class=\"dataframe\">\n",
       "  <thead>\n",
       "    <tr style=\"text-align: right;\">\n",
       "      <th></th>\n",
       "      <th></th>\n",
       "      <th>total profit</th>\n",
       "    </tr>\n",
       "    <tr>\n",
       "      <th>bidder_id</th>\n",
       "      <th>bstock_category_name</th>\n",
       "      <th></th>\n",
       "    </tr>\n",
       "  </thead>\n",
       "  <tbody>\n",
       "    <tr>\n",
       "      <th rowspan=\"3\" valign=\"top\">62e329abff03c2000d83079d</th>\n",
       "      <th>Apparel, Footwear &amp; Accessories</th>\n",
       "      <td>396680.0</td>\n",
       "    </tr>\n",
       "    <tr>\n",
       "      <th>Consumer Electronics</th>\n",
       "      <td>92600.0</td>\n",
       "    </tr>\n",
       "    <tr>\n",
       "      <th>Furniture</th>\n",
       "      <td>37601.0</td>\n",
       "    </tr>\n",
       "  </tbody>\n",
       "</table>\n",
       "</div>"
      ],
      "text/plain": [
       "                                                          total profit\n",
       "bidder_id                bstock_category_name                         \n",
       "62e329abff03c2000d83079d Apparel, Footwear & Accessories      396680.0\n",
       "                         Consumer Electronics                  92600.0\n",
       "                         Furniture                             37601.0"
      ]
     },
     "execution_count": 745,
     "metadata": {},
     "output_type": "execute_result"
    }
   ],
   "source": [
    "order_stats_cat = bidders_orders[bidders_orders['bidder_id']=='62e329abff03c2000d83079d'].groupby(['bidder_id', 'bstock_category_name'])\n",
    "order_stats_cat = order_stats_cat.agg({'profit':['sum']})\n",
    "order_stats_cat.columns = ['total profit']\n",
    "order_stats_cat = order_stats_cat.sort_values(by=['total profit'], ascending=False)\n",
    "order_stats_cat"
   ]
  },
  {
   "attachments": {},
   "cell_type": "markdown",
   "metadata": {},
   "source": [
    "- Last but not least, do you remember the following question?:\n",
    "- \"Is it possible that the sale of clothing, shoes and accessories generates a lot of profitability?\"\n",
    "- Let's find it out!"
   ]
  },
  {
   "cell_type": "code",
   "execution_count": 746,
   "metadata": {},
   "outputs": [
    {
     "data": {
      "text/html": [
       "<div>\n",
       "<style scoped>\n",
       "    .dataframe tbody tr th:only-of-type {\n",
       "        vertical-align: middle;\n",
       "    }\n",
       "\n",
       "    .dataframe tbody tr th {\n",
       "        vertical-align: top;\n",
       "    }\n",
       "\n",
       "    .dataframe thead th {\n",
       "        text-align: right;\n",
       "    }\n",
       "</style>\n",
       "<table border=\"1\" class=\"dataframe\">\n",
       "  <thead>\n",
       "    <tr style=\"text-align: right;\">\n",
       "      <th></th>\n",
       "      <th>total profit</th>\n",
       "    </tr>\n",
       "    <tr>\n",
       "      <th>bstock_category_name</th>\n",
       "      <th></th>\n",
       "    </tr>\n",
       "  </thead>\n",
       "  <tbody>\n",
       "    <tr>\n",
       "      <th>Apparel, Footwear &amp; Accessories</th>\n",
       "      <td>879628.0</td>\n",
       "    </tr>\n",
       "    <tr>\n",
       "      <th>Consumer Electronics</th>\n",
       "      <td>105772.0</td>\n",
       "    </tr>\n",
       "    <tr>\n",
       "      <th>Furniture</th>\n",
       "      <td>37601.0</td>\n",
       "    </tr>\n",
       "  </tbody>\n",
       "</table>\n",
       "</div>"
      ],
      "text/plain": [
       "                                 total profit\n",
       "bstock_category_name                         \n",
       "Apparel, Footwear & Accessories      879628.0\n",
       "Consumer Electronics                 105772.0\n",
       "Furniture                             37601.0"
      ]
     },
     "execution_count": 746,
     "metadata": {},
     "output_type": "execute_result"
    }
   ],
   "source": [
    "category_stats = bidders_orders.groupby(['bstock_category_name'])\n",
    "category_stats = category_stats.agg({'profit':['sum']})\n",
    "category_stats.columns = ['total profit']\n",
    "category_stats = category_stats.sort_values(by='total profit', ascending=False)\n",
    "category_stats"
   ]
  },
  {
   "attachments": {},
   "cell_type": "markdown",
   "metadata": {},
   "source": [
    "- That's the reason why bidders pay a lot of money in the Apparel, Footwear & Accesories category because it is very profitable.\n",
    "- In the last 4 months, our bidders registered a profit of 879,628 USD on that category!"
   ]
  },
  {
   "cell_type": "code",
   "execution_count": 747,
   "metadata": {},
   "outputs": [
    {
     "data": {
      "application/vnd.plotly.v1+json": {
       "config": {
        "plotlyServerURL": "https://plot.ly"
       },
       "data": [
        {
         "alignmentgroup": "True",
         "hovertemplate": "bstock_category_name=%{x}<br>total profit=%{y}<extra></extra>",
         "legendgroup": "",
         "marker": {
          "color": "#636efa",
          "pattern": {
           "shape": ""
          }
         },
         "name": "",
         "offsetgroup": "",
         "orientation": "v",
         "showlegend": false,
         "textposition": "auto",
         "type": "bar",
         "x": [
          "Apparel, Footwear & Accessories",
          "Consumer Electronics",
          "Furniture"
         ],
         "xaxis": "x",
         "y": [
          879628,
          105772,
          37601
         ],
         "yaxis": "y"
        }
       ],
       "layout": {
        "barmode": "relative",
        "legend": {
         "tracegroupgap": 0
        },
        "template": {
         "data": {
          "bar": [
           {
            "error_x": {
             "color": "#2a3f5f"
            },
            "error_y": {
             "color": "#2a3f5f"
            },
            "marker": {
             "line": {
              "color": "#E5ECF6",
              "width": 0.5
             },
             "pattern": {
              "fillmode": "overlay",
              "size": 10,
              "solidity": 0.2
             }
            },
            "type": "bar"
           }
          ],
          "barpolar": [
           {
            "marker": {
             "line": {
              "color": "#E5ECF6",
              "width": 0.5
             },
             "pattern": {
              "fillmode": "overlay",
              "size": 10,
              "solidity": 0.2
             }
            },
            "type": "barpolar"
           }
          ],
          "carpet": [
           {
            "aaxis": {
             "endlinecolor": "#2a3f5f",
             "gridcolor": "white",
             "linecolor": "white",
             "minorgridcolor": "white",
             "startlinecolor": "#2a3f5f"
            },
            "baxis": {
             "endlinecolor": "#2a3f5f",
             "gridcolor": "white",
             "linecolor": "white",
             "minorgridcolor": "white",
             "startlinecolor": "#2a3f5f"
            },
            "type": "carpet"
           }
          ],
          "choropleth": [
           {
            "colorbar": {
             "outlinewidth": 0,
             "ticks": ""
            },
            "type": "choropleth"
           }
          ],
          "contour": [
           {
            "colorbar": {
             "outlinewidth": 0,
             "ticks": ""
            },
            "colorscale": [
             [
              0,
              "#0d0887"
             ],
             [
              0.1111111111111111,
              "#46039f"
             ],
             [
              0.2222222222222222,
              "#7201a8"
             ],
             [
              0.3333333333333333,
              "#9c179e"
             ],
             [
              0.4444444444444444,
              "#bd3786"
             ],
             [
              0.5555555555555556,
              "#d8576b"
             ],
             [
              0.6666666666666666,
              "#ed7953"
             ],
             [
              0.7777777777777778,
              "#fb9f3a"
             ],
             [
              0.8888888888888888,
              "#fdca26"
             ],
             [
              1,
              "#f0f921"
             ]
            ],
            "type": "contour"
           }
          ],
          "contourcarpet": [
           {
            "colorbar": {
             "outlinewidth": 0,
             "ticks": ""
            },
            "type": "contourcarpet"
           }
          ],
          "heatmap": [
           {
            "colorbar": {
             "outlinewidth": 0,
             "ticks": ""
            },
            "colorscale": [
             [
              0,
              "#0d0887"
             ],
             [
              0.1111111111111111,
              "#46039f"
             ],
             [
              0.2222222222222222,
              "#7201a8"
             ],
             [
              0.3333333333333333,
              "#9c179e"
             ],
             [
              0.4444444444444444,
              "#bd3786"
             ],
             [
              0.5555555555555556,
              "#d8576b"
             ],
             [
              0.6666666666666666,
              "#ed7953"
             ],
             [
              0.7777777777777778,
              "#fb9f3a"
             ],
             [
              0.8888888888888888,
              "#fdca26"
             ],
             [
              1,
              "#f0f921"
             ]
            ],
            "type": "heatmap"
           }
          ],
          "heatmapgl": [
           {
            "colorbar": {
             "outlinewidth": 0,
             "ticks": ""
            },
            "colorscale": [
             [
              0,
              "#0d0887"
             ],
             [
              0.1111111111111111,
              "#46039f"
             ],
             [
              0.2222222222222222,
              "#7201a8"
             ],
             [
              0.3333333333333333,
              "#9c179e"
             ],
             [
              0.4444444444444444,
              "#bd3786"
             ],
             [
              0.5555555555555556,
              "#d8576b"
             ],
             [
              0.6666666666666666,
              "#ed7953"
             ],
             [
              0.7777777777777778,
              "#fb9f3a"
             ],
             [
              0.8888888888888888,
              "#fdca26"
             ],
             [
              1,
              "#f0f921"
             ]
            ],
            "type": "heatmapgl"
           }
          ],
          "histogram": [
           {
            "marker": {
             "pattern": {
              "fillmode": "overlay",
              "size": 10,
              "solidity": 0.2
             }
            },
            "type": "histogram"
           }
          ],
          "histogram2d": [
           {
            "colorbar": {
             "outlinewidth": 0,
             "ticks": ""
            },
            "colorscale": [
             [
              0,
              "#0d0887"
             ],
             [
              0.1111111111111111,
              "#46039f"
             ],
             [
              0.2222222222222222,
              "#7201a8"
             ],
             [
              0.3333333333333333,
              "#9c179e"
             ],
             [
              0.4444444444444444,
              "#bd3786"
             ],
             [
              0.5555555555555556,
              "#d8576b"
             ],
             [
              0.6666666666666666,
              "#ed7953"
             ],
             [
              0.7777777777777778,
              "#fb9f3a"
             ],
             [
              0.8888888888888888,
              "#fdca26"
             ],
             [
              1,
              "#f0f921"
             ]
            ],
            "type": "histogram2d"
           }
          ],
          "histogram2dcontour": [
           {
            "colorbar": {
             "outlinewidth": 0,
             "ticks": ""
            },
            "colorscale": [
             [
              0,
              "#0d0887"
             ],
             [
              0.1111111111111111,
              "#46039f"
             ],
             [
              0.2222222222222222,
              "#7201a8"
             ],
             [
              0.3333333333333333,
              "#9c179e"
             ],
             [
              0.4444444444444444,
              "#bd3786"
             ],
             [
              0.5555555555555556,
              "#d8576b"
             ],
             [
              0.6666666666666666,
              "#ed7953"
             ],
             [
              0.7777777777777778,
              "#fb9f3a"
             ],
             [
              0.8888888888888888,
              "#fdca26"
             ],
             [
              1,
              "#f0f921"
             ]
            ],
            "type": "histogram2dcontour"
           }
          ],
          "mesh3d": [
           {
            "colorbar": {
             "outlinewidth": 0,
             "ticks": ""
            },
            "type": "mesh3d"
           }
          ],
          "parcoords": [
           {
            "line": {
             "colorbar": {
              "outlinewidth": 0,
              "ticks": ""
             }
            },
            "type": "parcoords"
           }
          ],
          "pie": [
           {
            "automargin": true,
            "type": "pie"
           }
          ],
          "scatter": [
           {
            "fillpattern": {
             "fillmode": "overlay",
             "size": 10,
             "solidity": 0.2
            },
            "type": "scatter"
           }
          ],
          "scatter3d": [
           {
            "line": {
             "colorbar": {
              "outlinewidth": 0,
              "ticks": ""
             }
            },
            "marker": {
             "colorbar": {
              "outlinewidth": 0,
              "ticks": ""
             }
            },
            "type": "scatter3d"
           }
          ],
          "scattercarpet": [
           {
            "marker": {
             "colorbar": {
              "outlinewidth": 0,
              "ticks": ""
             }
            },
            "type": "scattercarpet"
           }
          ],
          "scattergeo": [
           {
            "marker": {
             "colorbar": {
              "outlinewidth": 0,
              "ticks": ""
             }
            },
            "type": "scattergeo"
           }
          ],
          "scattergl": [
           {
            "marker": {
             "colorbar": {
              "outlinewidth": 0,
              "ticks": ""
             }
            },
            "type": "scattergl"
           }
          ],
          "scattermapbox": [
           {
            "marker": {
             "colorbar": {
              "outlinewidth": 0,
              "ticks": ""
             }
            },
            "type": "scattermapbox"
           }
          ],
          "scatterpolar": [
           {
            "marker": {
             "colorbar": {
              "outlinewidth": 0,
              "ticks": ""
             }
            },
            "type": "scatterpolar"
           }
          ],
          "scatterpolargl": [
           {
            "marker": {
             "colorbar": {
              "outlinewidth": 0,
              "ticks": ""
             }
            },
            "type": "scatterpolargl"
           }
          ],
          "scatterternary": [
           {
            "marker": {
             "colorbar": {
              "outlinewidth": 0,
              "ticks": ""
             }
            },
            "type": "scatterternary"
           }
          ],
          "surface": [
           {
            "colorbar": {
             "outlinewidth": 0,
             "ticks": ""
            },
            "colorscale": [
             [
              0,
              "#0d0887"
             ],
             [
              0.1111111111111111,
              "#46039f"
             ],
             [
              0.2222222222222222,
              "#7201a8"
             ],
             [
              0.3333333333333333,
              "#9c179e"
             ],
             [
              0.4444444444444444,
              "#bd3786"
             ],
             [
              0.5555555555555556,
              "#d8576b"
             ],
             [
              0.6666666666666666,
              "#ed7953"
             ],
             [
              0.7777777777777778,
              "#fb9f3a"
             ],
             [
              0.8888888888888888,
              "#fdca26"
             ],
             [
              1,
              "#f0f921"
             ]
            ],
            "type": "surface"
           }
          ],
          "table": [
           {
            "cells": {
             "fill": {
              "color": "#EBF0F8"
             },
             "line": {
              "color": "white"
             }
            },
            "header": {
             "fill": {
              "color": "#C8D4E3"
             },
             "line": {
              "color": "white"
             }
            },
            "type": "table"
           }
          ]
         },
         "layout": {
          "annotationdefaults": {
           "arrowcolor": "#2a3f5f",
           "arrowhead": 0,
           "arrowwidth": 1
          },
          "autotypenumbers": "strict",
          "coloraxis": {
           "colorbar": {
            "outlinewidth": 0,
            "ticks": ""
           }
          },
          "colorscale": {
           "diverging": [
            [
             0,
             "#8e0152"
            ],
            [
             0.1,
             "#c51b7d"
            ],
            [
             0.2,
             "#de77ae"
            ],
            [
             0.3,
             "#f1b6da"
            ],
            [
             0.4,
             "#fde0ef"
            ],
            [
             0.5,
             "#f7f7f7"
            ],
            [
             0.6,
             "#e6f5d0"
            ],
            [
             0.7,
             "#b8e186"
            ],
            [
             0.8,
             "#7fbc41"
            ],
            [
             0.9,
             "#4d9221"
            ],
            [
             1,
             "#276419"
            ]
           ],
           "sequential": [
            [
             0,
             "#0d0887"
            ],
            [
             0.1111111111111111,
             "#46039f"
            ],
            [
             0.2222222222222222,
             "#7201a8"
            ],
            [
             0.3333333333333333,
             "#9c179e"
            ],
            [
             0.4444444444444444,
             "#bd3786"
            ],
            [
             0.5555555555555556,
             "#d8576b"
            ],
            [
             0.6666666666666666,
             "#ed7953"
            ],
            [
             0.7777777777777778,
             "#fb9f3a"
            ],
            [
             0.8888888888888888,
             "#fdca26"
            ],
            [
             1,
             "#f0f921"
            ]
           ],
           "sequentialminus": [
            [
             0,
             "#0d0887"
            ],
            [
             0.1111111111111111,
             "#46039f"
            ],
            [
             0.2222222222222222,
             "#7201a8"
            ],
            [
             0.3333333333333333,
             "#9c179e"
            ],
            [
             0.4444444444444444,
             "#bd3786"
            ],
            [
             0.5555555555555556,
             "#d8576b"
            ],
            [
             0.6666666666666666,
             "#ed7953"
            ],
            [
             0.7777777777777778,
             "#fb9f3a"
            ],
            [
             0.8888888888888888,
             "#fdca26"
            ],
            [
             1,
             "#f0f921"
            ]
           ]
          },
          "colorway": [
           "#636efa",
           "#EF553B",
           "#00cc96",
           "#ab63fa",
           "#FFA15A",
           "#19d3f3",
           "#FF6692",
           "#B6E880",
           "#FF97FF",
           "#FECB52"
          ],
          "font": {
           "color": "#2a3f5f"
          },
          "geo": {
           "bgcolor": "white",
           "lakecolor": "white",
           "landcolor": "#E5ECF6",
           "showlakes": true,
           "showland": true,
           "subunitcolor": "white"
          },
          "hoverlabel": {
           "align": "left"
          },
          "hovermode": "closest",
          "mapbox": {
           "style": "light"
          },
          "paper_bgcolor": "white",
          "plot_bgcolor": "#E5ECF6",
          "polar": {
           "angularaxis": {
            "gridcolor": "white",
            "linecolor": "white",
            "ticks": ""
           },
           "bgcolor": "#E5ECF6",
           "radialaxis": {
            "gridcolor": "white",
            "linecolor": "white",
            "ticks": ""
           }
          },
          "scene": {
           "xaxis": {
            "backgroundcolor": "#E5ECF6",
            "gridcolor": "white",
            "gridwidth": 2,
            "linecolor": "white",
            "showbackground": true,
            "ticks": "",
            "zerolinecolor": "white"
           },
           "yaxis": {
            "backgroundcolor": "#E5ECF6",
            "gridcolor": "white",
            "gridwidth": 2,
            "linecolor": "white",
            "showbackground": true,
            "ticks": "",
            "zerolinecolor": "white"
           },
           "zaxis": {
            "backgroundcolor": "#E5ECF6",
            "gridcolor": "white",
            "gridwidth": 2,
            "linecolor": "white",
            "showbackground": true,
            "ticks": "",
            "zerolinecolor": "white"
           }
          },
          "shapedefaults": {
           "line": {
            "color": "#2a3f5f"
           }
          },
          "ternary": {
           "aaxis": {
            "gridcolor": "white",
            "linecolor": "white",
            "ticks": ""
           },
           "baxis": {
            "gridcolor": "white",
            "linecolor": "white",
            "ticks": ""
           },
           "bgcolor": "#E5ECF6",
           "caxis": {
            "gridcolor": "white",
            "linecolor": "white",
            "ticks": ""
           }
          },
          "title": {
           "x": 0.05
          },
          "xaxis": {
           "automargin": true,
           "gridcolor": "white",
           "linecolor": "white",
           "ticks": "",
           "title": {
            "standoff": 15
           },
           "zerolinecolor": "white",
           "zerolinewidth": 2
          },
          "yaxis": {
           "automargin": true,
           "gridcolor": "white",
           "linecolor": "white",
           "ticks": "",
           "title": {
            "standoff": 15
           },
           "zerolinecolor": "white",
           "zerolinewidth": 2
          }
         }
        },
        "title": {
         "text": "Total profit per B-Stock Category"
        },
        "xaxis": {
         "anchor": "y",
         "domain": [
          0,
          1
         ],
         "title": {
          "text": "bstock_category_name"
         }
        },
        "yaxis": {
         "anchor": "x",
         "domain": [
          0,
          1
         ],
         "title": {
          "text": "total profit"
         }
        }
       }
      },
      "text/html": [
       "<div>                            <div id=\"672b4175-a542-46dd-85a4-946aadec30d0\" class=\"plotly-graph-div\" style=\"height:525px; width:100%;\"></div>            <script type=\"text/javascript\">                require([\"plotly\"], function(Plotly) {                    window.PLOTLYENV=window.PLOTLYENV || {};                                    if (document.getElementById(\"672b4175-a542-46dd-85a4-946aadec30d0\")) {                    Plotly.newPlot(                        \"672b4175-a542-46dd-85a4-946aadec30d0\",                        [{\"alignmentgroup\":\"True\",\"hovertemplate\":\"bstock_category_name=%{x}<br>total profit=%{y}<extra></extra>\",\"legendgroup\":\"\",\"marker\":{\"color\":\"#636efa\",\"pattern\":{\"shape\":\"\"}},\"name\":\"\",\"offsetgroup\":\"\",\"orientation\":\"v\",\"showlegend\":false,\"textposition\":\"auto\",\"x\":[\"Apparel, Footwear & Accessories\",\"Consumer Electronics\",\"Furniture\"],\"xaxis\":\"x\",\"y\":[879628.0,105772.0,37601.0],\"yaxis\":\"y\",\"type\":\"bar\"}],                        {\"template\":{\"data\":{\"histogram2dcontour\":[{\"type\":\"histogram2dcontour\",\"colorbar\":{\"outlinewidth\":0,\"ticks\":\"\"},\"colorscale\":[[0.0,\"#0d0887\"],[0.1111111111111111,\"#46039f\"],[0.2222222222222222,\"#7201a8\"],[0.3333333333333333,\"#9c179e\"],[0.4444444444444444,\"#bd3786\"],[0.5555555555555556,\"#d8576b\"],[0.6666666666666666,\"#ed7953\"],[0.7777777777777778,\"#fb9f3a\"],[0.8888888888888888,\"#fdca26\"],[1.0,\"#f0f921\"]]}],\"choropleth\":[{\"type\":\"choropleth\",\"colorbar\":{\"outlinewidth\":0,\"ticks\":\"\"}}],\"histogram2d\":[{\"type\":\"histogram2d\",\"colorbar\":{\"outlinewidth\":0,\"ticks\":\"\"},\"colorscale\":[[0.0,\"#0d0887\"],[0.1111111111111111,\"#46039f\"],[0.2222222222222222,\"#7201a8\"],[0.3333333333333333,\"#9c179e\"],[0.4444444444444444,\"#bd3786\"],[0.5555555555555556,\"#d8576b\"],[0.6666666666666666,\"#ed7953\"],[0.7777777777777778,\"#fb9f3a\"],[0.8888888888888888,\"#fdca26\"],[1.0,\"#f0f921\"]]}],\"heatmap\":[{\"type\":\"heatmap\",\"colorbar\":{\"outlinewidth\":0,\"ticks\":\"\"},\"colorscale\":[[0.0,\"#0d0887\"],[0.1111111111111111,\"#46039f\"],[0.2222222222222222,\"#7201a8\"],[0.3333333333333333,\"#9c179e\"],[0.4444444444444444,\"#bd3786\"],[0.5555555555555556,\"#d8576b\"],[0.6666666666666666,\"#ed7953\"],[0.7777777777777778,\"#fb9f3a\"],[0.8888888888888888,\"#fdca26\"],[1.0,\"#f0f921\"]]}],\"heatmapgl\":[{\"type\":\"heatmapgl\",\"colorbar\":{\"outlinewidth\":0,\"ticks\":\"\"},\"colorscale\":[[0.0,\"#0d0887\"],[0.1111111111111111,\"#46039f\"],[0.2222222222222222,\"#7201a8\"],[0.3333333333333333,\"#9c179e\"],[0.4444444444444444,\"#bd3786\"],[0.5555555555555556,\"#d8576b\"],[0.6666666666666666,\"#ed7953\"],[0.7777777777777778,\"#fb9f3a\"],[0.8888888888888888,\"#fdca26\"],[1.0,\"#f0f921\"]]}],\"contourcarpet\":[{\"type\":\"contourcarpet\",\"colorbar\":{\"outlinewidth\":0,\"ticks\":\"\"}}],\"contour\":[{\"type\":\"contour\",\"colorbar\":{\"outlinewidth\":0,\"ticks\":\"\"},\"colorscale\":[[0.0,\"#0d0887\"],[0.1111111111111111,\"#46039f\"],[0.2222222222222222,\"#7201a8\"],[0.3333333333333333,\"#9c179e\"],[0.4444444444444444,\"#bd3786\"],[0.5555555555555556,\"#d8576b\"],[0.6666666666666666,\"#ed7953\"],[0.7777777777777778,\"#fb9f3a\"],[0.8888888888888888,\"#fdca26\"],[1.0,\"#f0f921\"]]}],\"surface\":[{\"type\":\"surface\",\"colorbar\":{\"outlinewidth\":0,\"ticks\":\"\"},\"colorscale\":[[0.0,\"#0d0887\"],[0.1111111111111111,\"#46039f\"],[0.2222222222222222,\"#7201a8\"],[0.3333333333333333,\"#9c179e\"],[0.4444444444444444,\"#bd3786\"],[0.5555555555555556,\"#d8576b\"],[0.6666666666666666,\"#ed7953\"],[0.7777777777777778,\"#fb9f3a\"],[0.8888888888888888,\"#fdca26\"],[1.0,\"#f0f921\"]]}],\"mesh3d\":[{\"type\":\"mesh3d\",\"colorbar\":{\"outlinewidth\":0,\"ticks\":\"\"}}],\"scatter\":[{\"fillpattern\":{\"fillmode\":\"overlay\",\"size\":10,\"solidity\":0.2},\"type\":\"scatter\"}],\"parcoords\":[{\"type\":\"parcoords\",\"line\":{\"colorbar\":{\"outlinewidth\":0,\"ticks\":\"\"}}}],\"scatterpolargl\":[{\"type\":\"scatterpolargl\",\"marker\":{\"colorbar\":{\"outlinewidth\":0,\"ticks\":\"\"}}}],\"bar\":[{\"error_x\":{\"color\":\"#2a3f5f\"},\"error_y\":{\"color\":\"#2a3f5f\"},\"marker\":{\"line\":{\"color\":\"#E5ECF6\",\"width\":0.5},\"pattern\":{\"fillmode\":\"overlay\",\"size\":10,\"solidity\":0.2}},\"type\":\"bar\"}],\"scattergeo\":[{\"type\":\"scattergeo\",\"marker\":{\"colorbar\":{\"outlinewidth\":0,\"ticks\":\"\"}}}],\"scatterpolar\":[{\"type\":\"scatterpolar\",\"marker\":{\"colorbar\":{\"outlinewidth\":0,\"ticks\":\"\"}}}],\"histogram\":[{\"marker\":{\"pattern\":{\"fillmode\":\"overlay\",\"size\":10,\"solidity\":0.2}},\"type\":\"histogram\"}],\"scattergl\":[{\"type\":\"scattergl\",\"marker\":{\"colorbar\":{\"outlinewidth\":0,\"ticks\":\"\"}}}],\"scatter3d\":[{\"type\":\"scatter3d\",\"line\":{\"colorbar\":{\"outlinewidth\":0,\"ticks\":\"\"}},\"marker\":{\"colorbar\":{\"outlinewidth\":0,\"ticks\":\"\"}}}],\"scattermapbox\":[{\"type\":\"scattermapbox\",\"marker\":{\"colorbar\":{\"outlinewidth\":0,\"ticks\":\"\"}}}],\"scatterternary\":[{\"type\":\"scatterternary\",\"marker\":{\"colorbar\":{\"outlinewidth\":0,\"ticks\":\"\"}}}],\"scattercarpet\":[{\"type\":\"scattercarpet\",\"marker\":{\"colorbar\":{\"outlinewidth\":0,\"ticks\":\"\"}}}],\"carpet\":[{\"aaxis\":{\"endlinecolor\":\"#2a3f5f\",\"gridcolor\":\"white\",\"linecolor\":\"white\",\"minorgridcolor\":\"white\",\"startlinecolor\":\"#2a3f5f\"},\"baxis\":{\"endlinecolor\":\"#2a3f5f\",\"gridcolor\":\"white\",\"linecolor\":\"white\",\"minorgridcolor\":\"white\",\"startlinecolor\":\"#2a3f5f\"},\"type\":\"carpet\"}],\"table\":[{\"cells\":{\"fill\":{\"color\":\"#EBF0F8\"},\"line\":{\"color\":\"white\"}},\"header\":{\"fill\":{\"color\":\"#C8D4E3\"},\"line\":{\"color\":\"white\"}},\"type\":\"table\"}],\"barpolar\":[{\"marker\":{\"line\":{\"color\":\"#E5ECF6\",\"width\":0.5},\"pattern\":{\"fillmode\":\"overlay\",\"size\":10,\"solidity\":0.2}},\"type\":\"barpolar\"}],\"pie\":[{\"automargin\":true,\"type\":\"pie\"}]},\"layout\":{\"autotypenumbers\":\"strict\",\"colorway\":[\"#636efa\",\"#EF553B\",\"#00cc96\",\"#ab63fa\",\"#FFA15A\",\"#19d3f3\",\"#FF6692\",\"#B6E880\",\"#FF97FF\",\"#FECB52\"],\"font\":{\"color\":\"#2a3f5f\"},\"hovermode\":\"closest\",\"hoverlabel\":{\"align\":\"left\"},\"paper_bgcolor\":\"white\",\"plot_bgcolor\":\"#E5ECF6\",\"polar\":{\"bgcolor\":\"#E5ECF6\",\"angularaxis\":{\"gridcolor\":\"white\",\"linecolor\":\"white\",\"ticks\":\"\"},\"radialaxis\":{\"gridcolor\":\"white\",\"linecolor\":\"white\",\"ticks\":\"\"}},\"ternary\":{\"bgcolor\":\"#E5ECF6\",\"aaxis\":{\"gridcolor\":\"white\",\"linecolor\":\"white\",\"ticks\":\"\"},\"baxis\":{\"gridcolor\":\"white\",\"linecolor\":\"white\",\"ticks\":\"\"},\"caxis\":{\"gridcolor\":\"white\",\"linecolor\":\"white\",\"ticks\":\"\"}},\"coloraxis\":{\"colorbar\":{\"outlinewidth\":0,\"ticks\":\"\"}},\"colorscale\":{\"sequential\":[[0.0,\"#0d0887\"],[0.1111111111111111,\"#46039f\"],[0.2222222222222222,\"#7201a8\"],[0.3333333333333333,\"#9c179e\"],[0.4444444444444444,\"#bd3786\"],[0.5555555555555556,\"#d8576b\"],[0.6666666666666666,\"#ed7953\"],[0.7777777777777778,\"#fb9f3a\"],[0.8888888888888888,\"#fdca26\"],[1.0,\"#f0f921\"]],\"sequentialminus\":[[0.0,\"#0d0887\"],[0.1111111111111111,\"#46039f\"],[0.2222222222222222,\"#7201a8\"],[0.3333333333333333,\"#9c179e\"],[0.4444444444444444,\"#bd3786\"],[0.5555555555555556,\"#d8576b\"],[0.6666666666666666,\"#ed7953\"],[0.7777777777777778,\"#fb9f3a\"],[0.8888888888888888,\"#fdca26\"],[1.0,\"#f0f921\"]],\"diverging\":[[0,\"#8e0152\"],[0.1,\"#c51b7d\"],[0.2,\"#de77ae\"],[0.3,\"#f1b6da\"],[0.4,\"#fde0ef\"],[0.5,\"#f7f7f7\"],[0.6,\"#e6f5d0\"],[0.7,\"#b8e186\"],[0.8,\"#7fbc41\"],[0.9,\"#4d9221\"],[1,\"#276419\"]]},\"xaxis\":{\"gridcolor\":\"white\",\"linecolor\":\"white\",\"ticks\":\"\",\"title\":{\"standoff\":15},\"zerolinecolor\":\"white\",\"automargin\":true,\"zerolinewidth\":2},\"yaxis\":{\"gridcolor\":\"white\",\"linecolor\":\"white\",\"ticks\":\"\",\"title\":{\"standoff\":15},\"zerolinecolor\":\"white\",\"automargin\":true,\"zerolinewidth\":2},\"scene\":{\"xaxis\":{\"backgroundcolor\":\"#E5ECF6\",\"gridcolor\":\"white\",\"linecolor\":\"white\",\"showbackground\":true,\"ticks\":\"\",\"zerolinecolor\":\"white\",\"gridwidth\":2},\"yaxis\":{\"backgroundcolor\":\"#E5ECF6\",\"gridcolor\":\"white\",\"linecolor\":\"white\",\"showbackground\":true,\"ticks\":\"\",\"zerolinecolor\":\"white\",\"gridwidth\":2},\"zaxis\":{\"backgroundcolor\":\"#E5ECF6\",\"gridcolor\":\"white\",\"linecolor\":\"white\",\"showbackground\":true,\"ticks\":\"\",\"zerolinecolor\":\"white\",\"gridwidth\":2}},\"shapedefaults\":{\"line\":{\"color\":\"#2a3f5f\"}},\"annotationdefaults\":{\"arrowcolor\":\"#2a3f5f\",\"arrowhead\":0,\"arrowwidth\":1},\"geo\":{\"bgcolor\":\"white\",\"landcolor\":\"#E5ECF6\",\"subunitcolor\":\"white\",\"showland\":true,\"showlakes\":true,\"lakecolor\":\"white\"},\"title\":{\"x\":0.05},\"mapbox\":{\"style\":\"light\"}}},\"xaxis\":{\"anchor\":\"y\",\"domain\":[0.0,1.0],\"title\":{\"text\":\"bstock_category_name\"}},\"yaxis\":{\"anchor\":\"x\",\"domain\":[0.0,1.0],\"title\":{\"text\":\"total profit\"}},\"legend\":{\"tracegroupgap\":0},\"title\":{\"text\":\"Total profit per B-Stock Category\"},\"barmode\":\"relative\"},                        {\"responsive\": true}                    ).then(function(){\n",
       "                            \n",
       "var gd = document.getElementById('672b4175-a542-46dd-85a4-946aadec30d0');\n",
       "var x = new MutationObserver(function (mutations, observer) {{\n",
       "        var display = window.getComputedStyle(gd).display;\n",
       "        if (!display || display === 'none') {{\n",
       "            console.log([gd, 'removed!']);\n",
       "            Plotly.purge(gd);\n",
       "            observer.disconnect();\n",
       "        }}\n",
       "}});\n",
       "\n",
       "// Listen for the removal of the full notebook cells\n",
       "var notebookContainer = gd.closest('#notebook-container');\n",
       "if (notebookContainer) {{\n",
       "    x.observe(notebookContainer, {childList: true});\n",
       "}}\n",
       "\n",
       "// Listen for the clearing of the current output cell\n",
       "var outputEl = gd.closest('.output');\n",
       "if (outputEl) {{\n",
       "    x.observe(outputEl, {childList: true});\n",
       "}}\n",
       "\n",
       "                        })                };                });            </script>        </div>"
      ]
     },
     "metadata": {},
     "output_type": "display_data"
    }
   ],
   "source": [
    "fig = px.bar(category_stats, x=category_stats.index, y=\"total profit\", title='Total profit per B-Stock Category')\n",
    "fig.show()"
   ]
  },
  {
   "attachments": {},
   "cell_type": "markdown",
   "metadata": {},
   "source": [
    "# Highlights"
   ]
  },
  {
   "attachments": {},
   "cell_type": "markdown",
   "metadata": {},
   "source": [
    "1. Most of the auctions were held on Tuesdays and Fridays\n",
    "2. September 13th was the one that registered the highest auctions amount (6) because all three categories were sold.\n",
    "3. September 10th was the one that registered the lowest auctions amount (1) because only Apparel, Footwear & Accesories category was sold.\n",
    "4. November 1st was the date with the most bids registered ever, even though there were only 2 auctions of 'Apparel, Footwear & Accesories' category.\n",
    "5. 'Apparel, Footwear & Accesories' category has a total of 741 bids\n",
    "6. 'Consumer Electrics' category has a total of 62 bids\n",
    "7. 'Furtniture' category has a total of 24 bids\n",
    "8. As expected, this Apparel, Footwear & Accesories category, having a greater number of bids, could reflect a great variability. This is not always the case, but I can infer that bidders are willing to pay a lot of money because they know that this category is very profitable.\n",
    "9. On November 1st, the auction started with a bid amount of 125 USD and finished with a bid amount of 6222 USD\n",
    "10. On December 13th, the auction started with a bid amount of 444 USD and finished with a bid amount of 5925 USD\n",
    "11. ON November 4th, the auction started with a bid amount od 125 USD and finished with a bid amount of 4000 USD \n",
    "12. November 2022 was the month with highest bids (324)\n",
    "13. October 2022 was the month with lowest bids (100)\n",
    "14. On October 2022, we had the lowest active bidders (21)!\n",
    "15. On September 2022, we had the highest active bidders (52)!\n",
    "16. On October 2022, we had the lowest first-time bidders (11)!\n",
    "17. On November 2022, we had 31 first-time bidders!\n",
    "18. On September 2022, we had the highest first-time bidders (52), was a great month!\n",
    "19. The bidder '62e329abff03c2000d83079d' is the most active customer (194 total bids) in last months!\n",
    "20. The bidder '62e329abff03c2000d83079d' is the most profitable (526,881 USD)!\n",
    "21. The bidder '62e329abff03c2000d83079d' is very profitable in the 'Apparel, Footwear & Accesories category (396,680 USD)\n",
    "22. 'Apparel, Footwear & Accessories' category is the most profitable in the last month (879,628 USD total profit). That's the reason why bidders pay a lot of money in that category because it is very profitable.\n"
   ]
  }
 ],
 "metadata": {
  "kernelspec": {
   "display_name": "Python 3",
   "language": "python",
   "name": "python3"
  },
  "language_info": {
   "codemirror_mode": {
    "name": "ipython",
    "version": 3
   },
   "file_extension": ".py",
   "mimetype": "text/x-python",
   "name": "python",
   "nbconvert_exporter": "python",
   "pygments_lexer": "ipython3",
   "version": "3.10.4"
  },
  "orig_nbformat": 4,
  "vscode": {
   "interpreter": {
    "hash": "aee8b7b246df8f9039afb4144a1f6fd8d2ca17a180786b69acc140d282b71a49"
   }
  }
 },
 "nbformat": 4,
 "nbformat_minor": 2
}
